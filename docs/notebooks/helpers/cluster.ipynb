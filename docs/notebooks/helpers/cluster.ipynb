{
 "cells": [
  {
   "cell_type": "markdown",
   "id": "e1392139",
   "metadata": {},
   "source": [
    "# Clustering\n",
    "\n",
    "This module has a single function, used to help visualize a dendrogram from a\n",
    "hierarchical clustering."
   ]
  },
  {
   "cell_type": "code",
   "execution_count": null,
   "id": "d5df152d",
   "metadata": {},
   "outputs": [],
   "source": [
    "import numpy as np\n",
    "from sklearn.cluster import AgglomerativeClustering\n",
    "from scipy.cluster.hierarchy import dendrogram\n",
    "from ISLP.cluster import compute_linkage"
   ]
  },
  {
   "cell_type": "markdown",
   "id": "ce028388",
   "metadata": {},
   "source": [
    "## Make a toy dataset"
   ]
  },
  {
   "cell_type": "code",
   "execution_count": null,
   "id": "0135c1fb",
   "metadata": {},
   "outputs": [],
   "source": [
    "rng = np.random.default_rng(1)\n",
    "X = rng.normal(size=(30, 5))\n",
    "X[:10] += 1"
   ]
  },
  {
   "cell_type": "markdown",
   "id": "9b8efe50",
   "metadata": {},
   "source": [
    "## Cluster it"
   ]
  },
  {
   "cell_type": "code",
   "execution_count": null,
   "id": "17c52650",
   "metadata": {},
   "outputs": [],
   "source": [
    "clust = AgglomerativeClustering(distance_threshold=0,\n",
    "                                n_clusters=None,\n",
    "                                linkage='complete')"
   ]
  },
  {
   "cell_type": "code",
   "execution_count": null,
   "id": "a3ae2622",
   "metadata": {},
   "outputs": [],
   "source": [
    "clust.fit(X)"
   ]
  },
  {
   "cell_type": "markdown",
   "id": "5af396ed",
   "metadata": {},
   "source": [
    "## Plot the dendrogram"
   ]
  },
  {
   "cell_type": "code",
   "execution_count": null,
   "id": "64e726a4",
   "metadata": {},
   "outputs": [],
   "source": [
    "linkage = compute_linkage(clust)\n",
    "dendrogram(linkage);"
   ]
  }
 ],
 "metadata": {
  "jupytext": {
   "cell_metadata_filter": "-all",
   "formats": "notebooks/helpers///ipynb,source/helpers///md:myst",
   "main_language": "python"
  },
  "kernelspec": {
   "display_name": "islp_test",
   "language": "python",
   "name": "islp_test"
  }
 },
 "nbformat": 4,
 "nbformat_minor": 5
}

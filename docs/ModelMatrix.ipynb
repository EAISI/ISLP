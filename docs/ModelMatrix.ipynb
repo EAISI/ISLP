{
 "cells": [
  {
   "cell_type": "markdown",
   "id": "typical-correlation",
   "metadata": {},
   "source": [
    "## Building design matrices with `ModelMatrix`"
   ]
  },
  {
   "cell_type": "code",
   "execution_count": 1,
   "id": "sticky-desperate",
   "metadata": {},
   "outputs": [],
   "source": [
    "import numpy as np, pandas as pd\n",
    "%load_ext rpy2.ipython\n",
    "\n",
    "from ISLP import load_data\n",
    "from ISLP.models import ModelMatrix\n",
    "\n",
    "import statsmodels.api as sm\n"
   ]
  },
  {
   "cell_type": "code",
   "execution_count": 2,
   "id": "devoted-antique",
   "metadata": {},
   "outputs": [
    {
     "data": {
      "text/plain": [
       "Index(['Sales', 'CompPrice', 'Income', 'Advertising', 'Population', 'Price',\n",
       "       'ShelveLoc', 'Age', 'Education', 'Urban', 'US'],\n",
       "      dtype='object')"
      ]
     },
     "execution_count": 2,
     "metadata": {},
     "output_type": "execute_result"
    }
   ],
   "source": [
    "Carseats = load_data('Carseats')\n",
    "%R -i Carseats\n",
    "Carseats.columns"
   ]
  },
  {
   "cell_type": "markdown",
   "id": "excellent-hamilton",
   "metadata": {},
   "source": [
    "### Let's break up income into groups"
   ]
  },
  {
   "cell_type": "code",
   "execution_count": 3,
   "id": "going-administrator",
   "metadata": {},
   "outputs": [
    {
     "data": {
      "text/plain": [
       "0      M\n",
       "1      L\n",
       "2      L\n",
       "3      H\n",
       "4      M\n",
       "      ..\n",
       "395    H\n",
       "396    L\n",
       "397    L\n",
       "398    M\n",
       "399    L\n",
       "Name: OIncome, Length: 400, dtype: category\n",
       "Categories (3, object): ['L' < 'M' < 'H']"
      ]
     },
     "execution_count": 3,
     "metadata": {},
     "output_type": "execute_result"
    }
   ],
   "source": [
    "Carseats['OIncome'] = pd.cut(Carseats['Income'], \n",
    "                             [0,50,90,200], \n",
    "                             labels=['L','M','H'])\n",
    "Carseats['OIncome']"
   ]
  },
  {
   "cell_type": "markdown",
   "id": "warming-mobile",
   "metadata": {},
   "source": [
    "Let's also create an unordered version"
   ]
  },
  {
   "cell_type": "code",
   "execution_count": 4,
   "id": "varying-fourth",
   "metadata": {},
   "outputs": [
    {
     "data": {
      "text/plain": [
       "0      M\n",
       "1      L\n",
       "2      L\n",
       "3      H\n",
       "4      M\n",
       "      ..\n",
       "395    H\n",
       "396    L\n",
       "397    L\n",
       "398    M\n",
       "399    L\n",
       "Name: UIncome, Length: 400, dtype: category\n",
       "Categories (3, object): ['L', 'M', 'H']"
      ]
     },
     "execution_count": 4,
     "metadata": {},
     "output_type": "execute_result"
    }
   ],
   "source": [
    "Carseats['UIncome'] = pd.cut(Carseats['Income'], \n",
    "                             [0,50,90,200], \n",
    "                             labels=['L','M','H'],\n",
    "                             ordered=False)\n",
    "Carseats['UIncome']"
   ]
  },
  {
   "cell_type": "markdown",
   "id": "utility-viking",
   "metadata": {},
   "source": [
    "## A simple model"
   ]
  },
  {
   "cell_type": "code",
   "execution_count": 5,
   "id": "unlikely-begin",
   "metadata": {},
   "outputs": [
    {
     "data": {
      "text/plain": [
       "Index(['intercept', 'Price', 'Income'], dtype='object')"
      ]
     },
     "execution_count": 5,
     "metadata": {},
     "output_type": "execute_result"
    }
   ],
   "source": [
    "design = ModelMatrix(['Price', 'Income'])\n",
    "X = design.fit_transform(Carseats)\n",
    "X.columns"
   ]
  },
  {
   "cell_type": "code",
   "execution_count": 6,
   "id": "driven-employee",
   "metadata": {},
   "outputs": [
    {
     "data": {
      "text/plain": [
       "intercept    12.661546\n",
       "Price        -0.052213\n",
       "Income        0.012829\n",
       "dtype: float64"
      ]
     },
     "execution_count": 6,
     "metadata": {},
     "output_type": "execute_result"
    }
   ],
   "source": [
    "Y = Carseats['Sales']\n",
    "M = sm.OLS(Y, X).fit()\n",
    "M.params"
   ]
  },
  {
   "cell_type": "markdown",
   "id": "secondary-winner",
   "metadata": {},
   "source": [
    "## Basic procedure\n",
    "\n",
    "The design matrix is built by cobbling together a set of columns and possibly transforming them.\n",
    "A `pd.DataFrame` is essentially a list of columns. One of the first tasks done  in `ModelMatrix.fit`\n",
    "is to inspect a dataframe for column info. The column `ShelveLoc` is categorical:"
   ]
  },
  {
   "cell_type": "code",
   "execution_count": 7,
   "id": "bored-making",
   "metadata": {},
   "outputs": [
    {
     "data": {
      "text/plain": [
       "0         Bad\n",
       "1        Good\n",
       "2      Medium\n",
       "3      Medium\n",
       "4         Bad\n",
       "        ...  \n",
       "395      Good\n",
       "396    Medium\n",
       "397    Medium\n",
       "398       Bad\n",
       "399      Good\n",
       "Name: ShelveLoc, Length: 400, dtype: category\n",
       "Categories (3, object): ['Bad', 'Good', 'Medium']"
      ]
     },
     "execution_count": 7,
     "metadata": {},
     "output_type": "execute_result"
    }
   ],
   "source": [
    "Carseats['ShelveLoc']"
   ]
  },
  {
   "cell_type": "markdown",
   "id": "phantom-assurance",
   "metadata": {},
   "source": [
    "This is recognized by `ModelMatrix` in the form of `Column` objects which are just named tuples with two methods\n",
    "`get_columns` and `fit_encoder`."
   ]
  },
  {
   "cell_type": "code",
   "execution_count": 8,
   "id": "blind-harvest",
   "metadata": {},
   "outputs": [
    {
     "data": {
      "text/plain": [
       "Column(idx='ShelveLoc', name='ShelveLoc', is_categorical=True, is_ordinal=False, columns=('ShelveLoc[Good]', 'ShelveLoc[Medium]'), encoder=Contrast())"
      ]
     },
     "execution_count": 8,
     "metadata": {},
     "output_type": "execute_result"
    }
   ],
   "source": [
    "design.column_info_['ShelveLoc']"
   ]
  },
  {
   "cell_type": "markdown",
   "id": "suspended-affairs",
   "metadata": {},
   "source": [
    "It recognized ordinal columns as well."
   ]
  },
  {
   "cell_type": "code",
   "execution_count": 9,
   "id": "military-locking",
   "metadata": {},
   "outputs": [
    {
     "data": {
      "text/plain": [
       "Column(idx='OIncome', name='OIncome', is_categorical=True, is_ordinal=True, columns=('OIncome',), encoder=OrdinalEncoder())"
      ]
     },
     "execution_count": 9,
     "metadata": {},
     "output_type": "execute_result"
    }
   ],
   "source": [
    "design.column_info_['OIncome']"
   ]
  },
  {
   "cell_type": "code",
   "execution_count": 10,
   "id": "italic-shakespeare",
   "metadata": {},
   "outputs": [
    {
     "data": {
      "text/plain": [
       "(array([ 73,  48,  35, 100]), ('Income',))"
      ]
     },
     "execution_count": 10,
     "metadata": {},
     "output_type": "execute_result"
    }
   ],
   "source": [
    "income = design.column_info_['Income']\n",
    "cols, names = income.get_columns(Carseats)\n",
    "(cols[:4], names)"
   ]
  },
  {
   "cell_type": "markdown",
   "id": "medieval-speed",
   "metadata": {},
   "source": [
    "### Encoding a column\n",
    "\n",
    "In building a design matrix we must extract columns from our dataframe (or `np.ndarray`). Categorical\n",
    "variables usually are encoded by several columns, typically one less than the number of categories.\n",
    "This task is handled by the `encoder` of the `Column`. The encoder must satisfy the `sklearn` transform\n",
    "model, i.e. `fit` on some array and `transform` on future arrays. The `fit_encoder` method of `Column` fits\n",
    "its encoder the first time data is passed to it."
   ]
  },
  {
   "cell_type": "code",
   "execution_count": 11,
   "id": "public-basket",
   "metadata": {},
   "outputs": [
    {
     "data": {
      "text/plain": [
       "(array([[0., 0.],\n",
       "        [1., 0.],\n",
       "        [0., 1.],\n",
       "        [0., 1.]]),\n",
       " ['ShelveLoc[Good]', 'ShelveLoc[Medium]'])"
      ]
     },
     "execution_count": 11,
     "metadata": {},
     "output_type": "execute_result"
    }
   ],
   "source": [
    "shelve = design.column_info_['ShelveLoc']\n",
    "cols, names = shelve.get_columns(Carseats)\n",
    "(cols[:4], names)"
   ]
  },
  {
   "cell_type": "code",
   "execution_count": 12,
   "id": "improved-alloy",
   "metadata": {},
   "outputs": [
    {
     "data": {
      "text/plain": [
       "array([[2.],\n",
       "       [1.],\n",
       "       [1.],\n",
       "       [0.]])"
      ]
     },
     "execution_count": 12,
     "metadata": {},
     "output_type": "execute_result"
    }
   ],
   "source": [
    "oincome = design.column_info_['OIncome']\n",
    "oincome.get_columns(Carseats)[0][:4]"
   ]
  },
  {
   "cell_type": "markdown",
   "id": "frank-mathematics",
   "metadata": {},
   "source": [
    "### The terms\n",
    "\n",
    "The design matrix consists of several sets of columns. This is managed by the `ModelMatrix` through\n",
    "the `terms` argument which should be a sequence. The elements of `terms` are often\n",
    "going to be strings (or tuples of strings for interactions, see below) but are converted to a\n",
    "`Variable` object and stored in the `terms_` of the fitted `ModelMatrix`. A `Variable` is just a named tuple."
   ]
  },
  {
   "cell_type": "code",
   "execution_count": 13,
   "id": "together-north",
   "metadata": {},
   "outputs": [
    {
     "data": {
      "text/plain": [
       "['Price', 'Income']"
      ]
     },
     "execution_count": 13,
     "metadata": {},
     "output_type": "execute_result"
    }
   ],
   "source": [
    "design.terms"
   ]
  },
  {
   "cell_type": "code",
   "execution_count": 14,
   "id": "chinese-necessity",
   "metadata": {},
   "outputs": [
    {
     "data": {
      "text/plain": [
       "[Variable(variables=('Price',), name='Price', encoder=None, use_transform=True, pure_columns=True),\n",
       " Variable(variables=('Income',), name='Income', encoder=None, use_transform=True, pure_columns=True)]"
      ]
     },
     "execution_count": 14,
     "metadata": {},
     "output_type": "execute_result"
    }
   ],
   "source": [
    "design.terms_"
   ]
  },
  {
   "cell_type": "markdown",
   "id": "simplified-chinese",
   "metadata": {},
   "source": [
    "While each `Column` can itself extract data, they are all promoted to `Variable` to be of a uniform type.  A\n",
    "`Variable` can also create columns through the `build_columns` method of `ModelMatrix`"
   ]
  },
  {
   "cell_type": "code",
   "execution_count": 15,
   "id": "automotive-hobby",
   "metadata": {},
   "outputs": [
    {
     "data": {
      "text/plain": [
       "(     Price\n",
       " 0      120\n",
       " 1       83\n",
       " 2       80\n",
       " 3       97\n",
       " 4      128\n",
       " ..     ...\n",
       " 395    128\n",
       " 396    120\n",
       " 397    159\n",
       " 398     95\n",
       " 399    120\n",
       " \n",
       " [400 rows x 1 columns],\n",
       " ['Price'])"
      ]
     },
     "execution_count": 15,
     "metadata": {},
     "output_type": "execute_result"
    }
   ],
   "source": [
    "price = design.terms_[0]\n",
    "design.build_columns(Carseats, price)"
   ]
  },
  {
   "cell_type": "markdown",
   "id": "former-spring",
   "metadata": {},
   "source": [
    "Note that `Variable` objects have a tuple of `variables` as well as an `encoder` attribute. The\n",
    "tuple of `variables` first creates a concatenated dataframe from all corresponding variables and then\n",
    "is run through `encoder.transform`. The `encoder.fit` method of each `Variable` is run once during \n",
    "the call to `ModelMatrix.fit`."
   ]
  },
  {
   "cell_type": "code",
   "execution_count": 16,
   "id": "floral-liabilities",
   "metadata": {},
   "outputs": [
    {
     "data": {
      "text/plain": [
       "(     Price  Income  UIncome[L]  UIncome[M]\n",
       " 0    120.0    73.0         0.0         1.0\n",
       " 1     83.0    48.0         1.0         0.0\n",
       " 2     80.0    35.0         1.0         0.0\n",
       " 3     97.0   100.0         0.0         0.0\n",
       " 4    128.0    64.0         0.0         1.0\n",
       " ..     ...     ...         ...         ...\n",
       " 395  128.0   108.0         0.0         0.0\n",
       " 396  120.0    23.0         1.0         0.0\n",
       " 397  159.0    26.0         1.0         0.0\n",
       " 398   95.0    79.0         0.0         1.0\n",
       " 399  120.0    37.0         1.0         0.0\n",
       " \n",
       " [400 rows x 4 columns],\n",
       " ['Price', 'Income', 'UIncome[L]', 'UIncome[M]'])"
      ]
     },
     "execution_count": 16,
     "metadata": {},
     "output_type": "execute_result"
    }
   ],
   "source": [
    "from ISLP.models.model_matrix import Variable\n",
    "\n",
    "new_var = Variable(('Price', 'Income', 'UIncome'), name='mynewvar', encoder=None)\n",
    "design.build_columns(Carseats, new_var)"
   ]
  },
  {
   "cell_type": "markdown",
   "id": "reasonable-canadian",
   "metadata": {},
   "source": [
    "Let's now transform these columns with an encoder. Within `ModelMatrix` we will first build the\n",
    "arrays above and then call `pca.fit` and finally `pca.transform` within `design.build_columns`."
   ]
  },
  {
   "cell_type": "code",
   "execution_count": 17,
   "id": "imported-measure",
   "metadata": {},
   "outputs": [
    {
     "data": {
      "text/plain": [
       "(     mynewvar[0]  mynewvar[1]\n",
       " 0      -3.608693    -4.853177\n",
       " 1      15.081506    35.708630\n",
       " 2      27.422871    40.774250\n",
       " 3     -33.973209    13.470489\n",
       " 4       6.567316   -11.290100\n",
       " ..           ...          ...\n",
       " 395   -36.846346   -18.415783\n",
       " 396    45.741500     3.245602\n",
       " 397    49.097533   -35.725355\n",
       " 398   -13.577772    18.845139\n",
       " 399    31.927566     0.978436\n",
       " \n",
       " [400 rows x 2 columns],\n",
       " ['mynewvar[0]', 'mynewvar[1]'])"
      ]
     },
     "execution_count": 17,
     "metadata": {},
     "output_type": "execute_result"
    }
   ],
   "source": [
    "from sklearn.decomposition import PCA\n",
    "pca = PCA(n_components=2)\n",
    "pca.fit(design.build_columns(Carseats, new_var)[0]) # this is done within `ModelMatrix.fit`\n",
    "pca_var = Variable(('Price', 'Income', 'UIncome'), name='mynewvar', encoder=pca)\n",
    "design.build_columns(Carseats, pca_var)"
   ]
  },
  {
   "cell_type": "markdown",
   "id": "institutional-burden",
   "metadata": {},
   "source": [
    "The elements of the `variables` attribute may be column identifiers ( `\"Price\"`), `Column` instances (`price`)\n",
    "or `Variable` instances (`pca_var`)."
   ]
  },
  {
   "cell_type": "code",
   "execution_count": 18,
   "id": "western-bloom",
   "metadata": {},
   "outputs": [
    {
     "data": {
      "text/plain": [
       "(     Price  Price  mynewvar[0]  mynewvar[1]\n",
       " 0    120.0  120.0    -3.608693    -4.853177\n",
       " 1     83.0   83.0    15.081506    35.708630\n",
       " 2     80.0   80.0    27.422871    40.774250\n",
       " 3     97.0   97.0   -33.973209    13.470489\n",
       " 4    128.0  128.0     6.567316   -11.290100\n",
       " ..     ...    ...          ...          ...\n",
       " 395  128.0  128.0   -36.846346   -18.415783\n",
       " 396  120.0  120.0    45.741500     3.245602\n",
       " 397  159.0  159.0    49.097533   -35.725355\n",
       " 398   95.0   95.0   -13.577772    18.845139\n",
       " 399  120.0  120.0    31.927566     0.978436\n",
       " \n",
       " [400 rows x 4 columns],\n",
       " ['Price', 'Price', 'mynewvar[0]', 'mynewvar[1]'])"
      ]
     },
     "execution_count": 18,
     "metadata": {},
     "output_type": "execute_result"
    }
   ],
   "source": [
    "fancy_var = Variable(('Price', price, pca_var), name='fancy', encoder=None)\n",
    "design.build_columns(Carseats, fancy_var)"
   ]
  },
  {
   "cell_type": "markdown",
   "id": "ordinary-newman",
   "metadata": {},
   "source": [
    "We can of course run PCA again on these features (if we wanted)."
   ]
  },
  {
   "cell_type": "code",
   "execution_count": 19,
   "id": "modern-negotiation",
   "metadata": {},
   "outputs": [
    {
     "data": {
      "text/plain": [
       "(     fancy_pca[0]  fancy_pca[1]\n",
       " 0       -6.951792      4.859283\n",
       " 1       55.170148    -24.694875\n",
       " 2       59.418556    -38.033572\n",
       " 3       34.722389     28.922184\n",
       " 4      -21.419184     -3.120673\n",
       " ..            ...           ...\n",
       " 395    -18.257348     40.760122\n",
       " 396    -10.546709    -45.021658\n",
       " 397    -77.706359    -37.174379\n",
       " 398     36.668694      7.730851\n",
       " 399     -9.540535    -31.059122\n",
       " \n",
       " [400 rows x 2 columns],\n",
       " ['fancy_pca[0]', 'fancy_pca[1]'])"
      ]
     },
     "execution_count": 19,
     "metadata": {},
     "output_type": "execute_result"
    }
   ],
   "source": [
    "pca2 = PCA(n_components=2)\n",
    "pca2.fit(design.build_columns(Carseats, fancy_var)[0]) # this is done within `ModelMatrix.fit`\n",
    "pca2_var = Variable(('Price', price, pca_var), name='fancy_pca', encoder=pca2)\n",
    "design.build_columns(Carseats, pca2_var)"
   ]
  },
  {
   "cell_type": "markdown",
   "id": "private-shepherd",
   "metadata": {},
   "source": [
    "### Building the design matrix\n",
    "\n",
    "With these notions in mind, the final design is essentially then"
   ]
  },
  {
   "cell_type": "code",
   "execution_count": 20,
   "id": "hollywood-union",
   "metadata": {},
   "outputs": [],
   "source": [
    "X_hand = np.column_stack([design.build_columns(Carseats, v)[0] for v in design.terms_])[:4]"
   ]
  },
  {
   "cell_type": "markdown",
   "id": "suffering-lover",
   "metadata": {},
   "source": [
    "An intercept column is added if `design.intercept` is `True` and if the original argument to `transform` is\n",
    "a dataframe the index is adjusted accordingly."
   ]
  },
  {
   "cell_type": "code",
   "execution_count": 21,
   "id": "successful-express",
   "metadata": {},
   "outputs": [
    {
     "data": {
      "text/plain": [
       "True"
      ]
     },
     "execution_count": 21,
     "metadata": {},
     "output_type": "execute_result"
    }
   ],
   "source": [
    "design.intercept"
   ]
  },
  {
   "cell_type": "code",
   "execution_count": 22,
   "id": "banner-metadata",
   "metadata": {},
   "outputs": [
    {
     "data": {
      "text/html": [
       "<div>\n",
       "<style scoped>\n",
       "    .dataframe tbody tr th:only-of-type {\n",
       "        vertical-align: middle;\n",
       "    }\n",
       "\n",
       "    .dataframe tbody tr th {\n",
       "        vertical-align: top;\n",
       "    }\n",
       "\n",
       "    .dataframe thead th {\n",
       "        text-align: right;\n",
       "    }\n",
       "</style>\n",
       "<table border=\"1\" class=\"dataframe\">\n",
       "  <thead>\n",
       "    <tr style=\"text-align: right;\">\n",
       "      <th></th>\n",
       "      <th>intercept</th>\n",
       "      <th>Price</th>\n",
       "      <th>Income</th>\n",
       "    </tr>\n",
       "  </thead>\n",
       "  <tbody>\n",
       "    <tr>\n",
       "      <th>0</th>\n",
       "      <td>1.0</td>\n",
       "      <td>120</td>\n",
       "      <td>73</td>\n",
       "    </tr>\n",
       "    <tr>\n",
       "      <th>1</th>\n",
       "      <td>1.0</td>\n",
       "      <td>83</td>\n",
       "      <td>48</td>\n",
       "    </tr>\n",
       "    <tr>\n",
       "      <th>2</th>\n",
       "      <td>1.0</td>\n",
       "      <td>80</td>\n",
       "      <td>35</td>\n",
       "    </tr>\n",
       "    <tr>\n",
       "      <th>3</th>\n",
       "      <td>1.0</td>\n",
       "      <td>97</td>\n",
       "      <td>100</td>\n",
       "    </tr>\n",
       "  </tbody>\n",
       "</table>\n",
       "</div>"
      ],
      "text/plain": [
       "   intercept  Price  Income\n",
       "0        1.0    120      73\n",
       "1        1.0     83      48\n",
       "2        1.0     80      35\n",
       "3        1.0     97     100"
      ]
     },
     "execution_count": 22,
     "metadata": {},
     "output_type": "execute_result"
    }
   ],
   "source": [
    "design.transform(Carseats)[:4]"
   ]
  },
  {
   "cell_type": "markdown",
   "id": "absent-branch",
   "metadata": {},
   "source": [
    "### Predicting\n",
    "\n",
    "Constructing the design matrix at any values is carried out by the `transform` method."
   ]
  },
  {
   "cell_type": "code",
   "execution_count": 23,
   "id": "naked-hollywood",
   "metadata": {},
   "outputs": [
    {
     "data": {
      "text/plain": [
       "array([12.65257604, 12.25873428])"
      ]
     },
     "execution_count": 23,
     "metadata": {},
     "output_type": "execute_result"
    }
   ],
   "source": [
    "new_data = pd.DataFrame({'Price':[10,20], 'Income':[40, 50]})\n",
    "new_X = design.transform(new_data)\n",
    "M.get_prediction(new_X).predicted_mean"
   ]
  },
  {
   "cell_type": "code",
   "execution_count": 24,
   "id": "iraqi-divorce",
   "metadata": {},
   "outputs": [
    {
     "name": "stdout",
     "output_type": "stream",
     "text": [
      "       0        1 \n",
      "12.65258 12.25873 \n"
     ]
    }
   ],
   "source": [
    "%%R -i new_data,Carseats\n",
    "predict(lm(Sales ~ Price + Income, data=Carseats), new_data)"
   ]
  },
  {
   "cell_type": "markdown",
   "id": "signal-yahoo",
   "metadata": {},
   "source": [
    "#### Difference between using `pd.DataFrame` and `np.ndarray`\n",
    "\n",
    "If the `terms` only refer to a few columns of the data frame, the `transform` method only needs a dataframe with those columns.\n",
    "\n",
    "If we had used an `np.ndarray`, the column identifiers would be integers identifying specific columns so,\n",
    "in order to work correctly, `transform` would need another `np.ndarray` where the columns have the same meaning. "
   ]
  },
  {
   "cell_type": "code",
   "execution_count": 25,
   "id": "completed-surveillance",
   "metadata": {},
   "outputs": [
    {
     "data": {
      "text/plain": [
       "array([[1.0, 120, 73],\n",
       "       [1.0, 83, 48],\n",
       "       [1.0, 80, 35],\n",
       "       [1.0, 97, 100]], dtype=object)"
      ]
     },
     "execution_count": 25,
     "metadata": {},
     "output_type": "execute_result"
    }
   ],
   "source": [
    "Carseats_np = np.asarray(Carseats[['Price', 'ShelveLoc', 'US', 'Income']])\n",
    "design_np = ModelMatrix([0,3]).fit(Carseats_np)\n",
    "design_np.transform(Carseats_np)[:4]"
   ]
  },
  {
   "cell_type": "markdown",
   "id": "undefined-sacrifice",
   "metadata": {},
   "source": [
    "The following will fail for hopefully obvious reasons"
   ]
  },
  {
   "cell_type": "code",
   "execution_count": 26,
   "id": "incredible-concert",
   "metadata": {},
   "outputs": [
    {
     "name": "stdout",
     "output_type": "stream",
     "text": [
      "shapes (2,2) and (3,) not aligned: 2 (dim 1) != 3 (dim 0)\n"
     ]
    }
   ],
   "source": [
    "try:\n",
    "    new_D = np.zeros((2,2))\n",
    "    new_D[:,0] = [10,20]\n",
    "    new_D[:,1] = [40,50]\n",
    "    M.get_prediction(new_D).predicted_mean\n",
    "except ValueError as e:\n",
    "    print(e)"
   ]
  },
  {
   "cell_type": "markdown",
   "id": "allied-botswana",
   "metadata": {},
   "source": [
    "Ultimately, `M` expects 3 columns for new predictions because it was fit\n",
    "with a matrix having 3 columns (the first representing an intercept).\n",
    "\n",
    "We might be tempted to try as with the `pd.DataFrame` and produce\n",
    "an `np.ndarray` with only the necessary variables."
   ]
  },
  {
   "cell_type": "code",
   "execution_count": 27,
   "id": "stunning-container",
   "metadata": {},
   "outputs": [
    {
     "name": "stdout",
     "output_type": "stream",
     "text": [
      "index 3 is out of bounds for axis 1 with size 2\n"
     ]
    }
   ],
   "source": [
    "try:\n",
    "    new_X = np.zeros((2,2))\n",
    "    new_X[:,0] = [10,20]\n",
    "    new_X[:,1] = [40,50]\n",
    "    new_D = design_np.transform(new_X)\n",
    "    M.get_prediction(new_D).predicted_mean\n",
    "except IndexError as e:\n",
    "    print(e)"
   ]
  },
  {
   "cell_type": "markdown",
   "id": "specific-tobacco",
   "metadata": {},
   "source": [
    "This fails because `design_np` is looking for column `3` from its `terms`:"
   ]
  },
  {
   "cell_type": "code",
   "execution_count": 28,
   "id": "latin-publisher",
   "metadata": {},
   "outputs": [
    {
     "data": {
      "text/plain": [
       "[Variable(variables=(0,), name='0', encoder=None, use_transform=True, pure_columns=True),\n",
       " Variable(variables=(3,), name='3', encoder=None, use_transform=True, pure_columns=True)]"
      ]
     },
     "execution_count": 28,
     "metadata": {},
     "output_type": "execute_result"
    }
   ],
   "source": [
    "design_np.terms_"
   ]
  },
  {
   "cell_type": "markdown",
   "id": "rocky-franchise",
   "metadata": {},
   "source": [
    "However, if we have an `np.ndarray` in which the first column indeed represents `Price` and the fourth indeed\n",
    "represents `Income` then we can arrive at the correct answer by supplying such the array to `design_np.transform`:"
   ]
  },
  {
   "cell_type": "code",
   "execution_count": 29,
   "id": "returning-matthew",
   "metadata": {},
   "outputs": [
    {
     "data": {
      "text/plain": [
       "array([12.65257604, 12.25873428])"
      ]
     },
     "execution_count": 29,
     "metadata": {},
     "output_type": "execute_result"
    }
   ],
   "source": [
    "new_X = np.zeros((2,4))\n",
    "new_X[:,0] = [10,20]\n",
    "new_X[:,3] = [40,50]\n",
    "new_D = design_np.transform(new_X)\n",
    "M.get_prediction(new_D).predicted_mean"
   ]
  },
  {
   "cell_type": "markdown",
   "id": "sapphire-adelaide",
   "metadata": {},
   "source": [
    "Given this subtlety about needing to supply arrays with identical column structure to `transform` when\n",
    "using `np.ndarray` we presume that using a `pd.DataFrame` will be the more popular use case."
   ]
  },
  {
   "cell_type": "markdown",
   "id": "standing-involvement",
   "metadata": {},
   "source": [
    "## A model with some categorical variables\n",
    "\n",
    "Categorical variables become `Column` instances with encoders."
   ]
  },
  {
   "cell_type": "code",
   "execution_count": 30,
   "id": "taken-university",
   "metadata": {},
   "outputs": [
    {
     "data": {
      "text/plain": [
       "Column(idx='UIncome', name='UIncome', is_categorical=True, is_ordinal=False, columns=('UIncome[L]', 'UIncome[M]'), encoder=Contrast())"
      ]
     },
     "execution_count": 30,
     "metadata": {},
     "output_type": "execute_result"
    }
   ],
   "source": [
    "design = ModelMatrix(['Population', 'Price', 'UIncome', 'ShelveLoc']).fit(Carseats)\n",
    "design.column_info_['UIncome']"
   ]
  },
  {
   "cell_type": "code",
   "execution_count": 31,
   "id": "rural-cycling",
   "metadata": {},
   "outputs": [
    {
     "data": {
      "text/plain": [
       "Index(['intercept', 'Population', 'Price', 'UIncome[L]', 'UIncome[M]',\n",
       "       'ShelveLoc[Good]', 'ShelveLoc[Medium]'],\n",
       "      dtype='object')"
      ]
     },
     "execution_count": 31,
     "metadata": {},
     "output_type": "execute_result"
    }
   ],
   "source": [
    "X = design.fit_transform(Carseats)\n",
    "X.columns"
   ]
  },
  {
   "cell_type": "code",
   "execution_count": 32,
   "id": "former-trick",
   "metadata": {},
   "outputs": [
    {
     "data": {
      "text/plain": [
       "intercept            11.876012\n",
       "Population            0.001163\n",
       "Price                -0.055725\n",
       "UIncome[L]           -1.042297\n",
       "UIncome[M]           -0.119123\n",
       "ShelveLoc[Good]       4.999623\n",
       "ShelveLoc[Medium]     1.964278\n",
       "dtype: float64"
      ]
     },
     "execution_count": 32,
     "metadata": {},
     "output_type": "execute_result"
    }
   ],
   "source": [
    "sm.OLS(Y, X).fit().params"
   ]
  },
  {
   "cell_type": "code",
   "execution_count": 33,
   "id": "specialized-processing",
   "metadata": {},
   "outputs": [
    {
     "name": "stdout",
     "output_type": "stream",
     "text": [
      "    (Intercept)      Population           Price        UIncomeM        UIncomeH \n",
      "    10.83371503      0.00116301     -0.05572469      0.92317388      1.04229679 \n",
      "  ShelveLocGood ShelveLocMedium \n",
      "     4.99962319      1.96427771 \n"
     ]
    }
   ],
   "source": [
    "%%R\n",
    "lm(Sales ~ Population + Price + UIncome + ShelveLoc, data=Carseats)$coef"
   ]
  },
  {
   "cell_type": "markdown",
   "id": "verified-administrator",
   "metadata": {},
   "source": [
    "### Getting the encoding you want\n",
    "\n",
    "By default the level dropped by `ModelMatrix` will be the first of the `categories_` values from \n",
    "`sklearn.preprocessing.OneHotEncoder()`. We might wish to change this. It seems\n",
    "as if the correct way to do this would be something like `Variable(('UIncome',), 'mynewencoding', new_encoder)`\n",
    "where `new_encoder` would somehow drop the column we want dropped. \n",
    "\n",
    "However, when using the convenient identifier `UIncome` in the `variables` argument, this maps to the `Column` associated to `UIncome` within `design.column_info_`:"
   ]
  },
  {
   "cell_type": "code",
   "execution_count": 34,
   "id": "limited-johns",
   "metadata": {},
   "outputs": [
    {
     "data": {
      "text/plain": [
       "Column(idx='UIncome', name='UIncome', is_categorical=True, is_ordinal=False, columns=('UIncome[L]', 'UIncome[M]'), encoder=Contrast())"
      ]
     },
     "execution_count": 34,
     "metadata": {},
     "output_type": "execute_result"
    }
   ],
   "source": [
    "design.column_info_['UIncome']"
   ]
  },
  {
   "cell_type": "markdown",
   "id": "saving-remainder",
   "metadata": {},
   "source": [
    "This column already has an encoder and `Column` instances are immutable as named tuples. Further, there are times when \n",
    "we may want to encode `UIncome` differently within the same model. In the model below the main effect of `UIncome` is encoded with two columns while in the interaction `UIncome` (see below) has three columns. This is a design of interest\n",
    "and we need a way to allow different encodings of the same column of `Carseats`"
   ]
  },
  {
   "cell_type": "code",
   "execution_count": 35,
   "id": "satisfied-harbor",
   "metadata": {},
   "outputs": [
    {
     "name": "stdout",
     "output_type": "stream",
     "text": [
      "\n",
      "Call:\n",
      "lm(formula = Sales ~ UIncome:ShelveLoc + UIncome, data = Carseats)\n",
      "\n",
      "Coefficients:\n",
      "             (Intercept)                  UIncomeM                  UIncomeH  \n",
      "                  5.1317                    0.1151                    1.1561  \n",
      "  UIncomeL:ShelveLocGood    UIncomeM:ShelveLocGood    UIncomeH:ShelveLocGood  \n",
      "                  4.5121                    5.5752                    3.7381  \n",
      "UIncomeL:ShelveLocMedium  UIncomeM:ShelveLocMedium  UIncomeH:ShelveLocMedium  \n",
      "                  1.2473                    2.4782                    1.5141  \n",
      "\n"
     ]
    }
   ],
   "source": [
    "%%R\n",
    "lm(Sales ~ UIncome:ShelveLoc + UIncome, data=Carseats)"
   ]
  },
  {
   "cell_type": "markdown",
   "id": "silver-wesley",
   "metadata": {},
   "source": [
    " We can create a new \n",
    "`Column` with the encoder we want. For categorical variables, there is a convenience function to do so."
   ]
  },
  {
   "cell_type": "code",
   "execution_count": 36,
   "id": "crazy-bikini",
   "metadata": {},
   "outputs": [],
   "source": [
    "from ISLP.models.model_matrix import contrast\n",
    "pref_encoding = contrast('UIncome', 'drop', 'L')"
   ]
  },
  {
   "cell_type": "code",
   "execution_count": 37,
   "id": "accredited-barrier",
   "metadata": {},
   "outputs": [
    {
     "data": {
      "text/plain": [
       "(     UIncome[H]  UIncome[M]\n",
       " 0           0.0         1.0\n",
       " 1           0.0         0.0\n",
       " 2           0.0         0.0\n",
       " 3           1.0         0.0\n",
       " 4           0.0         1.0\n",
       " ..          ...         ...\n",
       " 395         1.0         0.0\n",
       " 396         0.0         0.0\n",
       " 397         0.0         0.0\n",
       " 398         0.0         1.0\n",
       " 399         0.0         0.0\n",
       " \n",
       " [400 rows x 2 columns],\n",
       " ['UIncome[H]', 'UIncome[M]'])"
      ]
     },
     "execution_count": 37,
     "metadata": {},
     "output_type": "execute_result"
    }
   ],
   "source": [
    "design.build_columns(Carseats, pref_encoding)"
   ]
  },
  {
   "cell_type": "code",
   "execution_count": 38,
   "id": "smaller-execution",
   "metadata": {},
   "outputs": [
    {
     "data": {
      "text/plain": [
       "Index(['intercept', 'Population', 'Price', 'UIncome[H]', 'UIncome[M]',\n",
       "       'ShelveLoc[Good]', 'ShelveLoc[Medium]'],\n",
       "      dtype='object')"
      ]
     },
     "execution_count": 38,
     "metadata": {},
     "output_type": "execute_result"
    }
   ],
   "source": [
    "design = ModelMatrix(['Population', 'Price', pref_encoding, 'ShelveLoc']).fit(Carseats)\n",
    "X = design.fit_transform(Carseats)\n",
    "X.columns"
   ]
  },
  {
   "cell_type": "code",
   "execution_count": 39,
   "id": "limited-center",
   "metadata": {},
   "outputs": [
    {
     "data": {
      "text/plain": [
       "intercept            10.833715\n",
       "Population            0.001163\n",
       "Price                -0.055725\n",
       "UIncome[H]            1.042297\n",
       "UIncome[M]            0.923174\n",
       "ShelveLoc[Good]       4.999623\n",
       "ShelveLoc[Medium]     1.964278\n",
       "dtype: float64"
      ]
     },
     "execution_count": 39,
     "metadata": {},
     "output_type": "execute_result"
    }
   ],
   "source": [
    "sm.OLS(Y, X).fit().params"
   ]
  },
  {
   "cell_type": "code",
   "execution_count": 40,
   "id": "combined-relaxation",
   "metadata": {},
   "outputs": [
    {
     "name": "stdout",
     "output_type": "stream",
     "text": [
      "    (Intercept)      Population           Price        UIncomeM        UIncomeH \n",
      "    10.83371503      0.00116301     -0.05572469      0.92317388      1.04229679 \n",
      "  ShelveLocGood ShelveLocMedium \n",
      "     4.99962319      1.96427771 \n"
     ]
    }
   ],
   "source": [
    "%%R\n",
    "lm(Sales ~ Population + Price + UIncome + ShelveLoc, data=Carseats)$coef"
   ]
  },
  {
   "cell_type": "markdown",
   "id": "focal-determination",
   "metadata": {},
   "source": [
    "## Interactions\n",
    "\n",
    "We've referred to interactions above. These are specified (by convenience) as tuples in the `terms` argument\n",
    "to `ModelMatrix`.\n"
   ]
  },
  {
   "cell_type": "code",
   "execution_count": 41,
   "id": "earned-ready",
   "metadata": {},
   "outputs": [
    {
     "data": {
      "text/plain": [
       "intercept                       7.866634\n",
       "UIncome[L]:ShelveLoc[Good]      4.512054\n",
       "UIncome[L]:ShelveLoc[Medium]    1.247275\n",
       "UIncome[M]:ShelveLoc[Good]      5.575170\n",
       "UIncome[M]:ShelveLoc[Medium]    2.478163\n",
       "UIncome[L]                     -2.734895\n",
       "UIncome[M]                     -2.619745\n",
       "dtype: float64"
      ]
     },
     "execution_count": 41,
     "metadata": {},
     "output_type": "execute_result"
    }
   ],
   "source": [
    "design = ModelMatrix([('UIncome', 'ShelveLoc'), 'UIncome'])\n",
    "X = design.fit_transform(Carseats)\n",
    "sm.OLS(Y, X).fit().params"
   ]
  },
  {
   "cell_type": "markdown",
   "id": "prescribed-accessory",
   "metadata": {},
   "source": [
    "The tuples in `terms` are converted to `Variable` in the formalized `terms_` attribute by creating a `Variable` with\n",
    "`variables` set to the tuple and the encoder an `Interaction` encoder which (unsurprisingly) creates the interaction columns from the concatenated data frames of `UIncome` and `ShelveLoc`."
   ]
  },
  {
   "cell_type": "code",
   "execution_count": 42,
   "id": "pacific-animal",
   "metadata": {},
   "outputs": [
    {
     "name": "stderr",
     "output_type": "stream",
     "text": [
      "/Users/jonathantaylor/opt/anaconda3/envs/islp/lib/python3.6/site-packages/sklearn/base.py:213: FutureWarning: From version 0.24, get_params will raise an AttributeError if a parameter cannot be retrieved as an instance attribute. Previously it would return None.\n",
      "  FutureWarning)\n"
     ]
    },
    {
     "data": {
      "text/plain": [
       "Variable(variables=('UIncome', 'ShelveLoc'), name='UIncome:ShelveLoc', encoder=Interaction(column_names=None,\n",
       "            columns={'ShelveLoc': range(2, 4), 'UIncome': range(0, 2)},\n",
       "            variables=['UIncome', 'ShelveLoc']), use_transform=True, pure_columns=False)"
      ]
     },
     "execution_count": 42,
     "metadata": {},
     "output_type": "execute_result"
    }
   ],
   "source": [
    "design.terms_[0]"
   ]
  },
  {
   "cell_type": "markdown",
   "id": "planned-wrestling",
   "metadata": {},
   "source": [
    "Comparing this to the previous `R` model."
   ]
  },
  {
   "cell_type": "code",
   "execution_count": 43,
   "id": "given-testimony",
   "metadata": {},
   "outputs": [
    {
     "name": "stdout",
     "output_type": "stream",
     "text": [
      "\n",
      "Call:\n",
      "lm(formula = Sales ~ UIncome:ShelveLoc + UIncome, data = Carseats)\n",
      "\n",
      "Coefficients:\n",
      "             (Intercept)                  UIncomeM                  UIncomeH  \n",
      "                  5.1317                    0.1151                    1.1561  \n",
      "  UIncomeL:ShelveLocGood    UIncomeM:ShelveLocGood    UIncomeH:ShelveLocGood  \n",
      "                  4.5121                    5.5752                    3.7381  \n",
      "UIncomeL:ShelveLocMedium  UIncomeM:ShelveLocMedium  UIncomeH:ShelveLocMedium  \n",
      "                  1.2473                    2.4782                    1.5141  \n",
      "\n"
     ]
    }
   ],
   "source": [
    "%%R\n",
    "lm(Sales ~ UIncome:ShelveLoc + UIncome, data=Carseats)"
   ]
  },
  {
   "cell_type": "markdown",
   "id": "external-barrier",
   "metadata": {},
   "source": [
    "We note a few important things:\n",
    "\n",
    "1. `R` has reorganized the columns of the design from the formula: although we wrote `UIncome:ShelveLoc` first these\n",
    "columns have been built later. **`ModelMatrix` builds columns in the order determined by `terms`!**\n",
    "\n",
    "2. As noted above, `R` has encoded `UIncome` differently in the main effect and in the interaction. For `ModelMatrix`, the reference to `UIncome` always refers to the column in `design.column_info_` and will always build only the columns for `L` and `M`. **`ModelMatrix` does no inspection of terms to decide how to encode categorical variables.**\n",
    "\n",
    "A few notes:\n",
    "\n",
    "- **Why not try to inspect the terms?** For any nontrivial formula in `R` with several categorical variables and interactions, predicting what columns will be produced from a given formula is not simple. **`ModelMatrix` errs on the side of being explicit.**\n",
    "\n",
    "- **Is it impossible to build the design as `R` has?** No. An advanced user who *knows* they want the columns built as `R` has can do so (fairly) easily."
   ]
  },
  {
   "cell_type": "code",
   "execution_count": 44,
   "id": "authentic-meditation",
   "metadata": {},
   "outputs": [
    {
     "data": {
      "text/plain": [
       "(     UIncome[H]  UIncome[L]  UIncome[M]\n",
       " 0           0.0         0.0         1.0\n",
       " 1           0.0         1.0         0.0\n",
       " 2           0.0         1.0         0.0\n",
       " 3           1.0         0.0         0.0\n",
       " 4           0.0         0.0         1.0\n",
       " ..          ...         ...         ...\n",
       " 395         1.0         0.0         0.0\n",
       " 396         0.0         1.0         0.0\n",
       " 397         0.0         1.0         0.0\n",
       " 398         0.0         0.0         1.0\n",
       " 399         0.0         1.0         0.0\n",
       " \n",
       " [400 rows x 3 columns],\n",
       " ['UIncome[H]', 'UIncome[L]', 'UIncome[M]'])"
      ]
     },
     "execution_count": 44,
     "metadata": {},
     "output_type": "execute_result"
    }
   ],
   "source": [
    "full_encoding = contrast('UIncome', None)\n",
    "design.build_columns(Carseats, full_encoding)"
   ]
  },
  {
   "cell_type": "code",
   "execution_count": 45,
   "id": "lucky-success",
   "metadata": {},
   "outputs": [
    {
     "data": {
      "text/plain": [
       "intercept                       5.131739\n",
       "UIncome[H]                      1.156118\n",
       "UIncome[M]                      0.115150\n",
       "UIncome[H]:ShelveLoc[Good]      3.738052\n",
       "UIncome[H]:ShelveLoc[Medium]    1.514104\n",
       "UIncome[L]:ShelveLoc[Good]      4.512054\n",
       "UIncome[L]:ShelveLoc[Medium]    1.247275\n",
       "UIncome[M]:ShelveLoc[Good]      5.575170\n",
       "UIncome[M]:ShelveLoc[Medium]    2.478163\n",
       "dtype: float64"
      ]
     },
     "execution_count": 45,
     "metadata": {},
     "output_type": "execute_result"
    }
   ],
   "source": [
    "design = ModelMatrix([pref_encoding, (full_encoding, 'ShelveLoc')])\n",
    "X = design.fit_transform(Carseats)\n",
    "sm.OLS(Y, X).fit().params"
   ]
  },
  {
   "cell_type": "markdown",
   "id": "laden-beach",
   "metadata": {},
   "source": [
    "## Special encodings\n",
    "\n",
    "For flexible models, we may want to consider transformations of features, i.e. polynomial\n",
    "or spline transformations. Given transforms that follow the `fit/transform` paradigm\n",
    "we can of course achieve this with a `Column` and an `encoder`. The `ISLP.transforms`\n",
    "package includes a `Poly` transform"
   ]
  },
  {
   "cell_type": "code",
   "execution_count": 46,
   "id": "copyrighted-luther",
   "metadata": {},
   "outputs": [
    {
     "data": {
      "text/plain": [
       "Variable(variables=('Income',), name='poly(Income)', encoder=Poly(degree=3), use_transform=True, pure_columns=False)"
      ]
     },
     "execution_count": 46,
     "metadata": {},
     "output_type": "execute_result"
    }
   ],
   "source": [
    "from ISLP.models.model_matrix import poly\n",
    "poly('Income', 3)"
   ]
  },
  {
   "cell_type": "code",
   "execution_count": 47,
   "id": "threatened-marine",
   "metadata": {},
   "outputs": [
    {
     "data": {
      "text/plain": [
       "intercept             5.440077\n",
       "Poly(degree=3)[0]    10.036373\n",
       "Poly(degree=3)[1]    -2.799156\n",
       "Poly(degree=3)[2]     2.399601\n",
       "ShelveLoc[Good]       4.808133\n",
       "ShelveLoc[Medium]     1.889533\n",
       "dtype: float64"
      ]
     },
     "execution_count": 47,
     "metadata": {},
     "output_type": "execute_result"
    }
   ],
   "source": [
    "design = ModelMatrix([poly('Income', 3), 'ShelveLoc'])\n",
    "X = design.fit_transform(Carseats)\n",
    "sm.OLS(Y, X).fit().params"
   ]
  },
  {
   "cell_type": "markdown",
   "id": "senior-spokesman",
   "metadata": {},
   "source": [
    "Compare:"
   ]
  },
  {
   "cell_type": "code",
   "execution_count": 48,
   "id": "prompt-fifteen",
   "metadata": {},
   "outputs": [
    {
     "name": "stdout",
     "output_type": "stream",
     "text": [
      "     (Intercept) poly(Income, 3)1 poly(Income, 3)2 poly(Income, 3)3 \n",
      "        5.440077        10.036373        -2.799156         2.399601 \n",
      "   ShelveLocGood  ShelveLocMedium \n",
      "        4.808133         1.889533 \n"
     ]
    }
   ],
   "source": [
    "%%R\n",
    "lm(Sales ~ poly(Income, 3) + ShelveLoc, data=Carseats)$coef"
   ]
  },
  {
   "cell_type": "markdown",
   "id": "better-christianity",
   "metadata": {},
   "source": [
    "#### Splines\n",
    "\n",
    "Support for natural and B-splines is also included"
   ]
  },
  {
   "cell_type": "code",
   "execution_count": 49,
   "id": "outstanding-performer",
   "metadata": {},
   "outputs": [
    {
     "data": {
      "text/plain": [
       "intercept                 4.240421\n",
       "NaturalSpline(df=5)[0]    1.468196\n",
       "NaturalSpline(df=5)[1]    1.499471\n",
       "NaturalSpline(df=5)[2]    1.152070\n",
       "NaturalSpline(df=5)[3]    2.418398\n",
       "NaturalSpline(df=5)[4]    1.804460\n",
       "ShelveLoc[Good]           4.810449\n",
       "ShelveLoc[Medium]         1.881095\n",
       "dtype: float64"
      ]
     },
     "execution_count": 49,
     "metadata": {},
     "output_type": "execute_result"
    }
   ],
   "source": [
    "from ISLP.models.model_matrix import ns, bs, pca\n",
    "design = ModelMatrix([ns('Income', df=5), 'ShelveLoc'])\n",
    "X = design.fit_transform(Carseats)\n",
    "sm.OLS(Y, X).fit().params"
   ]
  },
  {
   "cell_type": "code",
   "execution_count": 50,
   "id": "informative-spirituality",
   "metadata": {},
   "outputs": [
    {
     "name": "stdout",
     "output_type": "stream",
     "text": [
      "        (Intercept) ns(Income, df = 5)1 ns(Income, df = 5)2 ns(Income, df = 5)3 \n",
      "           4.240421            1.468196            1.499471            1.152070 \n",
      "ns(Income, df = 5)4 ns(Income, df = 5)5       ShelveLocGood     ShelveLocMedium \n",
      "           2.418398            1.804460            4.810449            1.881095 \n"
     ]
    }
   ],
   "source": [
    "%%R\n",
    "library(splines)\n",
    "lm(Sales ~ ns(Income, df=5) + ShelveLoc, data=Carseats)$coef"
   ]
  },
  {
   "cell_type": "code",
   "execution_count": 51,
   "id": "destroyed-complexity",
   "metadata": {},
   "outputs": [
    {
     "data": {
      "text/plain": [
       "intercept                                                          3.495085\n",
       "BSpline(degree=2, df=7, lower_bound=21.0, upper_bound=120.0)[0]    1.813118\n",
       "BSpline(degree=2, df=7, lower_bound=21.0, upper_bound=120.0)[1]    0.961852\n",
       "BSpline(degree=2, df=7, lower_bound=21.0, upper_bound=120.0)[2]    2.471545\n",
       "BSpline(degree=2, df=7, lower_bound=21.0, upper_bound=120.0)[3]    2.158891\n",
       "BSpline(degree=2, df=7, lower_bound=21.0, upper_bound=120.0)[4]    2.091625\n",
       "BSpline(degree=2, df=7, lower_bound=21.0, upper_bound=120.0)[5]    2.600669\n",
       "BSpline(degree=2, df=7, lower_bound=21.0, upper_bound=120.0)[6]    2.843108\n",
       "ShelveLoc[Good]                                                    4.804919\n",
       "ShelveLoc[Medium]                                                  1.880337\n",
       "dtype: float64"
      ]
     },
     "execution_count": 51,
     "metadata": {},
     "output_type": "execute_result"
    }
   ],
   "source": [
    "design = ModelMatrix([bs('Income', df=7, degree=2), 'ShelveLoc'])\n",
    "X = design.fit_transform(Carseats)\n",
    "sm.OLS(Y, X).fit().params"
   ]
  },
  {
   "cell_type": "code",
   "execution_count": 52,
   "id": "incident-nicaragua",
   "metadata": {},
   "outputs": [
    {
     "name": "stdout",
     "output_type": "stream",
     "text": [
      "                    (Intercept) bs(Income, df = 7, degree = 2)1 \n",
      "                      3.4950851                       1.8131176 \n",
      "bs(Income, df = 7, degree = 2)2 bs(Income, df = 7, degree = 2)3 \n",
      "                      0.9618523                       2.4715450 \n",
      "bs(Income, df = 7, degree = 2)4 bs(Income, df = 7, degree = 2)5 \n",
      "                      2.1588908                       2.0916252 \n",
      "bs(Income, df = 7, degree = 2)6 bs(Income, df = 7, degree = 2)7 \n",
      "                      2.6006694                       2.8431084 \n",
      "                  ShelveLocGood                 ShelveLocMedium \n",
      "                      4.8049190                       1.8803375 \n"
     ]
    }
   ],
   "source": [
    "%%R\n",
    "lm(Sales ~ bs(Income, df=7, degree=2) + ShelveLoc, data=Carseats)$coef"
   ]
  },
  {
   "cell_type": "markdown",
   "id": "formal-medline",
   "metadata": {},
   "source": [
    "#### PCA\n"
   ]
  },
  {
   "cell_type": "code",
   "execution_count": 53,
   "id": "general-joshua",
   "metadata": {},
   "outputs": [
    {
     "data": {
      "text/plain": [
       "intercept            5.419405\n",
       "pca(myvars)[0]      -0.001131\n",
       "pca(myvars)[1]      -0.024217\n",
       "ShelveLoc[Good]      4.816253\n",
       "ShelveLoc[Medium]    1.924139\n",
       "dtype: float64"
      ]
     },
     "execution_count": 53,
     "metadata": {},
     "output_type": "execute_result"
    }
   ],
   "source": [
    "design = ModelMatrix([pca(['Income', \n",
    "                           'Price', \n",
    "                           'Advertising', \n",
    "                           'Population'], \n",
    "                          n_components=2, \n",
    "                          name='myvars'), 'ShelveLoc'])\n",
    "X = design.fit_transform(Carseats)\n",
    "sm.OLS(Y, X).fit().params"
   ]
  },
  {
   "cell_type": "code",
   "execution_count": 54,
   "id": "coordinate-calcium",
   "metadata": {},
   "outputs": [
    {
     "name": "stdout",
     "output_type": "stream",
     "text": [
      "\n",
      "Call:\n",
      "lm(formula = Sales ~ prcomp(cbind(Income, Price, Advertising, \n",
      "    Population))$x[, 1:2] + ShelveLoc, data = Carseats)\n",
      "\n",
      "Coefficients:\n",
      "                                                      (Intercept)  \n",
      "                                                         5.419405  \n",
      "prcomp(cbind(Income, Price, Advertising, Population))$x[, 1:2]PC1  \n",
      "                                                         0.001131  \n",
      "prcomp(cbind(Income, Price, Advertising, Population))$x[, 1:2]PC2  \n",
      "                                                        -0.024217  \n",
      "                                                    ShelveLocGood  \n",
      "                                                         4.816253  \n",
      "                                                  ShelveLocMedium  \n",
      "                                                         1.924139  \n",
      "\n"
     ]
    }
   ],
   "source": [
    "%%R\n",
    "lm(Sales ~ prcomp(cbind(Income, Price, Advertising, Population))$x[,1:2] + ShelveLoc, data=Carseats)"
   ]
  },
  {
   "cell_type": "markdown",
   "id": "foster-canvas",
   "metadata": {},
   "source": [
    "It is of course common to scale before running PCA."
   ]
  },
  {
   "cell_type": "code",
   "execution_count": 55,
   "id": "geographic-founder",
   "metadata": {},
   "outputs": [
    {
     "data": {
      "text/plain": [
       "intercept            5.352159\n",
       "pca(myvars)[0]       0.446383\n",
       "pca(myvars)[1]      -1.219788\n",
       "ShelveLoc[Good]      4.922780\n",
       "ShelveLoc[Medium]    2.005617\n",
       "dtype: float64"
      ]
     },
     "execution_count": 55,
     "metadata": {},
     "output_type": "execute_result"
    }
   ],
   "source": [
    "design = ModelMatrix([pca(['Income', \n",
    "                           'Price', \n",
    "                           'Advertising', \n",
    "                           'Population'], \n",
    "                          n_components=2, \n",
    "                          name='myvars',\n",
    "                          scale=True), 'ShelveLoc'])\n",
    "X = design.fit_transform(Carseats)\n",
    "sm.OLS(Y, X).fit().params"
   ]
  },
  {
   "cell_type": "code",
   "execution_count": 56,
   "id": "floral-packaging",
   "metadata": {},
   "outputs": [
    {
     "name": "stdout",
     "output_type": "stream",
     "text": [
      "\n",
      "Call:\n",
      "lm(formula = Sales ~ prcomp(cbind(Income, Price, Advertising, \n",
      "    Population), scale = TRUE)$x[, 1:2] + ShelveLoc, data = Carseats)\n",
      "\n",
      "Coefficients:\n",
      "                                                                    (Intercept)  \n",
      "                                                                         5.3522  \n",
      "prcomp(cbind(Income, Price, Advertising, Population), scale = TRUE)$x[, 1:2]PC1  \n",
      "                                                                         0.4469  \n",
      "prcomp(cbind(Income, Price, Advertising, Population), scale = TRUE)$x[, 1:2]PC2  \n",
      "                                                                        -1.2213  \n",
      "                                                                  ShelveLocGood  \n",
      "                                                                         4.9228  \n",
      "                                                                ShelveLocMedium  \n",
      "                                                                         2.0056  \n",
      "\n"
     ]
    }
   ],
   "source": [
    "%%R\n",
    "lm(Sales ~ prcomp(cbind(Income, Price, Advertising, Population), scale=TRUE)$x[,1:2] + ShelveLoc, data=Carseats)"
   ]
  },
  {
   "cell_type": "markdown",
   "id": "social-cherry",
   "metadata": {},
   "source": [
    "There will be some small differences in the coefficients due to `sklearn` use of `np.std(ddof=0)` instead\n",
    "of `np.std(ddof=1)`."
   ]
  },
  {
   "cell_type": "code",
   "execution_count": 57,
   "id": "another-glory",
   "metadata": {},
   "outputs": [
    {
     "data": {
      "text/plain": [
       "array([ 0.44694166, -1.22131519])"
      ]
     },
     "execution_count": 57,
     "metadata": {},
     "output_type": "execute_result"
    }
   ],
   "source": [
    "np.array(sm.OLS(Y, X).fit().params)[1:3] * np.sqrt(X.shape[0] / (X.shape[0]-1))"
   ]
  },
  {
   "cell_type": "markdown",
   "id": "noted-willow",
   "metadata": {},
   "source": [
    "#### Custom encoding\n",
    "\n",
    "Instead of PCA we might run some clustering on some features and then uses the clusters to\n",
    "create new features. This can be done with `derived_variable`. Indeed, `pca`, `ns` and `bs` are all examples\n",
    "of this.\n"
   ]
  },
  {
   "cell_type": "code",
   "execution_count": 58,
   "id": "unique-louisiana",
   "metadata": {},
   "outputs": [],
   "source": [
    "from ISLP.models.model_matrix import derived_variable, Contrast"
   ]
  },
  {
   "cell_type": "code",
   "execution_count": 59,
   "id": "divided-specialist",
   "metadata": {},
   "outputs": [
    {
     "data": {
      "text/plain": [
       "array([1, 1, 2, 1, 2, 1, 0, 1, 0, 0, 0, 1, 2, 2, 0, 1, 2, 1, 0, 0, 0, 2,\n",
       "       2, 2, 1, 2, 1, 0, 0, 1, 0, 1, 2, 2, 2, 0, 0, 2, 2, 2, 0, 2, 0, 2,\n",
       "       0, 2, 0, 0, 2, 0, 1, 0, 2, 0, 0, 0, 0, 0, 1, 0, 1, 2, 2, 0, 1, 2,\n",
       "       1, 1, 1, 2, 1, 1, 2, 0, 0, 1, 1, 0, 2, 0, 1, 0, 0, 2, 2, 0, 1, 2,\n",
       "       2, 2, 2, 2, 0, 2, 0, 2, 2, 0, 1, 2, 0, 0, 2, 0, 1, 1, 2, 0, 1, 0,\n",
       "       0, 1, 0, 2, 0, 2, 0, 2, 0, 0, 1, 1, 0, 0, 0, 0, 0, 2, 0, 0, 1, 0,\n",
       "       0, 0, 2, 1, 0, 2, 1, 1, 2, 2, 0, 0, 2, 0, 2, 1, 0, 0, 0, 1, 2, 2,\n",
       "       1, 0, 2, 2, 0, 2, 2, 2, 2, 0, 0, 2, 1, 0, 0, 1, 2, 1, 0, 0, 2, 0,\n",
       "       1, 0, 0, 2, 1, 0, 2, 1, 2, 1, 0, 2, 2, 1, 2, 2, 2, 0, 1, 1, 2, 2,\n",
       "       1, 0, 0, 0, 1, 0, 0, 2, 0, 0, 2, 2, 2, 1, 1, 0, 0, 1, 2, 2, 0, 1,\n",
       "       1, 2, 0, 2, 2, 2, 2, 0, 1, 0, 0, 0, 0, 1, 1, 2, 1, 2, 2, 0, 0, 0,\n",
       "       2, 2, 2, 2, 1, 0, 0, 0, 1, 0, 0, 2, 1, 0, 2, 1, 2, 2, 1, 2, 0, 2,\n",
       "       2, 2, 1, 1, 0, 2, 2, 2, 0, 0, 0, 0, 1, 1, 0, 1, 1, 1, 0, 0, 1, 2,\n",
       "       1, 2, 2, 1, 1, 0, 1, 0, 0, 1, 2, 1, 2, 1, 0, 0, 1, 1, 1, 1, 2, 0,\n",
       "       1, 0, 1, 1, 0, 1, 2, 2, 2, 2, 1, 1, 1, 2, 2, 1, 0, 0, 2, 1, 0, 1,\n",
       "       2, 1, 1, 2, 1, 1, 2, 2, 2, 2, 2, 0, 1, 2, 0, 2, 0, 2, 1, 1, 1, 1,\n",
       "       1, 1, 2, 0, 0, 0, 0, 1, 0, 2, 0, 2, 1, 2, 1, 0, 2, 1, 1, 0, 2, 2,\n",
       "       2, 2, 1, 2, 0, 0, 0, 1, 1, 0, 1, 1, 0, 1, 1, 2, 0, 0, 2, 0, 1, 1,\n",
       "       2, 2, 0, 2], dtype=int32)"
      ]
     },
     "execution_count": 59,
     "metadata": {},
     "output_type": "execute_result"
    }
   ],
   "source": [
    "from sklearn.cluster import KMeans\n",
    "from sklearn.pipeline import make_pipeline\n",
    "from sklearn.preprocessing import StandardScaler\n",
    "cluster = make_pipeline(StandardScaler(), KMeans(n_clusters=3, random_state=0))\n",
    "group = Variable(('Income', 'Price', 'Advertising', 'Population'), 'group', None)\n",
    "X = design.build_submodel(Carseats, [group]).drop('intercept', axis=1)\n",
    "cluster.fit(X.values)\n",
    "cluster.predict(X.values)"
   ]
  },
  {
   "cell_type": "markdown",
   "id": "distant-catalog",
   "metadata": {},
   "source": [
    "For clustering, we often want to use the `predict` method rather than the `transform` method. If the ultimate\n",
    "features all use `transform` then the do not even need to use these two calls to `make_pipeline`."
   ]
  },
  {
   "cell_type": "code",
   "execution_count": 60,
   "id": "cognitive-notebook",
   "metadata": {},
   "outputs": [
    {
     "data": {
      "text/html": [
       "<div>\n",
       "<style scoped>\n",
       "    .dataframe tbody tr th:only-of-type {\n",
       "        vertical-align: middle;\n",
       "    }\n",
       "\n",
       "    .dataframe tbody tr th {\n",
       "        vertical-align: top;\n",
       "    }\n",
       "\n",
       "    .dataframe thead th {\n",
       "        text-align: right;\n",
       "    }\n",
       "</style>\n",
       "<table border=\"1\" class=\"dataframe\">\n",
       "  <thead>\n",
       "    <tr style=\"text-align: right;\">\n",
       "      <th></th>\n",
       "      <th>intercept</th>\n",
       "      <th>myclus</th>\n",
       "    </tr>\n",
       "  </thead>\n",
       "  <tbody>\n",
       "    <tr>\n",
       "      <th>0</th>\n",
       "      <td>1.0</td>\n",
       "      <td>1</td>\n",
       "    </tr>\n",
       "    <tr>\n",
       "      <th>1</th>\n",
       "      <td>1.0</td>\n",
       "      <td>1</td>\n",
       "    </tr>\n",
       "    <tr>\n",
       "      <th>2</th>\n",
       "      <td>1.0</td>\n",
       "      <td>2</td>\n",
       "    </tr>\n",
       "    <tr>\n",
       "      <th>3</th>\n",
       "      <td>1.0</td>\n",
       "      <td>1</td>\n",
       "    </tr>\n",
       "    <tr>\n",
       "      <th>4</th>\n",
       "      <td>1.0</td>\n",
       "      <td>2</td>\n",
       "    </tr>\n",
       "    <tr>\n",
       "      <th>...</th>\n",
       "      <td>...</td>\n",
       "      <td>...</td>\n",
       "    </tr>\n",
       "    <tr>\n",
       "      <th>395</th>\n",
       "      <td>1.0</td>\n",
       "      <td>1</td>\n",
       "    </tr>\n",
       "    <tr>\n",
       "      <th>396</th>\n",
       "      <td>1.0</td>\n",
       "      <td>2</td>\n",
       "    </tr>\n",
       "    <tr>\n",
       "      <th>397</th>\n",
       "      <td>1.0</td>\n",
       "      <td>2</td>\n",
       "    </tr>\n",
       "    <tr>\n",
       "      <th>398</th>\n",
       "      <td>1.0</td>\n",
       "      <td>0</td>\n",
       "    </tr>\n",
       "    <tr>\n",
       "      <th>399</th>\n",
       "      <td>1.0</td>\n",
       "      <td>2</td>\n",
       "    </tr>\n",
       "  </tbody>\n",
       "</table>\n",
       "<p>400 rows × 2 columns</p>\n",
       "</div>"
      ],
      "text/plain": [
       "     intercept  myclus\n",
       "0          1.0       1\n",
       "1          1.0       1\n",
       "2          1.0       2\n",
       "3          1.0       1\n",
       "4          1.0       2\n",
       "..         ...     ...\n",
       "395        1.0       1\n",
       "396        1.0       2\n",
       "397        1.0       2\n",
       "398        1.0       0\n",
       "399        1.0       2\n",
       "\n",
       "[400 rows x 2 columns]"
      ]
     },
     "execution_count": 60,
     "metadata": {},
     "output_type": "execute_result"
    }
   ],
   "source": [
    "cluster2 = make_pipeline(StandardScaler(), KMeans(n_clusters=3, random_state=0))\n",
    "cluster_var = derived_variable('Income', 'Price', 'Advertising', 'Population', \n",
    "                               name='myclus', \n",
    "                               encoder=cluster2,\n",
    "                               use_transform=False)\n",
    "design = ModelMatrix([cluster_var]).fit(Carseats)\n",
    "design.transform(Carseats)"
   ]
  },
  {
   "cell_type": "markdown",
   "id": "major-beauty",
   "metadata": {},
   "source": [
    "Somewhat clunkily, we can make this a categorical variable by creating a `Variable` with a\n",
    "categorical encoder."
   ]
  },
  {
   "cell_type": "code",
   "execution_count": 61,
   "id": "consistent-brain",
   "metadata": {},
   "outputs": [
    {
     "data": {
      "text/plain": [
       "Variable(variables=(Variable(variables=('Income', 'Price', 'Advertising', 'Population'), name='myclus', encoder=Pipeline(steps=[('standardscaler', StandardScaler()),\n",
       "                ('kmeans', KMeans(n_clusters=3, random_state=0))]), use_transform=False, pure_columns=False),), name='mynewcat', encoder=Contrast(), use_transform=True, pure_columns=False)"
      ]
     },
     "execution_count": 61,
     "metadata": {},
     "output_type": "execute_result"
    }
   ],
   "source": [
    "cat_cluster = Variable((cluster_var,), name='mynewcat', encoder=Contrast(method='drop'))\n",
    "cat_cluster"
   ]
  },
  {
   "cell_type": "code",
   "execution_count": 62,
   "id": "skilled-africa",
   "metadata": {},
   "outputs": [
    {
     "data": {
      "text/html": [
       "<div>\n",
       "<style scoped>\n",
       "    .dataframe tbody tr th:only-of-type {\n",
       "        vertical-align: middle;\n",
       "    }\n",
       "\n",
       "    .dataframe tbody tr th {\n",
       "        vertical-align: top;\n",
       "    }\n",
       "\n",
       "    .dataframe thead th {\n",
       "        text-align: right;\n",
       "    }\n",
       "</style>\n",
       "<table border=\"1\" class=\"dataframe\">\n",
       "  <thead>\n",
       "    <tr style=\"text-align: right;\">\n",
       "      <th></th>\n",
       "      <th>intercept</th>\n",
       "      <th>myclus</th>\n",
       "      <th>1</th>\n",
       "      <th>2</th>\n",
       "    </tr>\n",
       "  </thead>\n",
       "  <tbody>\n",
       "    <tr>\n",
       "      <th>0</th>\n",
       "      <td>1.0</td>\n",
       "      <td>1</td>\n",
       "      <td>1.0</td>\n",
       "      <td>0.0</td>\n",
       "    </tr>\n",
       "    <tr>\n",
       "      <th>1</th>\n",
       "      <td>1.0</td>\n",
       "      <td>1</td>\n",
       "      <td>1.0</td>\n",
       "      <td>0.0</td>\n",
       "    </tr>\n",
       "    <tr>\n",
       "      <th>2</th>\n",
       "      <td>1.0</td>\n",
       "      <td>2</td>\n",
       "      <td>0.0</td>\n",
       "      <td>1.0</td>\n",
       "    </tr>\n",
       "    <tr>\n",
       "      <th>3</th>\n",
       "      <td>1.0</td>\n",
       "      <td>1</td>\n",
       "      <td>1.0</td>\n",
       "      <td>0.0</td>\n",
       "    </tr>\n",
       "    <tr>\n",
       "      <th>4</th>\n",
       "      <td>1.0</td>\n",
       "      <td>2</td>\n",
       "      <td>0.0</td>\n",
       "      <td>1.0</td>\n",
       "    </tr>\n",
       "    <tr>\n",
       "      <th>...</th>\n",
       "      <td>...</td>\n",
       "      <td>...</td>\n",
       "      <td>...</td>\n",
       "      <td>...</td>\n",
       "    </tr>\n",
       "    <tr>\n",
       "      <th>395</th>\n",
       "      <td>1.0</td>\n",
       "      <td>1</td>\n",
       "      <td>1.0</td>\n",
       "      <td>0.0</td>\n",
       "    </tr>\n",
       "    <tr>\n",
       "      <th>396</th>\n",
       "      <td>1.0</td>\n",
       "      <td>2</td>\n",
       "      <td>0.0</td>\n",
       "      <td>1.0</td>\n",
       "    </tr>\n",
       "    <tr>\n",
       "      <th>397</th>\n",
       "      <td>1.0</td>\n",
       "      <td>2</td>\n",
       "      <td>0.0</td>\n",
       "      <td>1.0</td>\n",
       "    </tr>\n",
       "    <tr>\n",
       "      <th>398</th>\n",
       "      <td>1.0</td>\n",
       "      <td>0</td>\n",
       "      <td>0.0</td>\n",
       "      <td>0.0</td>\n",
       "    </tr>\n",
       "    <tr>\n",
       "      <th>399</th>\n",
       "      <td>1.0</td>\n",
       "      <td>2</td>\n",
       "      <td>0.0</td>\n",
       "      <td>1.0</td>\n",
       "    </tr>\n",
       "  </tbody>\n",
       "</table>\n",
       "<p>400 rows × 4 columns</p>\n",
       "</div>"
      ],
      "text/plain": [
       "     intercept  myclus    1    2\n",
       "0          1.0       1  1.0  0.0\n",
       "1          1.0       1  1.0  0.0\n",
       "2          1.0       2  0.0  1.0\n",
       "3          1.0       1  1.0  0.0\n",
       "4          1.0       2  0.0  1.0\n",
       "..         ...     ...  ...  ...\n",
       "395        1.0       1  1.0  0.0\n",
       "396        1.0       2  0.0  1.0\n",
       "397        1.0       2  0.0  1.0\n",
       "398        1.0       0  0.0  0.0\n",
       "399        1.0       2  0.0  1.0\n",
       "\n",
       "[400 rows x 4 columns]"
      ]
     },
     "execution_count": 62,
     "metadata": {},
     "output_type": "execute_result"
    }
   ],
   "source": [
    "design = ModelMatrix([cluster_var, cat_cluster]).fit(Carseats)\n",
    "design.transform(Carseats)"
   ]
  },
  {
   "cell_type": "markdown",
   "id": "adopted-botswana",
   "metadata": {},
   "source": [
    "This functionality could be encapsulated in a function, and is, the `clusterer` function."
   ]
  },
  {
   "cell_type": "code",
   "execution_count": 63,
   "id": "latin-weapon",
   "metadata": {},
   "outputs": [
    {
     "data": {
      "text/html": [
       "<div>\n",
       "<style scoped>\n",
       "    .dataframe tbody tr th:only-of-type {\n",
       "        vertical-align: middle;\n",
       "    }\n",
       "\n",
       "    .dataframe tbody tr th {\n",
       "        vertical-align: top;\n",
       "    }\n",
       "\n",
       "    .dataframe thead th {\n",
       "        text-align: right;\n",
       "    }\n",
       "</style>\n",
       "<table border=\"1\" class=\"dataframe\">\n",
       "  <thead>\n",
       "    <tr style=\"text-align: right;\">\n",
       "      <th></th>\n",
       "      <th>intercept</th>\n",
       "      <th>1</th>\n",
       "      <th>2</th>\n",
       "    </tr>\n",
       "  </thead>\n",
       "  <tbody>\n",
       "    <tr>\n",
       "      <th>0</th>\n",
       "      <td>1.0</td>\n",
       "      <td>1.0</td>\n",
       "      <td>0.0</td>\n",
       "    </tr>\n",
       "    <tr>\n",
       "      <th>1</th>\n",
       "      <td>1.0</td>\n",
       "      <td>1.0</td>\n",
       "      <td>0.0</td>\n",
       "    </tr>\n",
       "    <tr>\n",
       "      <th>2</th>\n",
       "      <td>1.0</td>\n",
       "      <td>0.0</td>\n",
       "      <td>1.0</td>\n",
       "    </tr>\n",
       "    <tr>\n",
       "      <th>3</th>\n",
       "      <td>1.0</td>\n",
       "      <td>1.0</td>\n",
       "      <td>0.0</td>\n",
       "    </tr>\n",
       "    <tr>\n",
       "      <th>4</th>\n",
       "      <td>1.0</td>\n",
       "      <td>0.0</td>\n",
       "      <td>1.0</td>\n",
       "    </tr>\n",
       "    <tr>\n",
       "      <th>...</th>\n",
       "      <td>...</td>\n",
       "      <td>...</td>\n",
       "      <td>...</td>\n",
       "    </tr>\n",
       "    <tr>\n",
       "      <th>395</th>\n",
       "      <td>1.0</td>\n",
       "      <td>1.0</td>\n",
       "      <td>0.0</td>\n",
       "    </tr>\n",
       "    <tr>\n",
       "      <th>396</th>\n",
       "      <td>1.0</td>\n",
       "      <td>0.0</td>\n",
       "      <td>1.0</td>\n",
       "    </tr>\n",
       "    <tr>\n",
       "      <th>397</th>\n",
       "      <td>1.0</td>\n",
       "      <td>0.0</td>\n",
       "      <td>1.0</td>\n",
       "    </tr>\n",
       "    <tr>\n",
       "      <th>398</th>\n",
       "      <td>1.0</td>\n",
       "      <td>0.0</td>\n",
       "      <td>0.0</td>\n",
       "    </tr>\n",
       "    <tr>\n",
       "      <th>399</th>\n",
       "      <td>1.0</td>\n",
       "      <td>0.0</td>\n",
       "      <td>1.0</td>\n",
       "    </tr>\n",
       "  </tbody>\n",
       "</table>\n",
       "<p>400 rows × 3 columns</p>\n",
       "</div>"
      ],
      "text/plain": [
       "     intercept    1    2\n",
       "0          1.0  1.0  0.0\n",
       "1          1.0  1.0  0.0\n",
       "2          1.0  0.0  1.0\n",
       "3          1.0  1.0  0.0\n",
       "4          1.0  0.0  1.0\n",
       "..         ...  ...  ...\n",
       "395        1.0  1.0  0.0\n",
       "396        1.0  0.0  1.0\n",
       "397        1.0  0.0  1.0\n",
       "398        1.0  0.0  0.0\n",
       "399        1.0  0.0  1.0\n",
       "\n",
       "[400 rows x 3 columns]"
      ]
     },
     "execution_count": 63,
     "metadata": {},
     "output_type": "execute_result"
    }
   ],
   "source": [
    "from ISLP.models.model_matrix import clusterer\n",
    "design = ModelMatrix([clusterer(['Income', 'Price', 'Advertising', 'Population'], \n",
    "                                name='myclus',\n",
    "                                scale=True,\n",
    "                                transform=KMeans(n_clusters=3, random_state=0))])\n",
    "design.fit_transform(Carseats)"
   ]
  },
  {
   "cell_type": "markdown",
   "id": "sunset-rocket",
   "metadata": {},
   "source": [
    "## Submodels\n",
    "\n",
    "We can build submodels as well, even if the terms do not appear in the original `terms` argument.\n",
    "Fundamentally, the terms just need to be able to have the `design.build_columns` work for us to be\n",
    "able to build a design matrix. The initial inspection of the columns of `Carseats` has created\n",
    "a column for `US`, hence we can build this submodel."
   ]
  },
  {
   "cell_type": "code",
   "execution_count": 64,
   "id": "embedded-shannon",
   "metadata": {},
   "outputs": [
    {
     "data": {
      "text/html": [
       "<div>\n",
       "<style scoped>\n",
       "    .dataframe tbody tr th:only-of-type {\n",
       "        vertical-align: middle;\n",
       "    }\n",
       "\n",
       "    .dataframe tbody tr th {\n",
       "        vertical-align: top;\n",
       "    }\n",
       "\n",
       "    .dataframe thead th {\n",
       "        text-align: right;\n",
       "    }\n",
       "</style>\n",
       "<table border=\"1\" class=\"dataframe\">\n",
       "  <thead>\n",
       "    <tr style=\"text-align: right;\">\n",
       "      <th></th>\n",
       "      <th>intercept</th>\n",
       "      <th>US[Yes]</th>\n",
       "    </tr>\n",
       "  </thead>\n",
       "  <tbody>\n",
       "    <tr>\n",
       "      <th>0</th>\n",
       "      <td>1.0</td>\n",
       "      <td>1.0</td>\n",
       "    </tr>\n",
       "    <tr>\n",
       "      <th>1</th>\n",
       "      <td>1.0</td>\n",
       "      <td>1.0</td>\n",
       "    </tr>\n",
       "    <tr>\n",
       "      <th>2</th>\n",
       "      <td>1.0</td>\n",
       "      <td>1.0</td>\n",
       "    </tr>\n",
       "    <tr>\n",
       "      <th>3</th>\n",
       "      <td>1.0</td>\n",
       "      <td>1.0</td>\n",
       "    </tr>\n",
       "    <tr>\n",
       "      <th>4</th>\n",
       "      <td>1.0</td>\n",
       "      <td>0.0</td>\n",
       "    </tr>\n",
       "    <tr>\n",
       "      <th>...</th>\n",
       "      <td>...</td>\n",
       "      <td>...</td>\n",
       "    </tr>\n",
       "    <tr>\n",
       "      <th>395</th>\n",
       "      <td>1.0</td>\n",
       "      <td>1.0</td>\n",
       "    </tr>\n",
       "    <tr>\n",
       "      <th>396</th>\n",
       "      <td>1.0</td>\n",
       "      <td>1.0</td>\n",
       "    </tr>\n",
       "    <tr>\n",
       "      <th>397</th>\n",
       "      <td>1.0</td>\n",
       "      <td>1.0</td>\n",
       "    </tr>\n",
       "    <tr>\n",
       "      <th>398</th>\n",
       "      <td>1.0</td>\n",
       "      <td>1.0</td>\n",
       "    </tr>\n",
       "    <tr>\n",
       "      <th>399</th>\n",
       "      <td>1.0</td>\n",
       "      <td>1.0</td>\n",
       "    </tr>\n",
       "  </tbody>\n",
       "</table>\n",
       "<p>400 rows × 2 columns</p>\n",
       "</div>"
      ],
      "text/plain": [
       "     intercept  US[Yes]\n",
       "0          1.0      1.0\n",
       "1          1.0      1.0\n",
       "2          1.0      1.0\n",
       "3          1.0      1.0\n",
       "4          1.0      0.0\n",
       "..         ...      ...\n",
       "395        1.0      1.0\n",
       "396        1.0      1.0\n",
       "397        1.0      1.0\n",
       "398        1.0      1.0\n",
       "399        1.0      1.0\n",
       "\n",
       "[400 rows x 2 columns]"
      ]
     },
     "execution_count": 64,
     "metadata": {},
     "output_type": "execute_result"
    }
   ],
   "source": [
    "design = ModelMatrix(['UIncome', 'ShelveLoc', 'Price']).fit(Carseats)\n",
    "design.build_submodel(Carseats, ['US'])"
   ]
  },
  {
   "cell_type": "markdown",
   "id": "prostate-franklin",
   "metadata": {},
   "source": [
    "### ANOVA \n",
    "\n",
    "For a given `terms` argument, there as a natural sequence of models, namely those specified by `[terms[:i] for i in range(len(terms)+1]`. \n"
   ]
  },
  {
   "cell_type": "code",
   "execution_count": 65,
   "id": "collect-motorcycle",
   "metadata": {},
   "outputs": [
    {
     "name": "stdout",
     "output_type": "stream",
     "text": [
      "Index(['intercept'], dtype='object')\n",
      "Index(['intercept', 'ShelveLoc[Good]', 'ShelveLoc[Medium]'], dtype='object')\n",
      "Index(['intercept', 'ShelveLoc[Good]', 'ShelveLoc[Medium]', 'Price'], dtype='object')\n",
      "Index(['intercept', 'ShelveLoc[Good]', 'ShelveLoc[Medium]', 'Price',\n",
      "       'UIncome[L]', 'UIncome[M]'],\n",
      "      dtype='object')\n",
      "Index(['intercept', 'ShelveLoc[Good]', 'ShelveLoc[Medium]', 'Price',\n",
      "       'UIncome[L]', 'UIncome[M]', 'US[Yes]'],\n",
      "      dtype='object')\n"
     ]
    }
   ],
   "source": [
    "design = ModelMatrix(['ShelveLoc', 'Price', 'UIncome', 'US']).fit(Carseats)\n",
    "for D in design.build_sequence(Carseats):\n",
    "    print(D.columns)"
   ]
  },
  {
   "cell_type": "code",
   "execution_count": 66,
   "id": "fitted-district",
   "metadata": {},
   "outputs": [
    {
     "data": {
      "text/html": [
       "<div>\n",
       "<style scoped>\n",
       "    .dataframe tbody tr th:only-of-type {\n",
       "        vertical-align: middle;\n",
       "    }\n",
       "\n",
       "    .dataframe tbody tr th {\n",
       "        vertical-align: top;\n",
       "    }\n",
       "\n",
       "    .dataframe thead th {\n",
       "        text-align: right;\n",
       "    }\n",
       "</style>\n",
       "<table border=\"1\" class=\"dataframe\">\n",
       "  <thead>\n",
       "    <tr style=\"text-align: right;\">\n",
       "      <th></th>\n",
       "      <th>df_resid</th>\n",
       "      <th>ssr</th>\n",
       "      <th>df_diff</th>\n",
       "      <th>ss_diff</th>\n",
       "      <th>F</th>\n",
       "      <th>Pr(&gt;F)</th>\n",
       "    </tr>\n",
       "  </thead>\n",
       "  <tbody>\n",
       "    <tr>\n",
       "      <th>0</th>\n",
       "      <td>399.0</td>\n",
       "      <td>3182.274698</td>\n",
       "      <td>0.0</td>\n",
       "      <td>NaN</td>\n",
       "      <td>NaN</td>\n",
       "      <td>NaN</td>\n",
       "    </tr>\n",
       "    <tr>\n",
       "      <th>1</th>\n",
       "      <td>397.0</td>\n",
       "      <td>2172.743555</td>\n",
       "      <td>2.0</td>\n",
       "      <td>1009.531143</td>\n",
       "      <td>153.010858</td>\n",
       "      <td>5.452815e-50</td>\n",
       "    </tr>\n",
       "    <tr>\n",
       "      <th>2</th>\n",
       "      <td>396.0</td>\n",
       "      <td>1455.640702</td>\n",
       "      <td>1.0</td>\n",
       "      <td>717.102853</td>\n",
       "      <td>217.377192</td>\n",
       "      <td>1.583751e-39</td>\n",
       "    </tr>\n",
       "    <tr>\n",
       "      <th>3</th>\n",
       "      <td>394.0</td>\n",
       "      <td>1378.915938</td>\n",
       "      <td>2.0</td>\n",
       "      <td>76.724764</td>\n",
       "      <td>11.628885</td>\n",
       "      <td>1.239031e-05</td>\n",
       "    </tr>\n",
       "    <tr>\n",
       "      <th>4</th>\n",
       "      <td>393.0</td>\n",
       "      <td>1296.462700</td>\n",
       "      <td>1.0</td>\n",
       "      <td>82.453238</td>\n",
       "      <td>24.994257</td>\n",
       "      <td>8.678832e-07</td>\n",
       "    </tr>\n",
       "  </tbody>\n",
       "</table>\n",
       "</div>"
      ],
      "text/plain": [
       "   df_resid          ssr  df_diff      ss_diff           F        Pr(>F)\n",
       "0     399.0  3182.274698      0.0          NaN         NaN           NaN\n",
       "1     397.0  2172.743555      2.0  1009.531143  153.010858  5.452815e-50\n",
       "2     396.0  1455.640702      1.0   717.102853  217.377192  1.583751e-39\n",
       "3     394.0  1378.915938      2.0    76.724764   11.628885  1.239031e-05\n",
       "4     393.0  1296.462700      1.0    82.453238   24.994257  8.678832e-07"
      ]
     },
     "execution_count": 66,
     "metadata": {},
     "output_type": "execute_result"
    }
   ],
   "source": [
    "sm.stats.anova_lm(*(sm.OLS(Y, D).fit() for D in design.build_sequence(Carseats) ))"
   ]
  },
  {
   "cell_type": "code",
   "execution_count": 67,
   "id": "quantitative-wiring",
   "metadata": {},
   "outputs": [
    {
     "name": "stdout",
     "output_type": "stream",
     "text": [
      "Analysis of Variance Table\n",
      "\n",
      "Response: Sales\n",
      "           Df  Sum Sq Mean Sq F value    Pr(>F)    \n",
      "ShelveLoc   2 1009.53  504.77 153.011 < 2.2e-16 ***\n",
      "Price       1  717.10  717.10 217.377 < 2.2e-16 ***\n",
      "UIncome     2   76.72   38.36  11.629 1.240e-05 ***\n",
      "US          1   82.45   82.45  24.994 8.679e-07 ***\n",
      "Residuals 393 1296.46    3.30                      \n",
      "---\n",
      "Signif. codes:  0 ‘***’ 0.001 ‘**’ 0.01 ‘*’ 0.05 ‘.’ 0.1 ‘ ’ 1\n"
     ]
    }
   ],
   "source": [
    "%%R\n",
    "anova(lm(Sales ~ ShelveLoc + Price + UIncome + US, data=Carseats))"
   ]
  },
  {
   "cell_type": "markdown",
   "id": "unlike-warrant",
   "metadata": {},
   "source": [
    "Recall that `ModelMatrix` does not inspect `terms` to reorder based on degree of \n",
    "interaction as `R` does:"
   ]
  },
  {
   "cell_type": "code",
   "execution_count": 68,
   "id": "junior-winner",
   "metadata": {},
   "outputs": [
    {
     "data": {
      "text/html": [
       "<div>\n",
       "<style scoped>\n",
       "    .dataframe tbody tr th:only-of-type {\n",
       "        vertical-align: middle;\n",
       "    }\n",
       "\n",
       "    .dataframe tbody tr th {\n",
       "        vertical-align: top;\n",
       "    }\n",
       "\n",
       "    .dataframe thead th {\n",
       "        text-align: right;\n",
       "    }\n",
       "</style>\n",
       "<table border=\"1\" class=\"dataframe\">\n",
       "  <thead>\n",
       "    <tr style=\"text-align: right;\">\n",
       "      <th></th>\n",
       "      <th>df_resid</th>\n",
       "      <th>ssr</th>\n",
       "      <th>df_diff</th>\n",
       "      <th>ss_diff</th>\n",
       "      <th>F</th>\n",
       "      <th>Pr(&gt;F)</th>\n",
       "    </tr>\n",
       "  </thead>\n",
       "  <tbody>\n",
       "    <tr>\n",
       "      <th>0</th>\n",
       "      <td>399.0</td>\n",
       "      <td>3182.274698</td>\n",
       "      <td>0.0</td>\n",
       "      <td>NaN</td>\n",
       "      <td>NaN</td>\n",
       "      <td>NaN</td>\n",
       "    </tr>\n",
       "    <tr>\n",
       "      <th>1</th>\n",
       "      <td>393.0</td>\n",
       "      <td>2059.376413</td>\n",
       "      <td>6.0</td>\n",
       "      <td>1122.898284</td>\n",
       "      <td>35.940047</td>\n",
       "      <td>1.175738e-34</td>\n",
       "    </tr>\n",
       "    <tr>\n",
       "      <th>2</th>\n",
       "      <td>391.0</td>\n",
       "      <td>2036.044596</td>\n",
       "      <td>2.0</td>\n",
       "      <td>23.331817</td>\n",
       "      <td>2.240310</td>\n",
       "      <td>1.077900e-01</td>\n",
       "    </tr>\n",
       "  </tbody>\n",
       "</table>\n",
       "</div>"
      ],
      "text/plain": [
       "   df_resid          ssr  df_diff      ss_diff          F        Pr(>F)\n",
       "0     399.0  3182.274698      0.0          NaN        NaN           NaN\n",
       "1     393.0  2059.376413      6.0  1122.898284  35.940047  1.175738e-34\n",
       "2     391.0  2036.044596      2.0    23.331817   2.240310  1.077900e-01"
      ]
     },
     "execution_count": 68,
     "metadata": {},
     "output_type": "execute_result"
    }
   ],
   "source": [
    "design = ModelMatrix([(full_encoding, 'ShelveLoc'), pref_encoding]).fit(Carseats)\n",
    "sm.stats.anova_lm(*(sm.OLS(Y, D).fit() for D in design.build_sequence(Carseats) ))"
   ]
  },
  {
   "cell_type": "code",
   "execution_count": 69,
   "id": "optical-application",
   "metadata": {},
   "outputs": [
    {
     "name": "stdout",
     "output_type": "stream",
     "text": [
      "Analysis of Variance Table\n",
      "\n",
      "Response: Sales\n",
      "                   Df  Sum Sq Mean Sq F value    Pr(>F)    \n",
      "UIncome             2   61.92  30.962  5.9458  0.002859 ** \n",
      "UIncome:ShelveLoc   6 1084.31 180.718 34.7049 < 2.2e-16 ***\n",
      "Residuals         391 2036.04   5.207                      \n",
      "---\n",
      "Signif. codes:  0 ‘***’ 0.001 ‘**’ 0.01 ‘*’ 0.05 ‘.’ 0.1 ‘ ’ 1\n"
     ]
    }
   ],
   "source": [
    "%%R\n",
    "anova(lm(Sales ~ UIncome:ShelveLoc + UIncome, data=Carseats))"
   ]
  },
  {
   "cell_type": "markdown",
   "id": "canadian-ideal",
   "metadata": {},
   "source": [
    "To agree with `R` we must order `terms` as `R` will."
   ]
  },
  {
   "cell_type": "code",
   "execution_count": 70,
   "id": "reserved-gamma",
   "metadata": {},
   "outputs": [
    {
     "data": {
      "text/html": [
       "<div>\n",
       "<style scoped>\n",
       "    .dataframe tbody tr th:only-of-type {\n",
       "        vertical-align: middle;\n",
       "    }\n",
       "\n",
       "    .dataframe tbody tr th {\n",
       "        vertical-align: top;\n",
       "    }\n",
       "\n",
       "    .dataframe thead th {\n",
       "        text-align: right;\n",
       "    }\n",
       "</style>\n",
       "<table border=\"1\" class=\"dataframe\">\n",
       "  <thead>\n",
       "    <tr style=\"text-align: right;\">\n",
       "      <th></th>\n",
       "      <th>df_resid</th>\n",
       "      <th>ssr</th>\n",
       "      <th>df_diff</th>\n",
       "      <th>ss_diff</th>\n",
       "      <th>F</th>\n",
       "      <th>Pr(&gt;F)</th>\n",
       "    </tr>\n",
       "  </thead>\n",
       "  <tbody>\n",
       "    <tr>\n",
       "      <th>0</th>\n",
       "      <td>399.0</td>\n",
       "      <td>3182.274698</td>\n",
       "      <td>0.0</td>\n",
       "      <td>NaN</td>\n",
       "      <td>NaN</td>\n",
       "      <td>NaN</td>\n",
       "    </tr>\n",
       "    <tr>\n",
       "      <th>1</th>\n",
       "      <td>397.0</td>\n",
       "      <td>3120.351382</td>\n",
       "      <td>2.0</td>\n",
       "      <td>61.923316</td>\n",
       "      <td>5.945846</td>\n",
       "      <td>2.855424e-03</td>\n",
       "    </tr>\n",
       "    <tr>\n",
       "      <th>2</th>\n",
       "      <td>391.0</td>\n",
       "      <td>2036.044596</td>\n",
       "      <td>6.0</td>\n",
       "      <td>1084.306785</td>\n",
       "      <td>34.704868</td>\n",
       "      <td>1.346561e-33</td>\n",
       "    </tr>\n",
       "  </tbody>\n",
       "</table>\n",
       "</div>"
      ],
      "text/plain": [
       "   df_resid          ssr  df_diff      ss_diff          F        Pr(>F)\n",
       "0     399.0  3182.274698      0.0          NaN        NaN           NaN\n",
       "1     397.0  3120.351382      2.0    61.923316   5.945846  2.855424e-03\n",
       "2     391.0  2036.044596      6.0  1084.306785  34.704868  1.346561e-33"
      ]
     },
     "execution_count": 70,
     "metadata": {},
     "output_type": "execute_result"
    }
   ],
   "source": [
    "design = ModelMatrix([pref_encoding, (full_encoding, 'ShelveLoc')]).fit(Carseats)\n",
    "sm.stats.anova_lm(*(sm.OLS(Y, D).fit() for D in design.build_sequence(Carseats)))"
   ]
  },
  {
   "cell_type": "markdown",
   "id": "arabic-scholarship",
   "metadata": {},
   "source": [
    "### More complicated interactions\n",
    "\n",
    "Can we have an interaction of a polynomial effect with a categorical? Absolutely"
   ]
  },
  {
   "cell_type": "code",
   "execution_count": 71,
   "id": "blind-effects",
   "metadata": {},
   "outputs": [
    {
     "name": "stdout",
     "output_type": "stream",
     "text": [
      "Analysis of Variance Table\n",
      "\n",
      "Response: Sales\n",
      "                         Df  Sum Sq Mean Sq F value  Pr(>F)  \n",
      "UIncome                   2   61.92 30.9617  4.0310 0.01851 *\n",
      "UIncome:poly(Income, 3)   9   79.72  8.8581  1.1533 0.32408  \n",
      "UIncome:US                3   83.51 27.8367  3.6242 0.01324 *\n",
      "Residuals               385 2957.12  7.6808                  \n",
      "---\n",
      "Signif. codes:  0 ‘***’ 0.001 ‘**’ 0.01 ‘*’ 0.05 ‘.’ 0.1 ‘ ’ 1\n"
     ]
    }
   ],
   "source": [
    "%%R\n",
    "anova(lm(Sales ~ UIncome + poly(Income, 3):UIncome + UIncome:US, data=Carseats))"
   ]
  },
  {
   "cell_type": "markdown",
   "id": "extensive-owner",
   "metadata": {},
   "source": [
    "To match `R` we note that it has used its inspection rules to encode `UIncome` with 3 levels\n",
    "for the two interactions."
   ]
  },
  {
   "cell_type": "code",
   "execution_count": 72,
   "id": "sound-planet",
   "metadata": {},
   "outputs": [
    {
     "data": {
      "text/plain": [
       "intercept                         65.978856\n",
       "UIncome[H]                      -147.276154\n",
       "UIncome[M]                       -60.159607\n",
       "Poly(degree=3)[0]:UIncome[H]    1957.694387\n",
       "Poly(degree=3)[0]:UIncome[L]    1462.060650\n",
       "Poly(degree=3)[0]:UIncome[M]      83.035153\n",
       "Poly(degree=3)[1]:UIncome[H]    -984.494570\n",
       "Poly(degree=3)[1]:UIncome[L]     881.537647\n",
       "Poly(degree=3)[1]:UIncome[M]     -18.006234\n",
       "Poly(degree=3)[2]:UIncome[H]     207.614692\n",
       "Poly(degree=3)[2]:UIncome[L]     217.190749\n",
       "Poly(degree=3)[2]:UIncome[M]      34.065434\n",
       "UIncome[H]:US                      0.903404\n",
       "UIncome[L]:US                      0.895538\n",
       "UIncome[M]:US                      1.048728\n",
       "dtype: float64"
      ]
     },
     "execution_count": 72,
     "metadata": {},
     "output_type": "execute_result"
    }
   ],
   "source": [
    "p3 = poly('Income', 3)\n",
    "design = ModelMatrix([pref_encoding, (p3, full_encoding), (full_encoding, 'US')]).fit(Carseats)\n",
    "X = design.transform(Carseats)\n",
    "sm.OLS(Y, X).fit().params"
   ]
  },
  {
   "cell_type": "code",
   "execution_count": 73,
   "id": "olympic-cooler",
   "metadata": {},
   "outputs": [
    {
     "data": {
      "text/html": [
       "<div>\n",
       "<style scoped>\n",
       "    .dataframe tbody tr th:only-of-type {\n",
       "        vertical-align: middle;\n",
       "    }\n",
       "\n",
       "    .dataframe tbody tr th {\n",
       "        vertical-align: top;\n",
       "    }\n",
       "\n",
       "    .dataframe thead th {\n",
       "        text-align: right;\n",
       "    }\n",
       "</style>\n",
       "<table border=\"1\" class=\"dataframe\">\n",
       "  <thead>\n",
       "    <tr style=\"text-align: right;\">\n",
       "      <th></th>\n",
       "      <th>df_resid</th>\n",
       "      <th>ssr</th>\n",
       "      <th>df_diff</th>\n",
       "      <th>ss_diff</th>\n",
       "      <th>F</th>\n",
       "      <th>Pr(&gt;F)</th>\n",
       "    </tr>\n",
       "  </thead>\n",
       "  <tbody>\n",
       "    <tr>\n",
       "      <th>0</th>\n",
       "      <td>399.0</td>\n",
       "      <td>3182.274698</td>\n",
       "      <td>0.0</td>\n",
       "      <td>NaN</td>\n",
       "      <td>NaN</td>\n",
       "      <td>NaN</td>\n",
       "    </tr>\n",
       "    <tr>\n",
       "      <th>1</th>\n",
       "      <td>397.0</td>\n",
       "      <td>3120.351382</td>\n",
       "      <td>2.0</td>\n",
       "      <td>61.923316</td>\n",
       "      <td>4.031032</td>\n",
       "      <td>0.018488</td>\n",
       "    </tr>\n",
       "    <tr>\n",
       "      <th>2</th>\n",
       "      <td>388.0</td>\n",
       "      <td>3040.628559</td>\n",
       "      <td>9.0</td>\n",
       "      <td>79.722823</td>\n",
       "      <td>1.153273</td>\n",
       "      <td>0.324049</td>\n",
       "    </tr>\n",
       "    <tr>\n",
       "      <th>3</th>\n",
       "      <td>385.0</td>\n",
       "      <td>2957.118444</td>\n",
       "      <td>3.0</td>\n",
       "      <td>83.510115</td>\n",
       "      <td>3.624181</td>\n",
       "      <td>0.013244</td>\n",
       "    </tr>\n",
       "  </tbody>\n",
       "</table>\n",
       "</div>"
      ],
      "text/plain": [
       "   df_resid          ssr  df_diff    ss_diff         F    Pr(>F)\n",
       "0     399.0  3182.274698      0.0        NaN       NaN       NaN\n",
       "1     397.0  3120.351382      2.0  61.923316  4.031032  0.018488\n",
       "2     388.0  3040.628559      9.0  79.722823  1.153273  0.324049\n",
       "3     385.0  2957.118444      3.0  83.510115  3.624181  0.013244"
      ]
     },
     "execution_count": 73,
     "metadata": {},
     "output_type": "execute_result"
    }
   ],
   "source": [
    "sm.stats.anova_lm(*(sm.OLS(Y, D).fit() for D in design.build_sequence(Carseats)))"
   ]
  },
  {
   "cell_type": "markdown",
   "id": "retired-agency",
   "metadata": {},
   "source": [
    "### Grouping columns for ANOVA\n",
    "\n",
    "The `Variable` construct can be used to group\n",
    "variables together to get custom sequences of models for `anova_lm`."
   ]
  },
  {
   "cell_type": "code",
   "execution_count": 74,
   "id": "continental-marine",
   "metadata": {},
   "outputs": [
    {
     "name": "stdout",
     "output_type": "stream",
     "text": [
      "Index(['intercept'], dtype='object')\n",
      "Index(['intercept', 'Price', 'UIncome[H]', 'UIncome[M]'], dtype='object')\n",
      "Index(['intercept', 'Price', 'UIncome[H]', 'UIncome[M]', 'US[Yes]',\n",
      "       'Advertising'],\n",
      "      dtype='object')\n"
     ]
    }
   ],
   "source": [
    "group1 = Variable(('Price', pref_encoding), 'group1', None)\n",
    "group2 = Variable(('US', 'Advertising'), 'group2', None)\n",
    "design = ModelMatrix([group1, group2]).fit(Carseats)\n",
    "for D in design.build_sequence(Carseats):\n",
    "    print(D.columns)"
   ]
  },
  {
   "cell_type": "code",
   "execution_count": 75,
   "id": "involved-conviction",
   "metadata": {},
   "outputs": [
    {
     "data": {
      "text/html": [
       "<div>\n",
       "<style scoped>\n",
       "    .dataframe tbody tr th:only-of-type {\n",
       "        vertical-align: middle;\n",
       "    }\n",
       "\n",
       "    .dataframe tbody tr th {\n",
       "        vertical-align: top;\n",
       "    }\n",
       "\n",
       "    .dataframe thead th {\n",
       "        text-align: right;\n",
       "    }\n",
       "</style>\n",
       "<table border=\"1\" class=\"dataframe\">\n",
       "  <thead>\n",
       "    <tr style=\"text-align: right;\">\n",
       "      <th></th>\n",
       "      <th>df_resid</th>\n",
       "      <th>ssr</th>\n",
       "      <th>df_diff</th>\n",
       "      <th>ss_diff</th>\n",
       "      <th>F</th>\n",
       "      <th>Pr(&gt;F)</th>\n",
       "    </tr>\n",
       "  </thead>\n",
       "  <tbody>\n",
       "    <tr>\n",
       "      <th>0</th>\n",
       "      <td>399.0</td>\n",
       "      <td>3182.274698</td>\n",
       "      <td>0.0</td>\n",
       "      <td>NaN</td>\n",
       "      <td>NaN</td>\n",
       "      <td>NaN</td>\n",
       "    </tr>\n",
       "    <tr>\n",
       "      <th>1</th>\n",
       "      <td>396.0</td>\n",
       "      <td>2508.187788</td>\n",
       "      <td>3.0</td>\n",
       "      <td>674.086910</td>\n",
       "      <td>39.304841</td>\n",
       "      <td>2.970412e-22</td>\n",
       "    </tr>\n",
       "    <tr>\n",
       "      <th>2</th>\n",
       "      <td>394.0</td>\n",
       "      <td>2252.396343</td>\n",
       "      <td>2.0</td>\n",
       "      <td>255.791445</td>\n",
       "      <td>22.372135</td>\n",
       "      <td>6.267562e-10</td>\n",
       "    </tr>\n",
       "  </tbody>\n",
       "</table>\n",
       "</div>"
      ],
      "text/plain": [
       "   df_resid          ssr  df_diff     ss_diff          F        Pr(>F)\n",
       "0     399.0  3182.274698      0.0         NaN        NaN           NaN\n",
       "1     396.0  2508.187788      3.0  674.086910  39.304841  2.970412e-22\n",
       "2     394.0  2252.396343      2.0  255.791445  22.372135  6.267562e-10"
      ]
     },
     "execution_count": 75,
     "metadata": {},
     "output_type": "execute_result"
    }
   ],
   "source": [
    "sm.stats.anova_lm(*(sm.OLS(Y, D).fit() for D in design.build_sequence(Carseats)))"
   ]
  },
  {
   "cell_type": "markdown",
   "id": "remarkable-desert",
   "metadata": {},
   "source": [
    "It is not clear this is simple to do in `R` as the formula object expands all parentheses."
   ]
  },
  {
   "cell_type": "code",
   "execution_count": 76,
   "id": "tender-president",
   "metadata": {},
   "outputs": [
    {
     "name": "stdout",
     "output_type": "stream",
     "text": [
      "Analysis of Variance Table\n",
      "\n",
      "Response: Sales\n",
      "             Df  Sum Sq Mean Sq  F value    Pr(>F)    \n",
      "Price         1  630.03  630.03 110.2079 < 2.2e-16 ***\n",
      "UIncome       2   44.06   22.03   3.8533   0.02201 *  \n",
      "US            1  121.88  121.88  21.3196 5.270e-06 ***\n",
      "Advertising   1  133.91  133.91  23.4247 1.868e-06 ***\n",
      "Residuals   394 2252.40    5.72                       \n",
      "---\n",
      "Signif. codes:  0 ‘***’ 0.001 ‘**’ 0.01 ‘*’ 0.05 ‘.’ 0.1 ‘ ’ 1\n"
     ]
    }
   ],
   "source": [
    "%%R\n",
    "anova(lm(Sales ~ (Price + UIncome) + (US + Advertising), data=Carseats))"
   ]
  },
  {
   "cell_type": "markdown",
   "id": "collaborative-cowboy",
   "metadata": {},
   "source": [
    "It can be done by building up the models\n",
    "by hand and likely is possible to be done programmatically but it seems not obvious."
   ]
  },
  {
   "cell_type": "code",
   "execution_count": 77,
   "id": "referenced-rainbow",
   "metadata": {},
   "outputs": [
    {
     "name": "stdout",
     "output_type": "stream",
     "text": [
      "Analysis of Variance Table\n",
      "\n",
      "Model 1: Sales ~ 1\n",
      "Model 2: Sales ~ Price + UIncome\n",
      "Model 3: Sales ~ Price + UIncome + US + Advertising\n",
      "  Res.Df    RSS Df Sum of Sq      F    Pr(>F)    \n",
      "1    399 3182.3                                  \n",
      "2    396 2508.2  3    674.09 39.305 < 2.2e-16 ***\n",
      "3    394 2252.4  2    255.79 22.372 6.268e-10 ***\n",
      "---\n",
      "Signif. codes:  0 ‘***’ 0.001 ‘**’ 0.01 ‘*’ 0.05 ‘.’ 0.1 ‘ ’ 1\n"
     ]
    }
   ],
   "source": [
    "%%R\n",
    "M1 = lm(Sales ~ 1, data=Carseats)\n",
    "M2 = lm(Sales ~ Price + UIncome, data=Carseats)\n",
    "M3 = lm(Sales ~ Price + UIncome + US + Advertising, data=Carseats)\n",
    "anova(M1, M2, M3)"
   ]
  },
  {
   "cell_type": "markdown",
   "id": "united-positive",
   "metadata": {},
   "source": [
    "### Alternative anova\n",
    "\n",
    "Another common ANOVA table involves dropping each term in succession from the model and comparing\n",
    "to the full model. "
   ]
  },
  {
   "cell_type": "code",
   "execution_count": 78,
   "id": "awful-domain",
   "metadata": {},
   "outputs": [
    {
     "name": "stdout",
     "output_type": "stream",
     "text": [
      "{'intercept'}\n",
      "   df_resid          ssr  df_diff      ss_diff           F        Pr(>F)\n",
      "0     395.0  4417.273517      0.0          NaN         NaN           NaN\n",
      "1     394.0  2252.396343      1.0  2164.877175  378.690726  1.359177e-59\n",
      "{'UIncome[M]', 'Price', 'UIncome[H]'}\n",
      "   df_resid          ssr  df_diff     ss_diff          F        Pr(>F)\n",
      "0     397.0  2950.808154      0.0         NaN        NaN           NaN\n",
      "1     394.0  2252.396343      3.0  698.411811  40.723184  6.077848e-23\n",
      "{'Advertising', 'US[Yes]'}\n",
      "   df_resid          ssr  df_diff     ss_diff          F        Pr(>F)\n",
      "0     396.0  2508.187788      0.0         NaN        NaN           NaN\n",
      "1     394.0  2252.396343      2.0  255.791445  22.372135  6.267562e-10\n"
     ]
    }
   ],
   "source": [
    "Dfull = design.transform(Carseats)\n",
    "Mfull = sm.OLS(Y, Dfull).fit()\n",
    "for i, D in enumerate(design.build_sequence(Carseats, anova_type='drop')):\n",
    "    if i == 0:\n",
    "        D0 = D\n",
    "    print(set(D.columns) ^ set(Dfull.columns))\n",
    "    print(sm.stats.anova_lm(sm.OLS(Y, D).fit(), Mfull))"
   ]
  },
  {
   "cell_type": "code",
   "execution_count": 79,
   "id": "lightweight-vision",
   "metadata": {},
   "outputs": [
    {
     "name": "stdout",
     "output_type": "stream",
     "text": [
      "Analysis of Variance Table\n",
      "\n",
      "Model 1: Sales ~ US + Advertising\n",
      "Model 2: Sales ~ Price + UIncome + US + Advertising\n",
      "  Res.Df    RSS Df Sum of Sq      F    Pr(>F)    \n",
      "1    397 2950.8                                  \n",
      "2    394 2252.4  3    698.41 40.723 < 2.2e-16 ***\n",
      "---\n",
      "Signif. codes:  0 ‘***’ 0.001 ‘**’ 0.01 ‘*’ 0.05 ‘.’ 0.1 ‘ ’ 1\n",
      "Analysis of Variance Table\n",
      "\n",
      "Model 1: Sales ~ Price + UIncome\n",
      "Model 2: Sales ~ Price + UIncome + US + Advertising\n",
      "  Res.Df    RSS Df Sum of Sq      F    Pr(>F)    \n",
      "1    396 2508.2                                  \n",
      "2    394 2252.4  2    255.79 22.372 6.268e-10 ***\n",
      "---\n",
      "Signif. codes:  0 ‘***’ 0.001 ‘**’ 0.01 ‘*’ 0.05 ‘.’ 0.1 ‘ ’ 1\n"
     ]
    }
   ],
   "source": [
    "%%R\n",
    "M1 = lm(Sales ~ Price + UIncome + US + Advertising, data=Carseats)\n",
    "M2 = lm(Sales ~ US + Advertising, data=Carseats)\n",
    "print(anova(M2, M1))\n",
    "M3 = lm(Sales ~ Price + UIncome, data=Carseats)\n",
    "print(anova(M3, M1))"
   ]
  },
  {
   "cell_type": "markdown",
   "id": "average-column",
   "metadata": {},
   "source": [
    "The comparison without the intercept here is actually very hard to achieve in `R` with `anova` due to its inspection\n",
    "of the formula. "
   ]
  },
  {
   "cell_type": "code",
   "execution_count": 80,
   "id": "favorite-abortion",
   "metadata": {},
   "outputs": [
    {
     "name": "stdout",
     "output_type": "stream",
     "text": [
      "Analysis of Variance Table\n",
      "\n",
      "Model 1: Sales ~ Price + UIncome + US + Advertising - 1\n",
      "Model 2: Sales ~ Price + UIncome + US + Advertising\n",
      "  Res.Df    RSS Df  Sum of Sq F Pr(>F)\n",
      "1    394 2252.4                       \n",
      "2    394 2252.4  0 4.5475e-13         \n"
     ]
    }
   ],
   "source": [
    "%%R\n",
    "M1 = lm(Sales ~ Price + UIncome + US + Advertising, data=Carseats)\n",
    "M4 = lm(Sales ~ Price + UIncome + US + Advertising - 1, data=Carseats)\n",
    "print(anova(M4, M1))\n"
   ]
  },
  {
   "cell_type": "markdown",
   "id": "illegal-jamaica",
   "metadata": {},
   "source": [
    "It can be found with `summary`."
   ]
  },
  {
   "cell_type": "code",
   "execution_count": 81,
   "id": "contemporary-bridges",
   "metadata": {},
   "outputs": [
    {
     "name": "stdout",
     "output_type": "stream",
     "text": [
      "\n",
      "Call:\n",
      "lm(formula = Sales ~ Price + UIncome + US + Advertising, data = Carseats)\n",
      "\n",
      "Residuals:\n",
      "    Min      1Q  Median      3Q     Max \n",
      "-7.4437 -1.6351 -0.0932  1.4920  6.8076 \n",
      "\n",
      "Coefficients:\n",
      "             Estimate Std. Error t value Pr(>|t|)    \n",
      "(Intercept) 12.520356   0.643390  19.460  < 2e-16 ***\n",
      "Price       -0.054000   0.005072 -10.647  < 2e-16 ***\n",
      "UIncomeM     0.548906   0.281693   1.949   0.0521 .  \n",
      "UIncomeH     0.708219   0.322028   2.199   0.0284 *  \n",
      "USYes        0.024181   0.343246   0.070   0.9439    \n",
      "Advertising  0.119509   0.024692   4.840 1.87e-06 ***\n",
      "---\n",
      "Signif. codes:  0 ‘***’ 0.001 ‘**’ 0.01 ‘*’ 0.05 ‘.’ 0.1 ‘ ’ 1\n",
      "\n",
      "Residual standard error: 2.391 on 394 degrees of freedom\n",
      "Multiple R-squared:  0.2922,\tAdjusted R-squared:  0.2832 \n",
      "F-statistic: 32.53 on 5 and 394 DF,  p-value: < 2.2e-16\n",
      "\n"
     ]
    }
   ],
   "source": [
    "%%R\n",
    "summary(M1)"
   ]
  },
  {
   "cell_type": "code",
   "execution_count": 82,
   "id": "vertical-smooth",
   "metadata": {},
   "outputs": [
    {
     "data": {
      "text/plain": [
       "(378.690726, 378.69160000000005)"
      ]
     },
     "execution_count": 82,
     "metadata": {},
     "output_type": "execute_result"
    }
   ],
   "source": [
    "378.690726, 19.46**2"
   ]
  },
  {
   "cell_type": "markdown",
   "id": "involved-adobe",
   "metadata": {},
   "source": [
    "## Model selection\n",
    "\n",
    "Another task requiring different design matrices is model selection. Manipulating\n",
    "the `terms` attribute of a `ModelMatrix` (or more precisely its more uniform version `terms_`)\n",
    "can clearly allow for both exhaustive and stepwise model selection."
   ]
  },
  {
   "cell_type": "code",
   "execution_count": 83,
   "id": "published-hartford",
   "metadata": {},
   "outputs": [],
   "source": [
    "from ISLP.models import (step_strategy, \n",
    "                         min_max_strategy,\n",
    "                         FeatureSelector)\n",
    "\n"
   ]
  },
  {
   "cell_type": "markdown",
   "id": "impressed-springer",
   "metadata": {},
   "source": [
    "### Best subsets "
   ]
  },
  {
   "cell_type": "code",
   "execution_count": 84,
   "id": "accurate-career",
   "metadata": {},
   "outputs": [],
   "source": [
    "design = ModelMatrix(['Price', \n",
    "                      'UIncome', \n",
    "                      'Advertising', \n",
    "                      'US', \n",
    "                      'Income',\n",
    "                      'ShelveLoc',\n",
    "                      'Education',\n",
    "                      'Urban']).fit(Carseats)\n",
    "strategy = min_max_strategy(design,\n",
    "                            min_terms=0,\n",
    "                            max_terms=3)"
   ]
  },
  {
   "cell_type": "code",
   "execution_count": 85,
   "id": "pediatric-portugal",
   "metadata": {},
   "outputs": [],
   "source": [
    "from sklearn.linear_model import LinearRegression\n",
    "selector = FeatureSelector(LinearRegression(fit_intercept=False),\n",
    "                           strategy,\n",
    "                           scoring='neg_mean_squared_error')"
   ]
  },
  {
   "cell_type": "code",
   "execution_count": 86,
   "id": "occasional-composite",
   "metadata": {},
   "outputs": [
    {
     "data": {
      "text/plain": [
       "<ISLP.models.generic_selector.FeatureSelector at 0x7fb12fe66828>"
      ]
     },
     "execution_count": 86,
     "metadata": {},
     "output_type": "execute_result"
    }
   ],
   "source": [
    "selector.fit(Carseats, Y)"
   ]
  },
  {
   "cell_type": "code",
   "execution_count": 87,
   "id": "split-disclaimer",
   "metadata": {},
   "outputs": [
    {
     "data": {
      "text/plain": [
       "('Price', 'Advertising', 'ShelveLoc')"
      ]
     },
     "execution_count": 87,
     "metadata": {},
     "output_type": "execute_result"
    }
   ],
   "source": [
    "selector.selected_state_"
   ]
  },
  {
   "cell_type": "code",
   "execution_count": 88,
   "id": "annual-disorder",
   "metadata": {},
   "outputs": [
    {
     "data": {
      "text/plain": [
       "dict_keys([(), ('Price',), ('UIncome',), ('Advertising',), ('US',), ('Income',), ('ShelveLoc',), ('Education',), ('Urban',), ('Price', 'UIncome'), ('Price', 'Advertising'), ('Price', 'US'), ('Price', 'Income'), ('Price', 'ShelveLoc'), ('Price', 'Education'), ('Price', 'Urban'), ('UIncome', 'Advertising'), ('UIncome', 'US'), ('UIncome', 'Income'), ('UIncome', 'ShelveLoc'), ('UIncome', 'Education'), ('UIncome', 'Urban'), ('Advertising', 'US'), ('Advertising', 'Income'), ('Advertising', 'ShelveLoc'), ('Advertising', 'Education'), ('Advertising', 'Urban'), ('US', 'Income'), ('US', 'ShelveLoc'), ('US', 'Education'), ('US', 'Urban'), ('Income', 'ShelveLoc'), ('Income', 'Education'), ('Income', 'Urban'), ('ShelveLoc', 'Education'), ('ShelveLoc', 'Urban'), ('Education', 'Urban'), ('Price', 'UIncome', 'Advertising'), ('Price', 'UIncome', 'US'), ('Price', 'UIncome', 'Income'), ('Price', 'UIncome', 'ShelveLoc'), ('Price', 'UIncome', 'Education'), ('Price', 'UIncome', 'Urban'), ('Price', 'Advertising', 'US'), ('Price', 'Advertising', 'Income'), ('Price', 'Advertising', 'ShelveLoc'), ('Price', 'Advertising', 'Education'), ('Price', 'Advertising', 'Urban'), ('Price', 'US', 'Income'), ('Price', 'US', 'ShelveLoc'), ('Price', 'US', 'Education'), ('Price', 'US', 'Urban'), ('Price', 'Income', 'ShelveLoc'), ('Price', 'Income', 'Education'), ('Price', 'Income', 'Urban'), ('Price', 'ShelveLoc', 'Education'), ('Price', 'ShelveLoc', 'Urban'), ('Price', 'Education', 'Urban'), ('UIncome', 'Advertising', 'US'), ('UIncome', 'Advertising', 'Income'), ('UIncome', 'Advertising', 'ShelveLoc'), ('UIncome', 'Advertising', 'Education'), ('UIncome', 'Advertising', 'Urban'), ('UIncome', 'US', 'Income'), ('UIncome', 'US', 'ShelveLoc'), ('UIncome', 'US', 'Education'), ('UIncome', 'US', 'Urban'), ('UIncome', 'Income', 'ShelveLoc'), ('UIncome', 'Income', 'Education'), ('UIncome', 'Income', 'Urban'), ('UIncome', 'ShelveLoc', 'Education'), ('UIncome', 'ShelveLoc', 'Urban'), ('UIncome', 'Education', 'Urban'), ('Advertising', 'US', 'Income'), ('Advertising', 'US', 'ShelveLoc'), ('Advertising', 'US', 'Education'), ('Advertising', 'US', 'Urban'), ('Advertising', 'Income', 'ShelveLoc'), ('Advertising', 'Income', 'Education'), ('Advertising', 'Income', 'Urban'), ('Advertising', 'ShelveLoc', 'Education'), ('Advertising', 'ShelveLoc', 'Urban'), ('Advertising', 'Education', 'Urban'), ('US', 'Income', 'ShelveLoc'), ('US', 'Income', 'Education'), ('US', 'Income', 'Urban'), ('US', 'ShelveLoc', 'Education'), ('US', 'ShelveLoc', 'Urban'), ('US', 'Education', 'Urban'), ('Income', 'ShelveLoc', 'Education'), ('Income', 'ShelveLoc', 'Urban'), ('Income', 'Education', 'Urban'), ('ShelveLoc', 'Education', 'Urban')])"
      ]
     },
     "execution_count": 88,
     "metadata": {},
     "output_type": "execute_result"
    }
   ],
   "source": [
    "selector.results_.keys()"
   ]
  },
  {
   "cell_type": "code",
   "execution_count": 89,
   "id": "extraordinary-cleaning",
   "metadata": {},
   "outputs": [
    {
     "data": {
      "text/plain": [
       "('Price', 'Advertising', 'Income')"
      ]
     },
     "execution_count": 89,
     "metadata": {},
     "output_type": "execute_result"
    }
   ],
   "source": [
    "strategy = min_max_strategy(design,\n",
    "                            min_terms=0,\n",
    "                            max_terms=3,\n",
    "                            lower_terms=['Price'],\n",
    "                            upper_terms=['Price', 'Income', 'Advertising'])\n",
    "selector = FeatureSelector(LinearRegression(fit_intercept=False),\n",
    "                           strategy,\n",
    "                           scoring='neg_mean_squared_error')\n",
    "selector.fit(Carseats, Y)\n",
    "selector.selected_state_"
   ]
  },
  {
   "cell_type": "code",
   "execution_count": 90,
   "id": "south-ribbon",
   "metadata": {},
   "outputs": [
    {
     "data": {
      "text/plain": [
       "dict_keys([('Price',), ('Price', 'Advertising'), ('Price', 'Income'), ('Price', 'Advertising', 'Income')])"
      ]
     },
     "execution_count": 90,
     "metadata": {},
     "output_type": "execute_result"
    }
   ],
   "source": [
    "selector.results_.keys()"
   ]
  },
  {
   "cell_type": "markdown",
   "id": "suburban-maryland",
   "metadata": {},
   "source": [
    "### Stepwise selection"
   ]
  },
  {
   "cell_type": "code",
   "execution_count": 91,
   "id": "conditional-termination",
   "metadata": {},
   "outputs": [
    {
     "data": {
      "text/plain": [
       "('Advertising', 'Income', 'Price', 'ShelveLoc')"
      ]
     },
     "execution_count": 91,
     "metadata": {},
     "output_type": "execute_result"
    }
   ],
   "source": [
    "strategy = step_strategy(design,\n",
    "                         min_terms=0,\n",
    "                         max_terms=6,\n",
    "                         lower_terms=['Price'],\n",
    "                         upper_terms=['Price', 'Income', 'Advertising', 'ShelveLoc', 'UIncome', 'US'\n",
    "                                     'Education', 'Urban'])\n",
    "selector = FeatureSelector(LinearRegression(fit_intercept=False),\n",
    "                           strategy,\n",
    "                           scoring='neg_mean_squared_error',\n",
    "                           cv=3)\n",
    "selector.fit(Carseats, Y)\n",
    "selector.selected_state_"
   ]
  },
  {
   "cell_type": "code",
   "execution_count": 92,
   "id": "metric-place",
   "metadata": {},
   "outputs": [
    {
     "data": {
      "text/plain": [
       "dict_keys([('Price',), ('Price', 'UIncome'), ('Advertising', 'Price'), ('Income', 'Price'), ('Price', 'ShelveLoc'), ('Price', 'Urban'), ('Price', 'ShelveLoc', 'UIncome'), ('Advertising', 'Price', 'ShelveLoc'), ('Income', 'Price', 'ShelveLoc'), ('Price', 'ShelveLoc', 'Urban'), ('Advertising', 'Price', 'ShelveLoc', 'UIncome'), ('Advertising', 'Income', 'Price', 'ShelveLoc'), ('Advertising', 'Price', 'ShelveLoc', 'Urban'), ('Advertising', 'Income', 'Price', 'ShelveLoc', 'UIncome'), ('Advertising', 'Income', 'Price', 'ShelveLoc', 'Urban')])"
      ]
     },
     "execution_count": 92,
     "metadata": {},
     "output_type": "execute_result"
    }
   ],
   "source": [
    "selector.results_.keys()"
   ]
  },
  {
   "cell_type": "code",
   "execution_count": 93,
   "id": "powerful-athletics",
   "metadata": {},
   "outputs": [
    {
     "data": {
      "text/plain": [
       "{('Price',): -6.514630258019964,\n",
       " ('Price', 'UIncome'): -6.621654905418573,\n",
       " ('Advertising', 'Price'): -5.8252253098571565,\n",
       " ('Income', 'Price'): -6.455432795910741,\n",
       " ('Price', 'ShelveLoc'): -3.780183168075897,\n",
       " ('Price', 'Urban'): -6.543015726692613,\n",
       " ('Price', 'ShelveLoc', 'UIncome'): -3.693872970647502,\n",
       " ('Advertising', 'Price', 'ShelveLoc'): -3.2067316025050654,\n",
       " ('Income', 'Price', 'ShelveLoc'): -3.6346989144565867,\n",
       " ('Price', 'ShelveLoc', 'Urban'): -3.7761489475852774,\n",
       " ('Advertising', 'Price', 'ShelveLoc', 'UIncome'): -3.1240961493998647,\n",
       " ('Advertising', 'Income', 'Price', 'ShelveLoc'): -3.0801704971796227,\n",
       " ('Advertising', 'Price', 'ShelveLoc', 'Urban'): -3.2075694891393685,\n",
       " ('Advertising',\n",
       "  'Income',\n",
       "  'Price',\n",
       "  'ShelveLoc',\n",
       "  'UIncome'): -3.104882689403606,\n",
       " ('Advertising', 'Income', 'Price', 'ShelveLoc', 'Urban'): -3.08671301086774}"
      ]
     },
     "execution_count": 93,
     "metadata": {},
     "output_type": "execute_result"
    }
   ],
   "source": [
    "selector.results_"
   ]
  },
  {
   "cell_type": "code",
   "execution_count": 94,
   "id": "still-hostel",
   "metadata": {},
   "outputs": [
    {
     "data": {
      "text/plain": [
       "('Advertising', 'Income', 'Price', 'ShelveLoc')"
      ]
     },
     "execution_count": 94,
     "metadata": {},
     "output_type": "execute_result"
    }
   ],
   "source": [
    "selector.selected_state_"
   ]
  },
  {
   "cell_type": "markdown",
   "id": "mature-category",
   "metadata": {},
   "source": [
    "### Enforcing constraints\n",
    "\n",
    "In models with interactions, we may often want to impose constraints on interactions and main effects.\n",
    "This can be achieved here by use of a `validator` that checks whether a given model is valid.\n",
    "\n",
    "Suppose we want to have the following constraint: `ShelveLoc` may not be in the model unless\n",
    "`Price` is in the following model."
   ]
  },
  {
   "cell_type": "code",
   "execution_count": 95,
   "id": "organized-gabriel",
   "metadata": {},
   "outputs": [],
   "source": [
    "design = ModelMatrix(['Price', \n",
    "                      'Advertising', \n",
    "                      'Income',\n",
    "                      'ShelveLoc']).fit(Carseats)"
   ]
  },
  {
   "cell_type": "markdown",
   "id": "alpha-suggestion",
   "metadata": {},
   "source": [
    "The constraints are described with a boolean matrix with `(i,j)` as `j` is a child of `i`: so `j` should not\n",
    "be in the model when `i` is not and enforced with a callable `validator` that evaluates each candidate state.\n",
    "\n",
    "Both `min_max_strategy` and `step_strategy` accept a `validator` argument."
   ]
  },
  {
   "cell_type": "code",
   "execution_count": 96,
   "id": "military-detector",
   "metadata": {},
   "outputs": [
    {
     "data": {
      "text/plain": [
       "dict_keys([(), ('Price',), ('Advertising',), ('Income',), ('Price', 'Advertising'), ('Price', 'Income'), ('Price', 'ShelveLoc'), ('Advertising', 'Income'), ('Price', 'Advertising', 'Income'), ('Price', 'Advertising', 'ShelveLoc'), ('Price', 'Income', 'ShelveLoc'), ('Price', 'Advertising', 'Income', 'ShelveLoc')])"
      ]
     },
     "execution_count": 96,
     "metadata": {},
     "output_type": "execute_result"
    }
   ],
   "source": [
    "from ISLP.models.strategy import validator_from_constraints\n",
    "constraints = np.zeros((4, 4))\n",
    "constraints[0,3] = 1\n",
    "strategy = min_max_strategy(design,\n",
    "                            min_terms=0,\n",
    "                            max_terms=4,\n",
    "                            validator=validator_from_constraints(design,\n",
    "                                                                 constraints))\n",
    "selector = FeatureSelector(LinearRegression(fit_intercept=False),\n",
    "                           strategy,\n",
    "                           scoring='neg_mean_squared_error',\n",
    "                           cv=3)\n",
    "selector.fit(Carseats, Y)\n",
    "selector.results_.keys()"
   ]
  },
  {
   "cell_type": "code",
   "execution_count": 97,
   "id": "dress-entertainment",
   "metadata": {},
   "outputs": [
    {
     "data": {
      "text/plain": [
       "('Price', 'Advertising', 'Income', 'ShelveLoc')"
      ]
     },
     "execution_count": 97,
     "metadata": {},
     "output_type": "execute_result"
    }
   ],
   "source": [
    "selector.selected_state_"
   ]
  },
  {
   "cell_type": "code",
   "execution_count": 98,
   "id": "planned-clark",
   "metadata": {},
   "outputs": [],
   "source": [
    "Hitters=load_data('Hitters')"
   ]
  },
  {
   "cell_type": "code",
   "execution_count": 99,
   "id": "swiss-still",
   "metadata": {},
   "outputs": [
    {
     "data": {
      "text/plain": [
       "Index(['AtBat', 'Hits', 'HmRun', 'Runs', 'RBI', 'Walks', 'Years', 'CAtBat',\n",
       "       'CHits', 'CHmRun', 'CRuns', 'CRBI', 'CWalks', 'League', 'Division',\n",
       "       'PutOuts', 'Assists', 'Errors', 'Salary', 'NewLeague'],\n",
       "      dtype='object')"
      ]
     },
     "execution_count": 99,
     "metadata": {},
     "output_type": "execute_result"
    }
   ],
   "source": [
    "Hitters.columns"
   ]
  },
  {
   "cell_type": "code",
   "execution_count": 100,
   "id": "suspended-clearing",
   "metadata": {},
   "outputs": [
    {
     "data": {
      "text/plain": [
       "dict_keys([(), ('AtBat',), ('Hits',), ('HmRun',), ('Runs',), ('RBI',), ('Walks',), ('Years',), ('CAtBat',), ('CHits',), ('CHmRun',), ('CRuns',), ('CRBI',), ('CWalks',), ('League',), ('Division',), ('PutOuts',), ('Assists',), ('Errors',), ('NewLeague',), ('AtBat', 'CRBI'), ('CRBI', 'Hits'), ('CRBI', 'HmRun'), ('CRBI', 'Runs'), ('CRBI', 'RBI'), ('CRBI', 'Walks'), ('CRBI', 'Years'), ('CAtBat', 'CRBI'), ('CHits', 'CRBI'), ('CHmRun', 'CRBI'), ('CRBI', 'CRuns'), ('CRBI', 'CWalks'), ('CRBI', 'League'), ('CRBI', 'Division'), ('CRBI', 'PutOuts'), ('Assists', 'CRBI'), ('CRBI', 'Errors'), ('CRBI', 'NewLeague'), ('AtBat', 'CRBI', 'Hits'), ('CRBI', 'Hits', 'HmRun'), ('CRBI', 'Hits', 'Runs'), ('CRBI', 'Hits', 'RBI'), ('CRBI', 'Hits', 'Walks'), ('CRBI', 'Hits', 'Years'), ('CAtBat', 'CRBI', 'Hits'), ('CHits', 'CRBI', 'Hits'), ('CHmRun', 'CRBI', 'Hits'), ('CRBI', 'CRuns', 'Hits'), ('CRBI', 'CWalks', 'Hits'), ('CRBI', 'Hits', 'League'), ('CRBI', 'Division', 'Hits'), ('CRBI', 'Hits', 'PutOuts'), ('Assists', 'CRBI', 'Hits'), ('CRBI', 'Errors', 'Hits'), ('CRBI', 'Hits', 'NewLeague'), ('AtBat', 'CRBI', 'Hits', 'PutOuts'), ('CRBI', 'Hits', 'HmRun', 'PutOuts'), ('CRBI', 'Hits', 'PutOuts', 'Runs'), ('CRBI', 'Hits', 'PutOuts', 'RBI'), ('CRBI', 'Hits', 'PutOuts', 'Walks'), ('CRBI', 'Hits', 'PutOuts', 'Years'), ('CAtBat', 'CRBI', 'Hits', 'PutOuts'), ('CHits', 'CRBI', 'Hits', 'PutOuts'), ('CHmRun', 'CRBI', 'Hits', 'PutOuts'), ('CRBI', 'CRuns', 'Hits', 'PutOuts'), ('CRBI', 'CWalks', 'Hits', 'PutOuts'), ('CRBI', 'Hits', 'League', 'PutOuts'), ('CRBI', 'Division', 'Hits', 'PutOuts'), ('Assists', 'CRBI', 'Hits', 'PutOuts'), ('CRBI', 'Errors', 'Hits', 'PutOuts'), ('CRBI', 'Hits', 'NewLeague', 'PutOuts'), ('AtBat', 'CRBI', 'Division', 'Hits', 'PutOuts'), ('CRBI', 'Division', 'Hits', 'HmRun', 'PutOuts'), ('CRBI', 'Division', 'Hits', 'PutOuts', 'Runs'), ('CRBI', 'Division', 'Hits', 'PutOuts', 'RBI'), ('CRBI', 'Division', 'Hits', 'PutOuts', 'Walks'), ('CRBI', 'Division', 'Hits', 'PutOuts', 'Years'), ('CAtBat', 'CRBI', 'Division', 'Hits', 'PutOuts'), ('CHits', 'CRBI', 'Division', 'Hits', 'PutOuts'), ('CHmRun', 'CRBI', 'Division', 'Hits', 'PutOuts'), ('CRBI', 'CRuns', 'Division', 'Hits', 'PutOuts'), ('CRBI', 'CWalks', 'Division', 'Hits', 'PutOuts'), ('CRBI', 'Division', 'Hits', 'League', 'PutOuts'), ('Assists', 'CRBI', 'Division', 'Hits', 'PutOuts'), ('CRBI', 'Division', 'Errors', 'Hits', 'PutOuts'), ('CRBI', 'Division', 'Hits', 'NewLeague', 'PutOuts'), ('AtBat', 'CRBI', 'Division', 'Hits', 'HmRun', 'PutOuts'), ('AtBat', 'CRBI', 'Division', 'Hits', 'PutOuts', 'Runs'), ('AtBat', 'CRBI', 'Division', 'Hits', 'PutOuts', 'RBI'), ('AtBat', 'CRBI', 'Division', 'Hits', 'PutOuts', 'Walks'), ('AtBat', 'CRBI', 'Division', 'Hits', 'PutOuts', 'Years'), ('AtBat', 'CAtBat', 'CRBI', 'Division', 'Hits', 'PutOuts'), ('AtBat', 'CHits', 'CRBI', 'Division', 'Hits', 'PutOuts'), ('AtBat', 'CHmRun', 'CRBI', 'Division', 'Hits', 'PutOuts'), ('AtBat', 'CRBI', 'CRuns', 'Division', 'Hits', 'PutOuts'), ('AtBat', 'CRBI', 'CWalks', 'Division', 'Hits', 'PutOuts'), ('AtBat', 'CRBI', 'Division', 'Hits', 'League', 'PutOuts'), ('Assists', 'AtBat', 'CRBI', 'Division', 'Hits', 'PutOuts'), ('AtBat', 'CRBI', 'Division', 'Errors', 'Hits', 'PutOuts'), ('AtBat', 'CRBI', 'Division', 'Hits', 'NewLeague', 'PutOuts'), ('AtBat', 'CRBI', 'Division', 'Hits', 'HmRun', 'PutOuts', 'Walks'), ('AtBat', 'CRBI', 'Division', 'Hits', 'PutOuts', 'Runs', 'Walks'), ('AtBat', 'CRBI', 'Division', 'Hits', 'PutOuts', 'RBI', 'Walks'), ('AtBat', 'CRBI', 'Division', 'Hits', 'PutOuts', 'Walks', 'Years'), ('AtBat', 'CAtBat', 'CRBI', 'Division', 'Hits', 'PutOuts', 'Walks'), ('AtBat', 'CHits', 'CRBI', 'Division', 'Hits', 'PutOuts', 'Walks'), ('AtBat', 'CHmRun', 'CRBI', 'Division', 'Hits', 'PutOuts', 'Walks'), ('AtBat', 'CRBI', 'CRuns', 'Division', 'Hits', 'PutOuts', 'Walks'), ('AtBat', 'CRBI', 'CWalks', 'Division', 'Hits', 'PutOuts', 'Walks'), ('AtBat', 'CRBI', 'Division', 'Hits', 'League', 'PutOuts', 'Walks'), ('Assists', 'AtBat', 'CRBI', 'Division', 'Hits', 'PutOuts', 'Walks'), ('AtBat', 'CRBI', 'Division', 'Errors', 'Hits', 'PutOuts', 'Walks'), ('AtBat', 'CRBI', 'Division', 'Hits', 'NewLeague', 'PutOuts', 'Walks'), ('AtBat', 'CRBI', 'CWalks', 'Division', 'Hits', 'HmRun', 'PutOuts', 'Walks'), ('AtBat', 'CRBI', 'CWalks', 'Division', 'Hits', 'PutOuts', 'Runs', 'Walks'), ('AtBat', 'CRBI', 'CWalks', 'Division', 'Hits', 'PutOuts', 'RBI', 'Walks'), ('AtBat', 'CRBI', 'CWalks', 'Division', 'Hits', 'PutOuts', 'Walks', 'Years'), ('AtBat', 'CAtBat', 'CRBI', 'CWalks', 'Division', 'Hits', 'PutOuts', 'Walks'), ('AtBat', 'CHits', 'CRBI', 'CWalks', 'Division', 'Hits', 'PutOuts', 'Walks'), ('AtBat', 'CHmRun', 'CRBI', 'CWalks', 'Division', 'Hits', 'PutOuts', 'Walks'), ('AtBat', 'CRBI', 'CRuns', 'CWalks', 'Division', 'Hits', 'PutOuts', 'Walks'), ('AtBat', 'CRBI', 'CWalks', 'Division', 'Hits', 'League', 'PutOuts', 'Walks'), ('Assists', 'AtBat', 'CRBI', 'CWalks', 'Division', 'Hits', 'PutOuts', 'Walks'), ('AtBat', 'CRBI', 'CWalks', 'Division', 'Errors', 'Hits', 'PutOuts', 'Walks'), ('AtBat', 'CRBI', 'CWalks', 'Division', 'Hits', 'NewLeague', 'PutOuts', 'Walks'), ('AtBat', 'CRBI', 'CRuns', 'CWalks', 'Division', 'Hits', 'HmRun', 'PutOuts', 'Walks'), ('AtBat', 'CRBI', 'CRuns', 'CWalks', 'Division', 'Hits', 'PutOuts', 'Runs', 'Walks'), ('AtBat', 'CRBI', 'CRuns', 'CWalks', 'Division', 'Hits', 'PutOuts', 'RBI', 'Walks'), ('AtBat', 'CRBI', 'CRuns', 'CWalks', 'Division', 'Hits', 'PutOuts', 'Walks', 'Years'), ('AtBat', 'CAtBat', 'CRBI', 'CRuns', 'CWalks', 'Division', 'Hits', 'PutOuts', 'Walks'), ('AtBat', 'CHits', 'CRBI', 'CRuns', 'CWalks', 'Division', 'Hits', 'PutOuts', 'Walks'), ('AtBat', 'CHmRun', 'CRBI', 'CRuns', 'CWalks', 'Division', 'Hits', 'PutOuts', 'Walks'), ('AtBat', 'CRBI', 'CRuns', 'CWalks', 'Division', 'Hits', 'League', 'PutOuts', 'Walks'), ('Assists', 'AtBat', 'CRBI', 'CRuns', 'CWalks', 'Division', 'Hits', 'PutOuts', 'Walks'), ('AtBat', 'CRBI', 'CRuns', 'CWalks', 'Division', 'Errors', 'Hits', 'PutOuts', 'Walks'), ('AtBat', 'CRBI', 'CRuns', 'CWalks', 'Division', 'Hits', 'NewLeague', 'PutOuts', 'Walks'), ('AtBat', 'CAtBat', 'CRBI', 'CRuns', 'CWalks', 'Division', 'Hits', 'HmRun', 'PutOuts', 'Walks'), ('AtBat', 'CAtBat', 'CRBI', 'CRuns', 'CWalks', 'Division', 'Hits', 'PutOuts', 'Runs', 'Walks'), ('AtBat', 'CAtBat', 'CRBI', 'CRuns', 'CWalks', 'Division', 'Hits', 'PutOuts', 'RBI', 'Walks'), ('AtBat', 'CAtBat', 'CRBI', 'CRuns', 'CWalks', 'Division', 'Hits', 'PutOuts', 'Walks', 'Years'), ('AtBat', 'CAtBat', 'CHits', 'CRBI', 'CRuns', 'CWalks', 'Division', 'Hits', 'PutOuts', 'Walks'), ('AtBat', 'CAtBat', 'CHmRun', 'CRBI', 'CRuns', 'CWalks', 'Division', 'Hits', 'PutOuts', 'Walks'), ('AtBat', 'CAtBat', 'CRBI', 'CRuns', 'CWalks', 'Division', 'Hits', 'League', 'PutOuts', 'Walks'), ('Assists', 'AtBat', 'CAtBat', 'CRBI', 'CRuns', 'CWalks', 'Division', 'Hits', 'PutOuts', 'Walks'), ('AtBat', 'CAtBat', 'CRBI', 'CRuns', 'CWalks', 'Division', 'Errors', 'Hits', 'PutOuts', 'Walks'), ('AtBat', 'CAtBat', 'CRBI', 'CRuns', 'CWalks', 'Division', 'Hits', 'NewLeague', 'PutOuts', 'Walks'), ('Assists', 'AtBat', 'CAtBat', 'CRBI', 'CRuns', 'CWalks', 'Division', 'Hits', 'HmRun', 'PutOuts', 'Walks'), ('Assists', 'AtBat', 'CAtBat', 'CRBI', 'CRuns', 'CWalks', 'Division', 'Hits', 'PutOuts', 'Runs', 'Walks'), ('Assists', 'AtBat', 'CAtBat', 'CRBI', 'CRuns', 'CWalks', 'Division', 'Hits', 'PutOuts', 'RBI', 'Walks'), ('Assists', 'AtBat', 'CAtBat', 'CRBI', 'CRuns', 'CWalks', 'Division', 'Hits', 'PutOuts', 'Walks', 'Years'), ('Assists', 'AtBat', 'CAtBat', 'CHits', 'CRBI', 'CRuns', 'CWalks', 'Division', 'Hits', 'PutOuts', 'Walks'), ('Assists', 'AtBat', 'CAtBat', 'CHmRun', 'CRBI', 'CRuns', 'CWalks', 'Division', 'Hits', 'PutOuts', 'Walks'), ('Assists', 'AtBat', 'CAtBat', 'CRBI', 'CRuns', 'CWalks', 'Division', 'Hits', 'League', 'PutOuts', 'Walks'), ('Assists', 'AtBat', 'CAtBat', 'CRBI', 'CRuns', 'CWalks', 'Division', 'Errors', 'Hits', 'PutOuts', 'Walks'), ('Assists', 'AtBat', 'CAtBat', 'CRBI', 'CRuns', 'CWalks', 'Division', 'Hits', 'NewLeague', 'PutOuts', 'Walks'), ('Assists', 'AtBat', 'CAtBat', 'CRBI', 'CRuns', 'CWalks', 'Division', 'Hits', 'HmRun', 'League', 'PutOuts', 'Walks'), ('Assists', 'AtBat', 'CAtBat', 'CRBI', 'CRuns', 'CWalks', 'Division', 'Hits', 'League', 'PutOuts', 'Runs', 'Walks'), ('Assists', 'AtBat', 'CAtBat', 'CRBI', 'CRuns', 'CWalks', 'Division', 'Hits', 'League', 'PutOuts', 'RBI', 'Walks'), ('Assists', 'AtBat', 'CAtBat', 'CRBI', 'CRuns', 'CWalks', 'Division', 'Hits', 'League', 'PutOuts', 'Walks', 'Years'), ('Assists', 'AtBat', 'CAtBat', 'CHits', 'CRBI', 'CRuns', 'CWalks', 'Division', 'Hits', 'League', 'PutOuts', 'Walks'), ('Assists', 'AtBat', 'CAtBat', 'CHmRun', 'CRBI', 'CRuns', 'CWalks', 'Division', 'Hits', 'League', 'PutOuts', 'Walks'), ('Assists', 'AtBat', 'CAtBat', 'CRBI', 'CRuns', 'CWalks', 'Division', 'Errors', 'Hits', 'League', 'PutOuts', 'Walks'), ('Assists', 'AtBat', 'CAtBat', 'CRBI', 'CRuns', 'CWalks', 'Division', 'Hits', 'League', 'NewLeague', 'PutOuts', 'Walks'), ('Assists', 'AtBat', 'CAtBat', 'CRBI', 'CRuns', 'CWalks', 'Division', 'Hits', 'HmRun', 'League', 'PutOuts', 'Runs', 'Walks'), ('Assists', 'AtBat', 'CAtBat', 'CRBI', 'CRuns', 'CWalks', 'Division', 'Hits', 'League', 'PutOuts', 'RBI', 'Runs', 'Walks'), ('Assists', 'AtBat', 'CAtBat', 'CRBI', 'CRuns', 'CWalks', 'Division', 'Hits', 'League', 'PutOuts', 'Runs', 'Walks', 'Years'), ('Assists', 'AtBat', 'CAtBat', 'CHits', 'CRBI', 'CRuns', 'CWalks', 'Division', 'Hits', 'League', 'PutOuts', 'Runs', 'Walks'), ('Assists', 'AtBat', 'CAtBat', 'CHmRun', 'CRBI', 'CRuns', 'CWalks', 'Division', 'Hits', 'League', 'PutOuts', 'Runs', 'Walks'), ('Assists', 'AtBat', 'CAtBat', 'CRBI', 'CRuns', 'CWalks', 'Division', 'Errors', 'Hits', 'League', 'PutOuts', 'Runs', 'Walks'), ('Assists', 'AtBat', 'CAtBat', 'CRBI', 'CRuns', 'CWalks', 'Division', 'Hits', 'League', 'NewLeague', 'PutOuts', 'Runs', 'Walks'), ('Assists', 'AtBat', 'CAtBat', 'CRBI', 'CRuns', 'CWalks', 'Division', 'Errors', 'Hits', 'HmRun', 'League', 'PutOuts', 'Runs', 'Walks'), ('Assists', 'AtBat', 'CAtBat', 'CRBI', 'CRuns', 'CWalks', 'Division', 'Errors', 'Hits', 'League', 'PutOuts', 'RBI', 'Runs', 'Walks'), ('Assists', 'AtBat', 'CAtBat', 'CRBI', 'CRuns', 'CWalks', 'Division', 'Errors', 'Hits', 'League', 'PutOuts', 'Runs', 'Walks', 'Years'), ('Assists', 'AtBat', 'CAtBat', 'CHits', 'CRBI', 'CRuns', 'CWalks', 'Division', 'Errors', 'Hits', 'League', 'PutOuts', 'Runs', 'Walks'), ('Assists', 'AtBat', 'CAtBat', 'CHmRun', 'CRBI', 'CRuns', 'CWalks', 'Division', 'Errors', 'Hits', 'League', 'PutOuts', 'Runs', 'Walks'), ('Assists', 'AtBat', 'CAtBat', 'CRBI', 'CRuns', 'CWalks', 'Division', 'Errors', 'Hits', 'League', 'NewLeague', 'PutOuts', 'Runs', 'Walks'), ('Assists', 'AtBat', 'CAtBat', 'CRBI', 'CRuns', 'CWalks', 'Division', 'Errors', 'Hits', 'HmRun', 'League', 'PutOuts', 'RBI', 'Runs', 'Walks'), ('Assists', 'AtBat', 'CAtBat', 'CRBI', 'CRuns', 'CWalks', 'Division', 'Errors', 'Hits', 'HmRun', 'League', 'PutOuts', 'Runs', 'Walks', 'Years'), ('Assists', 'AtBat', 'CAtBat', 'CHits', 'CRBI', 'CRuns', 'CWalks', 'Division', 'Errors', 'Hits', 'HmRun', 'League', 'PutOuts', 'Runs', 'Walks'), ('Assists', 'AtBat', 'CAtBat', 'CHmRun', 'CRBI', 'CRuns', 'CWalks', 'Division', 'Errors', 'Hits', 'HmRun', 'League', 'PutOuts', 'Runs', 'Walks'), ('Assists', 'AtBat', 'CAtBat', 'CRBI', 'CRuns', 'CWalks', 'Division', 'Errors', 'Hits', 'HmRun', 'League', 'NewLeague', 'PutOuts', 'Runs', 'Walks'), ('Assists', 'AtBat', 'CAtBat', 'CHits', 'CRBI', 'CRuns', 'CWalks', 'Division', 'Errors', 'Hits', 'HmRun', 'League', 'PutOuts', 'RBI', 'Runs', 'Walks'), ('Assists', 'AtBat', 'CAtBat', 'CHits', 'CRBI', 'CRuns', 'CWalks', 'Division', 'Errors', 'Hits', 'HmRun', 'League', 'PutOuts', 'Runs', 'Walks', 'Years'), ('Assists', 'AtBat', 'CAtBat', 'CHits', 'CHmRun', 'CRBI', 'CRuns', 'CWalks', 'Division', 'Errors', 'Hits', 'HmRun', 'League', 'PutOuts', 'Runs', 'Walks'), ('Assists', 'AtBat', 'CAtBat', 'CHits', 'CRBI', 'CRuns', 'CWalks', 'Division', 'Errors', 'Hits', 'HmRun', 'League', 'NewLeague', 'PutOuts', 'Runs', 'Walks'), ('Assists', 'AtBat', 'CAtBat', 'CHits', 'CRBI', 'CRuns', 'CWalks', 'Division', 'Errors', 'Hits', 'HmRun', 'League', 'PutOuts', 'RBI', 'Runs', 'Walks', 'Years'), ('Assists', 'AtBat', 'CAtBat', 'CHits', 'CHmRun', 'CRBI', 'CRuns', 'CWalks', 'Division', 'Errors', 'Hits', 'HmRun', 'League', 'PutOuts', 'RBI', 'Runs', 'Walks'), ('Assists', 'AtBat', 'CAtBat', 'CHits', 'CRBI', 'CRuns', 'CWalks', 'Division', 'Errors', 'Hits', 'HmRun', 'League', 'NewLeague', 'PutOuts', 'RBI', 'Runs', 'Walks'), ('Assists', 'AtBat', 'CAtBat', 'CHits', 'CRBI', 'CRuns', 'CWalks', 'Division', 'Errors', 'Hits', 'HmRun', 'League', 'NewLeague', 'PutOuts', 'RBI', 'Runs', 'Walks', 'Years'), ('Assists', 'AtBat', 'CAtBat', 'CHits', 'CHmRun', 'CRBI', 'CRuns', 'CWalks', 'Division', 'Errors', 'Hits', 'HmRun', 'League', 'NewLeague', 'PutOuts', 'RBI', 'Runs', 'Walks'), ('Assists', 'AtBat', 'CAtBat', 'CHits', 'CHmRun', 'CRBI', 'CRuns', 'CWalks', 'Division', 'Errors', 'Hits', 'HmRun', 'League', 'NewLeague', 'PutOuts', 'RBI', 'Runs', 'Walks', 'Years')])"
      ]
     },
     "execution_count": 100,
     "metadata": {},
     "output_type": "execute_result"
    }
   ],
   "source": [
    "Hitters = Hitters.dropna()\n",
    "Y=Hitters['Salary']\n",
    "X=Hitters.drop('Salary', axis=1)\n",
    "design = ModelMatrix(X.columns).fit(X)\n",
    "strategy = step_strategy(design,\n",
    "                         direction='forward',\n",
    "                            min_terms=0,\n",
    "                            max_terms=19)\n",
    "selector = FeatureSelector(LinearRegression(fit_intercept=False),\n",
    "                           strategy,\n",
    "                           scoring='neg_mean_squared_error', cv=None)\n",
    "selector.fit(X, Y)\n",
    "selector.results_.keys()"
   ]
  },
  {
   "cell_type": "code",
   "execution_count": 101,
   "id": "greater-stuart",
   "metadata": {},
   "outputs": [
    {
     "data": {
      "text/plain": [
       "19"
      ]
     },
     "execution_count": 101,
     "metadata": {},
     "output_type": "execute_result"
    }
   ],
   "source": [
    "len(selector.selected_state_)"
   ]
  },
  {
   "cell_type": "code",
   "execution_count": 102,
   "id": "moving-prophet",
   "metadata": {},
   "outputs": [
    {
     "data": {
      "text/plain": [
       "19"
      ]
     },
     "execution_count": 102,
     "metadata": {},
     "output_type": "execute_result"
    }
   ],
   "source": [
    "len(X.columns)"
   ]
  },
  {
   "cell_type": "code",
   "execution_count": 103,
   "id": "compressed-wagner",
   "metadata": {},
   "outputs": [
    {
     "name": "stdout",
     "output_type": "stream",
     "text": [
      "Start:  AIC=3215.77\n",
      "Salary ~ 1\n",
      "\n",
      "            Df Sum of Sq      RSS    AIC\n",
      "+ CRBI       1  17139434 36179679 3115.8\n",
      "+ CRuns      1  16881162 36437951 3117.6\n",
      "+ CHits      1  16065140 37253973 3123.5\n",
      "+ CAtBat     1  14759710 38559403 3132.5\n",
      "+ CHmRun     1  14692193 38626920 3133.0\n",
      "+ CWalks     1  12792622 40526491 3145.6\n",
      "+ RBI        1  10771083 42548030 3158.4\n",
      "+ Walks      1  10504833 42814280 3160.1\n",
      "+ Hits       1  10260491 43058621 3161.6\n",
      "+ Runs       1   9399158 43919955 3166.8\n",
      "+ Years      1   8559105 44760007 3171.7\n",
      "+ AtBat      1   8309469 45009644 3173.2\n",
      "+ HmRun      1   6273967 47045145 3184.8\n",
      "+ PutOuts    1   4814100 48505013 3192.9\n",
      "+ Division   1   1976102 51343011 3207.8\n",
      "<none>                   53319113 3215.8\n",
      "+ Assists    1     34497 53284615 3217.6\n",
      "+ League     1     10876 53308237 3217.7\n",
      "+ Errors     1      1555 53317558 3217.8\n",
      "+ NewLeague  1       428 53318684 3217.8\n",
      "\n",
      "Step:  AIC=3115.78\n",
      "Salary ~ CRBI\n",
      "\n",
      "            Df Sum of Sq      RSS    AIC\n",
      "+ Hits       1   5533119 30646560 3074.1\n",
      "+ Runs       1   5176532 31003147 3077.2\n",
      "+ Walks      1   4199733 31979946 3085.3\n",
      "+ AtBat      1   4064585 32115095 3086.4\n",
      "+ RBI        1   3308272 32871407 3092.6\n",
      "+ PutOuts    1   3267035 32912644 3092.9\n",
      "+ Division   1   1733887 34445793 3104.9\n",
      "+ Years      1   1667339 34512340 3105.4\n",
      "+ HmRun      1   1271587 34908092 3108.4\n",
      "+ CRuns      1    354561 35825119 3115.2\n",
      "+ Assists    1    346020 35833659 3115.2\n",
      "<none>                   36179679 3115.8\n",
      "+ Errors     1    194403 35985276 3116.4\n",
      "+ CAtBat     1     92261 36087418 3117.1\n",
      "+ CHits      1     75469 36104210 3117.2\n",
      "+ CWalks     1     51974 36127705 3117.4\n",
      "+ NewLeague  1     17778 36161901 3117.7\n",
      "+ League     1     11825 36167855 3117.7\n",
      "+ CHmRun     1       515 36179165 3117.8\n",
      "\n",
      "Step:  AIC=3074.13\n",
      "Salary ~ CRBI + Hits\n",
      "\n",
      "            Df Sum of Sq      RSS    AIC\n",
      "+ PutOuts    1   1397263 29249297 3063.8\n",
      "+ Division   1   1279275 29367285 3064.9\n",
      "+ AtBat      1    821767 29824793 3069.0\n",
      "+ Walks      1    781767 29864793 3069.3\n",
      "+ Years      1    254910 30391650 3073.9\n",
      "<none>                   30646560 3074.1\n",
      "+ League     1    208880 30437680 3074.3\n",
      "+ CRuns      1    132614 30513946 3075.0\n",
      "+ NewLeague  1    118474 30528086 3075.1\n",
      "+ Runs       1    114198 30532362 3075.1\n",
      "+ Errors     1     99776 30546784 3075.3\n",
      "+ CAtBat     1     83517 30563043 3075.4\n",
      "+ Assists    1     44781 30601779 3075.7\n",
      "+ CWalks     1     23668 30622892 3075.9\n",
      "+ CHmRun     1      4790 30641769 3076.1\n",
      "+ CHits      1      4358 30642202 3076.1\n",
      "+ HmRun      1      2173 30644387 3076.1\n",
      "+ RBI        1      1137 30645423 3076.1\n",
      "\n",
      "Step:  AIC=3063.85\n",
      "Salary ~ CRBI + Hits + PutOuts\n",
      "\n",
      "            Df Sum of Sq      RSS    AIC\n",
      "+ Division   1   1278445 27970852 3054.1\n",
      "+ AtBat      1   1009933 28239364 3056.6\n",
      "+ Walks      1    539490 28709807 3061.0\n",
      "+ CRuns      1    273649 28975648 3063.4\n",
      "<none>                   29249297 3063.8\n",
      "+ Years      1    136906 29112391 3064.6\n",
      "+ League     1    122841 29126456 3064.8\n",
      "+ Runs       1    117930 29131367 3064.8\n",
      "+ Errors     1     97244 29152053 3065.0\n",
      "+ NewLeague  1     57839 29191458 3065.3\n",
      "+ CHits      1     35096 29214201 3065.5\n",
      "+ RBI        1     33965 29215331 3065.6\n",
      "+ HmRun      1     31227 29218070 3065.6\n",
      "+ CWalks     1     28572 29220725 3065.6\n",
      "+ CAtBat     1     20518 29228779 3065.7\n",
      "+ Assists    1      1681 29247616 3065.8\n",
      "+ CHmRun     1      1419 29247878 3065.8\n",
      "\n",
      "Step:  AIC=3054.1\n",
      "Salary ~ CRBI + Hits + PutOuts + Division\n",
      "\n",
      "            Df Sum of Sq      RSS    AIC\n",
      "+ AtBat      1    820952 27149899 3048.3\n",
      "+ Walks      1    491584 27479268 3051.4\n",
      "<none>                   27970852 3054.1\n",
      "+ CRuns      1    193604 27777248 3054.3\n",
      "+ Years      1    166845 27804007 3054.5\n",
      "+ League     1    110628 27860224 3055.1\n",
      "+ Errors     1     81385 27889467 3055.3\n",
      "+ Runs       1     65921 27904931 3055.5\n",
      "+ RBI        1     53719 27917133 3055.6\n",
      "+ NewLeague  1     52275 27918577 3055.6\n",
      "+ CHits      1     33863 27936989 3055.8\n",
      "+ HmRun      1     26390 27944462 3055.8\n",
      "+ CAtBat     1     18751 27952101 3055.9\n",
      "+ CWalks     1      5723 27965129 3056.0\n",
      "+ Assists    1      1036 27969816 3056.1\n",
      "+ CHmRun     1       165 27970687 3056.1\n",
      "\n",
      "Step:  AIC=3048.26\n",
      "Salary ~ CRBI + Hits + PutOuts + Division + AtBat\n",
      "\n",
      "            Df Sum of Sq      RSS    AIC\n",
      "+ Walks      1    954996 26194904 3040.8\n",
      "+ Years      1    253362 26896537 3047.8\n",
      "+ Runs       1    208743 26941157 3048.2\n",
      "<none>                   27149899 3048.3\n",
      "+ CRuns      1    185825 26964075 3048.5\n",
      "+ League     1     95986 27053913 3049.3\n",
      "+ NewLeague  1     52693 27097206 3049.8\n",
      "+ CHmRun     1     43173 27106726 3049.8\n",
      "+ Assists    1     28898 27121001 3050.0\n",
      "+ CAtBat     1     20989 27128910 3050.1\n",
      "+ CWalks     1     15599 27134301 3050.1\n",
      "+ Errors     1      6265 27143634 3050.2\n",
      "+ CHits      1      5305 27144594 3050.2\n",
      "+ RBI        1      1236 27148663 3050.2\n",
      "+ HmRun      1        11 27149888 3050.3\n",
      "\n",
      "Step:  AIC=3040.85\n",
      "Salary ~ CRBI + Hits + PutOuts + Division + AtBat + Walks\n",
      "\n",
      "            Df Sum of Sq      RSS    AIC\n",
      "+ CWalks     1    240687 25954217 3040.4\n",
      "<none>                   26194904 3040.8\n",
      "+ Years      1    184508 26010396 3041.0\n",
      "+ CRuns      1    110695 26084209 3041.7\n",
      "+ League     1     77974 26116930 3042.1\n",
      "+ Assists    1     75782 26119122 3042.1\n",
      "+ NewLeague  1     40909 26153995 3042.4\n",
      "+ CHits      1     37304 26157599 3042.5\n",
      "+ RBI        1     11728 26183176 3042.7\n",
      "+ HmRun      1      4747 26190157 3042.8\n",
      "+ Errors     1      2727 26192177 3042.8\n",
      "+ CAtBat     1      2630 26192274 3042.8\n",
      "+ CHmRun     1       943 26193961 3042.8\n",
      "+ Runs       1        37 26194867 3042.8\n",
      "\n",
      "Step:  AIC=3040.42\n",
      "Salary ~ CRBI + Hits + PutOuts + Division + AtBat + Walks + CWalks\n",
      "\n",
      "            Df Sum of Sq      RSS    AIC\n",
      "+ CRuns      1    794983 25159234 3034.2\n",
      "+ CHits      1    273728 25680489 3039.6\n",
      "<none>                   25954217 3040.4\n",
      "+ Assists    1    138506 25815711 3041.0\n",
      "+ CAtBat     1     89289 25864929 3041.5\n",
      "+ RBI        1     86941 25867276 3041.5\n",
      "+ League     1     77159 25877058 3041.6\n",
      "+ Years      1     70126 25884091 3041.7\n",
      "+ NewLeague  1     37807 25916410 3042.0\n",
      "+ HmRun      1     33601 25920616 3042.1\n",
      "+ CHmRun     1      9034 25945183 3042.3\n",
      "+ Errors     1      6928 25947289 3042.3\n",
      "+ Runs       1        82 25954135 3042.4\n",
      "\n",
      "Step:  AIC=3034.24\n",
      "Salary ~ CRBI + Hits + PutOuts + Division + AtBat + Walks + CWalks + \n",
      "    CRuns\n",
      "\n",
      "            Df Sum of Sq      RSS    AIC\n",
      "+ CAtBat     1    345182 24814051 3032.6\n",
      "+ Years      1    265068 24894165 3033.4\n",
      "<none>                   25159234 3034.2\n",
      "+ CHits      1    173215 24986019 3034.4\n",
      "+ Assists    1    124676 25034558 3034.9\n",
      "+ CHmRun     1     91728 25067505 3035.3\n",
      "+ League     1     72985 25086248 3035.5\n",
      "+ NewLeague  1     25244 25133990 3036.0\n",
      "+ Runs       1     17700 25141534 3036.1\n",
      "+ Errors     1      8531 25150703 3036.2\n",
      "+ HmRun      1      2390 25156844 3036.2\n",
      "+ RBI        1         0 25159234 3036.2\n",
      "\n",
      "Step:  AIC=3032.6\n",
      "Salary ~ CRBI + Hits + PutOuts + Division + AtBat + Walks + CWalks + \n",
      "    CRuns + CAtBat\n",
      "\n",
      "            Df Sum of Sq      RSS    AIC\n",
      "+ Assists    1    313650 24500402 3031.3\n",
      "<none>                   24814051 3032.6\n",
      "+ Runs       1    153499 24660553 3033.0\n",
      "+ League     1    146017 24668034 3033.1\n",
      "+ NewLeague  1     77209 24736842 3033.8\n",
      "+ Years      1     47431 24766620 3034.1\n",
      "+ CHits      1     47127 24766925 3034.1\n",
      "+ Errors     1     43926 24770126 3034.1\n",
      "+ HmRun      1     23132 24790919 3034.4\n",
      "+ CHmRun     1     19917 24794134 3034.4\n",
      "+ RBI        1     19027 24795024 3034.4\n",
      "\n",
      "Step:  AIC=3031.26\n",
      "Salary ~ CRBI + Hits + PutOuts + Division + AtBat + Walks + CWalks + \n",
      "    CRuns + CAtBat + Assists\n",
      "\n",
      "            Df Sum of Sq      RSS    AIC\n",
      "<none>                   24500402 3031.3\n",
      "+ League     1    113056 24387345 3032.0\n",
      "+ Runs       1     75900 24424501 3032.4\n",
      "+ NewLeague  1     64712 24435690 3032.6\n",
      "+ CHits      1     37564 24462838 3032.8\n",
      "+ Errors     1     35264 24465138 3032.9\n",
      "+ Years      1     19883 24480519 3033.0\n",
      "+ CHmRun     1      4356 24496046 3033.2\n",
      "+ HmRun      1      1189 24499212 3033.2\n",
      "+ RBI        1       359 24500043 3033.2\n",
      "\n",
      "Call:\n",
      "lm(formula = Salary ~ CRBI + Hits + PutOuts + Division + AtBat + \n",
      "    Walks + CWalks + CRuns + CAtBat + Assists, data = Hitters)\n",
      "\n",
      "Coefficients:\n"
     ]
    },
    {
     "name": "stdout",
     "output_type": "stream",
     "text": [
      "(Intercept)         CRBI         Hits      PutOuts    DivisionW        AtBat  \n",
      "   162.5354       0.7743       6.9180       0.2974    -112.3801      -2.1687  \n",
      "      Walks       CWalks        CRuns       CAtBat      Assists  \n",
      "     5.7732      -0.8308       1.4082      -0.1301       0.2832  \n",
      "\n"
     ]
    }
   ],
   "source": [
    "%%R -i Hitters\n",
    "step(lm(Salary ~ 1, data=Hitters), scope=list(upper=lm(Salary ~ ., data=Hitters)), direction='forward', trace=TRUE)\n"
   ]
  },
  {
   "cell_type": "code",
   "execution_count": null,
   "id": "inside-steam",
   "metadata": {},
   "outputs": [],
   "source": []
  },
  {
   "cell_type": "code",
   "execution_count": null,
   "id": "cellular-finding",
   "metadata": {},
   "outputs": [],
   "source": []
  },
  {
   "cell_type": "code",
   "execution_count": null,
   "id": "pregnant-ballet",
   "metadata": {},
   "outputs": [],
   "source": []
  }
 ],
 "metadata": {
  "kernelspec": {
   "display_name": "Python 3",
   "language": "python",
   "name": "python3"
  },
  "language_info": {
   "codemirror_mode": {
    "name": "ipython",
    "version": 3
   },
   "file_extension": ".py",
   "mimetype": "text/x-python",
   "name": "python",
   "nbconvert_exporter": "python",
   "pygments_lexer": "ipython3",
   "version": "3.6.12"
  }
 },
 "nbformat": 4,
 "nbformat_minor": 5
}

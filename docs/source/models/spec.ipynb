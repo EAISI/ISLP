{
 "cells": [
  {
   "cell_type": "markdown",
   "id": "typical-correlation",
   "metadata": {},
   "source": [
    "# Building design matrices with `ModelSpec`\n",
    "\n",
    "Force rebuild"
   ]
  },
  {
   "cell_type": "code",
   "execution_count": 1,
   "id": "sticky-desperate",
   "metadata": {},
   "outputs": [],
   "source": [
    "x=4\n",
    "import numpy as np, pandas as pd\n",
    "%load_ext rpy2.ipython\n",
    "\n",
    "from ISLP import load_data\n",
    "from ISLP.models import ModelSpec\n",
    "\n",
    "import statsmodels.api as sm"
   ]
  },
  {
   "cell_type": "code",
   "execution_count": 2,
   "id": "devoted-antique",
   "metadata": {},
   "outputs": [
    {
     "data": {
      "text/plain": [
       "Index(['Sales', 'CompPrice', 'Income', 'Advertising', 'Population', 'Price',\n",
       "       'ShelveLoc', 'Age', 'Education', 'Urban', 'US'],\n",
       "      dtype='object')"
      ]
     },
     "execution_count": 2,
     "metadata": {},
     "output_type": "execute_result"
    }
   ],
   "source": [
    "Carseats = load_data('Carseats')\n",
    "%R -i Carseats\n",
    "Carseats.columns"
   ]
  },
  {
   "cell_type": "markdown",
   "id": "excellent-hamilton",
   "metadata": {},
   "source": [
    "## Let's break up income into groups"
   ]
  },
  {
   "cell_type": "code",
   "execution_count": 3,
   "id": "going-administrator",
   "metadata": {},
   "outputs": [
    {
     "data": {
      "text/plain": [
       "0      M\n",
       "1      L\n",
       "2      L\n",
       "3      H\n",
       "4      M\n",
       "      ..\n",
       "395    H\n",
       "396    L\n",
       "397    L\n",
       "398    M\n",
       "399    L\n",
       "Name: OIncome, Length: 400, dtype: category\n",
       "Categories (3, object): ['L' < 'M' < 'H']"
      ]
     },
     "execution_count": 3,
     "metadata": {},
     "output_type": "execute_result"
    }
   ],
   "source": [
    "Carseats['OIncome'] = pd.cut(Carseats['Income'], \n",
    "                             [0,50,90,200], \n",
    "                             labels=['L','M','H'])\n",
    "Carseats['OIncome']"
   ]
  },
  {
   "cell_type": "markdown",
   "id": "warming-mobile",
   "metadata": {},
   "source": [
    "Let's also create an unordered version"
   ]
  },
  {
   "cell_type": "code",
   "execution_count": 4,
   "id": "varying-fourth",
   "metadata": {},
   "outputs": [
    {
     "data": {
      "text/plain": [
       "0      M\n",
       "1      L\n",
       "2      L\n",
       "3      H\n",
       "4      M\n",
       "      ..\n",
       "395    H\n",
       "396    L\n",
       "397    L\n",
       "398    M\n",
       "399    L\n",
       "Name: UIncome, Length: 400, dtype: category\n",
       "Categories (3, object): ['L', 'M', 'H']"
      ]
     },
     "execution_count": 4,
     "metadata": {},
     "output_type": "execute_result"
    }
   ],
   "source": [
    "Carseats['UIncome'] = pd.cut(Carseats['Income'], \n",
    "                             [0,50,90,200], \n",
    "                             labels=['L','M','H'],\n",
    "                             ordered=False)\n",
    "Carseats['UIncome']"
   ]
  },
  {
   "cell_type": "markdown",
   "id": "utility-viking",
   "metadata": {},
   "source": [
    "## A simple model"
   ]
  },
  {
   "cell_type": "code",
   "execution_count": 5,
   "id": "unlikely-begin",
   "metadata": {},
   "outputs": [
    {
     "data": {
      "text/plain": [
       "Index(['intercept', 'Price', 'Income'], dtype='object')"
      ]
     },
     "execution_count": 5,
     "metadata": {},
     "output_type": "execute_result"
    }
   ],
   "source": [
    "design = ModelSpec(['Price', 'Income'])\n",
    "X = design.fit_transform(Carseats)\n",
    "X.columns"
   ]
  },
  {
   "cell_type": "code",
   "execution_count": 6,
   "id": "driven-employee",
   "metadata": {},
   "outputs": [
    {
     "data": {
      "text/plain": [
       "intercept    12.661546\n",
       "Price        -0.052213\n",
       "Income        0.012829\n",
       "dtype: float64"
      ]
     },
     "execution_count": 6,
     "metadata": {},
     "output_type": "execute_result"
    }
   ],
   "source": [
    "Y = Carseats['Sales']\n",
    "M = sm.OLS(Y, X).fit()\n",
    "M.params"
   ]
  },
  {
   "cell_type": "markdown",
   "id": "secondary-winner",
   "metadata": {},
   "source": [
    "## Basic procedure\n",
    "\n",
    "The design matrix is built by cobbling together a set of columns and possibly transforming them.\n",
    "A `pd.DataFrame` is essentially a list of columns. One of the first tasks done  in `ModelSpec.fit`\n",
    "is to inspect a dataframe for column info. The column `ShelveLoc` is categorical:"
   ]
  },
  {
   "cell_type": "code",
   "execution_count": 7,
   "id": "bored-making",
   "metadata": {},
   "outputs": [
    {
     "data": {
      "text/plain": [
       "0         Bad\n",
       "1        Good\n",
       "2      Medium\n",
       "3      Medium\n",
       "4         Bad\n",
       "        ...  \n",
       "395      Good\n",
       "396    Medium\n",
       "397    Medium\n",
       "398       Bad\n",
       "399      Good\n",
       "Name: ShelveLoc, Length: 400, dtype: category\n",
       "Categories (3, object): ['Bad', 'Good', 'Medium']"
      ]
     },
     "execution_count": 7,
     "metadata": {},
     "output_type": "execute_result"
    }
   ],
   "source": [
    "Carseats['ShelveLoc']"
   ]
  },
  {
   "cell_type": "markdown",
   "id": "phantom-assurance",
   "metadata": {},
   "source": [
    "This is recognized by `ModelSpec` in the form of `Column` objects which are just named tuples with two methods\n",
    "`get_columns` and `fit_encoder`."
   ]
  },
  {
   "cell_type": "code",
   "execution_count": 8,
   "id": "blind-harvest",
   "metadata": {},
   "outputs": [
    {
     "data": {
      "text/plain": [
       "Column(idx='ShelveLoc', name='ShelveLoc', is_categorical=True, is_ordinal=False, columns=('ShelveLoc[Good]', 'ShelveLoc[Medium]'), encoder=Contrast())"
      ]
     },
     "execution_count": 8,
     "metadata": {},
     "output_type": "execute_result"
    }
   ],
   "source": [
    "design.column_info_['ShelveLoc']"
   ]
  },
  {
   "cell_type": "markdown",
   "id": "suspended-affairs",
   "metadata": {},
   "source": [
    "It recognized ordinal columns as well."
   ]
  },
  {
   "cell_type": "code",
   "execution_count": 9,
   "id": "military-locking",
   "metadata": {},
   "outputs": [
    {
     "data": {
      "text/plain": [
       "Column(idx='OIncome', name='OIncome', is_categorical=True, is_ordinal=True, columns=('OIncome',), encoder=OrdinalEncoder())"
      ]
     },
     "execution_count": 9,
     "metadata": {},
     "output_type": "execute_result"
    }
   ],
   "source": [
    "design.column_info_['OIncome']"
   ]
  },
  {
   "cell_type": "code",
   "execution_count": 10,
   "id": "italic-shakespeare",
   "metadata": {},
   "outputs": [
    {
     "data": {
      "text/plain": [
       "(array([ 73,  48,  35, 100]), ('Income',))"
      ]
     },
     "execution_count": 10,
     "metadata": {},
     "output_type": "execute_result"
    }
   ],
   "source": [
    "income = design.column_info_['Income']\n",
    "cols, names = income.get_columns(Carseats)\n",
    "(cols[:4], names)"
   ]
  },
  {
   "cell_type": "markdown",
   "id": "medieval-speed",
   "metadata": {},
   "source": [
    "## Encoding a column\n",
    "\n",
    "In building a design matrix we must extract columns from our dataframe (or `np.ndarray`). Categorical\n",
    "variables usually are encoded by several columns, typically one less than the number of categories.\n",
    "This task is handled by the `encoder` of the `Column`. The encoder must satisfy the `sklearn` transform\n",
    "model, i.e. `fit` on some array and `transform` on future arrays. The `fit_encoder` method of `Column` fits\n",
    "its encoder the first time data is passed to it."
   ]
  },
  {
   "cell_type": "code",
   "execution_count": 11,
   "id": "public-basket",
   "metadata": {},
   "outputs": [
    {
     "data": {
      "text/plain": [
       "(array([[0., 0.],\n",
       "        [1., 0.],\n",
       "        [0., 1.],\n",
       "        [0., 1.]]),\n",
       " ['ShelveLoc[Good]', 'ShelveLoc[Medium]'])"
      ]
     },
     "execution_count": 11,
     "metadata": {},
     "output_type": "execute_result"
    }
   ],
   "source": [
    "shelve = design.column_info_['ShelveLoc']\n",
    "cols, names = shelve.get_columns(Carseats)\n",
    "(cols[:4], names)"
   ]
  },
  {
   "cell_type": "code",
   "execution_count": 12,
   "id": "improved-alloy",
   "metadata": {},
   "outputs": [
    {
     "data": {
      "text/plain": [
       "array([[2.],\n",
       "       [1.],\n",
       "       [1.],\n",
       "       [0.]])"
      ]
     },
     "execution_count": 12,
     "metadata": {},
     "output_type": "execute_result"
    }
   ],
   "source": [
    "oincome = design.column_info_['OIncome']\n",
    "oincome.get_columns(Carseats)[0][:4]"
   ]
  },
  {
   "cell_type": "markdown",
   "id": "frank-mathematics",
   "metadata": {},
   "source": [
    "## The terms\n",
    "\n",
    "The design matrix consists of several sets of columns. This is managed by the `ModelSpec` through\n",
    "the `terms` argument which should be a sequence. The elements of `terms` are often\n",
    "going to be strings (or tuples of strings for interactions, see below) but are converted to a\n",
    "`Variable` object and stored in the `terms_` of the fitted `ModelSpec`. A `Variable` is just a named tuple."
   ]
  },
  {
   "cell_type": "code",
   "execution_count": 13,
   "id": "together-north",
   "metadata": {},
   "outputs": [
    {
     "data": {
      "text/plain": [
       "['Price', 'Income']"
      ]
     },
     "execution_count": 13,
     "metadata": {},
     "output_type": "execute_result"
    }
   ],
   "source": [
    "design.terms"
   ]
  },
  {
   "cell_type": "code",
   "execution_count": 14,
   "id": "chinese-necessity",
   "metadata": {},
   "outputs": [
    {
     "data": {
      "text/plain": [
       "[Variable(variables=('Price',), name='Price', encoder=None, use_transform=True, pure_columns=True, override_encoder_colnames=False),\n",
       " Variable(variables=('Income',), name='Income', encoder=None, use_transform=True, pure_columns=True, override_encoder_colnames=False)]"
      ]
     },
     "execution_count": 14,
     "metadata": {},
     "output_type": "execute_result"
    }
   ],
   "source": [
    "design.terms_"
   ]
  },
  {
   "cell_type": "markdown",
   "id": "simplified-chinese",
   "metadata": {},
   "source": [
    "While each `Column` can itself extract data, they are all promoted to `Variable` to be of a uniform type.  A\n",
    "`Variable` can also create columns through the `build_columns` method of `ModelSpec`"
   ]
  },
  {
   "cell_type": "code",
   "execution_count": 15,
   "id": "automotive-hobby",
   "metadata": {},
   "outputs": [
    {
     "data": {
      "text/plain": [
       "(     Price\n",
       " 0      120\n",
       " 1       83\n",
       " 2       80\n",
       " 3       97\n",
       " 4      128\n",
       " ..     ...\n",
       " 395    128\n",
       " 396    120\n",
       " 397    159\n",
       " 398     95\n",
       " 399    120\n",
       " \n",
       " [400 rows x 1 columns],\n",
       " ['Price'])"
      ]
     },
     "execution_count": 15,
     "metadata": {},
     "output_type": "execute_result"
    }
   ],
   "source": [
    "price = design.terms_[0]\n",
    "design.build_columns(Carseats, price)"
   ]
  },
  {
   "cell_type": "markdown",
   "id": "former-spring",
   "metadata": {},
   "source": [
    "Note that `Variable` objects have a tuple of `variables` as well as an `encoder` attribute. The\n",
    "tuple of `variables` first creates a concatenated dataframe from all corresponding variables and then\n",
    "is run through `encoder.transform`. The `encoder.fit` method of each `Variable` is run once during \n",
    "the call to `ModelSpec.fit`."
   ]
  },
  {
   "cell_type": "code",
   "execution_count": 16,
   "id": "floral-liabilities",
   "metadata": {},
   "outputs": [
    {
     "data": {
      "text/plain": [
       "(     Price  Income  UIncome[L]  UIncome[M]\n",
       " 0    120.0    73.0         0.0         1.0\n",
       " 1     83.0    48.0         1.0         0.0\n",
       " 2     80.0    35.0         1.0         0.0\n",
       " 3     97.0   100.0         0.0         0.0\n",
       " 4    128.0    64.0         0.0         1.0\n",
       " ..     ...     ...         ...         ...\n",
       " 395  128.0   108.0         0.0         0.0\n",
       " 396  120.0    23.0         1.0         0.0\n",
       " 397  159.0    26.0         1.0         0.0\n",
       " 398   95.0    79.0         0.0         1.0\n",
       " 399  120.0    37.0         1.0         0.0\n",
       " \n",
       " [400 rows x 4 columns],\n",
       " ['Price', 'Income', 'UIncome[L]', 'UIncome[M]'])"
      ]
     },
     "execution_count": 16,
     "metadata": {},
     "output_type": "execute_result"
    }
   ],
   "source": [
    "from ISLP.models.model_spec import Variable\n",
    "\n",
    "new_var = Variable(('Price', 'Income', 'UIncome'), name='mynewvar', encoder=None)\n",
    "design.build_columns(Carseats, new_var)"
   ]
  },
  {
   "cell_type": "markdown",
   "id": "reasonable-canadian",
   "metadata": {},
   "source": [
    "Let's now transform these columns with an encoder. Within `ModelSpec` we will first build the\n",
    "arrays above and then call `pca.fit` and finally `pca.transform` within `design.build_columns`."
   ]
  },
  {
   "cell_type": "code",
   "execution_count": 17,
   "id": "imported-measure",
   "metadata": {},
   "outputs": [
    {
     "name": "stderr",
     "output_type": "stream",
     "text": [
      "/Users/jonathantaylor/miniconda3/envs/islp_test/lib/python3.9/site-packages/sklearn/base.py:450: UserWarning: X does not have valid feature names, but PCA was fitted with feature names\n",
      "  warnings.warn(\n"
     ]
    },
    {
     "data": {
      "text/plain": [
       "(     mynewvar[0]  mynewvar[1]\n",
       " 0      -3.608693    -4.853177\n",
       " 1      15.081506    35.708630\n",
       " 2      27.422871    40.774250\n",
       " 3     -33.973209    13.470489\n",
       " 4       6.567316   -11.290100\n",
       " ..           ...          ...\n",
       " 395   -36.846346   -18.415783\n",
       " 396    45.741500     3.245602\n",
       " 397    49.097533   -35.725355\n",
       " 398   -13.577772    18.845139\n",
       " 399    31.927566     0.978436\n",
       " \n",
       " [400 rows x 2 columns],\n",
       " ['mynewvar[0]', 'mynewvar[1]'])"
      ]
     },
     "execution_count": 17,
     "metadata": {},
     "output_type": "execute_result"
    }
   ],
   "source": [
    "from sklearn.decomposition import PCA\n",
    "pca = PCA(n_components=2)\n",
    "pca.fit(design.build_columns(Carseats, new_var)[0]) # this is done within `ModelSpec.fit`\n",
    "pca_var = Variable(('Price', 'Income', 'UIncome'), name='mynewvar', encoder=pca)\n",
    "design.build_columns(Carseats, pca_var)"
   ]
  },
  {
   "cell_type": "markdown",
   "id": "institutional-burden",
   "metadata": {},
   "source": [
    "The elements of the `variables` attribute may be column identifiers ( `\"Price\"`), `Column` instances (`price`)\n",
    "or `Variable` instances (`pca_var`)."
   ]
  },
  {
   "cell_type": "code",
   "execution_count": 18,
   "id": "western-bloom",
   "metadata": {},
   "outputs": [
    {
     "name": "stderr",
     "output_type": "stream",
     "text": [
      "/Users/jonathantaylor/miniconda3/envs/islp_test/lib/python3.9/site-packages/sklearn/base.py:450: UserWarning: X does not have valid feature names, but PCA was fitted with feature names\n",
      "  warnings.warn(\n"
     ]
    },
    {
     "data": {
      "text/plain": [
       "(     Price  Price  mynewvar[0]  mynewvar[1]\n",
       " 0    120.0  120.0    -3.608693    -4.853177\n",
       " 1     83.0   83.0    15.081506    35.708630\n",
       " 2     80.0   80.0    27.422871    40.774250\n",
       " 3     97.0   97.0   -33.973209    13.470489\n",
       " 4    128.0  128.0     6.567316   -11.290100\n",
       " ..     ...    ...          ...          ...\n",
       " 395  128.0  128.0   -36.846346   -18.415783\n",
       " 396  120.0  120.0    45.741500     3.245602\n",
       " 397  159.0  159.0    49.097533   -35.725355\n",
       " 398   95.0   95.0   -13.577772    18.845139\n",
       " 399  120.0  120.0    31.927566     0.978436\n",
       " \n",
       " [400 rows x 4 columns],\n",
       " ['Price', 'Price', 'mynewvar[0]', 'mynewvar[1]'])"
      ]
     },
     "execution_count": 18,
     "metadata": {},
     "output_type": "execute_result"
    }
   ],
   "source": [
    "fancy_var = Variable(('Price', price, pca_var), name='fancy', encoder=None)\n",
    "design.build_columns(Carseats, fancy_var)"
   ]
  },
  {
   "cell_type": "markdown",
   "id": "ordinary-newman",
   "metadata": {},
   "source": [
    "We can of course run PCA again on these features (if we wanted)."
   ]
  },
  {
   "cell_type": "code",
   "execution_count": 19,
   "id": "modern-negotiation",
   "metadata": {},
   "outputs": [
    {
     "name": "stderr",
     "output_type": "stream",
     "text": [
      "/Users/jonathantaylor/miniconda3/envs/islp_test/lib/python3.9/site-packages/sklearn/base.py:450: UserWarning: X does not have valid feature names, but PCA was fitted with feature names\n",
      "  warnings.warn(\n",
      "/Users/jonathantaylor/miniconda3/envs/islp_test/lib/python3.9/site-packages/sklearn/base.py:450: UserWarning: X does not have valid feature names, but PCA was fitted with feature names\n",
      "  warnings.warn(\n",
      "/Users/jonathantaylor/miniconda3/envs/islp_test/lib/python3.9/site-packages/sklearn/base.py:450: UserWarning: X does not have valid feature names, but PCA was fitted with feature names\n",
      "  warnings.warn(\n"
     ]
    },
    {
     "data": {
      "text/plain": [
       "(     fancy_pca[0]  fancy_pca[1]\n",
       " 0       -6.951792      4.859283\n",
       " 1       55.170148    -24.694875\n",
       " 2       59.418556    -38.033572\n",
       " 3       34.722389     28.922184\n",
       " 4      -21.419184     -3.120673\n",
       " ..            ...           ...\n",
       " 395    -18.257348     40.760122\n",
       " 396    -10.546709    -45.021658\n",
       " 397    -77.706359    -37.174379\n",
       " 398     36.668694      7.730851\n",
       " 399     -9.540535    -31.059122\n",
       " \n",
       " [400 rows x 2 columns],\n",
       " ['fancy_pca[0]', 'fancy_pca[1]'])"
      ]
     },
     "execution_count": 19,
     "metadata": {},
     "output_type": "execute_result"
    }
   ],
   "source": [
    "pca2 = PCA(n_components=2)\n",
    "pca2.fit(design.build_columns(Carseats, fancy_var)[0]) # this is done within `ModelSpec.fit`\n",
    "pca2_var = Variable(('Price', price, pca_var), name='fancy_pca', encoder=pca2)\n",
    "design.build_columns(Carseats, pca2_var)"
   ]
  },
  {
   "cell_type": "markdown",
   "id": "private-shepherd",
   "metadata": {},
   "source": [
    "## Building the design matrix\n",
    "\n",
    "With these notions in mind, the final design is essentially then"
   ]
  },
  {
   "cell_type": "code",
   "execution_count": 20,
   "id": "hollywood-union",
   "metadata": {},
   "outputs": [],
   "source": [
    "X_hand = np.column_stack([design.build_columns(Carseats, v)[0] for v in design.terms_])[:4]"
   ]
  },
  {
   "cell_type": "markdown",
   "id": "suffering-lover",
   "metadata": {},
   "source": [
    "An intercept column is added if `design.intercept` is `True` and if the original argument to `transform` is\n",
    "a dataframe the index is adjusted accordingly."
   ]
  },
  {
   "cell_type": "code",
   "execution_count": 21,
   "id": "successful-express",
   "metadata": {},
   "outputs": [
    {
     "data": {
      "text/plain": [
       "True"
      ]
     },
     "execution_count": 21,
     "metadata": {},
     "output_type": "execute_result"
    }
   ],
   "source": [
    "design.intercept"
   ]
  },
  {
   "cell_type": "code",
   "execution_count": 22,
   "id": "banner-metadata",
   "metadata": {},
   "outputs": [
    {
     "data": {
      "text/html": [
       "<div>\n",
       "<style scoped>\n",
       "    .dataframe tbody tr th:only-of-type {\n",
       "        vertical-align: middle;\n",
       "    }\n",
       "\n",
       "    .dataframe tbody tr th {\n",
       "        vertical-align: top;\n",
       "    }\n",
       "\n",
       "    .dataframe thead th {\n",
       "        text-align: right;\n",
       "    }\n",
       "</style>\n",
       "<table border=\"1\" class=\"dataframe\">\n",
       "  <thead>\n",
       "    <tr style=\"text-align: right;\">\n",
       "      <th></th>\n",
       "      <th>intercept</th>\n",
       "      <th>Price</th>\n",
       "      <th>Income</th>\n",
       "    </tr>\n",
       "  </thead>\n",
       "  <tbody>\n",
       "    <tr>\n",
       "      <th>0</th>\n",
       "      <td>1.0</td>\n",
       "      <td>120</td>\n",
       "      <td>73</td>\n",
       "    </tr>\n",
       "    <tr>\n",
       "      <th>1</th>\n",
       "      <td>1.0</td>\n",
       "      <td>83</td>\n",
       "      <td>48</td>\n",
       "    </tr>\n",
       "    <tr>\n",
       "      <th>2</th>\n",
       "      <td>1.0</td>\n",
       "      <td>80</td>\n",
       "      <td>35</td>\n",
       "    </tr>\n",
       "    <tr>\n",
       "      <th>3</th>\n",
       "      <td>1.0</td>\n",
       "      <td>97</td>\n",
       "      <td>100</td>\n",
       "    </tr>\n",
       "  </tbody>\n",
       "</table>\n",
       "</div>"
      ],
      "text/plain": [
       "   intercept  Price  Income\n",
       "0        1.0    120      73\n",
       "1        1.0     83      48\n",
       "2        1.0     80      35\n",
       "3        1.0     97     100"
      ]
     },
     "execution_count": 22,
     "metadata": {},
     "output_type": "execute_result"
    }
   ],
   "source": [
    "design.transform(Carseats)[:4]"
   ]
  },
  {
   "cell_type": "markdown",
   "id": "absent-branch",
   "metadata": {},
   "source": [
    "## Predicting\n",
    "\n",
    "Constructing the design matrix at any values is carried out by the `transform` method."
   ]
  },
  {
   "cell_type": "code",
   "execution_count": 23,
   "id": "naked-hollywood",
   "metadata": {},
   "outputs": [
    {
     "data": {
      "text/plain": [
       "array([12.65257604, 12.25873428])"
      ]
     },
     "execution_count": 23,
     "metadata": {},
     "output_type": "execute_result"
    }
   ],
   "source": [
    "new_data = pd.DataFrame({'Price':[10,20], 'Income':[40, 50]})\n",
    "new_X = design.transform(new_data)\n",
    "M.get_prediction(new_X).predicted_mean"
   ]
  },
  {
   "cell_type": "code",
   "execution_count": 24,
   "id": "iraqi-divorce",
   "metadata": {},
   "outputs": [
    {
     "name": "stdout",
     "output_type": "stream",
     "text": [
      "       0        1 \n",
      "12.65258 12.25873 \n"
     ]
    }
   ],
   "source": [
    "%%R -i new_data,Carseats\n",
    "predict(lm(Sales ~ Price + Income, data=Carseats), new_data)"
   ]
  },
  {
   "cell_type": "markdown",
   "id": "signal-yahoo",
   "metadata": {},
   "source": [
    "### Difference between using `pd.DataFrame` and `np.ndarray`\n",
    "\n",
    "If the `terms` only refer to a few columns of the data frame, the `transform` method only needs a dataframe with those columns.\n",
    "\n",
    "If we had used an `np.ndarray`, the column identifiers would be integers identifying specific columns so,\n",
    "in order to work correctly, `transform` would need another `np.ndarray` where the columns have the same meaning."
   ]
  },
  {
   "cell_type": "code",
   "execution_count": 25,
   "id": "completed-surveillance",
   "metadata": {},
   "outputs": [
    {
     "data": {
      "text/plain": [
       "array([[1.0, 120, 73],\n",
       "       [1.0, 83, 48],\n",
       "       [1.0, 80, 35],\n",
       "       [1.0, 97, 100]], dtype=object)"
      ]
     },
     "execution_count": 25,
     "metadata": {},
     "output_type": "execute_result"
    }
   ],
   "source": [
    "Carseats_np = np.asarray(Carseats[['Price', 'ShelveLoc', 'US', 'Income']])\n",
    "design_np = ModelSpec([0,3]).fit(Carseats_np)\n",
    "design_np.transform(Carseats_np)[:4]"
   ]
  },
  {
   "cell_type": "markdown",
   "id": "undefined-sacrifice",
   "metadata": {},
   "source": [
    "The following will fail for hopefully obvious reasons"
   ]
  },
  {
   "cell_type": "code",
   "execution_count": 26,
   "id": "incredible-concert",
   "metadata": {},
   "outputs": [
    {
     "name": "stdout",
     "output_type": "stream",
     "text": [
      "shapes (2,2) and (3,) not aligned: 2 (dim 1) != 3 (dim 0)\n"
     ]
    }
   ],
   "source": [
    "try:\n",
    "    new_D = np.zeros((2,2))\n",
    "    new_D[:,0] = [10,20]\n",
    "    new_D[:,1] = [40,50]\n",
    "    M.get_prediction(new_D).predicted_mean\n",
    "except ValueError as e:\n",
    "    print(e)"
   ]
  },
  {
   "cell_type": "markdown",
   "id": "allied-botswana",
   "metadata": {},
   "source": [
    "Ultimately, `M` expects 3 columns for new predictions because it was fit\n",
    "with a matrix having 3 columns (the first representing an intercept).\n",
    "\n",
    "We might be tempted to try as with the `pd.DataFrame` and produce\n",
    "an `np.ndarray` with only the necessary variables."
   ]
  },
  {
   "cell_type": "code",
   "execution_count": 27,
   "id": "stunning-container",
   "metadata": {},
   "outputs": [
    {
     "name": "stdout",
     "output_type": "stream",
     "text": [
      "index 3 is out of bounds for axis 1 with size 2\n"
     ]
    }
   ],
   "source": [
    "try:\n",
    "    new_X = np.zeros((2,2))\n",
    "    new_X[:,0] = [10,20]\n",
    "    new_X[:,1] = [40,50]\n",
    "    new_D = design_np.transform(new_X)\n",
    "    M.get_prediction(new_D).predicted_mean\n",
    "except IndexError as e:\n",
    "    print(e)"
   ]
  },
  {
   "cell_type": "markdown",
   "id": "specific-tobacco",
   "metadata": {},
   "source": [
    "This fails because `design_np` is looking for column `3` from its `terms`:"
   ]
  },
  {
   "cell_type": "code",
   "execution_count": 28,
   "id": "latin-publisher",
   "metadata": {},
   "outputs": [
    {
     "data": {
      "text/plain": [
       "[Variable(variables=(0,), name='0', encoder=None, use_transform=True, pure_columns=True, override_encoder_colnames=False),\n",
       " Variable(variables=(3,), name='3', encoder=None, use_transform=True, pure_columns=True, override_encoder_colnames=False)]"
      ]
     },
     "execution_count": 28,
     "metadata": {},
     "output_type": "execute_result"
    }
   ],
   "source": [
    "design_np.terms_"
   ]
  },
  {
   "cell_type": "markdown",
   "id": "rocky-franchise",
   "metadata": {},
   "source": [
    "However, if we have an `np.ndarray` in which the first column indeed represents `Price` and the fourth indeed\n",
    "represents `Income` then we can arrive at the correct answer by supplying such the array to `design_np.transform`:"
   ]
  },
  {
   "cell_type": "code",
   "execution_count": 29,
   "id": "returning-matthew",
   "metadata": {},
   "outputs": [
    {
     "data": {
      "text/plain": [
       "array([12.65257604, 12.25873428])"
      ]
     },
     "execution_count": 29,
     "metadata": {},
     "output_type": "execute_result"
    }
   ],
   "source": [
    "new_X = np.zeros((2,4))\n",
    "new_X[:,0] = [10,20]\n",
    "new_X[:,3] = [40,50]\n",
    "new_D = design_np.transform(new_X)\n",
    "M.get_prediction(new_D).predicted_mean"
   ]
  },
  {
   "cell_type": "markdown",
   "id": "sapphire-adelaide",
   "metadata": {},
   "source": [
    "Given this subtlety about needing to supply arrays with identical column structure to `transform` when\n",
    "using `np.ndarray` we presume that using a `pd.DataFrame` will be the more popular use case."
   ]
  },
  {
   "cell_type": "markdown",
   "id": "standing-involvement",
   "metadata": {},
   "source": [
    "## A model with some categorical variables\n",
    "\n",
    "Categorical variables become `Column` instances with encoders."
   ]
  },
  {
   "cell_type": "code",
   "execution_count": 30,
   "id": "taken-university",
   "metadata": {},
   "outputs": [
    {
     "data": {
      "text/plain": [
       "Column(idx='UIncome', name='UIncome', is_categorical=True, is_ordinal=False, columns=('UIncome[L]', 'UIncome[M]'), encoder=Contrast())"
      ]
     },
     "execution_count": 30,
     "metadata": {},
     "output_type": "execute_result"
    }
   ],
   "source": [
    "design = ModelSpec(['Population', 'Price', 'UIncome', 'ShelveLoc']).fit(Carseats)\n",
    "design.column_info_['UIncome']"
   ]
  },
  {
   "cell_type": "code",
   "execution_count": 31,
   "id": "rural-cycling",
   "metadata": {},
   "outputs": [
    {
     "data": {
      "text/plain": [
       "Index(['intercept', 'Population', 'Price', 'UIncome[L]', 'UIncome[M]',\n",
       "       'ShelveLoc[Good]', 'ShelveLoc[Medium]'],\n",
       "      dtype='object')"
      ]
     },
     "execution_count": 31,
     "metadata": {},
     "output_type": "execute_result"
    }
   ],
   "source": [
    "X = design.fit_transform(Carseats)\n",
    "X.columns"
   ]
  },
  {
   "cell_type": "code",
   "execution_count": 32,
   "id": "former-trick",
   "metadata": {},
   "outputs": [
    {
     "data": {
      "text/plain": [
       "intercept            11.876012\n",
       "Population            0.001163\n",
       "Price                -0.055725\n",
       "UIncome[L]           -1.042297\n",
       "UIncome[M]           -0.119123\n",
       "ShelveLoc[Good]       4.999623\n",
       "ShelveLoc[Medium]     1.964278\n",
       "dtype: float64"
      ]
     },
     "execution_count": 32,
     "metadata": {},
     "output_type": "execute_result"
    }
   ],
   "source": [
    "sm.OLS(Y, X).fit().params"
   ]
  },
  {
   "cell_type": "code",
   "execution_count": 33,
   "id": "specialized-processing",
   "metadata": {},
   "outputs": [
    {
     "name": "stdout",
     "output_type": "stream",
     "text": [
      "    (Intercept)      Population           Price        UIncomeM        UIncomeH \n",
      "    10.83371503      0.00116301     -0.05572469      0.92317388      1.04229679 \n",
      "  ShelveLocGood ShelveLocMedium \n",
      "     4.99962319      1.96427771 \n"
     ]
    }
   ],
   "source": [
    "%%R\n",
    "lm(Sales ~ Population + Price + UIncome + ShelveLoc, data=Carseats)$coef"
   ]
  },
  {
   "cell_type": "markdown",
   "id": "verified-administrator",
   "metadata": {},
   "source": [
    "## Getting the encoding you want\n",
    "\n",
    "By default the level dropped by `ModelSpec` will be the first of the `categories_` values from \n",
    "`sklearn.preprocessing.OneHotEncoder()`. We might wish to change this. It seems\n",
    "as if the correct way to do this would be something like `Variable(('UIncome',), 'mynewencoding', new_encoder)`\n",
    "where `new_encoder` would somehow drop the column we want dropped. \n",
    "\n",
    "However, when using the convenient identifier `UIncome` in the `variables` argument, this maps to the `Column` associated to `UIncome` within `design.column_info_`:"
   ]
  },
  {
   "cell_type": "code",
   "execution_count": 34,
   "id": "limited-johns",
   "metadata": {},
   "outputs": [
    {
     "data": {
      "text/plain": [
       "Column(idx='UIncome', name='UIncome', is_categorical=True, is_ordinal=False, columns=('UIncome[L]', 'UIncome[M]'), encoder=Contrast())"
      ]
     },
     "execution_count": 34,
     "metadata": {},
     "output_type": "execute_result"
    }
   ],
   "source": [
    "design.column_info_['UIncome']"
   ]
  },
  {
   "cell_type": "markdown",
   "id": "saving-remainder",
   "metadata": {},
   "source": [
    "This column already has an encoder and `Column` instances are immutable as named tuples. Further, there are times when \n",
    "we may want to encode `UIncome` differently within the same model. In the model below the main effect of `UIncome` is encoded with two columns while in the interaction `UIncome` (see below) has three columns. This is a design of interest\n",
    "and we need a way to allow different encodings of the same column of `Carseats`"
   ]
  },
  {
   "cell_type": "code",
   "execution_count": 35,
   "id": "satisfied-harbor",
   "metadata": {},
   "outputs": [
    {
     "name": "stdout",
     "output_type": "stream",
     "text": [
      "\n",
      "Call:\n",
      "lm(formula = Sales ~ UIncome:ShelveLoc + UIncome, data = Carseats)\n",
      "\n",
      "Coefficients:\n",
      "             (Intercept)                  UIncomeM                  UIncomeH  \n",
      "                  5.1317                    0.1151                    1.1561  \n",
      "  UIncomeL:ShelveLocGood    UIncomeM:ShelveLocGood    UIncomeH:ShelveLocGood  \n",
      "                  4.5121                    5.5752                    3.7381  \n",
      "UIncomeL:ShelveLocMedium  UIncomeM:ShelveLocMedium  UIncomeH:ShelveLocMedium  \n",
      "                  1.2473                    2.4782                    1.5141  \n",
      "\n"
     ]
    }
   ],
   "source": [
    "%%R\n",
    "lm(Sales ~ UIncome:ShelveLoc + UIncome, data=Carseats)"
   ]
  },
  {
   "cell_type": "markdown",
   "id": "silver-wesley",
   "metadata": {},
   "source": [
    " We can create a new \n",
    "`Column` with the encoder we want. For categorical variables, there is a convenience function to do so."
   ]
  },
  {
   "cell_type": "code",
   "execution_count": 36,
   "id": "crazy-bikini",
   "metadata": {},
   "outputs": [],
   "source": [
    "from ISLP.models.model_spec import contrast\n",
    "pref_encoding = contrast('UIncome', 'drop', 'L')"
   ]
  },
  {
   "cell_type": "code",
   "execution_count": 37,
   "id": "accredited-barrier",
   "metadata": {},
   "outputs": [
    {
     "data": {
      "text/plain": [
       "(     UIncome[M]  UIncome[H]\n",
       " 0           1.0         0.0\n",
       " 1           0.0         0.0\n",
       " 2           0.0         0.0\n",
       " 3           0.0         1.0\n",
       " 4           1.0         0.0\n",
       " ..          ...         ...\n",
       " 395         0.0         1.0\n",
       " 396         0.0         0.0\n",
       " 397         0.0         0.0\n",
       " 398         1.0         0.0\n",
       " 399         0.0         0.0\n",
       " \n",
       " [400 rows x 2 columns],\n",
       " ['UIncome[M]', 'UIncome[H]'])"
      ]
     },
     "execution_count": 37,
     "metadata": {},
     "output_type": "execute_result"
    }
   ],
   "source": [
    "design.build_columns(Carseats, pref_encoding)"
   ]
  },
  {
   "cell_type": "code",
   "execution_count": 38,
   "id": "smaller-execution",
   "metadata": {},
   "outputs": [
    {
     "data": {
      "text/plain": [
       "Index(['intercept', 'Population', 'Price', 'UIncome[M]', 'UIncome[H]',\n",
       "       'ShelveLoc[Good]', 'ShelveLoc[Medium]'],\n",
       "      dtype='object')"
      ]
     },
     "execution_count": 38,
     "metadata": {},
     "output_type": "execute_result"
    }
   ],
   "source": [
    "design = ModelSpec(['Population', 'Price', pref_encoding, 'ShelveLoc']).fit(Carseats)\n",
    "X = design.fit_transform(Carseats)\n",
    "X.columns"
   ]
  },
  {
   "cell_type": "code",
   "execution_count": 39,
   "id": "limited-center",
   "metadata": {},
   "outputs": [
    {
     "data": {
      "text/plain": [
       "intercept            10.833715\n",
       "Population            0.001163\n",
       "Price                -0.055725\n",
       "UIncome[M]            0.923174\n",
       "UIncome[H]            1.042297\n",
       "ShelveLoc[Good]       4.999623\n",
       "ShelveLoc[Medium]     1.964278\n",
       "dtype: float64"
      ]
     },
     "execution_count": 39,
     "metadata": {},
     "output_type": "execute_result"
    }
   ],
   "source": [
    "sm.OLS(Y, X).fit().params"
   ]
  },
  {
   "cell_type": "code",
   "execution_count": 40,
   "id": "combined-relaxation",
   "metadata": {},
   "outputs": [
    {
     "name": "stdout",
     "output_type": "stream",
     "text": [
      "    (Intercept)      Population           Price        UIncomeM        UIncomeH \n",
      "    10.83371503      0.00116301     -0.05572469      0.92317388      1.04229679 \n",
      "  ShelveLocGood ShelveLocMedium \n",
      "     4.99962319      1.96427771 \n"
     ]
    }
   ],
   "source": [
    "%%R\n",
    "lm(Sales ~ Population + Price + UIncome + ShelveLoc, data=Carseats)$coef"
   ]
  },
  {
   "cell_type": "markdown",
   "id": "focal-determination",
   "metadata": {},
   "source": [
    "## Interactions\n",
    "\n",
    "We've referred to interactions above. These are specified (by convenience) as tuples in the `terms` argument\n",
    "to `ModelSpec`."
   ]
  },
  {
   "cell_type": "code",
   "execution_count": 41,
   "id": "earned-ready",
   "metadata": {},
   "outputs": [
    {
     "data": {
      "text/plain": [
       "intercept                       7.866634\n",
       "UIncome[L]:ShelveLoc[Good]      4.512054\n",
       "UIncome[L]:ShelveLoc[Medium]    1.247275\n",
       "UIncome[M]:ShelveLoc[Good]      5.575170\n",
       "UIncome[M]:ShelveLoc[Medium]    2.478163\n",
       "UIncome[L]                     -2.734895\n",
       "UIncome[M]                     -2.619745\n",
       "dtype: float64"
      ]
     },
     "execution_count": 41,
     "metadata": {},
     "output_type": "execute_result"
    }
   ],
   "source": [
    "design = ModelSpec([('UIncome', 'ShelveLoc'), 'UIncome'])\n",
    "X = design.fit_transform(Carseats)\n",
    "sm.OLS(Y, X).fit().params"
   ]
  },
  {
   "cell_type": "markdown",
   "id": "prescribed-accessory",
   "metadata": {},
   "source": [
    "The tuples in `terms` are converted to `Variable` in the formalized `terms_` attribute by creating a `Variable` with\n",
    "`variables` set to the tuple and the encoder an `Interaction` encoder which (unsurprisingly) creates the interaction columns from the concatenated data frames of `UIncome` and `ShelveLoc`."
   ]
  },
  {
   "cell_type": "code",
   "execution_count": 42,
   "id": "pacific-animal",
   "metadata": {},
   "outputs": [
    {
     "data": {
      "text/plain": [
       "Variable(variables=('UIncome', 'ShelveLoc'), name='UIncome:ShelveLoc', encoder=Interaction(column_names={'ShelveLoc': ['ShelveLoc[Good]', 'ShelveLoc[Medium]'],\n",
       "                          'UIncome': ['UIncome[L]', 'UIncome[M]']},\n",
       "            columns={'ShelveLoc': range(2, 4), 'UIncome': range(0, 2)},\n",
       "            variables=['UIncome', 'ShelveLoc']), use_transform=True, pure_columns=False, override_encoder_colnames=False)"
      ]
     },
     "execution_count": 42,
     "metadata": {},
     "output_type": "execute_result"
    }
   ],
   "source": [
    "design.terms_[0]"
   ]
  },
  {
   "cell_type": "markdown",
   "id": "planned-wrestling",
   "metadata": {},
   "source": [
    "Comparing this to the previous `R` model."
   ]
  },
  {
   "cell_type": "code",
   "execution_count": 43,
   "id": "given-testimony",
   "metadata": {},
   "outputs": [
    {
     "name": "stdout",
     "output_type": "stream",
     "text": [
      "\n",
      "Call:\n",
      "lm(formula = Sales ~ UIncome:ShelveLoc + UIncome, data = Carseats)\n",
      "\n",
      "Coefficients:\n",
      "             (Intercept)                  UIncomeM                  UIncomeH  \n",
      "                  5.1317                    0.1151                    1.1561  \n",
      "  UIncomeL:ShelveLocGood    UIncomeM:ShelveLocGood    UIncomeH:ShelveLocGood  \n",
      "                  4.5121                    5.5752                    3.7381  \n",
      "UIncomeL:ShelveLocMedium  UIncomeM:ShelveLocMedium  UIncomeH:ShelveLocMedium  \n",
      "                  1.2473                    2.4782                    1.5141  \n",
      "\n"
     ]
    }
   ],
   "source": [
    "%%R\n",
    "lm(Sales ~ UIncome:ShelveLoc + UIncome, data=Carseats)"
   ]
  },
  {
   "cell_type": "markdown",
   "id": "external-barrier",
   "metadata": {},
   "source": [
    "We note a few important things:\n",
    "\n",
    "1. `R` has reorganized the columns of the design from the formula: although we wrote `UIncome:ShelveLoc` first these\n",
    "columns have been built later. **`ModelSpec` builds columns in the order determined by `terms`!**\n",
    "\n",
    "2. As noted above, `R` has encoded `UIncome` differently in the main effect and in the interaction. For `ModelSpec`, the reference to `UIncome` always refers to the column in `design.column_info_` and will always build only the columns for `L` and `M`. **`ModelSpec` does no inspection of terms to decide how to encode categorical variables.**\n",
    "\n",
    "A few notes:\n",
    "\n",
    "- **Why not try to inspect the terms?** For any nontrivial formula in `R` with several categorical variables and interactions, predicting what columns will be produced from a given formula is not simple. **`ModelSpec` errs on the side of being explicit.**\n",
    "\n",
    "- **Is it impossible to build the design as `R` has?** No. An advanced user who *knows* they want the columns built as `R` has can do so (fairly) easily."
   ]
  },
  {
   "cell_type": "code",
   "execution_count": 44,
   "id": "authentic-meditation",
   "metadata": {},
   "outputs": [
    {
     "data": {
      "text/plain": [
       "(     UIncome[H]  UIncome[L]  UIncome[M]\n",
       " 0           0.0         0.0         1.0\n",
       " 1           0.0         1.0         0.0\n",
       " 2           0.0         1.0         0.0\n",
       " 3           1.0         0.0         0.0\n",
       " 4           0.0         0.0         1.0\n",
       " ..          ...         ...         ...\n",
       " 395         1.0         0.0         0.0\n",
       " 396         0.0         1.0         0.0\n",
       " 397         0.0         1.0         0.0\n",
       " 398         0.0         0.0         1.0\n",
       " 399         0.0         1.0         0.0\n",
       " \n",
       " [400 rows x 3 columns],\n",
       " ['UIncome[H]', 'UIncome[L]', 'UIncome[M]'])"
      ]
     },
     "execution_count": 44,
     "metadata": {},
     "output_type": "execute_result"
    }
   ],
   "source": [
    "full_encoding = contrast('UIncome', None)\n",
    "design.build_columns(Carseats, full_encoding)"
   ]
  },
  {
   "cell_type": "code",
   "execution_count": 45,
   "id": "lucky-success",
   "metadata": {},
   "outputs": [
    {
     "data": {
      "text/plain": [
       "intercept                       5.131739\n",
       "UIncome[M]                      0.115150\n",
       "UIncome[H]                      1.156118\n",
       "UIncome[H]:ShelveLoc[Good]      3.738052\n",
       "UIncome[H]:ShelveLoc[Medium]    1.514104\n",
       "UIncome[L]:ShelveLoc[Good]      4.512054\n",
       "UIncome[L]:ShelveLoc[Medium]    1.247275\n",
       "UIncome[M]:ShelveLoc[Good]      5.575170\n",
       "UIncome[M]:ShelveLoc[Medium]    2.478163\n",
       "dtype: float64"
      ]
     },
     "execution_count": 45,
     "metadata": {},
     "output_type": "execute_result"
    }
   ],
   "source": [
    "design = ModelSpec([pref_encoding, (full_encoding, 'ShelveLoc')])\n",
    "X = design.fit_transform(Carseats)\n",
    "sm.OLS(Y, X).fit().params"
   ]
  },
  {
   "cell_type": "markdown",
   "id": "laden-beach",
   "metadata": {},
   "source": [
    "## Special encodings\n",
    "\n",
    "For flexible models, we may want to consider transformations of features, i.e. polynomial\n",
    "or spline transformations. Given transforms that follow the `fit/transform` paradigm\n",
    "we can of course achieve this with a `Column` and an `encoder`. The `ISLP.transforms`\n",
    "package includes a `Poly` transform"
   ]
  },
  {
   "cell_type": "code",
   "execution_count": 46,
   "id": "copyrighted-luther",
   "metadata": {},
   "outputs": [
    {
     "data": {
      "text/plain": [
       "Variable(variables=('Income',), name='poly(Income, 3)', encoder=Poly(degree=3), use_transform=True, pure_columns=False, override_encoder_colnames=True)"
      ]
     },
     "execution_count": 46,
     "metadata": {},
     "output_type": "execute_result"
    }
   ],
   "source": [
    "from ISLP.models.model_spec import poly\n",
    "poly('Income', 3)"
   ]
  },
  {
   "cell_type": "code",
   "execution_count": 47,
   "id": "threatened-marine",
   "metadata": {},
   "outputs": [
    {
     "data": {
      "text/plain": [
       "intercept              5.440077\n",
       "poly(Income, 3)[0]    10.036373\n",
       "poly(Income, 3)[1]    -2.799156\n",
       "poly(Income, 3)[2]     2.399601\n",
       "ShelveLoc[Good]        4.808133\n",
       "ShelveLoc[Medium]      1.889533\n",
       "dtype: float64"
      ]
     },
     "execution_count": 47,
     "metadata": {},
     "output_type": "execute_result"
    }
   ],
   "source": [
    "design = ModelSpec([poly('Income', 3), 'ShelveLoc'])\n",
    "X = design.fit_transform(Carseats)\n",
    "sm.OLS(Y, X).fit().params"
   ]
  },
  {
   "cell_type": "markdown",
   "id": "senior-spokesman",
   "metadata": {},
   "source": [
    "Compare:"
   ]
  },
  {
   "cell_type": "code",
   "execution_count": 48,
   "id": "prompt-fifteen",
   "metadata": {},
   "outputs": [
    {
     "name": "stdout",
     "output_type": "stream",
     "text": [
      "     (Intercept) poly(Income, 3)1 poly(Income, 3)2 poly(Income, 3)3 \n",
      "        5.440077        10.036373        -2.799156         2.399601 \n",
      "   ShelveLocGood  ShelveLocMedium \n",
      "        4.808133         1.889533 \n"
     ]
    }
   ],
   "source": [
    "%%R\n",
    "lm(Sales ~ poly(Income, 3) + ShelveLoc, data=Carseats)$coef"
   ]
  },
  {
   "cell_type": "markdown",
   "id": "better-christianity",
   "metadata": {},
   "source": [
    "## Splines\n",
    "\n",
    "Support for natural and B-splines is also included"
   ]
  },
  {
   "cell_type": "code",
   "execution_count": 49,
   "id": "outstanding-performer",
   "metadata": {},
   "outputs": [
    {
     "data": {
      "text/plain": [
       "intercept              4.240421\n",
       "ns(Income, df=5)[0]    1.468196\n",
       "ns(Income, df=5)[1]    1.499471\n",
       "ns(Income, df=5)[2]    1.152070\n",
       "ns(Income, df=5)[3]    2.418398\n",
       "ns(Income, df=5)[4]    1.804460\n",
       "ShelveLoc[Good]        4.810449\n",
       "ShelveLoc[Medium]      1.881095\n",
       "dtype: float64"
      ]
     },
     "execution_count": 49,
     "metadata": {},
     "output_type": "execute_result"
    }
   ],
   "source": [
    "from ISLP.models.model_spec import ns, bs, pca\n",
    "design = ModelSpec([ns('Income', df=5), 'ShelveLoc'])\n",
    "X = design.fit_transform(Carseats)\n",
    "sm.OLS(Y, X).fit().params"
   ]
  },
  {
   "cell_type": "code",
   "execution_count": 50,
   "id": "informative-spirituality",
   "metadata": {},
   "outputs": [
    {
     "name": "stdout",
     "output_type": "stream",
     "text": [
      "        (Intercept) ns(Income, df = 5)1 ns(Income, df = 5)2 ns(Income, df = 5)3 \n",
      "           4.240421            1.468196            1.499471            1.152070 \n",
      "ns(Income, df = 5)4 ns(Income, df = 5)5       ShelveLocGood     ShelveLocMedium \n",
      "           2.418398            1.804460            4.810449            1.881095 \n"
     ]
    }
   ],
   "source": [
    "%%R\n",
    "library(splines)\n",
    "lm(Sales ~ ns(Income, df=5) + ShelveLoc, data=Carseats)$coef"
   ]
  },
  {
   "cell_type": "code",
   "execution_count": 51,
   "id": "destroyed-complexity",
   "metadata": {},
   "outputs": [
    {
     "data": {
      "text/plain": [
       "intercept                        3.495085\n",
       "bs(Income, df=7, degree=2)[0]    1.813118\n",
       "bs(Income, df=7, degree=2)[1]    0.961852\n",
       "bs(Income, df=7, degree=2)[2]    2.471545\n",
       "bs(Income, df=7, degree=2)[3]    2.158891\n",
       "bs(Income, df=7, degree=2)[4]    2.091625\n",
       "bs(Income, df=7, degree=2)[5]    2.600669\n",
       "bs(Income, df=7, degree=2)[6]    2.843108\n",
       "ShelveLoc[Good]                  4.804919\n",
       "ShelveLoc[Medium]                1.880337\n",
       "dtype: float64"
      ]
     },
     "execution_count": 51,
     "metadata": {},
     "output_type": "execute_result"
    }
   ],
   "source": [
    "design = ModelSpec([bs('Income', df=7, degree=2), 'ShelveLoc'])\n",
    "X = design.fit_transform(Carseats)\n",
    "sm.OLS(Y, X).fit().params"
   ]
  },
  {
   "cell_type": "code",
   "execution_count": 52,
   "id": "incident-nicaragua",
   "metadata": {},
   "outputs": [
    {
     "name": "stdout",
     "output_type": "stream",
     "text": [
      "                    (Intercept) bs(Income, df = 7, degree = 2)1 \n",
      "                      3.4950851                       1.8131176 \n",
      "bs(Income, df = 7, degree = 2)2 bs(Income, df = 7, degree = 2)3 \n",
      "                      0.9618523                       2.4715450 \n",
      "bs(Income, df = 7, degree = 2)4 bs(Income, df = 7, degree = 2)5 \n",
      "                      2.1588908                       2.0916252 \n",
      "bs(Income, df = 7, degree = 2)6 bs(Income, df = 7, degree = 2)7 \n",
      "                      2.6006694                       2.8431084 \n",
      "                  ShelveLocGood                 ShelveLocMedium \n",
      "                      4.8049190                       1.8803375 \n"
     ]
    }
   ],
   "source": [
    "%%R\n",
    "lm(Sales ~ bs(Income, df=7, degree=2) + ShelveLoc, data=Carseats)$coef"
   ]
  },
  {
   "cell_type": "markdown",
   "id": "formal-medline",
   "metadata": {},
   "source": [
    "## PCA"
   ]
  },
  {
   "cell_type": "code",
   "execution_count": 53,
   "id": "general-joshua",
   "metadata": {},
   "outputs": [
    {
     "name": "stderr",
     "output_type": "stream",
     "text": [
      "/Users/jonathantaylor/miniconda3/envs/islp_test/lib/python3.9/site-packages/sklearn/base.py:450: UserWarning: X does not have valid feature names, but PCA was fitted with feature names\n",
      "  warnings.warn(\n",
      "/Users/jonathantaylor/miniconda3/envs/islp_test/lib/python3.9/site-packages/sklearn/base.py:450: UserWarning: X does not have valid feature names, but PCA was fitted with feature names\n",
      "  warnings.warn(\n",
      "/Users/jonathantaylor/miniconda3/envs/islp_test/lib/python3.9/site-packages/sklearn/base.py:450: UserWarning: X does not have valid feature names, but PCA was fitted with feature names\n",
      "  warnings.warn(\n"
     ]
    },
    {
     "data": {
      "text/plain": [
       "intercept                         5.419405\n",
       "pca(myvars, n_components=2)[0]   -0.001131\n",
       "pca(myvars, n_components=2)[1]   -0.024217\n",
       "ShelveLoc[Good]                   4.816253\n",
       "ShelveLoc[Medium]                 1.924139\n",
       "dtype: float64"
      ]
     },
     "execution_count": 53,
     "metadata": {},
     "output_type": "execute_result"
    }
   ],
   "source": [
    "design = ModelSpec([pca(['Income', \n",
    "                           'Price', \n",
    "                           'Advertising', \n",
    "                           'Population'], \n",
    "                          n_components=2, \n",
    "                          name='myvars'), 'ShelveLoc'])\n",
    "X = design.fit_transform(Carseats)\n",
    "sm.OLS(Y, X).fit().params"
   ]
  },
  {
   "cell_type": "code",
   "execution_count": 54,
   "id": "coordinate-calcium",
   "metadata": {},
   "outputs": [
    {
     "name": "stdout",
     "output_type": "stream",
     "text": [
      "\n",
      "Call:\n",
      "lm(formula = Sales ~ prcomp(cbind(Income, Price, Advertising, \n",
      "    Population))$x[, 1:2] + ShelveLoc, data = Carseats)\n",
      "\n",
      "Coefficients:\n",
      "                                                      (Intercept)  \n",
      "                                                         5.419405  \n",
      "prcomp(cbind(Income, Price, Advertising, Population))$x[, 1:2]PC1  \n",
      "                                                         0.001131  \n",
      "prcomp(cbind(Income, Price, Advertising, Population))$x[, 1:2]PC2  \n",
      "                                                        -0.024217  \n",
      "                                                    ShelveLocGood  \n",
      "                                                         4.816253  \n",
      "                                                  ShelveLocMedium  \n",
      "                                                         1.924139  \n",
      "\n"
     ]
    }
   ],
   "source": [
    "%%R\n",
    "lm(Sales ~ prcomp(cbind(Income, Price, Advertising, Population))$x[,1:2] + ShelveLoc, data=Carseats)"
   ]
  },
  {
   "cell_type": "markdown",
   "id": "foster-canvas",
   "metadata": {},
   "source": [
    "It is of course common to scale before running PCA."
   ]
  },
  {
   "cell_type": "code",
   "execution_count": 55,
   "id": "geographic-founder",
   "metadata": {},
   "outputs": [
    {
     "name": "stderr",
     "output_type": "stream",
     "text": [
      "/Users/jonathantaylor/miniconda3/envs/islp_test/lib/python3.9/site-packages/sklearn/base.py:450: UserWarning: X does not have valid feature names, but StandardScaler was fitted with feature names\n",
      "  warnings.warn(\n",
      "/Users/jonathantaylor/miniconda3/envs/islp_test/lib/python3.9/site-packages/sklearn/base.py:450: UserWarning: X does not have valid feature names, but StandardScaler was fitted with feature names\n",
      "  warnings.warn(\n",
      "/Users/jonathantaylor/miniconda3/envs/islp_test/lib/python3.9/site-packages/sklearn/base.py:450: UserWarning: X does not have valid feature names, but StandardScaler was fitted with feature names\n",
      "  warnings.warn(\n"
     ]
    },
    {
     "data": {
      "text/plain": [
       "intercept                         5.352159\n",
       "pca(myvars, n_components=2)[0]    0.446383\n",
       "pca(myvars, n_components=2)[1]   -1.219788\n",
       "ShelveLoc[Good]                   4.922780\n",
       "ShelveLoc[Medium]                 2.005617\n",
       "dtype: float64"
      ]
     },
     "execution_count": 55,
     "metadata": {},
     "output_type": "execute_result"
    }
   ],
   "source": [
    "design = ModelSpec([pca(['Income', \n",
    "                           'Price', \n",
    "                           'Advertising', \n",
    "                           'Population'], \n",
    "                          n_components=2, \n",
    "                          name='myvars',\n",
    "                          scale=True), 'ShelveLoc'])\n",
    "X = design.fit_transform(Carseats)\n",
    "sm.OLS(Y, X).fit().params"
   ]
  },
  {
   "cell_type": "code",
   "execution_count": 56,
   "id": "floral-packaging",
   "metadata": {},
   "outputs": [
    {
     "name": "stdout",
     "output_type": "stream",
     "text": [
      "\n",
      "Call:\n",
      "lm(formula = Sales ~ prcomp(cbind(Income, Price, Advertising, \n",
      "    Population), scale = TRUE)$x[, 1:2] + ShelveLoc, data = Carseats)\n",
      "\n",
      "Coefficients:\n",
      "                                                                    (Intercept)  \n",
      "                                                                         5.3522  \n",
      "prcomp(cbind(Income, Price, Advertising, Population), scale = TRUE)$x[, 1:2]PC1  \n",
      "                                                                         0.4469  \n",
      "prcomp(cbind(Income, Price, Advertising, Population), scale = TRUE)$x[, 1:2]PC2  \n",
      "                                                                        -1.2213  \n",
      "                                                                  ShelveLocGood  \n",
      "                                                                         4.9228  \n",
      "                                                                ShelveLocMedium  \n",
      "                                                                         2.0056  \n",
      "\n"
     ]
    }
   ],
   "source": [
    "%%R\n",
    "lm(Sales ~ prcomp(cbind(Income, Price, Advertising, Population), scale=TRUE)$x[,1:2] + ShelveLoc, data=Carseats)"
   ]
  },
  {
   "cell_type": "markdown",
   "id": "social-cherry",
   "metadata": {},
   "source": [
    "There will be some small differences in the coefficients due to `sklearn` use of `np.std(ddof=0)` instead\n",
    "of `np.std(ddof=1)`."
   ]
  },
  {
   "cell_type": "code",
   "execution_count": 57,
   "id": "another-glory",
   "metadata": {},
   "outputs": [
    {
     "data": {
      "text/plain": [
       "array([ 0.44694166, -1.22131519])"
      ]
     },
     "execution_count": 57,
     "metadata": {},
     "output_type": "execute_result"
    }
   ],
   "source": [
    "np.array(sm.OLS(Y, X).fit().params)[1:3] * np.sqrt(X.shape[0] / (X.shape[0]-1))"
   ]
  }
 ],
 "metadata": {
  "jupytext": {
   "formats": "source/models///ipynb,jupyterbook/models///md:myst,jupyterbook/models///ipynb"
  },
  "kernelspec": {
   "display_name": "islp_test",
   "language": "python",
   "name": "islp_test"
  },
  "language_info": {
   "codemirror_mode": {
    "name": "ipython",
    "version": 3
   },
   "file_extension": ".py",
   "mimetype": "text/x-python",
   "name": "python",
   "nbconvert_exporter": "python",
   "pygments_lexer": "ipython3",
   "version": "3.9.13"
  }
 },
 "nbformat": 4,
 "nbformat_minor": 5
}

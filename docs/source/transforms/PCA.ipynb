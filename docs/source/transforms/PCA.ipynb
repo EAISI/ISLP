{
 "cells": [
  {
   "cell_type": "markdown",
   "id": "25478d81",
   "metadata": {},
   "source": [
    "# Derived features: using PCA on a subset of columns\n",
    "\n",
    "The modelling tools included in `ISLP` allow for\n",
    "construction of transformers applied to features."
   ]
  },
  {
   "cell_type": "code",
   "execution_count": 1,
   "id": "6d8987d9",
   "metadata": {},
   "outputs": [],
   "source": [
    "import numpy as np\n",
    "from ISLP import load_data\n",
    "from ISLP.models import ModelSpec, pca, Variable, derived_variable\n",
    "from sklearn.decomposition import PCA"
   ]
  },
  {
   "cell_type": "code",
   "execution_count": 2,
   "id": "6674de9d",
   "metadata": {},
   "outputs": [
    {
     "data": {
      "text/plain": [
       "Index(['Sales', 'CompPrice', 'Income', 'Advertising', 'Population', 'Price',\n",
       "       'ShelveLoc', 'Age', 'Education', 'Urban', 'US'],\n",
       "      dtype='object')"
      ]
     },
     "execution_count": 2,
     "metadata": {},
     "output_type": "execute_result"
    }
   ],
   "source": [
    "Carseats = load_data('Carseats')\n",
    "Carseats.columns"
   ]
  },
  {
   "cell_type": "markdown",
   "id": "da655f52-6f3a-4762-95ed-9b02e158bf16",
   "metadata": {},
   "source": [
    "Let's create a `ModelSpec` that is aware of all of the relevant columns."
   ]
  },
  {
   "cell_type": "code",
   "execution_count": 3,
   "id": "c9afb776-ae2b-48e0-9df8-e35dc7a81327",
   "metadata": {},
   "outputs": [],
   "source": [
    "design = ModelSpec(Carseats.columns.drop(['Sales'])).fit(Carseats)"
   ]
  },
  {
   "cell_type": "markdown",
   "id": "fff603bf",
   "metadata": {},
   "source": [
    "Suppose we want to make a `Variable` representing the first 3 principal components of the\n",
    " features `['CompPrice', 'Income', 'Advertising', 'Population', 'Price']`."
   ]
  },
  {
   "cell_type": "markdown",
   "id": "eab49ad1-3957-478f-8a76-28a8f58551e9",
   "metadata": {},
   "source": [
    "We first make a `Variable` that represents these five features columns, then `pca`\n",
    "can be used to compute a new `Variable` that returns the first three principal components."
   ]
  },
  {
   "cell_type": "code",
   "execution_count": 4,
   "id": "3e6901e9-470d-41a3-8a7d-64a8da7d80fa",
   "metadata": {},
   "outputs": [],
   "source": [
    "grouped = Variable(('CompPrice', 'Income', 'Advertising', 'Population', 'Price'), name='grouped', encoder=None)\n",
    "sklearn_pca = PCA(n_components=3, whiten=True)"
   ]
  },
  {
   "cell_type": "markdown",
   "id": "b45655a3-393d-4b4c-b754-cda61ed0e014",
   "metadata": {},
   "source": [
    "We can now fit `sklearn_pca` and create our new variable."
   ]
  },
  {
   "cell_type": "code",
   "execution_count": 5,
   "id": "6cfe8861-ad07-47b9-95d1-5d5513ff6fbe",
   "metadata": {},
   "outputs": [
    {
     "name": "stderr",
     "output_type": "stream",
     "text": [
      "/Users/jonathantaylor/miniconda3/envs/islp_test/lib/python3.9/site-packages/sklearn/base.py:450: UserWarning: X does not have valid feature names, but PCA was fitted with feature names\n",
      "  warnings.warn(\n"
     ]
    }
   ],
   "source": [
    "sklearn_pca.fit(design.build_columns(Carseats, grouped)[0]) \n",
    "pca_var = derived_variable(['CompPrice', 'Income', 'Advertising', 'Population', 'Price'],\n",
    "                           name='pca(grouped)', encoder=sklearn_pca)\n",
    "derived_features, _ = design.build_columns(Carseats, pca_var)"
   ]
  },
  {
   "cell_type": "code",
   "execution_count": 6,
   "id": "aeb47184-9e15-4a6e-b60a-916f5ff89063",
   "metadata": {},
   "outputs": [
    {
     "data": {
      "text/html": [
       "<div>\n",
       "<style scoped>\n",
       "    .dataframe tbody tr th:only-of-type {\n",
       "        vertical-align: middle;\n",
       "    }\n",
       "\n",
       "    .dataframe tbody tr th {\n",
       "        vertical-align: top;\n",
       "    }\n",
       "\n",
       "    .dataframe thead th {\n",
       "        text-align: right;\n",
       "    }\n",
       "</style>\n",
       "<table border=\"1\" class=\"dataframe\">\n",
       "  <thead>\n",
       "    <tr style=\"text-align: right;\">\n",
       "      <th></th>\n",
       "      <th>CompPrice</th>\n",
       "      <th>Income</th>\n",
       "      <th>Advertising</th>\n",
       "      <th>Population</th>\n",
       "      <th>Price</th>\n",
       "    </tr>\n",
       "  </thead>\n",
       "  <tbody>\n",
       "    <tr>\n",
       "      <th>0</th>\n",
       "      <td>138</td>\n",
       "      <td>73</td>\n",
       "      <td>11</td>\n",
       "      <td>276</td>\n",
       "      <td>120</td>\n",
       "    </tr>\n",
       "    <tr>\n",
       "      <th>1</th>\n",
       "      <td>111</td>\n",
       "      <td>48</td>\n",
       "      <td>16</td>\n",
       "      <td>260</td>\n",
       "      <td>83</td>\n",
       "    </tr>\n",
       "    <tr>\n",
       "      <th>2</th>\n",
       "      <td>113</td>\n",
       "      <td>35</td>\n",
       "      <td>10</td>\n",
       "      <td>269</td>\n",
       "      <td>80</td>\n",
       "    </tr>\n",
       "    <tr>\n",
       "      <th>3</th>\n",
       "      <td>117</td>\n",
       "      <td>100</td>\n",
       "      <td>4</td>\n",
       "      <td>466</td>\n",
       "      <td>97</td>\n",
       "    </tr>\n",
       "    <tr>\n",
       "      <th>4</th>\n",
       "      <td>141</td>\n",
       "      <td>64</td>\n",
       "      <td>3</td>\n",
       "      <td>340</td>\n",
       "      <td>128</td>\n",
       "    </tr>\n",
       "    <tr>\n",
       "      <th>...</th>\n",
       "      <td>...</td>\n",
       "      <td>...</td>\n",
       "      <td>...</td>\n",
       "      <td>...</td>\n",
       "      <td>...</td>\n",
       "    </tr>\n",
       "    <tr>\n",
       "      <th>395</th>\n",
       "      <td>138</td>\n",
       "      <td>108</td>\n",
       "      <td>17</td>\n",
       "      <td>203</td>\n",
       "      <td>128</td>\n",
       "    </tr>\n",
       "    <tr>\n",
       "      <th>396</th>\n",
       "      <td>139</td>\n",
       "      <td>23</td>\n",
       "      <td>3</td>\n",
       "      <td>37</td>\n",
       "      <td>120</td>\n",
       "    </tr>\n",
       "    <tr>\n",
       "      <th>397</th>\n",
       "      <td>162</td>\n",
       "      <td>26</td>\n",
       "      <td>12</td>\n",
       "      <td>368</td>\n",
       "      <td>159</td>\n",
       "    </tr>\n",
       "    <tr>\n",
       "      <th>398</th>\n",
       "      <td>100</td>\n",
       "      <td>79</td>\n",
       "      <td>7</td>\n",
       "      <td>284</td>\n",
       "      <td>95</td>\n",
       "    </tr>\n",
       "    <tr>\n",
       "      <th>399</th>\n",
       "      <td>134</td>\n",
       "      <td>37</td>\n",
       "      <td>0</td>\n",
       "      <td>27</td>\n",
       "      <td>120</td>\n",
       "    </tr>\n",
       "  </tbody>\n",
       "</table>\n",
       "<p>400 rows × 5 columns</p>\n",
       "</div>"
      ],
      "text/plain": [
       "     CompPrice  Income  Advertising  Population  Price\n",
       "0          138      73           11         276    120\n",
       "1          111      48           16         260     83\n",
       "2          113      35           10         269     80\n",
       "3          117     100            4         466     97\n",
       "4          141      64            3         340    128\n",
       "..         ...     ...          ...         ...    ...\n",
       "395        138     108           17         203    128\n",
       "396        139      23            3          37    120\n",
       "397        162      26           12         368    159\n",
       "398        100      79            7         284     95\n",
       "399        134      37            0          27    120\n",
       "\n",
       "[400 rows x 5 columns]"
      ]
     },
     "execution_count": 6,
     "metadata": {},
     "output_type": "execute_result"
    }
   ],
   "source": [
    "design.build_columns(Carseats, grouped)[0]"
   ]
  },
  {
   "cell_type": "markdown",
   "id": "1a882cbc-8e90-4779-b14f-6fd49f5651df",
   "metadata": {},
   "source": [
    "## Helper function\n",
    "\n",
    "The function `pca` encompasses these steps into a single function for convenience."
   ]
  },
  {
   "cell_type": "code",
   "execution_count": 7,
   "id": "9f4b0955",
   "metadata": {},
   "outputs": [],
   "source": [
    "group_pca = pca(['CompPrice', 'Income', 'Advertising', 'Population', 'Price'], \n",
    "                n_components=3, \n",
    "                whiten=True, \n",
    "                name='grouped')"
   ]
  },
  {
   "cell_type": "code",
   "execution_count": 8,
   "id": "6b382699-eb86-457f-8e91-09a63eb21d49",
   "metadata": {},
   "outputs": [
    {
     "name": "stderr",
     "output_type": "stream",
     "text": [
      "/Users/jonathantaylor/miniconda3/envs/islp_test/lib/python3.9/site-packages/sklearn/base.py:450: UserWarning: X does not have valid feature names, but PCA was fitted with feature names\n",
      "  warnings.warn(\n",
      "/Users/jonathantaylor/miniconda3/envs/islp_test/lib/python3.9/site-packages/sklearn/base.py:450: UserWarning: X does not have valid feature names, but PCA was fitted with feature names\n",
      "  warnings.warn(\n",
      "/Users/jonathantaylor/miniconda3/envs/islp_test/lib/python3.9/site-packages/sklearn/base.py:450: UserWarning: X does not have valid feature names, but PCA was fitted with feature names\n",
      "  warnings.warn(\n"
     ]
    },
    {
     "data": {
      "text/plain": [
       "Index(['pca(grouped, n_components=3, whiten=True)[0]',\n",
       "       'pca(grouped, n_components=3, whiten=True)[1]',\n",
       "       'pca(grouped, n_components=3, whiten=True)[2]'],\n",
       "      dtype='object')"
      ]
     },
     "execution_count": 8,
     "metadata": {},
     "output_type": "execute_result"
    }
   ],
   "source": [
    "pca_design = ModelSpec([group_pca], intercept=False)\n",
    "ISLP_features = pca_design.fit_transform(Carseats)\n",
    "ISLP_features.columns"
   ]
  },
  {
   "cell_type": "markdown",
   "id": "598e278c",
   "metadata": {},
   "source": [
    "## Direct comparison"
   ]
  },
  {
   "cell_type": "code",
   "execution_count": 9,
   "id": "4a8d9b28",
   "metadata": {},
   "outputs": [],
   "source": [
    "X = np.asarray(Carseats[['CompPrice', 'Income', 'Advertising', 'Population', 'Price']])\n",
    "sklearn_features = sklearn_pca.fit_transform(X)"
   ]
  },
  {
   "cell_type": "code",
   "execution_count": 10,
   "id": "6efa6c67-86e1-4f51-86c2-25c838a90bf4",
   "metadata": {},
   "outputs": [
    {
     "data": {
      "text/plain": [
       "(4.073428490498941e-14, 0.0)"
      ]
     },
     "execution_count": 10,
     "metadata": {},
     "output_type": "execute_result"
    }
   ],
   "source": [
    "np.linalg.norm(ISLP_features - sklearn_features), np.linalg.norm(ISLP_features - np.asarray(derived_features))"
   ]
  }
 ],
 "metadata": {
  "jupytext": {
   "formats": "source/transforms///ipynb,jupyterbook/transforms///md:myst,jupyterbook/transforms///ipynb"
  },
  "kernelspec": {
   "display_name": "islp_test",
   "language": "python",
   "name": "islp_test"
  },
  "language_info": {
   "codemirror_mode": {
    "name": "ipython",
    "version": 3
   },
   "file_extension": ".py",
   "mimetype": "text/x-python",
   "name": "python",
   "nbconvert_exporter": "python",
   "pygments_lexer": "ipython3",
   "version": "3.9.13"
  }
 },
 "nbformat": 4,
 "nbformat_minor": 5
}

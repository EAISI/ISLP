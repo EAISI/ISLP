{
 "cells": [
  {
   "cell_type": "markdown",
   "id": "80f16ff6",
   "metadata": {},
   "source": [
    " #  Unsupervised Learning\n",
    "\n",
    "<a target=\"_blank\" href=\"https://colab.research.google.com/github/intro-stat-learning/ISLP/blob/v1/docs/source/labs/Ch12-unsup-lab.ipynb\">\n",
    "  <img src=\"https://colab.research.google.com/assets/colab-badge.svg\" alt=\"Open In Colab\"/>\n",
    "\n",
    "</a>\n",
    "\n",
    "In this lab we demonstrate PCA and clustering on several datasets.\n",
    "As in other labs, we import some of our libraries at this top\n",
    "level. This makes the code more readable, as scanning the first few\n",
    "lines of the notebook tell us what libraries are used in this\n",
    "notebook."
   ]
  },
  {
   "cell_type": "code",
   "execution_count": null,
   "id": "24559be0",
   "metadata": {
    "execution": {
     "iopub.execute_input": "2023-07-26T05:18:08.163850Z",
     "iopub.status.busy": "2023-07-26T05:18:08.163726Z",
     "iopub.status.idle": "2023-07-26T05:18:09.209261Z",
     "shell.execute_reply": "2023-07-26T05:18:09.208715Z"
    }
   },
   "outputs": [],
   "source": [
    "import numpy as np\n",
    "import pandas as pd\n",
    "import matplotlib.pyplot as plt\n",
    "from statsmodels.datasets import get_rdataset\n",
    "from sklearn.decomposition import PCA\n",
    "from sklearn.preprocessing import StandardScaler\n",
    "from ISLP import load_data"
   ]
  },
  {
   "cell_type": "markdown",
   "id": "59b24a4b",
   "metadata": {},
   "source": [
    "We also collect the new imports\n",
    "needed for this lab."
   ]
  },
  {
   "cell_type": "code",
   "execution_count": null,
   "id": "06fff57d",
   "metadata": {
    "execution": {
     "iopub.execute_input": "2023-07-26T05:18:09.212356Z",
     "iopub.status.busy": "2023-07-26T05:18:09.212070Z",
     "iopub.status.idle": "2023-07-26T05:18:09.327611Z",
     "shell.execute_reply": "2023-07-26T05:18:09.327246Z"
    }
   },
   "outputs": [],
   "source": [
    "from sklearn.cluster import \\\n",
    "     (KMeans,\n",
    "      AgglomerativeClustering)\n",
    "from scipy.cluster.hierarchy import \\\n",
    "     (dendrogram,\n",
    "      cut_tree)\n",
    "from ISLP.cluster import compute_linkage"
   ]
  },
  {
   "cell_type": "markdown",
   "id": "f091de06",
   "metadata": {},
   "source": [
    "## Principal Components Analysis\n",
    "In this lab, we perform PCA on  `USArrests`, a data set in the\n",
    "`R` computing environment.\n",
    "We retrieve the data using `get_rdataset()`, which can fetch data from\n",
    "many standard `R` packages.\n",
    "\n",
    "The rows of the data set contain the 50 states, in alphabetical order."
   ]
  },
  {
   "cell_type": "code",
   "execution_count": null,
   "id": "f425e07e",
   "metadata": {
    "execution": {
     "iopub.execute_input": "2023-07-26T05:18:09.329909Z",
     "iopub.status.busy": "2023-07-26T05:18:09.329763Z",
     "iopub.status.idle": "2023-07-26T05:18:10.559326Z",
     "shell.execute_reply": "2023-07-26T05:18:10.558692Z"
    }
   },
   "outputs": [],
   "source": [
    "USArrests = get_rdataset('USArrests').data\n",
    "USArrests"
   ]
  },
  {
   "cell_type": "markdown",
   "id": "e2942890",
   "metadata": {},
   "source": [
    "The columns of the data set contain the four variables."
   ]
  },
  {
   "cell_type": "code",
   "execution_count": null,
   "id": "b127d014",
   "metadata": {
    "execution": {
     "iopub.execute_input": "2023-07-26T05:18:10.561457Z",
     "iopub.status.busy": "2023-07-26T05:18:10.561326Z",
     "iopub.status.idle": "2023-07-26T05:18:10.564289Z",
     "shell.execute_reply": "2023-07-26T05:18:10.563966Z"
    }
   },
   "outputs": [],
   "source": [
    "USArrests.columns"
   ]
  },
  {
   "cell_type": "markdown",
   "id": "68718331",
   "metadata": {},
   "source": [
    "We first briefly examine the data. We notice that the variables have vastly different means."
   ]
  },
  {
   "cell_type": "code",
   "execution_count": null,
   "id": "c7343f72",
   "metadata": {
    "execution": {
     "iopub.execute_input": "2023-07-26T05:18:10.566649Z",
     "iopub.status.busy": "2023-07-26T05:18:10.566503Z",
     "iopub.status.idle": "2023-07-26T05:18:10.570319Z",
     "shell.execute_reply": "2023-07-26T05:18:10.569890Z"
    }
   },
   "outputs": [],
   "source": [
    "USArrests.mean()"
   ]
  },
  {
   "cell_type": "markdown",
   "id": "171a1ee0",
   "metadata": {},
   "source": [
    "Dataframes have several useful methods for computing\n",
    "column-wise summaries. We can also examine the\n",
    "variance of the four variables using the `var()`  method."
   ]
  },
  {
   "cell_type": "code",
   "execution_count": null,
   "id": "34501140",
   "metadata": {
    "execution": {
     "iopub.execute_input": "2023-07-26T05:18:10.572610Z",
     "iopub.status.busy": "2023-07-26T05:18:10.572485Z",
     "iopub.status.idle": "2023-07-26T05:18:10.575894Z",
     "shell.execute_reply": "2023-07-26T05:18:10.575543Z"
    }
   },
   "outputs": [],
   "source": [
    "USArrests.var()"
   ]
  },
  {
   "cell_type": "markdown",
   "id": "5634db88",
   "metadata": {},
   "source": [
    "Not surprisingly, the variables also have vastly different variances.\n",
    "The `UrbanPop` variable measures the percentage of the population\n",
    "in each state living in an urban area, which is not a comparable\n",
    "number to the number of rapes in each state per 100,000 individuals.\n",
    "PCA looks for derived variables that account for most of the variance in the data set.\n",
    "If we do not scale the variables before performing PCA, then the principal components\n",
    "would mostly be driven by the\n",
    "`Assault` variable, since it has by far the largest\n",
    "variance.  So if the variables are measured in different units or vary widely in scale, it is recommended to standardize the variables to have standard deviation one before performing PCA.\n",
    "Typically we set the means to zero as well.\n",
    "\n",
    "This scaling can be done via the `StandardScaler()` transform imported above. We first `fit` the\n",
    "scaler, which computes the necessary means and standard\n",
    "deviations and then apply it to our data using the\n",
    "`transform` method. As before, we combine these steps using the `fit_transform()` method."
   ]
  },
  {
   "cell_type": "code",
   "execution_count": null,
   "id": "daf119e8",
   "metadata": {
    "execution": {
     "iopub.execute_input": "2023-07-26T05:18:10.578199Z",
     "iopub.status.busy": "2023-07-26T05:18:10.578025Z",
     "iopub.status.idle": "2023-07-26T05:18:10.581928Z",
     "shell.execute_reply": "2023-07-26T05:18:10.581446Z"
    }
   },
   "outputs": [],
   "source": [
    "scaler = StandardScaler(with_std=True,\n",
    "                        with_mean=True)\n",
    "USArrests_scaled = scaler.fit_transform(USArrests)"
   ]
  },
  {
   "cell_type": "markdown",
   "id": "dd6e5f5b",
   "metadata": {},
   "source": [
    "Having scaled the data, we can then\n",
    "perform principal components analysis using the `PCA()` transform\n",
    "from the `sklearn.decomposition` package."
   ]
  },
  {
   "cell_type": "code",
   "execution_count": null,
   "id": "a0eda7c9",
   "metadata": {
    "execution": {
     "iopub.execute_input": "2023-07-26T05:18:10.584181Z",
     "iopub.status.busy": "2023-07-26T05:18:10.584070Z",
     "iopub.status.idle": "2023-07-26T05:18:10.586440Z",
     "shell.execute_reply": "2023-07-26T05:18:10.586052Z"
    }
   },
   "outputs": [],
   "source": [
    "pcaUS = PCA()"
   ]
  },
  {
   "cell_type": "markdown",
   "id": "e5758ee5",
   "metadata": {},
   "source": [
    "(By default, the `PCA()`  transform centers the variables to have\n",
    "mean zero though it does not scale them.) The transform `pcaUS`\n",
    "can be used to find the PCA\n",
    "`scores` returned by `fit()`. Once the `fit` method has been called, the `pcaUS` object also contains a number of useful quantities."
   ]
  },
  {
   "cell_type": "code",
   "execution_count": null,
   "id": "1430fb3c",
   "metadata": {
    "execution": {
     "iopub.execute_input": "2023-07-26T05:18:10.588957Z",
     "iopub.status.busy": "2023-07-26T05:18:10.588809Z",
     "iopub.status.idle": "2023-07-26T05:18:10.593315Z",
     "shell.execute_reply": "2023-07-26T05:18:10.592971Z"
    }
   },
   "outputs": [],
   "source": [
    "pcaUS.fit(USArrests_scaled)"
   ]
  },
  {
   "cell_type": "markdown",
   "id": "56890b11",
   "metadata": {},
   "source": [
    "After fitting, the `mean_` attribute corresponds to the means\n",
    "of the variables. In this case, since we centered and scaled the data with\n",
    "`scaler()` the means will all be 0."
   ]
  },
  {
   "cell_type": "code",
   "execution_count": null,
   "id": "6131d8d1",
   "metadata": {
    "execution": {
     "iopub.execute_input": "2023-07-26T05:18:10.595542Z",
     "iopub.status.busy": "2023-07-26T05:18:10.595388Z",
     "iopub.status.idle": "2023-07-26T05:18:10.598527Z",
     "shell.execute_reply": "2023-07-26T05:18:10.598057Z"
    }
   },
   "outputs": [],
   "source": [
    "pcaUS.mean_"
   ]
  },
  {
   "cell_type": "markdown",
   "id": "3c1c34e7",
   "metadata": {},
   "source": [
    "The scores can be computed using the `transform()` method\n",
    "of `pcaUS` after it has been fit."
   ]
  },
  {
   "cell_type": "code",
   "execution_count": null,
   "id": "08246aad",
   "metadata": {
    "execution": {
     "iopub.execute_input": "2023-07-26T05:18:10.600656Z",
     "iopub.status.busy": "2023-07-26T05:18:10.600536Z",
     "iopub.status.idle": "2023-07-26T05:18:10.603024Z",
     "shell.execute_reply": "2023-07-26T05:18:10.602498Z"
    }
   },
   "outputs": [],
   "source": [
    "scores = pcaUS.transform(USArrests_scaled)"
   ]
  },
  {
   "cell_type": "markdown",
   "id": "574ed47f",
   "metadata": {},
   "source": [
    "We will plot these scores a bit further down.\n",
    "The `components_` attribute provides the principal component loadings:\n",
    "each row of `pcaUS.components_` contains the corresponding\n",
    "principal component loading vector."
   ]
  },
  {
   "cell_type": "code",
   "execution_count": null,
   "id": "b682b632",
   "metadata": {
    "execution": {
     "iopub.execute_input": "2023-07-26T05:18:10.605166Z",
     "iopub.status.busy": "2023-07-26T05:18:10.605000Z",
     "iopub.status.idle": "2023-07-26T05:18:10.607923Z",
     "shell.execute_reply": "2023-07-26T05:18:10.607498Z"
    }
   },
   "outputs": [],
   "source": [
    "pcaUS.components_ "
   ]
  },
  {
   "cell_type": "markdown",
   "id": "fc8bfc99",
   "metadata": {},
   "source": [
    "The `biplot`  is a common visualization method used with\n",
    "PCA. It is not built in as a standard\n",
    "part of `sklearn`, though there are python\n",
    "packages that do produce such plots. Here we\n",
    "make a simple biplot manually."
   ]
  },
  {
   "cell_type": "code",
   "execution_count": null,
   "id": "c165e990",
   "metadata": {
    "execution": {
     "iopub.execute_input": "2023-07-26T05:18:10.610624Z",
     "iopub.status.busy": "2023-07-26T05:18:10.610442Z",
     "iopub.status.idle": "2023-07-26T05:18:10.736284Z",
     "shell.execute_reply": "2023-07-26T05:18:10.735735Z"
    }
   },
   "outputs": [],
   "source": [
    "i, j = 0, 1 # which components\n",
    "fig, ax = plt.subplots(1, 1, figsize=(8, 8))\n",
    "ax.scatter(scores[:,0], scores[:,1])\n",
    "ax.set_xlabel('PC%d' % (i+1))\n",
    "ax.set_ylabel('PC%d' % (j+1))\n",
    "for k in range(pcaUS.components_.shape[1]):\n",
    "    ax.arrow(0, 0, pcaUS.components_[i,k], pcaUS.components_[j,k])\n",
    "    ax.text(pcaUS.components_[i,k],\n",
    "            pcaUS.components_[j,k],\n",
    "            USArrests.columns[k])"
   ]
  },
  {
   "cell_type": "markdown",
   "id": "eaef3e98",
   "metadata": {},
   "source": [
    "Notice that this figure is a reflection of Figure 12.1 through the $y$-axis. Recall that the\n",
    "principal components are only unique up to a sign change, so we can\n",
    "reproduce that figure by flipping the\n",
    "signs of the second set of scores and loadings.\n",
    "We also increase the length of the arrows to emphasize the loadings."
   ]
  },
  {
   "cell_type": "code",
   "execution_count": null,
   "id": "848c9f35",
   "metadata": {
    "execution": {
     "iopub.execute_input": "2023-07-26T05:18:10.738926Z",
     "iopub.status.busy": "2023-07-26T05:18:10.738771Z",
     "iopub.status.idle": "2023-07-26T05:18:10.848441Z",
     "shell.execute_reply": "2023-07-26T05:18:10.847972Z"
    }
   },
   "outputs": [],
   "source": [
    "scale_arrow = s_ = 2\n",
    "scores[:,1] *= -1\n",
    "pcaUS.components_[1] *= -1 # flip the y-axis\n",
    "fig, ax = plt.subplots(1, 1, figsize=(8, 8))\n",
    "ax.scatter(scores[:,0], scores[:,1])\n",
    "ax.set_xlabel('PC%d' % (i+1))\n",
    "ax.set_ylabel('PC%d' % (j+1))\n",
    "for k in range(pcaUS.components_.shape[1]):\n",
    "    ax.arrow(0, 0, s_*pcaUS.components_[i,k], s_*pcaUS.components_[j,k])\n",
    "    ax.text(s_*pcaUS.components_[i,k],\n",
    "            s_*pcaUS.components_[j,k],\n",
    "            USArrests.columns[k])"
   ]
  },
  {
   "cell_type": "markdown",
   "id": "e380e98d",
   "metadata": {},
   "source": [
    "The standard deviations of the principal component scores are as follows:"
   ]
  },
  {
   "cell_type": "code",
   "execution_count": null,
   "id": "34fdfe21",
   "metadata": {
    "execution": {
     "iopub.execute_input": "2023-07-26T05:18:10.852220Z",
     "iopub.status.busy": "2023-07-26T05:18:10.851752Z",
     "iopub.status.idle": "2023-07-26T05:18:10.859190Z",
     "shell.execute_reply": "2023-07-26T05:18:10.857389Z"
    }
   },
   "outputs": [],
   "source": [
    "scores.std(0, ddof=1)"
   ]
  },
  {
   "cell_type": "markdown",
   "id": "c24b8ca2",
   "metadata": {},
   "source": [
    "The variance of each score can be extracted directly from the `pcaUS` object via\n",
    "the `explained_variance_` attribute."
   ]
  },
  {
   "cell_type": "code",
   "execution_count": null,
   "id": "31b43c57",
   "metadata": {
    "execution": {
     "iopub.execute_input": "2023-07-26T05:18:10.861366Z",
     "iopub.status.busy": "2023-07-26T05:18:10.861239Z",
     "iopub.status.idle": "2023-07-26T05:18:10.864540Z",
     "shell.execute_reply": "2023-07-26T05:18:10.863998Z"
    }
   },
   "outputs": [],
   "source": [
    "pcaUS.explained_variance_"
   ]
  },
  {
   "cell_type": "markdown",
   "id": "d2dcf543",
   "metadata": {},
   "source": [
    "The proportion of variance explained by each principal \n",
    "component (PVE) is stored as `explained_variance_ratio_`:"
   ]
  },
  {
   "cell_type": "code",
   "execution_count": null,
   "id": "68e47d3a",
   "metadata": {
    "execution": {
     "iopub.execute_input": "2023-07-26T05:18:10.867030Z",
     "iopub.status.busy": "2023-07-26T05:18:10.866863Z",
     "iopub.status.idle": "2023-07-26T05:18:10.869949Z",
     "shell.execute_reply": "2023-07-26T05:18:10.869455Z"
    }
   },
   "outputs": [],
   "source": [
    "pcaUS.explained_variance_ratio_"
   ]
  },
  {
   "cell_type": "markdown",
   "id": "831b19b7",
   "metadata": {},
   "source": [
    "We see that the first principal component explains 62.0% of the\n",
    "variance in the data, the next principal component explains 24.7%\n",
    "of the variance, and so forth.\n",
    "We can plot the PVE explained by each component, as well as the cumulative PVE. We first\n",
    "plot the proportion of variance explained."
   ]
  },
  {
   "cell_type": "code",
   "execution_count": null,
   "id": "e87fe198",
   "metadata": {
    "execution": {
     "iopub.execute_input": "2023-07-26T05:18:10.872333Z",
     "iopub.status.busy": "2023-07-26T05:18:10.872213Z",
     "iopub.status.idle": "2023-07-26T05:18:11.030288Z",
     "shell.execute_reply": "2023-07-26T05:18:11.029440Z"
    }
   },
   "outputs": [],
   "source": [
    "%%capture\n",
    "fig, axes = plt.subplots(1, 2, figsize=(15, 6))\n",
    "ticks = np.arange(pcaUS.n_components_)+1\n",
    "ax = axes[0]\n",
    "ax.plot(ticks,\n",
    "        pcaUS.explained_variance_ratio_,\n",
    "        marker='o')\n",
    "ax.set_xlabel('Principal Component');\n",
    "ax.set_ylabel('Proportion of Variance Explained')\n",
    "ax.set_ylim([0,1])\n",
    "ax.set_xticks(ticks)"
   ]
  },
  {
   "cell_type": "markdown",
   "id": "2ed96395",
   "metadata": {},
   "source": [
    "Notice the use of `%%capture`, which suppresses the displaying of the partially completed figure."
   ]
  },
  {
   "cell_type": "code",
   "execution_count": null,
   "id": "409fb0c6",
   "metadata": {
    "execution": {
     "iopub.execute_input": "2023-07-26T05:18:11.033250Z",
     "iopub.status.busy": "2023-07-26T05:18:11.033097Z",
     "iopub.status.idle": "2023-07-26T05:18:11.153804Z",
     "shell.execute_reply": "2023-07-26T05:18:11.153245Z"
    }
   },
   "outputs": [],
   "source": [
    "ax = axes[1]\n",
    "ax.plot(ticks,\n",
    "        pcaUS.explained_variance_ratio_.cumsum(),\n",
    "        marker='o')\n",
    "ax.set_xlabel('Principal Component')\n",
    "ax.set_ylabel('Cumulative Proportion of Variance Explained')\n",
    "ax.set_ylim([0, 1])\n",
    "ax.set_xticks(ticks)\n",
    "fig"
   ]
  },
  {
   "cell_type": "markdown",
   "id": "496fb6be",
   "metadata": {},
   "source": [
    "The result is similar to that shown in Figure 12.3.  Note\n",
    "that the method `cumsum()`   computes the cumulative sum of\n",
    "the elements of a numeric vector. For instance:"
   ]
  },
  {
   "cell_type": "code",
   "execution_count": null,
   "id": "e563e41b",
   "metadata": {
    "execution": {
     "iopub.execute_input": "2023-07-26T05:18:11.157597Z",
     "iopub.status.busy": "2023-07-26T05:18:11.157216Z",
     "iopub.status.idle": "2023-07-26T05:18:11.162432Z",
     "shell.execute_reply": "2023-07-26T05:18:11.162026Z"
    }
   },
   "outputs": [],
   "source": [
    "a = np.array([1,2,8,-3])\n",
    "np.cumsum(a)"
   ]
  },
  {
   "cell_type": "markdown",
   "id": "6794b1a3",
   "metadata": {},
   "source": [
    "## Matrix Completion\n",
    "\n",
    "We now re-create the analysis carried out on the `USArrests` data in\n",
    "Section 12.3.\n",
    "\n",
    "We saw  in Section 12.2.2  that solving the optimization\n",
    "problem (12.6)   on a centered data matrix $\\bf X$ is\n",
    "equivalent to computing the first $M$ principal\n",
    "components of the data.  We use our scaled\n",
    "and centered `USArrests` data as $\\bf X$ below. The *singular value decomposition* \n",
    "(SVD)  is a general algorithm for solving\n",
    "(12.6)."
   ]
  },
  {
   "cell_type": "code",
   "execution_count": null,
   "id": "f83ad0bc",
   "metadata": {
    "execution": {
     "iopub.execute_input": "2023-07-26T05:18:11.164364Z",
     "iopub.status.busy": "2023-07-26T05:18:11.164225Z",
     "iopub.status.idle": "2023-07-26T05:18:11.167031Z",
     "shell.execute_reply": "2023-07-26T05:18:11.166724Z"
    }
   },
   "outputs": [],
   "source": [
    "X = USArrests_scaled\n",
    "U, D, V = np.linalg.svd(X, full_matrices=False)\n",
    "U.shape, D.shape, V.shape"
   ]
  },
  {
   "cell_type": "markdown",
   "id": "f9c71e57",
   "metadata": {},
   "source": [
    "The `np.linalg.svd()` function returns three components, `U`, `D` and `V`. The matrix `V` is equivalent to the\n",
    "loading matrix from principal components (up to an unimportant sign flip). Using the `full_matrices=False` option ensures that\n",
    "for a tall matrix the shape of `U` is the same as the shape of `X`."
   ]
  },
  {
   "cell_type": "code",
   "execution_count": null,
   "id": "cb9bdc46",
   "metadata": {
    "execution": {
     "iopub.execute_input": "2023-07-26T05:18:11.169269Z",
     "iopub.status.busy": "2023-07-26T05:18:11.169096Z",
     "iopub.status.idle": "2023-07-26T05:18:11.172167Z",
     "shell.execute_reply": "2023-07-26T05:18:11.171624Z"
    }
   },
   "outputs": [],
   "source": [
    "V"
   ]
  },
  {
   "cell_type": "code",
   "execution_count": null,
   "id": "f23c101e",
   "metadata": {
    "execution": {
     "iopub.execute_input": "2023-07-26T05:18:11.174404Z",
     "iopub.status.busy": "2023-07-26T05:18:11.174265Z",
     "iopub.status.idle": "2023-07-26T05:18:11.177096Z",
     "shell.execute_reply": "2023-07-26T05:18:11.176712Z"
    }
   },
   "outputs": [],
   "source": [
    "pcaUS.components_"
   ]
  },
  {
   "cell_type": "markdown",
   "id": "a5d9e0ae",
   "metadata": {},
   "source": [
    "The matrix `U` corresponds to a  *standardized* version of the PCA score matrix (each column standardized to have sum-of-squares one). If we multiply each column of `U` by the corresponding element  of `D`, we recover the PCA scores exactly (up to a meaningless sign flip)."
   ]
  },
  {
   "cell_type": "code",
   "execution_count": null,
   "id": "4cc49622",
   "metadata": {
    "execution": {
     "iopub.execute_input": "2023-07-26T05:18:11.179219Z",
     "iopub.status.busy": "2023-07-26T05:18:11.179054Z",
     "iopub.status.idle": "2023-07-26T05:18:11.182070Z",
     "shell.execute_reply": "2023-07-26T05:18:11.181699Z"
    }
   },
   "outputs": [],
   "source": [
    "(U * D[None,:])[:3]"
   ]
  },
  {
   "cell_type": "code",
   "execution_count": null,
   "id": "c96c9fe1",
   "metadata": {
    "execution": {
     "iopub.execute_input": "2023-07-26T05:18:11.184051Z",
     "iopub.status.busy": "2023-07-26T05:18:11.183934Z",
     "iopub.status.idle": "2023-07-26T05:18:11.186945Z",
     "shell.execute_reply": "2023-07-26T05:18:11.186473Z"
    }
   },
   "outputs": [],
   "source": [
    "scores[:3]"
   ]
  },
  {
   "cell_type": "markdown",
   "id": "6b7002cb",
   "metadata": {},
   "source": [
    "While it would be possible to carry out this lab using the `PCA()` estimator,\n",
    "here we use the `np.linalg.svd()` function in order to illustrate its use.\n",
    "\n",
    "We now omit 20 entries in the $50\\times 4$ data matrix at random. We do so\n",
    "by first selecting 20 rows (states) at random, and then selecting one\n",
    "of the four entries in each row at random. This ensures that every row has\n",
    "at least three observed values."
   ]
  },
  {
   "cell_type": "code",
   "execution_count": null,
   "id": "574409d6",
   "metadata": {
    "execution": {
     "iopub.execute_input": "2023-07-26T05:18:11.189376Z",
     "iopub.status.busy": "2023-07-26T05:18:11.189199Z",
     "iopub.status.idle": "2023-07-26T05:18:11.192254Z",
     "shell.execute_reply": "2023-07-26T05:18:11.191873Z"
    }
   },
   "outputs": [],
   "source": [
    "n_omit = 20\n",
    "np.random.seed(15)\n",
    "r_idx = np.random.choice(np.arange(X.shape[0]),\n",
    "                         n_omit,\n",
    "                         replace=False)\n",
    "c_idx = np.random.choice(np.arange(X.shape[1]),\n",
    "                         n_omit,\n",
    "                         replace=True)\n",
    "Xna = X.copy()\n",
    "Xna[r_idx, c_idx] = np.nan"
   ]
  },
  {
   "cell_type": "markdown",
   "id": "fd4a5fdf",
   "metadata": {},
   "source": [
    "Here the array `r_idx`\n",
    "contains 20 integers from 0 to 49; this represents the states (rows of `X`) that are selected to contain missing values. And `c_idx` contains\n",
    "20 integers from 0 to 3, representing the features (columns in `X`) that contain the missing values for each of the selected states.\n",
    "\n",
    "We now write some code to implement Algorithm 12.1. \n",
    "We first write a  function that takes in a matrix, and returns an approximation to the matrix using the `svd()` function.\n",
    "This will be needed in Step 2 of Algorithm 12.1."
   ]
  },
  {
   "cell_type": "code",
   "execution_count": null,
   "id": "89f190ae",
   "metadata": {
    "execution": {
     "iopub.execute_input": "2023-07-26T05:18:11.194569Z",
     "iopub.status.busy": "2023-07-26T05:18:11.194458Z",
     "iopub.status.idle": "2023-07-26T05:18:11.197204Z",
     "shell.execute_reply": "2023-07-26T05:18:11.196762Z"
    }
   },
   "outputs": [],
   "source": [
    "def low_rank(X, M=1):\n",
    "    U, D, V = np.linalg.svd(X)\n",
    "    L = U[:,:M] * D[None,:M]\n",
    "    return L.dot(V[:M])"
   ]
  },
  {
   "cell_type": "markdown",
   "id": "a04129d0",
   "metadata": {},
   "source": [
    "To conduct Step 1 of the algorithm, we initialize `Xhat` --- this is $\\tilde{\\bf X}$ in Algorithm 12.1 ---  by replacing\n",
    "the missing values with the column means of the non-missing entries. These are stored in\n",
    "`Xbar` below after running `np.nanmean()` over the row axis.\n",
    "We make a copy so that when we assign values to `Xhat` below we do not also overwrite the\n",
    "values in `Xna`."
   ]
  },
  {
   "cell_type": "code",
   "execution_count": null,
   "id": "322f339c",
   "metadata": {
    "execution": {
     "iopub.execute_input": "2023-07-26T05:18:11.199355Z",
     "iopub.status.busy": "2023-07-26T05:18:11.199208Z",
     "iopub.status.idle": "2023-07-26T05:18:11.201784Z",
     "shell.execute_reply": "2023-07-26T05:18:11.201348Z"
    }
   },
   "outputs": [],
   "source": [
    "Xhat = Xna.copy()\n",
    "Xbar = np.nanmean(Xhat, axis=0)\n",
    "Xhat[r_idx, c_idx] = Xbar[c_idx]"
   ]
  },
  {
   "cell_type": "markdown",
   "id": "357041e8",
   "metadata": {},
   "source": [
    "Before we begin Step 2, we set ourselves up to measure the progress of our\n",
    "iterations:"
   ]
  },
  {
   "cell_type": "code",
   "execution_count": null,
   "id": "7e106d1a",
   "metadata": {
    "execution": {
     "iopub.execute_input": "2023-07-26T05:18:11.204020Z",
     "iopub.status.busy": "2023-07-26T05:18:11.203890Z",
     "iopub.status.idle": "2023-07-26T05:18:11.206286Z",
     "shell.execute_reply": "2023-07-26T05:18:11.205915Z"
    }
   },
   "outputs": [],
   "source": [
    "thresh = 1e-7\n",
    "rel_err = 1\n",
    "count = 0\n",
    "ismiss = np.isnan(Xna)\n",
    "mssold = np.mean(Xhat[~ismiss]**2)\n",
    "mss0 = np.mean(Xna[~ismiss]**2)"
   ]
  },
  {
   "cell_type": "markdown",
   "id": "105ac73f",
   "metadata": {},
   "source": [
    "Here  `ismiss` is a logical matrix with the same dimensions as `Xna`;\n",
    "a given element is `True` if the corresponding matrix element is missing. The notation `~ismiss` negates this boolean vector. This is useful\n",
    "because it allows us to access both the missing and non-missing entries. We store the mean of the squared non-missing elements in `mss0`.\n",
    "We store the mean squared error  of the non-missing elements  of the old version of `Xhat` in `mssold` (which currently\n",
    "agrees with `mss0`). We plan to store the mean squared error of the non-missing elements of the current version of `Xhat` in `mss`, and will then\n",
    "iterate Step 2 of  Algorithm 12.1  until the *relative error*, defined as\n",
    "`(mssold - mss) / mss0`, falls below `thresh = 1e-7`.\n",
    " {Algorithm 12.1 tells us to iterate Step 2 until (12.14) is no longer decreasing. Determining whether (12.14)  is decreasing requires us only to keep track of `mssold - mss`. However, in practice, we keep track of `(mssold - mss) / mss0` instead: this makes it so that the number of iterations required for Algorithm 12.1 to converge does not depend on whether we multiplied the raw data $\\bf X$ by a constant factor.}\n",
    "\n",
    "In Step 2(a) of Algorithm 12.1, we  approximate `Xhat` using `low_rank()`; we call this `Xapp`. In Step 2(b), we  use `Xapp`  to update the estimates for elements in `Xhat` that are missing in `Xna`. Finally, in Step 2(c), we compute the relative error. These three steps are contained in the following `while` loop:"
   ]
  },
  {
   "cell_type": "code",
   "execution_count": null,
   "id": "7cb05ce4",
   "metadata": {
    "execution": {
     "iopub.execute_input": "2023-07-26T05:18:11.208518Z",
     "iopub.status.busy": "2023-07-26T05:18:11.208345Z",
     "iopub.status.idle": "2023-07-26T05:18:11.212476Z",
     "shell.execute_reply": "2023-07-26T05:18:11.211847Z"
    }
   },
   "outputs": [],
   "source": [
    "while rel_err > thresh:\n",
    "    count += 1\n",
    "    # Step 2(a)\n",
    "    Xapp = low_rank(Xhat, M=1)\n",
    "    # Step 2(b)\n",
    "    Xhat[ismiss] = Xapp[ismiss]\n",
    "    # Step 2(c)\n",
    "    mss = np.mean(((Xna - Xapp)[~ismiss])**2)\n",
    "    rel_err = (mssold - mss) / mss0\n",
    "    mssold = mss\n",
    "    print(\"Iteration: {0}, MSS:{1:.3f}, Rel.Err {2:.2e}\"\n",
    "          .format(count, mss, rel_err))"
   ]
  },
  {
   "cell_type": "markdown",
   "id": "5cd8edf2",
   "metadata": {},
   "source": [
    "We see that after eight iterations, the relative error has fallen below `thresh = 1e-7`, and so the algorithm terminates. When this happens, the mean squared error of the non-missing elements equals 0.381.\n",
    "\n",
    "Finally, we compute the correlation between the 20 imputed values\n",
    "and the actual values:"
   ]
  },
  {
   "cell_type": "code",
   "execution_count": null,
   "id": "6f245188",
   "metadata": {
    "execution": {
     "iopub.execute_input": "2023-07-26T05:18:11.214882Z",
     "iopub.status.busy": "2023-07-26T05:18:11.214746Z",
     "iopub.status.idle": "2023-07-26T05:18:11.217935Z",
     "shell.execute_reply": "2023-07-26T05:18:11.217596Z"
    }
   },
   "outputs": [],
   "source": [
    "np.corrcoef(Xapp[ismiss], X[ismiss])[0,1]"
   ]
  },
  {
   "cell_type": "markdown",
   "id": "f22444ff",
   "metadata": {},
   "source": [
    "In this lab, we implemented  Algorithm 12.1  ourselves for didactic purposes. However, a reader who wishes to apply matrix completion to their data might look to more specialized `Python`  implementations."
   ]
  },
  {
   "cell_type": "markdown",
   "id": "7da441a1",
   "metadata": {},
   "source": [
    "## Clustering"
   ]
  },
  {
   "cell_type": "markdown",
   "id": "ef4903d6",
   "metadata": {},
   "source": [
    "### $K$-Means Clustering\n",
    "\n",
    "The estimator `sklearn.cluster.KMeans()`  performs $K$-means clustering in\n",
    "`Python`.  We begin with a simple simulated example in which there\n",
    "truly are two clusters in the data: the first 25 observations have a\n",
    "mean shift relative to the next 25 observations."
   ]
  },
  {
   "cell_type": "code",
   "execution_count": null,
   "id": "345fb41e",
   "metadata": {
    "execution": {
     "iopub.execute_input": "2023-07-26T05:18:11.220117Z",
     "iopub.status.busy": "2023-07-26T05:18:11.219983Z",
     "iopub.status.idle": "2023-07-26T05:18:11.222355Z",
     "shell.execute_reply": "2023-07-26T05:18:11.221948Z"
    }
   },
   "outputs": [],
   "source": [
    "np.random.seed(0);\n",
    "X = np.random.standard_normal((50,2));\n",
    "X[:25,0] += 3;\n",
    "X[:25,1] -= 4;"
   ]
  },
  {
   "cell_type": "markdown",
   "id": "6ed3587f",
   "metadata": {},
   "source": [
    "We now perform $K$-means clustering with $K=2$."
   ]
  },
  {
   "cell_type": "code",
   "execution_count": null,
   "id": "3a8c21a2",
   "metadata": {
    "execution": {
     "iopub.execute_input": "2023-07-26T05:18:11.224388Z",
     "iopub.status.busy": "2023-07-26T05:18:11.224258Z",
     "iopub.status.idle": "2023-07-26T05:18:11.262343Z",
     "shell.execute_reply": "2023-07-26T05:18:11.261799Z"
    }
   },
   "outputs": [],
   "source": [
    "kmeans = KMeans(n_clusters=2,\n",
    "                random_state=2,\n",
    "                n_init=20).fit(X)"
   ]
  },
  {
   "cell_type": "markdown",
   "id": "df4fb0eb",
   "metadata": {},
   "source": [
    "We specify `random_state` to make the results reproducible.  The cluster assignments of the 50 observations are contained in `kmeans.labels_`."
   ]
  },
  {
   "cell_type": "code",
   "execution_count": null,
   "id": "e3e35b5d",
   "metadata": {
    "execution": {
     "iopub.execute_input": "2023-07-26T05:18:11.265599Z",
     "iopub.status.busy": "2023-07-26T05:18:11.265438Z",
     "iopub.status.idle": "2023-07-26T05:18:11.268983Z",
     "shell.execute_reply": "2023-07-26T05:18:11.268283Z"
    }
   },
   "outputs": [],
   "source": [
    "kmeans.labels_"
   ]
  },
  {
   "cell_type": "markdown",
   "id": "6632fa4c",
   "metadata": {},
   "source": [
    "The $K$-means clustering perfectly separated the observations into two\n",
    "clusters even though we did not supply any group information to\n",
    "`KMeans()`. We can plot the data, with each observation\n",
    "colored according to its cluster assignment."
   ]
  },
  {
   "cell_type": "code",
   "execution_count": null,
   "id": "d928650a",
   "metadata": {
    "execution": {
     "iopub.execute_input": "2023-07-26T05:18:11.271491Z",
     "iopub.status.busy": "2023-07-26T05:18:11.271353Z",
     "iopub.status.idle": "2023-07-26T05:18:11.409914Z",
     "shell.execute_reply": "2023-07-26T05:18:11.409365Z"
    }
   },
   "outputs": [],
   "source": [
    "fig, ax = plt.subplots(1, 1, figsize=(8,8))\n",
    "ax.scatter(X[:,0], X[:,1], c=kmeans.labels_)\n",
    "ax.set_title(\"K-Means Clustering Results with K=2\");"
   ]
  },
  {
   "cell_type": "markdown",
   "id": "1f6a6d01",
   "metadata": {},
   "source": [
    "Here the observations can be easily plotted because they are\n",
    "two-dimensional. If there were more than two variables then we could\n",
    "instead perform PCA and plot the first two principal component score\n",
    "vectors to represent the clusters.\n",
    "\n",
    "In this example,   we knew that there really\n",
    "were two clusters because we generated the data. However, for real\n",
    "data, we do not know the true number of clusters, nor whether they  exist in any precise way. We could\n",
    "instead have performed $K$-means clustering on this example with\n",
    "$K=3$."
   ]
  },
  {
   "cell_type": "code",
   "execution_count": null,
   "id": "92e5175c",
   "metadata": {
    "execution": {
     "iopub.execute_input": "2023-07-26T05:18:11.412487Z",
     "iopub.status.busy": "2023-07-26T05:18:11.412250Z",
     "iopub.status.idle": "2023-07-26T05:18:11.548124Z",
     "shell.execute_reply": "2023-07-26T05:18:11.547642Z"
    }
   },
   "outputs": [],
   "source": [
    "kmeans = KMeans(n_clusters=3,\n",
    "                random_state=3,\n",
    "                n_init=20).fit(X)\n",
    "fig, ax = plt.subplots(figsize=(8,8))\n",
    "ax.scatter(X[:,0], X[:,1], c=kmeans.labels_)\n",
    "ax.set_title(\"K-Means Clustering Results with K=3\");"
   ]
  },
  {
   "cell_type": "markdown",
   "id": "82317a30",
   "metadata": {},
   "source": [
    "When $K=3$, $K$-means clustering  splits up the two clusters.\n",
    "We have used the `n_init` argument to run the $K$-means with 20 \n",
    "initial cluster assignments (the default is 10). If a\n",
    "value of `n_init` greater than one is used, then $K$-means\n",
    "clustering will be performed using multiple random assignments in\n",
    "Step 1 of  Algorithm 12.2, and the `KMeans()` \n",
    "function will report only the best results. Here we compare using\n",
    "`n_init=1` to `n_init=20`."
   ]
  },
  {
   "cell_type": "code",
   "execution_count": null,
   "id": "4911ecc7",
   "metadata": {
    "execution": {
     "iopub.execute_input": "2023-07-26T05:18:11.551298Z",
     "iopub.status.busy": "2023-07-26T05:18:11.551122Z",
     "iopub.status.idle": "2023-07-26T05:18:11.570392Z",
     "shell.execute_reply": "2023-07-26T05:18:11.569843Z"
    }
   },
   "outputs": [],
   "source": [
    "kmeans1 = KMeans(n_clusters=3,\n",
    "                random_state=3,\n",
    "                n_init=1).fit(X)\n",
    "kmeans20 = KMeans(n_clusters=3,\n",
    "                  random_state=3,\n",
    "                  n_init=20).fit(X);\n",
    "kmeans1.inertia_, kmeans20.inertia_"
   ]
  },
  {
   "cell_type": "markdown",
   "id": "96e6df1f",
   "metadata": {},
   "source": [
    "Note that `kmeans.inertia_` is the total within-cluster sum\n",
    "of squares, which we seek to minimize by performing $K$-means\n",
    "clustering (12.17). \n",
    "\n",
    "We *strongly* recommend always running $K$-means clustering with\n",
    "a large value of `n_init`, such as 20 or 50, since otherwise an\n",
    "undesirable local optimum may be obtained.\n",
    "\n",
    "When performing $K$-means clustering, in addition to using multiple\n",
    "initial cluster assignments, it is also important to set a random seed\n",
    "using the `random_state` argument to `KMeans()`. This way, the initial\n",
    "cluster assignments in Step 1 can be replicated, and the $K$-means\n",
    "output will be fully reproducible."
   ]
  },
  {
   "cell_type": "markdown",
   "id": "904ea858",
   "metadata": {},
   "source": [
    "### Hierarchical Clustering\n",
    "\n",
    "The `AgglomerativeClustering()`  class from\n",
    "the `sklearn.clustering` package implements hierarchical clustering.\n",
    "As its\n",
    "name is long, we use the short hand `HClust` for *hierarchical clustering*. Note that this will not change the return type\n",
    "when using this method, so instances will still be of class `AgglomerativeClustering`.\n",
    "In the following example we use the data from the previous lab to plot the hierarchical clustering\n",
    "dendrogram using complete, single, and average linkage clustering\n",
    "with Euclidean distance as the dissimilarity measure.  We begin by\n",
    "clustering observations using complete linkage."
   ]
  },
  {
   "cell_type": "code",
   "execution_count": null,
   "id": "1b42a700",
   "metadata": {
    "execution": {
     "iopub.execute_input": "2023-07-26T05:18:11.573065Z",
     "iopub.status.busy": "2023-07-26T05:18:11.572885Z",
     "iopub.status.idle": "2023-07-26T05:18:11.577747Z",
     "shell.execute_reply": "2023-07-26T05:18:11.577317Z"
    }
   },
   "outputs": [],
   "source": [
    "HClust = AgglomerativeClustering\n",
    "hc_comp = HClust(distance_threshold=0,\n",
    "                 n_clusters=None,\n",
    "                 linkage='complete')\n",
    "hc_comp.fit(X)"
   ]
  },
  {
   "cell_type": "markdown",
   "id": "22199f4d",
   "metadata": {},
   "source": [
    "This computes the entire dendrogram.\n",
    "We could just as easily perform hierarchical clustering with average or single linkage instead:"
   ]
  },
  {
   "cell_type": "code",
   "execution_count": null,
   "id": "50ef7eea",
   "metadata": {
    "execution": {
     "iopub.execute_input": "2023-07-26T05:18:11.580226Z",
     "iopub.status.busy": "2023-07-26T05:18:11.580003Z",
     "iopub.status.idle": "2023-07-26T05:18:11.583835Z",
     "shell.execute_reply": "2023-07-26T05:18:11.583381Z"
    }
   },
   "outputs": [],
   "source": [
    "hc_avg = HClust(distance_threshold=0,\n",
    "                n_clusters=None,\n",
    "                linkage='average');\n",
    "hc_avg.fit(X)\n",
    "hc_sing = HClust(distance_threshold=0,\n",
    "                 n_clusters=None,\n",
    "                 linkage='single');\n",
    "hc_sing.fit(X);"
   ]
  },
  {
   "cell_type": "markdown",
   "id": "7e8db256",
   "metadata": {},
   "source": [
    "To use a precomputed distance matrix, we provide an additional\n",
    "argument `metric=\"precomputed\"`. In the code below, the first four lines computes the $50\\times 50$ pairwise-distance matrix."
   ]
  },
  {
   "cell_type": "code",
   "execution_count": null,
   "id": "bf7a2408",
   "metadata": {
    "execution": {
     "iopub.execute_input": "2023-07-26T05:18:11.586413Z",
     "iopub.status.busy": "2023-07-26T05:18:11.586258Z",
     "iopub.status.idle": "2023-07-26T05:18:11.591990Z",
     "shell.execute_reply": "2023-07-26T05:18:11.591553Z"
    }
   },
   "outputs": [],
   "source": [
    "D = np.zeros((X.shape[0], X.shape[0]));\n",
    "for i in range(X.shape[0]):\n",
    "    x_ = np.multiply.outer(np.ones(X.shape[0]), X[i])\n",
    "    D[i] = np.sqrt(np.sum((X - x_)**2, 1));\n",
    "hc_sing_pre = HClust(distance_threshold=0,\n",
    "                     n_clusters=None,\n",
    "                     metric='precomputed',\n",
    "                     linkage='single')\n",
    "hc_sing_pre.fit(D)"
   ]
  },
  {
   "cell_type": "markdown",
   "id": "8cd7fb7c",
   "metadata": {},
   "source": [
    "We use\n",
    "`dendrogram()` from `scipy.cluster.hierarchy` to plot the dendrogram. However,\n",
    "`dendrogram()` expects a so-called *linkage-matrix representation*\n",
    "of the clustering, which is not provided by `AgglomerativeClustering()`,\n",
    "but can be computed. The function `compute_linkage()` in the\n",
    "`ISLP.cluster` package is provided for this purpose.\n",
    "\n",
    "We can now plot the dendrograms. The numbers at the bottom of the plot\n",
    "identify each observation. The `dendrogram()` function has a default method to\n",
    "color different branches of the tree that suggests a pre-defined cut of the tree at a particular depth.\n",
    "We prefer to overwrite this default by setting this threshold to be infinite. Since we want this behavior for many dendrograms, we store these values in a dictionary `cargs` and pass this as keyword arguments using the notation `**cargs`."
   ]
  },
  {
   "cell_type": "code",
   "execution_count": null,
   "id": "a118c0ab",
   "metadata": {
    "execution": {
     "iopub.execute_input": "2023-07-26T05:18:11.595666Z",
     "iopub.status.busy": "2023-07-26T05:18:11.595400Z",
     "iopub.status.idle": "2023-07-26T05:18:11.876074Z",
     "shell.execute_reply": "2023-07-26T05:18:11.875555Z"
    }
   },
   "outputs": [],
   "source": [
    "cargs = {'color_threshold':-np.inf,\n",
    "         'above_threshold_color':'black'}\n",
    "linkage_comp = compute_linkage(hc_comp)\n",
    "fig, ax = plt.subplots(1, 1, figsize=(8, 8))\n",
    "dendrogram(linkage_comp,\n",
    "           ax=ax,\n",
    "           **cargs);"
   ]
  },
  {
   "cell_type": "markdown",
   "id": "a325a001",
   "metadata": {},
   "source": [
    "We may want to color branches of the tree above\n",
    "and below a cut-threshold differently. This can be achieved\n",
    "by changing the `color_threshold`. Let’s cut the tree at a height of 4,\n",
    "coloring links that merge above 4 in black."
   ]
  },
  {
   "cell_type": "code",
   "execution_count": null,
   "id": "b1ff41c0",
   "metadata": {
    "execution": {
     "iopub.execute_input": "2023-07-26T05:18:11.878711Z",
     "iopub.status.busy": "2023-07-26T05:18:11.878497Z",
     "iopub.status.idle": "2023-07-26T05:18:12.156685Z",
     "shell.execute_reply": "2023-07-26T05:18:12.156217Z"
    }
   },
   "outputs": [],
   "source": [
    "fig, ax = plt.subplots(1, 1, figsize=(8, 8))\n",
    "dendrogram(linkage_comp,\n",
    "           ax=ax,\n",
    "           color_threshold=4,\n",
    "           above_threshold_color='black');"
   ]
  },
  {
   "cell_type": "markdown",
   "id": "e774708c",
   "metadata": {},
   "source": [
    "To determine the cluster labels for each observation associated with a\n",
    "given cut of the dendrogram, we can use the `cut_tree()` \n",
    "function from `scipy.cluster.hierarchy`:"
   ]
  },
  {
   "cell_type": "code",
   "execution_count": null,
   "id": "c2752a96",
   "metadata": {
    "execution": {
     "iopub.execute_input": "2023-07-26T05:18:12.159239Z",
     "iopub.status.busy": "2023-07-26T05:18:12.159059Z",
     "iopub.status.idle": "2023-07-26T05:18:12.163542Z",
     "shell.execute_reply": "2023-07-26T05:18:12.163127Z"
    }
   },
   "outputs": [],
   "source": [
    "cut_tree(linkage_comp, n_clusters=4).T"
   ]
  },
  {
   "cell_type": "markdown",
   "id": "d501d220",
   "metadata": {},
   "source": [
    "This can also be achieved by providing an argument `n_clusters`\n",
    "to `HClust()`; however each cut would require recomputing\n",
    "the clustering. Similarly, trees may be cut by distance threshold\n",
    "with an argument of `distance_threshold` to `HClust()`\n",
    "or `height` to `cut_tree()`."
   ]
  },
  {
   "cell_type": "code",
   "execution_count": null,
   "id": "1407f7a4",
   "metadata": {
    "execution": {
     "iopub.execute_input": "2023-07-26T05:18:12.165971Z",
     "iopub.status.busy": "2023-07-26T05:18:12.165813Z",
     "iopub.status.idle": "2023-07-26T05:18:12.170809Z",
     "shell.execute_reply": "2023-07-26T05:18:12.170332Z"
    }
   },
   "outputs": [],
   "source": [
    "cut_tree(linkage_comp, height=5)"
   ]
  },
  {
   "cell_type": "markdown",
   "id": "469bbad6",
   "metadata": {},
   "source": [
    "To scale the variables before performing hierarchical clustering of\n",
    "the observations, we use `StandardScaler()`  as in our PCA example:"
   ]
  },
  {
   "cell_type": "code",
   "execution_count": null,
   "id": "2d74f224",
   "metadata": {
    "execution": {
     "iopub.execute_input": "2023-07-26T05:18:12.173359Z",
     "iopub.status.busy": "2023-07-26T05:18:12.173198Z",
     "iopub.status.idle": "2023-07-26T05:18:12.457460Z",
     "shell.execute_reply": "2023-07-26T05:18:12.457026Z"
    }
   },
   "outputs": [],
   "source": [
    "scaler = StandardScaler()\n",
    "X_scale = scaler.fit_transform(X)\n",
    "hc_comp_scale = HClust(distance_threshold=0,\n",
    "                       n_clusters=None,\n",
    "                       linkage='complete').fit(X_scale)\n",
    "linkage_comp_scale = compute_linkage(hc_comp_scale)\n",
    "fig, ax = plt.subplots(1, 1, figsize=(8, 8))\n",
    "dendrogram(linkage_comp_scale, ax=ax, **cargs)\n",
    "ax.set_title(\"Hierarchical Clustering with Scaled Features\");"
   ]
  },
  {
   "cell_type": "markdown",
   "id": "3caaa1a5",
   "metadata": {},
   "source": [
    "Correlation-based distances between observations can be used for\n",
    "clustering. The correlation between two observations measures the\n",
    "similarity of their feature values. {Suppose each observation has\n",
    "  $p$ features, each a single numerical value. We measure the\n",
    "  similarity of two such observations by computing the\n",
    "  correlation of these $p$ pairs of numbers.}\n",
    "With $n$ observations, the $n\\times n$ correlation matrix can then be used as a similarity (or affinity) matrix, i.e. so that one minus the correlation matrix is the dissimilarity matrix used for clustering.\n",
    "\n",
    "Note that using correlation only makes sense for\n",
    "data with at least three features since the absolute correlation\n",
    "between any two observations with measurements on two features is\n",
    "always one. Hence, we will cluster a three-dimensional data set."
   ]
  },
  {
   "cell_type": "code",
   "execution_count": null,
   "id": "b7f7da12",
   "metadata": {
    "execution": {
     "iopub.execute_input": "2023-07-26T05:18:12.461207Z",
     "iopub.status.busy": "2023-07-26T05:18:12.460949Z",
     "iopub.status.idle": "2023-07-26T05:18:12.680696Z",
     "shell.execute_reply": "2023-07-26T05:18:12.680192Z"
    }
   },
   "outputs": [],
   "source": [
    "X = np.random.standard_normal((30, 3))\n",
    "corD = 1 - np.corrcoef(X)\n",
    "hc_cor = HClust(linkage='complete',\n",
    "                distance_threshold=0,\n",
    "                n_clusters=None,\n",
    "                metric='precomputed')\n",
    "hc_cor.fit(corD)\n",
    "linkage_cor = compute_linkage(hc_cor)\n",
    "fig, ax = plt.subplots(1, 1, figsize=(8, 8))\n",
    "dendrogram(linkage_cor, ax=ax, **cargs)\n",
    "ax.set_title(\"Complete Linkage with Correlation-Based Dissimilarity\");"
   ]
  },
  {
   "cell_type": "markdown",
   "id": "5b00804e",
   "metadata": {},
   "source": [
    "## NCI60 Data Example\n",
    "Unsupervised techniques are often used in the analysis of genomic\n",
    "data. In particular, PCA and hierarchical clustering are popular\n",
    "tools.  We illustrate these techniques on the `NCI60`  cancer cell line\n",
    "microarray data, which consists of 6830 gene expression\n",
    "measurements on 64 cancer cell lines."
   ]
  },
  {
   "cell_type": "code",
   "execution_count": null,
   "id": "b94424fc",
   "metadata": {
    "execution": {
     "iopub.execute_input": "2023-07-26T05:18:12.683099Z",
     "iopub.status.busy": "2023-07-26T05:18:12.682918Z",
     "iopub.status.idle": "2023-07-26T05:18:12.688821Z",
     "shell.execute_reply": "2023-07-26T05:18:12.688474Z"
    }
   },
   "outputs": [],
   "source": [
    "NCI60 = load_data('NCI60')\n",
    "nci_labs = NCI60['labels']\n",
    "nci_data = NCI60['data']"
   ]
  },
  {
   "cell_type": "markdown",
   "id": "7313fea6",
   "metadata": {},
   "source": [
    "Each cell line is labeled with a cancer type. We do not make use of\n",
    "the cancer types in performing PCA and clustering, as these are\n",
    "unsupervised techniques. But after performing PCA and clustering, we\n",
    "will check to see the extent to which these cancer types agree with\n",
    "the results of these unsupervised techniques.\n",
    "\n",
    "The data has 64 rows and 6830 columns."
   ]
  },
  {
   "cell_type": "code",
   "execution_count": null,
   "id": "cea54566",
   "metadata": {
    "execution": {
     "iopub.execute_input": "2023-07-26T05:18:12.691075Z",
     "iopub.status.busy": "2023-07-26T05:18:12.690934Z",
     "iopub.status.idle": "2023-07-26T05:18:12.693705Z",
     "shell.execute_reply": "2023-07-26T05:18:12.693319Z"
    }
   },
   "outputs": [],
   "source": [
    "nci_data.shape"
   ]
  },
  {
   "cell_type": "markdown",
   "id": "6ebf27f1",
   "metadata": {},
   "source": [
    "We begin by examining the cancer types for the cell lines."
   ]
  },
  {
   "cell_type": "code",
   "execution_count": null,
   "id": "4dac41bb",
   "metadata": {
    "execution": {
     "iopub.execute_input": "2023-07-26T05:18:12.695954Z",
     "iopub.status.busy": "2023-07-26T05:18:12.695815Z",
     "iopub.status.idle": "2023-07-26T05:18:12.700521Z",
     "shell.execute_reply": "2023-07-26T05:18:12.700074Z"
    }
   },
   "outputs": [],
   "source": [
    "nci_labs.value_counts()"
   ]
  },
  {
   "cell_type": "markdown",
   "id": "8f16f96a",
   "metadata": {},
   "source": [
    "### PCA on the NCI60 Data\n",
    "\n",
    "We first perform PCA on the data after scaling the variables (genes)\n",
    "to have standard deviation one, although here one could reasonably argue\n",
    "that it is better not to scale the genes as they are measured in the same units."
   ]
  },
  {
   "cell_type": "code",
   "execution_count": null,
   "id": "d8ebadd6",
   "metadata": {
    "execution": {
     "iopub.execute_input": "2023-07-26T05:18:12.702785Z",
     "iopub.status.busy": "2023-07-26T05:18:12.702646Z",
     "iopub.status.idle": "2023-07-26T05:18:12.866311Z",
     "shell.execute_reply": "2023-07-26T05:18:12.856469Z"
    }
   },
   "outputs": [],
   "source": [
    "scaler = StandardScaler()\n",
    "nci_scaled = scaler.fit_transform(nci_data)\n",
    "nci_pca = PCA()\n",
    "nci_scores = nci_pca.fit_transform(nci_scaled)"
   ]
  },
  {
   "cell_type": "markdown",
   "id": "8a8c9932",
   "metadata": {},
   "source": [
    "We now plot the first few principal component score vectors, in order\n",
    "to visualize the data. The observations (cell lines) corresponding to\n",
    "a given cancer type will be plotted in the same color, so that we can\n",
    "see to what extent the observations within a cancer type are similar\n",
    "to each other."
   ]
  },
  {
   "cell_type": "code",
   "execution_count": null,
   "id": "63b5efe3",
   "metadata": {
    "execution": {
     "iopub.execute_input": "2023-07-26T05:18:12.882679Z",
     "iopub.status.busy": "2023-07-26T05:18:12.878318Z",
     "iopub.status.idle": "2023-07-26T05:18:13.099177Z",
     "shell.execute_reply": "2023-07-26T05:18:13.098712Z"
    }
   },
   "outputs": [],
   "source": [
    "cancer_types = list(np.unique(nci_labs))\n",
    "nci_groups = np.array([cancer_types.index(lab)\n",
    "                       for lab in nci_labs.values])\n",
    "fig, axes = plt.subplots(1, 2, figsize=(15,6))\n",
    "ax = axes[0]\n",
    "ax.scatter(nci_scores[:,0],\n",
    "           nci_scores[:,1],\n",
    "           c=nci_groups,\n",
    "           marker='o',\n",
    "           s=50)\n",
    "ax.set_xlabel('PC1'); ax.set_ylabel('PC2')\n",
    "ax = axes[1]\n",
    "ax.scatter(nci_scores[:,0],\n",
    "           nci_scores[:,2],\n",
    "           c=nci_groups,\n",
    "           marker='o',\n",
    "           s=50)\n",
    "ax.set_xlabel('PC1'); ax.set_ylabel('PC3');"
   ]
  },
  {
   "cell_type": "markdown",
   "id": "87b33a9c",
   "metadata": {},
   "source": [
    "On the whole, cell lines corresponding to a single cancer type do tend to\n",
    "have similar values on the first few principal component score\n",
    "vectors. This indicates that cell lines from the same cancer type tend\n",
    "to have pretty similar gene expression levels."
   ]
  },
  {
   "cell_type": "markdown",
   "id": "890fdb54",
   "metadata": {},
   "source": [
    "We can also plot the percent variance\n",
    "explained by the principal components as well as the cumulative percent variance explained.\n",
    "This is similar to the plots we made earlier for the `USArrests` data."
   ]
  },
  {
   "cell_type": "code",
   "execution_count": null,
   "id": "e20c3cc1",
   "metadata": {
    "execution": {
     "iopub.execute_input": "2023-07-26T05:18:13.101683Z",
     "iopub.status.busy": "2023-07-26T05:18:13.101534Z",
     "iopub.status.idle": "2023-07-26T05:18:13.327522Z",
     "shell.execute_reply": "2023-07-26T05:18:13.327041Z"
    }
   },
   "outputs": [],
   "source": [
    "fig, axes = plt.subplots(1, 2, figsize=(15,6))\n",
    "ax = axes[0]\n",
    "ticks = np.arange(nci_pca.n_components_)+1\n",
    "ax.plot(ticks,\n",
    "        nci_pca.explained_variance_ratio_,\n",
    "        marker='o')\n",
    "ax.set_xlabel('Principal Component');\n",
    "ax.set_ylabel('PVE')\n",
    "ax = axes[1]\n",
    "ax.plot(ticks,\n",
    "        nci_pca.explained_variance_ratio_.cumsum(),\n",
    "        marker='o');\n",
    "ax.set_xlabel('Principal Component')\n",
    "ax.set_ylabel('Cumulative PVE');"
   ]
  },
  {
   "cell_type": "markdown",
   "id": "cb6eb4f8",
   "metadata": {},
   "source": [
    "We see that together, the first seven principal components explain\n",
    "around 40% of the variance in the data. This is not a huge amount\n",
    "of the variance. However, looking at the scree plot, we see that while\n",
    "each of the first seven principal components explain a substantial\n",
    "amount of variance, there is a marked decrease in the variance\n",
    "explained by further principal components. That is, there is an\n",
    "*elbow*  in the plot after approximately the seventh\n",
    "principal component.  This suggests that there may be little benefit\n",
    "to examining more than seven or so principal components (though even\n",
    "examining seven principal components may be difficult)."
   ]
  },
  {
   "cell_type": "markdown",
   "id": "8962791f",
   "metadata": {},
   "source": [
    "### Clustering the Observations of the NCI60 Data\n",
    "\n",
    "We now perform hierarchical clustering of the cell lines in the `NCI60` data using\n",
    "complete, single, and   average linkage. Once again, the goal is to find out whether or not the observations cluster into distinct types of cancer. Euclidean\n",
    "distance is used as the dissimilarity measure. We first write a short\n",
    "function to  produce\n",
    "the three dendrograms."
   ]
  },
  {
   "cell_type": "code",
   "execution_count": null,
   "id": "622de805",
   "metadata": {
    "execution": {
     "iopub.execute_input": "2023-07-26T05:18:13.330190Z",
     "iopub.status.busy": "2023-07-26T05:18:13.330013Z",
     "iopub.status.idle": "2023-07-26T05:18:13.332964Z",
     "shell.execute_reply": "2023-07-26T05:18:13.332533Z"
    }
   },
   "outputs": [],
   "source": [
    "def plot_nci(linkage, ax, cut=-np.inf):\n",
    "    cargs = {'above_threshold_color':'black',\n",
    "             'color_threshold':cut}\n",
    "    hc = HClust(n_clusters=None,\n",
    "                distance_threshold=0,\n",
    "                linkage=linkage.lower()).fit(nci_scaled)\n",
    "    linkage_ = compute_linkage(hc)\n",
    "    dendrogram(linkage_,\n",
    "               ax=ax,\n",
    "               labels=np.asarray(nci_labs),\n",
    "               leaf_font_size=10,\n",
    "               **cargs)\n",
    "    ax.set_title('%s Linkage' % linkage)\n",
    "    return hc"
   ]
  },
  {
   "cell_type": "markdown",
   "id": "9cf5f836",
   "metadata": {},
   "source": [
    "Let’s  plot our results."
   ]
  },
  {
   "cell_type": "code",
   "execution_count": null,
   "id": "54d40449",
   "metadata": {
    "execution": {
     "iopub.execute_input": "2023-07-26T05:18:13.336193Z",
     "iopub.status.busy": "2023-07-26T05:18:13.335972Z",
     "iopub.status.idle": "2023-07-26T05:18:14.886877Z",
     "shell.execute_reply": "2023-07-26T05:18:14.886190Z"
    }
   },
   "outputs": [],
   "source": [
    "fig, axes = plt.subplots(3, 1, figsize=(15,30))      \n",
    "ax = axes[0]; hc_comp = plot_nci('Complete', ax)\n",
    "ax = axes[1]; hc_avg = plot_nci('Average', ax)\n",
    "ax = axes[2]; hc_sing = plot_nci('Single', ax)"
   ]
  },
  {
   "cell_type": "markdown",
   "id": "1703afbb",
   "metadata": {},
   "source": [
    "We see that the\n",
    "choice of linkage certainly does affect the results\n",
    "obtained. Typically, single linkage will tend to yield *trailing*\n",
    "clusters: very large clusters onto which individual observations\n",
    "attach one-by-one. On the other hand, complete and average linkage\n",
    "tend to yield more balanced, attractive clusters. For this reason,\n",
    "complete and average linkage are generally preferred to single\n",
    "linkage.  Clearly cell lines within a single cancer type do tend to\n",
    "cluster together, although the clustering is not perfect. We will use\n",
    "complete linkage hierarchical clustering for the analysis that\n",
    "follows.\n",
    "\n",
    "We can cut the dendrogram at the height that will yield a particular\n",
    "number of clusters, say four:"
   ]
  },
  {
   "cell_type": "code",
   "execution_count": null,
   "id": "dc80afc8",
   "metadata": {
    "execution": {
     "iopub.execute_input": "2023-07-26T05:18:14.891531Z",
     "iopub.status.busy": "2023-07-26T05:18:14.890910Z",
     "iopub.status.idle": "2023-07-26T05:18:14.903469Z",
     "shell.execute_reply": "2023-07-26T05:18:14.903077Z"
    }
   },
   "outputs": [],
   "source": [
    "linkage_comp = compute_linkage(hc_comp)\n",
    "comp_cut = cut_tree(linkage_comp, n_clusters=4).reshape(-1)\n",
    "pd.crosstab(nci_labs['label'],\n",
    "            pd.Series(comp_cut.reshape(-1), name='Complete'))"
   ]
  },
  {
   "cell_type": "markdown",
   "id": "d8ecae69",
   "metadata": {},
   "source": [
    "There are some clear patterns. All the leukemia cell lines fall in\n",
    "one cluster, while the breast cancer cell lines are spread out over\n",
    "three different clusters.\n",
    "\n",
    "We can plot a cut on the dendrogram that produces these four clusters:"
   ]
  },
  {
   "cell_type": "code",
   "execution_count": null,
   "id": "40ff59f9",
   "metadata": {
    "execution": {
     "iopub.execute_input": "2023-07-26T05:18:14.905992Z",
     "iopub.status.busy": "2023-07-26T05:18:14.905760Z",
     "iopub.status.idle": "2023-07-26T05:18:15.399751Z",
     "shell.execute_reply": "2023-07-26T05:18:15.399237Z"
    }
   },
   "outputs": [],
   "source": [
    "fig, ax = plt.subplots(figsize=(10,10))\n",
    "plot_nci('Complete', ax, cut=140)\n",
    "ax.axhline(140, c='r', linewidth=4);"
   ]
  },
  {
   "cell_type": "markdown",
   "id": "1c03368c",
   "metadata": {},
   "source": [
    "The `axhline()`  function draws a horizontal line  line on top of any\n",
    "existing set of axes. The argument `140` plots a horizontal\n",
    "line at height 140 on the dendrogram; this is a height that\n",
    "results in four distinct clusters. It is easy to verify that the\n",
    "resulting clusters are the same as the ones we obtained in\n",
    "`comp_cut`.\n",
    "\n",
    "We claimed earlier in Section 12.4.2 that\n",
    "$K$-means clustering and hierarchical clustering with the dendrogram\n",
    "cut to obtain the same number of clusters can yield very different\n",
    "results.  How do these `NCI60` hierarchical clustering results compare\n",
    "to what we get if we perform $K$-means clustering with $K=4$?"
   ]
  },
  {
   "cell_type": "code",
   "execution_count": null,
   "id": "1587e83b",
   "metadata": {
    "execution": {
     "iopub.execute_input": "2023-07-26T05:18:15.401922Z",
     "iopub.status.busy": "2023-07-26T05:18:15.401768Z",
     "iopub.status.idle": "2023-07-26T05:18:17.931480Z",
     "shell.execute_reply": "2023-07-26T05:18:17.924183Z"
    }
   },
   "outputs": [],
   "source": [
    "nci_kmeans = KMeans(n_clusters=4, \n",
    "                    random_state=0,\n",
    "                    n_init=20).fit(nci_scaled)\n",
    "pd.crosstab(pd.Series(comp_cut, name='HClust'),\n",
    "            pd.Series(nci_kmeans.labels_, name='K-means'))"
   ]
  },
  {
   "cell_type": "markdown",
   "id": "b49c4a73",
   "metadata": {},
   "source": [
    "We see that the four clusters obtained using hierarchical clustering\n",
    "and $K$-means clustering are somewhat different. First we note\n",
    "that the labels in the two clusterings are arbitrary. That is, swapping\n",
    "the identifier of the cluster does not\n",
    "change the clustering. We see here Cluster 3 in\n",
    "$K$-means clustering is identical to cluster 2 in hierarchical\n",
    "clustering. However, the other clusters differ: for instance,\n",
    "cluster 0 in $K$-means clustering contains a portion of the\n",
    "observations assigned to cluster 0 by hierarchical clustering, as well\n",
    "as all of the observations assigned to cluster 1 by hierarchical\n",
    "clustering.\n",
    "\n",
    "Rather than performing hierarchical clustering on the entire data\n",
    "matrix, we can also perform hierarchical clustering on the first few\n",
    "principal component score vectors, regarding these first few components\n",
    "as a less noisy version of the data."
   ]
  },
  {
   "cell_type": "code",
   "execution_count": null,
   "id": "b09ceeab",
   "metadata": {
    "execution": {
     "iopub.execute_input": "2023-07-26T05:18:17.955945Z",
     "iopub.status.busy": "2023-07-26T05:18:17.954718Z",
     "iopub.status.idle": "2023-07-26T05:18:18.488264Z",
     "shell.execute_reply": "2023-07-26T05:18:18.487809Z"
    }
   },
   "outputs": [],
   "source": [
    "hc_pca = HClust(n_clusters=None,\n",
    "                distance_threshold=0,\n",
    "                linkage='complete'\n",
    "                ).fit(nci_scores[:,:5])\n",
    "linkage_pca = compute_linkage(hc_pca)\n",
    "fig, ax = plt.subplots(figsize=(8,8))\n",
    "dendrogram(linkage_pca,\n",
    "           labels=np.asarray(nci_labs),\n",
    "           leaf_font_size=10,\n",
    "           ax=ax,\n",
    "           **cargs)\n",
    "ax.set_title(\"Hier. Clust. on First Five Score Vectors\")\n",
    "pca_labels = pd.Series(cut_tree(linkage_pca,\n",
    "                                n_clusters=4).reshape(-1),\n",
    "                       name='Complete-PCA')\n",
    "pd.crosstab(nci_labs['label'], pca_labels)"
   ]
  }
 ],
 "metadata": {
  "jupytext": {
   "cell_metadata_filter": "-all",
   "formats": "ipynb,md:myst",
   "main_language": "python"
  },
  "language_info": {
   "codemirror_mode": {
    "name": "ipython",
    "version": 3
   },
   "file_extension": ".py",
   "mimetype": "text/x-python",
   "name": "python",
   "nbconvert_exporter": "python",
   "pygments_lexer": "ipython3",
   "version": "3.9.17"
  }
 },
 "nbformat": 4,
 "nbformat_minor": 5
}

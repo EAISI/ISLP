{
 "cells": [
  {
   "cell_type": "markdown",
   "id": "c7f4eb5a",
   "metadata": {},
   "source": [
    "#  Survival Analysis\n",
    "\n",
    "<a target=\"_blank\" href=\"https://colab.research.google.com/github/intro-stat-learning/ISLP/blob/v1/docs/source/labs/Ch11-surv-lab.ipynb\">\n",
    "  <img src=\"https://colab.research.google.com/assets/colab-badge.svg\" alt=\"Open In Colab\"/>\n",
    "\n",
    "</a>\n",
    "\n",
    " In this lab, we perform survival analyses on three separate data\n",
    "sets. In  Section 11.8.1 we analyze the  `BrainCancer` \n",
    "data  that was first described in Section 11.3. In Section 11.8.2, we examine the  `Publication` \n",
    "data  from Section 11.5.4. Finally,  Section 11.8.3  explores\n",
    "a simulated call-center data set.\n",
    "\n",
    "We begin by importing some of our libraries at this top\n",
    "level. This makes the code more readable, as scanning the first few\n",
    "lines of the notebook tell us what libraries are used in this\n",
    "notebook."
   ]
  },
  {
   "cell_type": "code",
   "execution_count": null,
   "id": "91ac40fd",
   "metadata": {
    "execution": {
     "iopub.execute_input": "2023-07-26T05:18:03.064349Z",
     "iopub.status.busy": "2023-07-26T05:18:03.064029Z",
     "iopub.status.idle": "2023-07-26T05:18:04.312445Z",
     "shell.execute_reply": "2023-07-26T05:18:04.312016Z"
    }
   },
   "outputs": [],
   "source": [
    "from matplotlib.pyplot import subplots\n",
    "import numpy as np\n",
    "import pandas as pd\n",
    "from ISLP.models import ModelSpec as MS\n",
    "from ISLP import load_data"
   ]
  },
  {
   "cell_type": "markdown",
   "id": "a3dbcbbf",
   "metadata": {},
   "source": [
    "We  also collect the new imports\n",
    "needed for this lab."
   ]
  },
  {
   "cell_type": "code",
   "execution_count": null,
   "id": "99782418",
   "metadata": {
    "execution": {
     "iopub.execute_input": "2023-07-26T05:18:04.315115Z",
     "iopub.status.busy": "2023-07-26T05:18:04.314859Z",
     "iopub.status.idle": "2023-07-26T05:18:04.379768Z",
     "shell.execute_reply": "2023-07-26T05:18:04.379303Z"
    }
   },
   "outputs": [],
   "source": [
    "from lifelines import \\\n",
    "     (KaplanMeierFitter,\n",
    "      CoxPHFitter)\n",
    "from lifelines.statistics import \\\n",
    "     (logrank_test,\n",
    "      multivariate_logrank_test)\n",
    "from ISLP.survival import sim_time"
   ]
  },
  {
   "cell_type": "markdown",
   "id": "2c538d28",
   "metadata": {},
   "source": [
    "## Brain Cancer Data\n",
    "\n",
    "We begin with the `BrainCancer` data set, contained in the `ISLP` package."
   ]
  },
  {
   "cell_type": "code",
   "execution_count": null,
   "id": "3137149a",
   "metadata": {
    "execution": {
     "iopub.execute_input": "2023-07-26T05:18:04.382594Z",
     "iopub.status.busy": "2023-07-26T05:18:04.382386Z",
     "iopub.status.idle": "2023-07-26T05:18:04.389761Z",
     "shell.execute_reply": "2023-07-26T05:18:04.389375Z"
    }
   },
   "outputs": [],
   "source": [
    "BrainCancer = load_data('BrainCancer')\n",
    "BrainCancer.columns"
   ]
  },
  {
   "cell_type": "markdown",
   "id": "e798f172",
   "metadata": {},
   "source": [
    "The rows index the 88 patients, while the 8 columns contain the predictors and outcome variables.\n",
    "We first briefly examine the data."
   ]
  },
  {
   "cell_type": "code",
   "execution_count": null,
   "id": "45963c92",
   "metadata": {
    "execution": {
     "iopub.execute_input": "2023-07-26T05:18:04.392289Z",
     "iopub.status.busy": "2023-07-26T05:18:04.392117Z",
     "iopub.status.idle": "2023-07-26T05:18:04.396285Z",
     "shell.execute_reply": "2023-07-26T05:18:04.395840Z"
    }
   },
   "outputs": [],
   "source": [
    "BrainCancer['sex'].value_counts()"
   ]
  },
  {
   "cell_type": "code",
   "execution_count": null,
   "id": "73be61f6",
   "metadata": {
    "execution": {
     "iopub.execute_input": "2023-07-26T05:18:04.400201Z",
     "iopub.status.busy": "2023-07-26T05:18:04.399975Z",
     "iopub.status.idle": "2023-07-26T05:18:04.403967Z",
     "shell.execute_reply": "2023-07-26T05:18:04.403581Z"
    }
   },
   "outputs": [],
   "source": [
    "BrainCancer['diagnosis'].value_counts()"
   ]
  },
  {
   "cell_type": "code",
   "execution_count": null,
   "id": "572f0b9e",
   "metadata": {
    "execution": {
     "iopub.execute_input": "2023-07-26T05:18:04.406232Z",
     "iopub.status.busy": "2023-07-26T05:18:04.406110Z",
     "iopub.status.idle": "2023-07-26T05:18:04.409773Z",
     "shell.execute_reply": "2023-07-26T05:18:04.409374Z"
    }
   },
   "outputs": [],
   "source": [
    "BrainCancer['status'].value_counts()"
   ]
  },
  {
   "cell_type": "markdown",
   "id": "fbd132de",
   "metadata": {},
   "source": [
    "Before beginning an analysis, it is important to know how the\n",
    "`status` variable has been coded.  Most software\n",
    "uses the convention that a `status` of 1 indicates an\n",
    "uncensored observation (often death), and a `status` of 0 indicates a censored\n",
    "observation. But some scientists might use the opposite coding. For\n",
    "the  `BrainCancer`  data set 35 patients died before the end of\n",
    "the study, so we are using the conventional coding.\n",
    "\n",
    "To begin the analysis, we re-create  the Kaplan-Meier survival curve shown in Figure 11.2. The main\n",
    "package we will use for survival analysis\n",
    "is `lifelines`.\n",
    "The variable  `time`  corresponds to $y_i$, the time to the $i$th event (either censoring or\n",
    "death). The first argument to `km.fit` is the event time, and the\n",
    "second argument is the censoring variable, with a 1 indicating an observed\n",
    "failure time. The `plot()` method produces a survival curve with pointwise confidence\n",
    "intervals. By default, these are  90% confidence intervals, but this can be changed\n",
    "by setting the `alpha` argument to one minus the desired\n",
    "confidence level."
   ]
  },
  {
   "cell_type": "code",
   "execution_count": null,
   "id": "92c39707",
   "metadata": {
    "execution": {
     "iopub.execute_input": "2023-07-26T05:18:04.411840Z",
     "iopub.status.busy": "2023-07-26T05:18:04.411663Z",
     "iopub.status.idle": "2023-07-26T05:18:04.539774Z",
     "shell.execute_reply": "2023-07-26T05:18:04.539439Z"
    }
   },
   "outputs": [],
   "source": [
    "fig, ax = subplots(figsize=(8,8))\n",
    "km = KaplanMeierFitter()\n",
    "km_brain = km.fit(BrainCancer['time'], BrainCancer['status'])\n",
    "km_brain.plot(label='Kaplan Meier estimate', ax=ax)"
   ]
  },
  {
   "cell_type": "markdown",
   "id": "f037665b",
   "metadata": {},
   "source": [
    "Next we create Kaplan-Meier survival curves that are stratified by\n",
    "`sex`, in order to reproduce  Figure 11.3.\n",
    "We  do this using the `groupby()` method of  a  dataframe.\n",
    "This  method returns a generator that can\n",
    "be  iterated over in the `for` loop. In this case,\n",
    "the  items  in the `for` loop are  2-tuples  representing\n",
    "the groups: the first entry is the  value\n",
    "of the grouping column  `sex` while the  second  value\n",
    "is the dataframe consisting of all  rows in the\n",
    "dataframe matching that value of `sex`.\n",
    "We will want to use this data below\n",
    "in the log-rank test,  hence we store this\n",
    "information in the dictionary `by_sex`. Finally,\n",
    "we have also used the notion of\n",
    " *string interpolation* to automatically\n",
    "label the  different lines in the  plot. String\n",
    "interpolation is a powerful technique to format strings ---\n",
    "`Python` has many ways to facilitate such operations."
   ]
  },
  {
   "cell_type": "code",
   "execution_count": null,
   "id": "3fc7848c",
   "metadata": {
    "execution": {
     "iopub.execute_input": "2023-07-26T05:18:04.542265Z",
     "iopub.status.busy": "2023-07-26T05:18:04.542002Z",
     "iopub.status.idle": "2023-07-26T05:18:04.674613Z",
     "shell.execute_reply": "2023-07-26T05:18:04.674126Z"
    }
   },
   "outputs": [],
   "source": [
    "fig, ax = subplots(figsize=(8,8))\n",
    "by_sex = {}\n",
    "for sex, df in BrainCancer.groupby('sex'):\n",
    "    by_sex[sex] = df\n",
    "    km_sex = km.fit(df['time'], df['status'])\n",
    "    km_sex.plot(label='Sex=%s' % sex, ax=ax)"
   ]
  },
  {
   "cell_type": "markdown",
   "id": "c0c1a16a",
   "metadata": {},
   "source": [
    "As discussed in Section 11.4, we can perform a\n",
    "log-rank test to compare the survival of males to females. We use\n",
    "the `logrank_test()` function from the `lifelines.statistics` module.\n",
    "The first two arguments are the event times, with the second\n",
    "denoting the corresponding (optional) censoring indicators."
   ]
  },
  {
   "cell_type": "code",
   "execution_count": null,
   "id": "bf30d26f",
   "metadata": {
    "execution": {
     "iopub.execute_input": "2023-07-26T05:18:04.679625Z",
     "iopub.status.busy": "2023-07-26T05:18:04.679410Z",
     "iopub.status.idle": "2023-07-26T05:18:04.743501Z",
     "shell.execute_reply": "2023-07-26T05:18:04.743166Z"
    }
   },
   "outputs": [],
   "source": [
    "logrank_test(by_sex['Male']['time'],\n",
    "             by_sex['Female']['time'],\n",
    "             by_sex['Male']['status'],\n",
    "             by_sex['Female']['status'])"
   ]
  },
  {
   "cell_type": "markdown",
   "id": "e270649c",
   "metadata": {},
   "source": [
    "The resulting $p$-value is $0.23$, indicating no evidence of a\n",
    "difference in survival between the two sexes.\n",
    "\n",
    "Next, we  use the `CoxPHFitter()`  estimator\n",
    "from `lifelines` to fit Cox proportional hazards models.\n",
    "To begin, we consider a model that uses  `sex`  as the only predictor."
   ]
  },
  {
   "cell_type": "code",
   "execution_count": null,
   "id": "2ab78e07",
   "metadata": {
    "execution": {
     "iopub.execute_input": "2023-07-26T05:18:04.746088Z",
     "iopub.status.busy": "2023-07-26T05:18:04.745814Z",
     "iopub.status.idle": "2023-07-26T05:18:04.773972Z",
     "shell.execute_reply": "2023-07-26T05:18:04.773498Z"
    }
   },
   "outputs": [],
   "source": [
    "coxph = CoxPHFitter # shorthand\n",
    "sex_df = BrainCancer[['time', 'status', 'sex']]\n",
    "model_df = MS(['time', 'status', 'sex'],\n",
    "              intercept=False).fit_transform(sex_df)\n",
    "cox_fit = coxph().fit(model_df,\n",
    "                      'time',\n",
    "                      'status')\n",
    "cox_fit.summary[['coef', 'se(coef)', 'p']]"
   ]
  },
  {
   "cell_type": "markdown",
   "id": "b58b93ae",
   "metadata": {},
   "source": [
    "The first argument to `fit` should be a data frame containing\n",
    "at least the event time (the second argument `time` in this case),\n",
    "as well as an optional censoring variable (the argument `status` in this case).\n",
    "Note also that the Cox model does not include an intercept, which is why\n",
    "we used the `intercept=False` argument to `ModelSpec` above.\n",
    "The `summary()` method delivers many columns; we chose to abbreviate its output here.\n",
    "It is possible to obtain the likelihood ratio test comparing this model to the one\n",
    "with no features as follows:"
   ]
  },
  {
   "cell_type": "code",
   "execution_count": null,
   "id": "4716b7b0",
   "metadata": {
    "execution": {
     "iopub.execute_input": "2023-07-26T05:18:04.776775Z",
     "iopub.status.busy": "2023-07-26T05:18:04.776463Z",
     "iopub.status.idle": "2023-07-26T05:18:04.783362Z",
     "shell.execute_reply": "2023-07-26T05:18:04.782865Z"
    }
   },
   "outputs": [],
   "source": [
    "cox_fit.log_likelihood_ratio_test()"
   ]
  },
  {
   "cell_type": "markdown",
   "id": "2820f486",
   "metadata": {},
   "source": [
    "Regardless of which test we use, we see that there is no clear\n",
    "evidence for a difference in survival between males and females.  As\n",
    "we learned in this chapter, the score test from the Cox model is\n",
    "exactly equal to the log rank test statistic!\n",
    "\n",
    "Now we fit a  model that makes use of additional predictors. We first note\n",
    "that one of our `diagnosis` values is missing, hence\n",
    "we drop that observation before continuing."
   ]
  },
  {
   "cell_type": "code",
   "execution_count": null,
   "id": "c2767d88",
   "metadata": {
    "execution": {
     "iopub.execute_input": "2023-07-26T05:18:04.785790Z",
     "iopub.status.busy": "2023-07-26T05:18:04.785586Z",
     "iopub.status.idle": "2023-07-26T05:18:04.824235Z",
     "shell.execute_reply": "2023-07-26T05:18:04.823739Z"
    }
   },
   "outputs": [],
   "source": [
    "cleaned = BrainCancer.dropna()\n",
    "all_MS = MS(cleaned.columns, intercept=False)\n",
    "all_df = all_MS.fit_transform(cleaned)\n",
    "fit_all = coxph().fit(all_df,\n",
    "                      'time',\n",
    "                      'status')\n",
    "fit_all.summary[['coef', 'se(coef)', 'p']]"
   ]
  },
  {
   "cell_type": "markdown",
   "id": "eee4ab1f",
   "metadata": {},
   "source": [
    " The `diagnosis` variable has been coded so that the baseline\n",
    "corresponds to HG glioma. The results indicate that the risk associated with HG glioma\n",
    "is more than eight times (i.e. $e^{2.15}=8.62$) the risk associated\n",
    "with meningioma. In other words, after adjusting for the other\n",
    "predictors, patients with HG glioma have much worse survival compared\n",
    "to those with meningioma.  In addition, larger values of the Karnofsky\n",
    "index, `ki`, are associated with lower risk, i.e. longer survival.\n",
    "\n",
    "Finally, we plot estimated survival curves for each diagnosis category,\n",
    "adjusting for the other predictors.  To make these plots, we set the\n",
    "values of the other predictors equal to the mean for quantitative variables\n",
    "and equal to the mode for categorical. To do this, we use the\n",
    "`apply()` method across rows (i.e. `axis=0`) with a function\n",
    "`representative` that checks if a column is categorical\n",
    "or not."
   ]
  },
  {
   "cell_type": "code",
   "execution_count": null,
   "id": "ede1d219",
   "metadata": {
    "execution": {
     "iopub.execute_input": "2023-07-26T05:18:04.826852Z",
     "iopub.status.busy": "2023-07-26T05:18:04.826662Z",
     "iopub.status.idle": "2023-07-26T05:18:04.831013Z",
     "shell.execute_reply": "2023-07-26T05:18:04.830464Z"
    }
   },
   "outputs": [],
   "source": [
    "levels = cleaned['diagnosis'].unique()\n",
    "def representative(series):\n",
    "    if hasattr(series.dtype, 'categories'):\n",
    "        return pd.Series.mode(series)\n",
    "    else:\n",
    "        return series.mean()\n",
    "modal_data = cleaned.apply(representative, axis=0)"
   ]
  },
  {
   "cell_type": "markdown",
   "id": "e1c307ae",
   "metadata": {},
   "source": [
    "We make four\n",
    "copies of the column means and assign the `diagnosis` column to be the four different\n",
    "diagnoses."
   ]
  },
  {
   "cell_type": "code",
   "execution_count": null,
   "id": "dc032a71",
   "metadata": {
    "execution": {
     "iopub.execute_input": "2023-07-26T05:18:04.833522Z",
     "iopub.status.busy": "2023-07-26T05:18:04.833389Z",
     "iopub.status.idle": "2023-07-26T05:18:04.840549Z",
     "shell.execute_reply": "2023-07-26T05:18:04.840260Z"
    }
   },
   "outputs": [],
   "source": [
    "modal_df = pd.DataFrame(\n",
    "              [modal_data.iloc[0] for _ in range(len(levels))])\n",
    "modal_df['diagnosis'] = levels\n",
    "modal_df"
   ]
  },
  {
   "cell_type": "markdown",
   "id": "84da2586",
   "metadata": {},
   "source": [
    "We then construct the model matrix based on the model specification `all_MS` used to fit\n",
    "the model, and name the rows according to the levels of `diagnosis`."
   ]
  },
  {
   "cell_type": "code",
   "execution_count": null,
   "id": "e7c1fe43",
   "metadata": {
    "execution": {
     "iopub.execute_input": "2023-07-26T05:18:04.843157Z",
     "iopub.status.busy": "2023-07-26T05:18:04.843004Z",
     "iopub.status.idle": "2023-07-26T05:18:04.852876Z",
     "shell.execute_reply": "2023-07-26T05:18:04.852545Z"
    }
   },
   "outputs": [],
   "source": [
    "modal_X = all_MS.transform(modal_df)\n",
    "modal_X.index = levels\n",
    "modal_X"
   ]
  },
  {
   "cell_type": "markdown",
   "id": "3cfe1ec4",
   "metadata": {},
   "source": [
    "We can use the `predict_survival_function()` method to obtain the estimated survival function."
   ]
  },
  {
   "cell_type": "code",
   "execution_count": null,
   "id": "f89fbed7",
   "metadata": {
    "execution": {
     "iopub.execute_input": "2023-07-26T05:18:04.855400Z",
     "iopub.status.busy": "2023-07-26T05:18:04.855197Z",
     "iopub.status.idle": "2023-07-26T05:18:04.864584Z",
     "shell.execute_reply": "2023-07-26T05:18:04.864194Z"
    }
   },
   "outputs": [],
   "source": [
    "predicted_survival = fit_all.predict_survival_function(modal_X)\n",
    "predicted_survival"
   ]
  },
  {
   "cell_type": "markdown",
   "id": "29afd641",
   "metadata": {},
   "source": [
    "This returns a data frame,\n",
    "whose plot methods yields the different survival curves. To avoid clutter in\n",
    "the plots, we do not display confidence intervals."
   ]
  },
  {
   "cell_type": "code",
   "execution_count": null,
   "id": "8f0329b4",
   "metadata": {
    "execution": {
     "iopub.execute_input": "2023-07-26T05:18:04.867553Z",
     "iopub.status.busy": "2023-07-26T05:18:04.867105Z",
     "iopub.status.idle": "2023-07-26T05:18:04.987503Z",
     "shell.execute_reply": "2023-07-26T05:18:04.986681Z"
    }
   },
   "outputs": [],
   "source": [
    "fig, ax = subplots(figsize=(8, 8))\n",
    "predicted_survival.plot(ax=ax);"
   ]
  },
  {
   "cell_type": "markdown",
   "id": "12723ce5",
   "metadata": {},
   "source": [
    "## Publication Data\n",
    "The  `Publication`  data   presented in Section 11.5.4  can be\n",
    "found in the `ISLP` package.\n",
    "We first reproduce Figure 11.5  by plotting the Kaplan-Meier curves\n",
    "stratified on the  `posres`  variable, which records whether the\n",
    "study had a positive or negative result."
   ]
  },
  {
   "cell_type": "code",
   "execution_count": null,
   "id": "3045bfc0",
   "metadata": {
    "execution": {
     "iopub.execute_input": "2023-07-26T05:18:04.990450Z",
     "iopub.status.busy": "2023-07-26T05:18:04.990225Z",
     "iopub.status.idle": "2023-07-26T05:18:05.181343Z",
     "shell.execute_reply": "2023-07-26T05:18:05.178676Z"
    }
   },
   "outputs": [],
   "source": [
    "fig, ax = subplots(figsize=(8,8))\n",
    "Publication = load_data('Publication')\n",
    "by_result = {}\n",
    "for result, df in Publication.groupby('posres'):\n",
    "    by_result[result] = df\n",
    "    km_result = km.fit(df['time'], df['status'])\n",
    "    km_result.plot(label='Result=%d' % result, ax=ax)"
   ]
  },
  {
   "cell_type": "markdown",
   "id": "6fcb22f7",
   "metadata": {},
   "source": [
    "As discussed previously, the $p$-values from fitting Cox’s\n",
    "proportional hazards model to the `posres` variable are quite\n",
    "large, providing no evidence of a difference in time-to-publication\n",
    "between studies with positive versus negative results."
   ]
  },
  {
   "cell_type": "code",
   "execution_count": null,
   "id": "d070f716",
   "metadata": {
    "execution": {
     "iopub.execute_input": "2023-07-26T05:18:05.184743Z",
     "iopub.status.busy": "2023-07-26T05:18:05.184569Z",
     "iopub.status.idle": "2023-07-26T05:18:05.222538Z",
     "shell.execute_reply": "2023-07-26T05:18:05.221996Z"
    }
   },
   "outputs": [],
   "source": [
    "posres_df = MS(['posres',\n",
    "                'time',\n",
    "                'status'],\n",
    "                intercept=False).fit_transform(Publication)\n",
    "posres_fit = coxph().fit(posres_df,\n",
    "                         'time',\n",
    "                         'status')\n",
    "posres_fit.summary[['coef', 'se(coef)', 'p']]"
   ]
  },
  {
   "cell_type": "markdown",
   "id": "513a55b1",
   "metadata": {},
   "source": [
    "However, the results change dramatically when we include other\n",
    "predictors in the model. Here we exclude the funding mechanism\n",
    "variable."
   ]
  },
  {
   "cell_type": "code",
   "execution_count": null,
   "id": "2bbcdd0c",
   "metadata": {
    "execution": {
     "iopub.execute_input": "2023-07-26T05:18:05.225196Z",
     "iopub.status.busy": "2023-07-26T05:18:05.224969Z",
     "iopub.status.idle": "2023-07-26T05:18:05.270258Z",
     "shell.execute_reply": "2023-07-26T05:18:05.269721Z"
    }
   },
   "outputs": [],
   "source": [
    "model = MS(Publication.columns.drop('mech'),\n",
    "           intercept=False)\n",
    "coxph().fit(model.fit_transform(Publication),\n",
    "            'time',\n",
    "            'status').summary[['coef', 'se(coef)', 'p']]"
   ]
  },
  {
   "cell_type": "markdown",
   "id": "75bb8aa6",
   "metadata": {},
   "source": [
    "We see that there are a number of statistically significant variables,\n",
    "including whether the trial focused on a clinical endpoint, the impact\n",
    "of the study, and whether the study had positive or negative results."
   ]
  },
  {
   "cell_type": "markdown",
   "id": "bfe236e5",
   "metadata": {},
   "source": [
    "## Call Center Data\n",
    "\n",
    "In this section, we will simulate survival data using the relationship\n",
    "between cumulative hazard and\n",
    "the survival function explored in Exercise 8.\n",
    "Our simulated data will represent the observed\n",
    "wait times (in seconds) for 2,000 customers who have phoned a call\n",
    "center.  In this context, censoring occurs if a customer hangs up\n",
    "before his or her call is answered.\n",
    "\n",
    "There are three covariates: `Operators` (the number of call\n",
    "center operators available at the time of the call, which can range\n",
    "from $5$ to $15$), `Center` (either A, B, or C), and\n",
    "`Time` of day (Morning, Afternoon, or Evening). We generate data\n",
    "for these covariates so that all possibilities are equally likely: for\n",
    "instance, morning, afternoon and evening calls are equally likely, and\n",
    "any number of operators from $5$ to $15$ is equally likely."
   ]
  },
  {
   "cell_type": "code",
   "execution_count": null,
   "id": "b8ece43a",
   "metadata": {
    "execution": {
     "iopub.execute_input": "2023-07-26T05:18:05.272852Z",
     "iopub.status.busy": "2023-07-26T05:18:05.272613Z",
     "iopub.status.idle": "2023-07-26T05:18:05.277670Z",
     "shell.execute_reply": "2023-07-26T05:18:05.277169Z"
    }
   },
   "outputs": [],
   "source": [
    "rng = np.random.default_rng(10)\n",
    "N = 2000\n",
    "Operators = rng.choice(np.arange(5, 16),\n",
    "                       N,\n",
    "                       replace=True)\n",
    "Center = rng.choice(['A', 'B', 'C'],\n",
    "                    N,\n",
    "                    replace=True)\n",
    "Time = rng.choice(['Morn.', 'After.', 'Even.'],\n",
    "                   N,\n",
    "                   replace=True)\n",
    "D = pd.DataFrame({'Operators': Operators,\n",
    "                  'Center': pd.Categorical(Center),\n",
    "                  'Time': pd.Categorical(Time)})"
   ]
  },
  {
   "cell_type": "markdown",
   "id": "c93e44f3",
   "metadata": {},
   "source": [
    "We then build a model matrix (omitting the intercept)"
   ]
  },
  {
   "cell_type": "code",
   "execution_count": null,
   "id": "3e4f766f",
   "metadata": {
    "execution": {
     "iopub.execute_input": "2023-07-26T05:18:05.279951Z",
     "iopub.status.busy": "2023-07-26T05:18:05.279774Z",
     "iopub.status.idle": "2023-07-26T05:18:05.289519Z",
     "shell.execute_reply": "2023-07-26T05:18:05.288948Z"
    }
   },
   "outputs": [],
   "source": [
    "model = MS(['Operators',\n",
    "            'Center',\n",
    "            'Time'],\n",
    "           intercept=False)\n",
    "X = model.fit_transform(D)"
   ]
  },
  {
   "cell_type": "markdown",
   "id": "cad1ed19",
   "metadata": {},
   "source": [
    "It is worthwhile to take a peek at the model matrix `X`, so\n",
    "that we can be sure that we understand how the variables have been coded. By default,\n",
    "the levels of categorical variables are sorted and, as usual, the first column of the one-hot encoding\n",
    "of the variable is dropped."
   ]
  },
  {
   "cell_type": "code",
   "execution_count": null,
   "id": "72f42d14",
   "metadata": {
    "execution": {
     "iopub.execute_input": "2023-07-26T05:18:05.292713Z",
     "iopub.status.busy": "2023-07-26T05:18:05.292424Z",
     "iopub.status.idle": "2023-07-26T05:18:05.299084Z",
     "shell.execute_reply": "2023-07-26T05:18:05.298414Z"
    }
   },
   "outputs": [],
   "source": [
    "X[:5]"
   ]
  },
  {
   "cell_type": "markdown",
   "id": "38c40ae1",
   "metadata": {},
   "source": [
    "Next,  we specify the coefficients and the hazard function."
   ]
  },
  {
   "cell_type": "code",
   "execution_count": null,
   "id": "8b921536",
   "metadata": {
    "execution": {
     "iopub.execute_input": "2023-07-26T05:18:05.301800Z",
     "iopub.status.busy": "2023-07-26T05:18:05.301580Z",
     "iopub.status.idle": "2023-07-26T05:18:05.340807Z",
     "shell.execute_reply": "2023-07-26T05:18:05.311843Z"
    }
   },
   "outputs": [],
   "source": [
    "true_beta = np.array([0.04, -0.3, 0, 0.2, -0.2])\n",
    "true_linpred = X.dot(true_beta)\n",
    "hazard = lambda t: 1e-5 * t"
   ]
  },
  {
   "cell_type": "markdown",
   "id": "a0698ffd",
   "metadata": {},
   "source": [
    "Here, we have set the coefficient associated with `Operators` to\n",
    "equal $0.04$; in other words, each additional operator leads to a\n",
    "$e^{0.04}=1.041$-fold increase in the “risk” that the call will be\n",
    "answered, given the `Center` and `Time` covariates. This\n",
    "makes sense: the greater the number of operators at hand, the shorter\n",
    "the wait time! The coefficient associated with `Center == B` is\n",
    "$-0.3$, and `Center == A` is treated as the baseline. This means\n",
    "that the risk of a call being answered at Center B is 0.74 times the\n",
    "risk that it will be answered at Center A; in other words, the wait\n",
    "times are a bit longer at Center B.\n",
    "\n",
    "Recall from Section 2.3.7 the use of `lambda`\n",
    "for creating short functions on the fly.\n",
    "We use the function\n",
    "`sim_time()` from the `ISLP.survival` package. This function\n",
    "uses the relationship between the survival function\n",
    "and cumulative hazard $S(t) = \\exp(-H(t))$ and the specific\n",
    "form of the cumulative hazard function in the Cox model\n",
    "to simulate data based on values of the linear predictor\n",
    "`true_linpred` and the cumulative hazard. \n",
    " We need to provide the cumulative hazard function, which we do here."
   ]
  },
  {
   "cell_type": "code",
   "execution_count": null,
   "id": "96ce0f99",
   "metadata": {
    "execution": {
     "iopub.execute_input": "2023-07-26T05:18:05.399214Z",
     "iopub.status.busy": "2023-07-26T05:18:05.386941Z",
     "iopub.status.idle": "2023-07-26T05:18:05.423513Z",
     "shell.execute_reply": "2023-07-26T05:18:05.417411Z"
    }
   },
   "outputs": [],
   "source": [
    "cum_hazard = lambda t: 1e-5 * t**2 / 2"
   ]
  },
  {
   "cell_type": "markdown",
   "id": "1956e4c2",
   "metadata": {},
   "source": [
    "We are now ready to generate data under the Cox proportional hazards\n",
    "model. We truncate the maximum time to 1000 seconds to keep\n",
    "simulated wait times reasonable. The function\n",
    "`sim_time()` takes a linear predictor,\n",
    "a cumulative hazard function and a\n",
    "random number generator."
   ]
  },
  {
   "cell_type": "code",
   "execution_count": null,
   "id": "63d78ff9",
   "metadata": {
    "execution": {
     "iopub.execute_input": "2023-07-26T05:18:05.450050Z",
     "iopub.status.busy": "2023-07-26T05:18:05.449814Z",
     "iopub.status.idle": "2023-07-26T05:18:05.587170Z",
     "shell.execute_reply": "2023-07-26T05:18:05.586673Z"
    }
   },
   "outputs": [],
   "source": [
    "W = np.array([sim_time(l, cum_hazard, rng)\n",
    "              for l in true_linpred])\n",
    "D['Wait time'] = np.clip(W, 0, 1000)"
   ]
  },
  {
   "cell_type": "markdown",
   "id": "035e4ecf",
   "metadata": {},
   "source": [
    "We now simulate our censoring variable, for which we assume\n",
    "90% of calls were answered (`Failed==1`) before the\n",
    "customer hung up (`Failed==0`)."
   ]
  },
  {
   "cell_type": "code",
   "execution_count": null,
   "id": "fe008dbf",
   "metadata": {
    "execution": {
     "iopub.execute_input": "2023-07-26T05:18:05.590252Z",
     "iopub.status.busy": "2023-07-26T05:18:05.589902Z",
     "iopub.status.idle": "2023-07-26T05:18:05.596018Z",
     "shell.execute_reply": "2023-07-26T05:18:05.595604Z"
    }
   },
   "outputs": [],
   "source": [
    "D['Failed'] = rng.choice([1, 0],\n",
    "                         N,\n",
    "                         p=[0.9, 0.1])\n",
    "D[:5]"
   ]
  },
  {
   "cell_type": "code",
   "execution_count": null,
   "id": "c3a2bec7",
   "metadata": {
    "execution": {
     "iopub.execute_input": "2023-07-26T05:18:05.598122Z",
     "iopub.status.busy": "2023-07-26T05:18:05.597969Z",
     "iopub.status.idle": "2023-07-26T05:18:05.601009Z",
     "shell.execute_reply": "2023-07-26T05:18:05.600579Z"
    }
   },
   "outputs": [],
   "source": [
    "D['Failed'].mean()"
   ]
  },
  {
   "cell_type": "markdown",
   "id": "207937e5",
   "metadata": {},
   "source": [
    "We now plot  Kaplan-Meier survival curves. First, we stratify by `Center`."
   ]
  },
  {
   "cell_type": "code",
   "execution_count": null,
   "id": "2b27af56",
   "metadata": {
    "execution": {
     "iopub.execute_input": "2023-07-26T05:18:05.603318Z",
     "iopub.status.busy": "2023-07-26T05:18:05.603142Z",
     "iopub.status.idle": "2023-07-26T05:18:05.827076Z",
     "shell.execute_reply": "2023-07-26T05:18:05.826151Z"
    }
   },
   "outputs": [],
   "source": [
    "fig, ax = subplots(figsize=(8,8))\n",
    "by_center = {}\n",
    "for center, df in D.groupby('Center'):\n",
    "    by_center[center] = df\n",
    "    km_center = km.fit(df['Wait time'], df['Failed'])\n",
    "    km_center.plot(label='Center=%s' % center, ax=ax)\n",
    "ax.set_title(\"Probability of Still Being on Hold\")"
   ]
  },
  {
   "cell_type": "markdown",
   "id": "be6d37f7",
   "metadata": {},
   "source": [
    "Next, we stratify by `Time`."
   ]
  },
  {
   "cell_type": "code",
   "execution_count": null,
   "id": "9625598d",
   "metadata": {
    "execution": {
     "iopub.execute_input": "2023-07-26T05:18:05.830554Z",
     "iopub.status.busy": "2023-07-26T05:18:05.830059Z",
     "iopub.status.idle": "2023-07-26T05:18:06.008529Z",
     "shell.execute_reply": "2023-07-26T05:18:06.008079Z"
    }
   },
   "outputs": [],
   "source": [
    "fig, ax = subplots(figsize=(8,8))\n",
    "by_time = {}\n",
    "for time, df in D.groupby('Time'):\n",
    "    by_time[time] = df\n",
    "    km_time = km.fit(df['Wait time'], df['Failed'])\n",
    "    km_time.plot(label='Time=%s' % time, ax=ax)\n",
    "ax.set_title(\"Probability of Still Being on Hold\")"
   ]
  },
  {
   "cell_type": "markdown",
   "id": "1408ebc0",
   "metadata": {},
   "source": [
    "It seems that calls at Call Center B take longer to be answered than\n",
    "calls at Centers A and C. Similarly, it appears that wait times are\n",
    "longest in the morning and shortest in the evening hours. We can use a\n",
    "log-rank test to determine whether these differences are statistically\n",
    "significant using the function `multivariate_logrank_test()`."
   ]
  },
  {
   "cell_type": "code",
   "execution_count": null,
   "id": "75a744ef",
   "metadata": {
    "execution": {
     "iopub.execute_input": "2023-07-26T05:18:06.012649Z",
     "iopub.status.busy": "2023-07-26T05:18:06.012037Z",
     "iopub.status.idle": "2023-07-26T05:18:06.033832Z",
     "shell.execute_reply": "2023-07-26T05:18:06.033320Z"
    }
   },
   "outputs": [],
   "source": [
    "multivariate_logrank_test(D['Wait time'],\n",
    "                          D['Center'],\n",
    "                          D['Failed'])"
   ]
  },
  {
   "cell_type": "markdown",
   "id": "be5055e4",
   "metadata": {},
   "source": [
    "Next, we consider the  effect of `Time`."
   ]
  },
  {
   "cell_type": "code",
   "execution_count": null,
   "id": "9badb3e3",
   "metadata": {
    "execution": {
     "iopub.execute_input": "2023-07-26T05:18:06.036375Z",
     "iopub.status.busy": "2023-07-26T05:18:06.036170Z",
     "iopub.status.idle": "2023-07-26T05:18:06.055850Z",
     "shell.execute_reply": "2023-07-26T05:18:06.055183Z"
    }
   },
   "outputs": [],
   "source": [
    "multivariate_logrank_test(D['Wait time'],\n",
    "                          D['Time'],\n",
    "                          D['Failed'])"
   ]
  },
  {
   "cell_type": "markdown",
   "id": "64b2bc33",
   "metadata": {},
   "source": [
    "As in the case of a categorical variable with 2 levels, these\n",
    "results are similar to the likelihood ratio test\n",
    "from the Cox proportional hazards model. First, we\n",
    "look at the results for  `Center`."
   ]
  },
  {
   "cell_type": "code",
   "execution_count": null,
   "id": "026e9ff8",
   "metadata": {
    "execution": {
     "iopub.execute_input": "2023-07-26T05:18:06.058057Z",
     "iopub.status.busy": "2023-07-26T05:18:06.057906Z",
     "iopub.status.idle": "2023-07-26T05:18:06.184883Z",
     "shell.execute_reply": "2023-07-26T05:18:06.184356Z"
    }
   },
   "outputs": [],
   "source": [
    "X = MS(['Wait time',\n",
    "        'Failed',\n",
    "        'Center'],\n",
    "        intercept=False).fit_transform(D)\n",
    "F = coxph().fit(X, 'Wait time', 'Failed')\n",
    "F.log_likelihood_ratio_test()"
   ]
  },
  {
   "cell_type": "markdown",
   "id": "4ed54fe0",
   "metadata": {},
   "source": [
    "Next, we look at the results for `Time`."
   ]
  },
  {
   "cell_type": "code",
   "execution_count": null,
   "id": "7cab3789",
   "metadata": {
    "execution": {
     "iopub.execute_input": "2023-07-26T05:18:06.187428Z",
     "iopub.status.busy": "2023-07-26T05:18:06.187255Z",
     "iopub.status.idle": "2023-07-26T05:18:06.315832Z",
     "shell.execute_reply": "2023-07-26T05:18:06.314374Z"
    }
   },
   "outputs": [],
   "source": [
    "X = MS(['Wait time',\n",
    "        'Failed',\n",
    "        'Time'],\n",
    "       intercept=False).fit_transform(D)\n",
    "F = coxph().fit(X, 'Wait time', 'Failed')\n",
    "F.log_likelihood_ratio_test()"
   ]
  },
  {
   "cell_type": "markdown",
   "id": "2d250dc9",
   "metadata": {},
   "source": [
    "We find that differences between centers are highly significant, as\n",
    "are differences between times of day.\n",
    "\n",
    "Finally, we fit Cox's proportional hazards model to the data."
   ]
  },
  {
   "cell_type": "code",
   "execution_count": null,
   "id": "5cc4b898",
   "metadata": {
    "execution": {
     "iopub.execute_input": "2023-07-26T05:18:06.320288Z",
     "iopub.status.busy": "2023-07-26T05:18:06.319261Z",
     "iopub.status.idle": "2023-07-26T05:18:06.585074Z",
     "shell.execute_reply": "2023-07-26T05:18:06.577564Z"
    }
   },
   "outputs": [],
   "source": [
    "X = MS(D.columns,\n",
    "       intercept=False).fit_transform(D)\n",
    "fit_queuing = coxph().fit(\n",
    "                  X,\n",
    "                 'Wait time',\n",
    "                 'Failed')\n",
    "fit_queuing.summary[['coef', 'se(coef)', 'p']]"
   ]
  },
  {
   "cell_type": "markdown",
   "id": "bec9d61d",
   "metadata": {},
   "source": [
    "The $p$-values for Center B and evening time\n",
    "are very small. It is also clear that the\n",
    "hazard --- that is, the instantaneous risk that a call will be\n",
    "answered --- increases with the number of operators. Since we\n",
    "generated the data ourselves, we know that the true coefficients for\n",
    " `Operators`, `Center = B`, `Center = C`, \n",
    "`Time = Even.` and `Time = Morn.`   are $0.04$, $-0.3$,\n",
    "$0$,   $0.2$, and $-0.2$, respectively. The coefficient estimates\n",
    "from the fitted Cox model are fairly accurate."
   ]
  }
 ],
 "metadata": {
  "jupytext": {
   "cell_metadata_filter": "-all",
   "formats": "ipynb,md:myst",
   "main_language": "python"
  },
  "language_info": {
   "codemirror_mode": {
    "name": "ipython",
    "version": 3
   },
   "file_extension": ".py",
   "mimetype": "text/x-python",
   "name": "python",
   "nbconvert_exporter": "python",
   "pygments_lexer": "ipython3",
   "version": "3.9.17"
  }
 },
 "nbformat": 4,
 "nbformat_minor": 5
}

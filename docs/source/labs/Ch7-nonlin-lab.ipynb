{
 "cells": [
  {
   "cell_type": "markdown",
   "id": "8d006b12",
   "metadata": {},
   "source": [
    "#  Non-Linear Modeling\n",
    "\n",
    "<a target=\"_blank\" href=\"https://colab.research.google.com/github/intro-stat-learning/ISLP/blob/v1/docs/source/labs/Ch7-nonlin-lab.ipynb\">\n",
    "  <img src=\"https://colab.research.google.com/assets/colab-badge.svg\" alt=\"Open In Colab\"/>\n",
    "\n",
    "</a>\n",
    "\n",
    "In this lab, we demonstrate some of the nonlinear models discussed in\n",
    "this chapter. We use the `Wage`  data as a running example, and show that many of the complex non-linear fitting procedures discussed can easily be implemented in \\Python.\n",
    "\n",
    "As usual, we start with some of our standard imports."
   ]
  },
  {
   "cell_type": "code",
   "execution_count": null,
   "id": "77af2dc4",
   "metadata": {
    "execution": {
     "iopub.execute_input": "2023-07-26T05:17:29.006535Z",
     "iopub.status.busy": "2023-07-26T05:17:29.006365Z",
     "iopub.status.idle": "2023-07-26T05:17:30.236882Z",
     "shell.execute_reply": "2023-07-26T05:17:30.236365Z"
    }
   },
   "outputs": [],
   "source": [
    "import numpy as np, pandas as pd\n",
    "from matplotlib.pyplot import subplots\n",
    "import statsmodels.api as sm\n",
    "from ISLP import load_data\n",
    "from ISLP.models import (summarize,\n",
    "                         poly,\n",
    "                         ModelSpec as MS)\n",
    "from statsmodels.stats.anova import anova_lm"
   ]
  },
  {
   "cell_type": "markdown",
   "id": "39ee2f1e",
   "metadata": {},
   "source": [
    "We again collect the new imports\n",
    "needed for this lab. Many of these are developed specifically for the\n",
    "`ISLP` package."
   ]
  },
  {
   "cell_type": "code",
   "execution_count": null,
   "id": "b57d1d51",
   "metadata": {
    "execution": {
     "iopub.execute_input": "2023-07-26T05:17:30.240347Z",
     "iopub.status.busy": "2023-07-26T05:17:30.240127Z",
     "iopub.status.idle": "2023-07-26T05:17:30.254879Z",
     "shell.execute_reply": "2023-07-26T05:17:30.254420Z"
    }
   },
   "outputs": [],
   "source": [
    "from pygam import (s as s_gam,\n",
    "                   l as l_gam,\n",
    "                   f as f_gam,\n",
    "                   LinearGAM,\n",
    "                   LogisticGAM)\n",
    "\n",
    "from ISLP.transforms import (BSpline,\n",
    "                             NaturalSpline)\n",
    "from ISLP.models import bs, ns\n",
    "from ISLP.pygam import (approx_lam,\n",
    "                        degrees_of_freedom,\n",
    "                        plot as plot_gam,\n",
    "                        anova as anova_gam)"
   ]
  },
  {
   "cell_type": "markdown",
   "id": "6fe472df",
   "metadata": {},
   "source": [
    "## Polynomial Regression and Step Functions\n",
    "We start by demonstrating how Figure 7.1 can be reproduced.\n",
    "Let's  begin by loading the data."
   ]
  },
  {
   "cell_type": "code",
   "execution_count": null,
   "id": "65f0e562",
   "metadata": {
    "execution": {
     "iopub.execute_input": "2023-07-26T05:17:30.257519Z",
     "iopub.status.busy": "2023-07-26T05:17:30.257098Z",
     "iopub.status.idle": "2023-07-26T05:17:30.265239Z",
     "shell.execute_reply": "2023-07-26T05:17:30.264877Z"
    }
   },
   "outputs": [],
   "source": [
    "Wage = load_data('Wage')\n",
    "y = Wage['wage']\n",
    "age = Wage['age']"
   ]
  },
  {
   "cell_type": "markdown",
   "id": "36e5e181",
   "metadata": {},
   "source": [
    "Throughout most of this lab, our response is `Wage['wage']`, which\n",
    "we have stored as `y` above. \n",
    "As in Section 3.6.6, we will use the `poly()` function to create a model matrix\n",
    "that will fit a $4$th degree polynomial in `age`."
   ]
  },
  {
   "cell_type": "code",
   "execution_count": null,
   "id": "a391fae6",
   "metadata": {
    "execution": {
     "iopub.execute_input": "2023-07-26T05:17:30.267640Z",
     "iopub.status.busy": "2023-07-26T05:17:30.267444Z",
     "iopub.status.idle": "2023-07-26T05:17:30.380537Z",
     "shell.execute_reply": "2023-07-26T05:17:30.378736Z"
    }
   },
   "outputs": [],
   "source": [
    "poly_age = MS([poly('age', degree=4)]).fit(Wage)\n",
    "M = sm.OLS(y, poly_age.transform(Wage)).fit()\n",
    "summarize(M)"
   ]
  },
  {
   "cell_type": "markdown",
   "id": "5ffdb585",
   "metadata": {},
   "source": [
    "This polynomial is constructed using the function `poly()`,\n",
    "which creates\n",
    "a special *transformer* `Poly()` (using `sklearn` terminology\n",
    "for feature transformations such as `PCA()` seen in Section 6.5.3) which\n",
    "allows for easy evaluation of the polynomial at new data points. Here `poly()` is referred to as a *helper* function, and sets up the transformation; `Poly()` is the actual workhorse that computes the transformation. See also \n",
    "the \n",
    "discussion of transformations on\n",
    "page 127. \n",
    "\n",
    "In the code above, the first line executes the `fit()` method\n",
    "using the dataframe\n",
    "`Wage`. This recomputes and stores as attributes any parameters needed by `Poly()`\n",
    "on the training data, and these will be used on all subsequent\n",
    "evaluations of the `transform()` method. For example, it is used\n",
    "on the second line, as well as in the plotting function developed below."
   ]
  },
  {
   "cell_type": "markdown",
   "id": "45d9130a",
   "metadata": {},
   "source": [
    "We now create a grid of values for `age` at which we want\n",
    "predictions."
   ]
  },
  {
   "cell_type": "code",
   "execution_count": null,
   "id": "d672f40e",
   "metadata": {
    "execution": {
     "iopub.execute_input": "2023-07-26T05:17:30.388859Z",
     "iopub.status.busy": "2023-07-26T05:17:30.387288Z",
     "iopub.status.idle": "2023-07-26T05:17:30.401783Z",
     "shell.execute_reply": "2023-07-26T05:17:30.398614Z"
    }
   },
   "outputs": [],
   "source": [
    "age_grid = np.linspace(age.min(),\n",
    "                       age.max(),\n",
    "                       100)\n",
    "age_df = pd.DataFrame({'age': age_grid})"
   ]
  },
  {
   "cell_type": "markdown",
   "id": "b6e9a066",
   "metadata": {},
   "source": [
    "Finally, we wish to plot the data and add the fit from the fourth-degree polynomial. As we will make\n",
    "several similar plots below, we first write a function\n",
    "to create all the ingredients and produce the plot.  Our function\n",
    "takes in a model specification (here a basis specified by a\n",
    "transform), as well as a grid of `age` values. The function\n",
    "produces a fitted curve as well as 95% confidence bands. By using\n",
    "an argument for `basis` we can produce and plot the results with several different\n",
    "transforms, such as the splines we will see shortly."
   ]
  },
  {
   "cell_type": "code",
   "execution_count": null,
   "id": "56174265",
   "metadata": {
    "execution": {
     "iopub.execute_input": "2023-07-26T05:17:30.414085Z",
     "iopub.status.busy": "2023-07-26T05:17:30.411883Z",
     "iopub.status.idle": "2023-07-26T05:17:30.434639Z",
     "shell.execute_reply": "2023-07-26T05:17:30.432466Z"
    }
   },
   "outputs": [],
   "source": [
    "def plot_wage_fit(age_df, \n",
    "                  basis,\n",
    "                  title):\n",
    "\n",
    "    X = basis.transform(Wage)\n",
    "    Xnew = basis.transform(age_df)\n",
    "    M = sm.OLS(y, X).fit()\n",
    "    preds = M.get_prediction(Xnew)\n",
    "    bands = preds.conf_int(alpha=0.05)\n",
    "    fig, ax = subplots(figsize=(8,8))\n",
    "    ax.scatter(age,\n",
    "               y,\n",
    "               facecolor='gray',\n",
    "               alpha=0.5)\n",
    "    for val, ls in zip([preds.predicted_mean,\n",
    "                      bands[:,0],\n",
    "                      bands[:,1]],\n",
    "                     ['b','r--','r--']):\n",
    "        ax.plot(age_df.values, val, ls, linewidth=3)\n",
    "    ax.set_title(title, fontsize=20)\n",
    "    ax.set_xlabel('Age', fontsize=20)\n",
    "    ax.set_ylabel('Wage', fontsize=20);\n",
    "    return ax"
   ]
  },
  {
   "cell_type": "markdown",
   "id": "cf21e69b",
   "metadata": {},
   "source": [
    "We include an argument `alpha` to `ax.scatter()`\n",
    "to add some transparency to the points. This provides a visual indication\n",
    "of density. Notice the use of the `zip()` function in the\n",
    "`for` loop above (see Section 2.3.8).\n",
    "We have three lines to plot, each with different colors and line\n",
    "types. Here `zip()` conveniently bundles these together as\n",
    "iterators in the loop. {In `Python`  speak, an \"iterator\" is an object with a finite number of values, that can be iterated on, as in a loop.}\n",
    "\n",
    "We now plot the fit of the fourth-degree polynomial using this\n",
    "function."
   ]
  },
  {
   "cell_type": "code",
   "execution_count": null,
   "id": "1a10422f",
   "metadata": {
    "execution": {
     "iopub.execute_input": "2023-07-26T05:17:30.447621Z",
     "iopub.status.busy": "2023-07-26T05:17:30.446550Z",
     "iopub.status.idle": "2023-07-26T05:17:30.730675Z",
     "shell.execute_reply": "2023-07-26T05:17:30.730133Z"
    }
   },
   "outputs": [],
   "source": [
    "plot_wage_fit(age_df, \n",
    "              poly_age,\n",
    "              'Degree-4 Polynomial');"
   ]
  },
  {
   "cell_type": "markdown",
   "id": "8b5c9ab5",
   "metadata": {},
   "source": [
    "With  polynomial regression we must decide on the degree of\n",
    "the polynomial to use. Sometimes we just wing it, and decide to use\n",
    "second or third degree polynomials, simply to obtain a nonlinear fit. But we can\n",
    "make such a decision in a more systematic way. One way to do this is through hypothesis\n",
    "tests, which we demonstrate here. We now fit a series of models ranging from\n",
    "linear (degree-one) to degree-five polynomials,\n",
    "and look to determine the simplest model that is sufficient to\n",
    "explain the relationship between `wage` and `age`. We use the\n",
    "`anova_lm()`  function, which performs a series of ANOVA\n",
    "tests.\n",
    "An \\emph{analysis of\n",
    "  variance}  or ANOVA tests the null\n",
    "hypothesis that a model $\\mathcal{M}_1$ is sufficient to explain the\n",
    "data against the alternative hypothesis that a more complex model\n",
    "$\\mathcal{M}_2$ is required. The determination is based on an F-test.\n",
    "To perform the test, the models  $\\mathcal{M}_1$ and $\\mathcal{M}_2$ must be *nested*:\n",
    "the space spanned by the predictors in $\\mathcal{M}_1$ must be a subspace of the\n",
    "space spanned by the predictors in $\\mathcal{M}_2$. In this case, we\n",
    "fit five different polynomial\n",
    "models and sequentially compare the simpler model to the more complex\n",
    "model."
   ]
  },
  {
   "cell_type": "code",
   "execution_count": null,
   "id": "8105e672",
   "metadata": {
    "execution": {
     "iopub.execute_input": "2023-07-26T05:17:30.732769Z",
     "iopub.status.busy": "2023-07-26T05:17:30.732623Z",
     "iopub.status.idle": "2023-07-26T05:17:30.781558Z",
     "shell.execute_reply": "2023-07-26T05:17:30.779955Z"
    }
   },
   "outputs": [],
   "source": [
    "models = [MS([poly('age', degree=d)]) \n",
    "          for d in range(1, 6)]\n",
    "Xs = [model.fit_transform(Wage) for model in models]\n",
    "anova_lm(*[sm.OLS(y, X_).fit()\n",
    "           for X_ in Xs])"
   ]
  },
  {
   "cell_type": "markdown",
   "id": "7bfb9873",
   "metadata": {},
   "source": [
    "Notice the `*` in the `anova_lm()` line above. This\n",
    "function takes a variable number of non-keyword arguments, in this case fitted models.\n",
    "When these models are provided as a list (as is done here), it must be \n",
    "prefixed by `*`.\n",
    "\n",
    "The p-value comparing the linear `models[0]` to the quadratic\n",
    "`models[1]` is essentially zero, indicating that a linear\n",
    "fit is not sufficient. {Indexing starting at zero is confusing for the polynomial degree example, since `models[1]` is quadratic rather than linear!} Similarly the p-value comparing the quadratic\n",
    "`models[1]` to the cubic `models[2]` is very low (0.0017), so the\n",
    "quadratic fit is also insufficient. The p-value comparing the cubic\n",
    "and degree-four polynomials, `models[2]` and `models[3]`, is\n",
    "approximately 5%, while the degree-five polynomial `models[4]` seems\n",
    "unnecessary because its p-value is 0.37. Hence, either a cubic or a\n",
    "quartic polynomial appear to provide a reasonable fit to the data, but\n",
    "lower- or higher-order models are not justified.\n",
    "\n",
    "In this case, instead of using the `anova()`  function, we could\n",
    "have obtained these p-values more succinctly by exploiting the fact\n",
    "that `poly()`  creates orthogonal polynomials."
   ]
  },
  {
   "cell_type": "code",
   "execution_count": null,
   "id": "095fca7f",
   "metadata": {
    "execution": {
     "iopub.execute_input": "2023-07-26T05:17:30.790773Z",
     "iopub.status.busy": "2023-07-26T05:17:30.789916Z",
     "iopub.status.idle": "2023-07-26T05:17:30.829956Z",
     "shell.execute_reply": "2023-07-26T05:17:30.827755Z"
    }
   },
   "outputs": [],
   "source": [
    "summarize(M)"
   ]
  },
  {
   "cell_type": "markdown",
   "id": "65394c3e",
   "metadata": {},
   "source": [
    "Notice that the p-values are the same, and in fact the square of\n",
    "the  t-statistics are equal to the F-statistics from the\n",
    "`anova_lm()`  function;  for example:"
   ]
  },
  {
   "cell_type": "code",
   "execution_count": null,
   "id": "0b576607",
   "metadata": {
    "execution": {
     "iopub.execute_input": "2023-07-26T05:17:30.839811Z",
     "iopub.status.busy": "2023-07-26T05:17:30.837704Z",
     "iopub.status.idle": "2023-07-26T05:17:30.856244Z",
     "shell.execute_reply": "2023-07-26T05:17:30.854399Z"
    }
   },
   "outputs": [],
   "source": [
    "(-11.983)**2"
   ]
  },
  {
   "cell_type": "markdown",
   "id": "44af9855",
   "metadata": {},
   "source": [
    "However, the ANOVA method works whether or not we used orthogonal\n",
    "polynomials, provided the models are nested. For example, we can use\n",
    "`anova_lm()`  to compare the following three\n",
    "models, which all have a linear term in `education` and a\n",
    "polynomial in `age` of different degrees:"
   ]
  },
  {
   "cell_type": "code",
   "execution_count": null,
   "id": "7242df77",
   "metadata": {
    "execution": {
     "iopub.execute_input": "2023-07-26T05:17:30.866948Z",
     "iopub.status.busy": "2023-07-26T05:17:30.865892Z",
     "iopub.status.idle": "2023-07-26T05:17:30.922189Z",
     "shell.execute_reply": "2023-07-26T05:17:30.920195Z"
    }
   },
   "outputs": [],
   "source": [
    "models = [MS(['education', poly('age', degree=d)])\n",
    "          for d in range(1, 4)]\n",
    "XEs = [model.fit_transform(Wage)\n",
    "       for model in models]\n",
    "anova_lm(*[sm.OLS(y, X_).fit() for X_ in XEs])"
   ]
  },
  {
   "cell_type": "markdown",
   "id": "4887dbee",
   "metadata": {},
   "source": [
    "As an alternative to using hypothesis tests and ANOVA, we could choose\n",
    "the polynomial degree using cross-validation, as discussed in Chapter 5.\n",
    "\n",
    "Next we consider the task of predicting whether an individual earns\n",
    "more than $250,000 per year. We proceed much as before, except\n",
    "that first we create the appropriate response vector, and then apply\n",
    "the `glm()`  function using the binomial family in order\n",
    "to fit a polynomial logistic regression model."
   ]
  },
  {
   "cell_type": "code",
   "execution_count": null,
   "id": "c7972aea",
   "metadata": {
    "execution": {
     "iopub.execute_input": "2023-07-26T05:17:30.932685Z",
     "iopub.status.busy": "2023-07-26T05:17:30.932050Z",
     "iopub.status.idle": "2023-07-26T05:17:31.040926Z",
     "shell.execute_reply": "2023-07-26T05:17:31.003239Z"
    }
   },
   "outputs": [],
   "source": [
    "X = poly_age.transform(Wage)\n",
    "high_earn = Wage['high_earn'] = y > 250 # shorthand\n",
    "glm = sm.GLM(y > 250,\n",
    "             X,\n",
    "             family=sm.families.Binomial())\n",
    "B = glm.fit()\n",
    "summarize(B)"
   ]
  },
  {
   "cell_type": "markdown",
   "id": "cd7f2a1d",
   "metadata": {},
   "source": [
    "Once again, we make predictions using the `get_prediction()`  method."
   ]
  },
  {
   "cell_type": "code",
   "execution_count": null,
   "id": "84f172f2",
   "metadata": {
    "execution": {
     "iopub.execute_input": "2023-07-26T05:17:31.067292Z",
     "iopub.status.busy": "2023-07-26T05:17:31.066686Z",
     "iopub.status.idle": "2023-07-26T05:17:31.149946Z",
     "shell.execute_reply": "2023-07-26T05:17:31.109686Z"
    }
   },
   "outputs": [],
   "source": [
    "newX = poly_age.transform(age_df)\n",
    "preds = B.get_prediction(newX)\n",
    "bands = preds.conf_int(alpha=0.05)"
   ]
  },
  {
   "cell_type": "markdown",
   "id": "96a82fa2",
   "metadata": {},
   "source": [
    "We now plot the estimated relationship."
   ]
  },
  {
   "cell_type": "code",
   "execution_count": null,
   "id": "fcf376bd",
   "metadata": {
    "execution": {
     "iopub.execute_input": "2023-07-26T05:17:31.174590Z",
     "iopub.status.busy": "2023-07-26T05:17:31.158361Z",
     "iopub.status.idle": "2023-07-26T05:17:31.302984Z",
     "shell.execute_reply": "2023-07-26T05:17:31.302329Z"
    }
   },
   "outputs": [],
   "source": [
    "fig, ax = subplots(figsize=(8,8))\n",
    "rng = np.random.default_rng(0)\n",
    "ax.scatter(age +\n",
    "           0.2 * rng.uniform(size=y.shape[0]),\n",
    "           np.where(high_earn, 0.198, 0.002),\n",
    "           fc='gray',\n",
    "           marker='|')\n",
    "for val, ls in zip([preds.predicted_mean,\n",
    "                  bands[:,0],\n",
    "                  bands[:,1]],\n",
    "                 ['b','r--','r--']):\n",
    "    ax.plot(age_df.values, val, ls, linewidth=3)\n",
    "ax.set_title('Degree-4 Polynomial', fontsize=20)\n",
    "ax.set_xlabel('Age', fontsize=20)\n",
    "ax.set_ylim([0,0.2])\n",
    "ax.set_ylabel('P(Wage > 250)', fontsize=20);"
   ]
  },
  {
   "cell_type": "markdown",
   "id": "ece6ba93",
   "metadata": {},
   "source": [
    "We have drawn the `age` values corresponding to the observations with\n",
    "`wage` values above 250 as gray marks on the top of the plot, and\n",
    "those with `wage` values below 250 are shown as gray marks on the\n",
    "bottom of the plot. We added a small amount of noise to jitter\n",
    "the `age` values a bit so that observations with the same `age`\n",
    "value do not cover each other up. This type of plot is often called a\n",
    "*rug plot*.\n",
    "\n",
    "In order to fit a step function, as discussed in\n",
    "Section 7.2,   we first use the `pd.qcut()`\n",
    "function to discretize `age` based on quantiles.  Then  we use `pd.get_dummies()` to create the\n",
    "columns of the model matrix for this categorical variable. Note that this function will\n",
    "include *all* columns for a given categorical, rather than the usual approach which drops one\n",
    "of the levels."
   ]
  },
  {
   "cell_type": "code",
   "execution_count": null,
   "id": "c4d00900",
   "metadata": {
    "execution": {
     "iopub.execute_input": "2023-07-26T05:17:31.305474Z",
     "iopub.status.busy": "2023-07-26T05:17:31.305329Z",
     "iopub.status.idle": "2023-07-26T05:17:31.336068Z",
     "shell.execute_reply": "2023-07-26T05:17:31.334266Z"
    }
   },
   "outputs": [],
   "source": [
    "cut_age = pd.qcut(age, 4)\n",
    "summarize(sm.OLS(y, pd.get_dummies(cut_age)).fit())"
   ]
  },
  {
   "cell_type": "markdown",
   "id": "68f44046",
   "metadata": {},
   "source": [
    "Here `pd.qcut()`  automatically picked the cutpoints based on the quantiles 25%, 50% and 75%, which results in four regions.  We could also have specified our own\n",
    "quantiles directly instead of the argument `4`. For cuts not based\n",
    "on quantiles we would use the `pd.cut()` function.\n",
    "The function `pd.qcut()` (and `pd.cut()`) returns an ordered categorical variable.\n",
    "  The regression model then creates a set of\n",
    "dummy variables for use in the regression. Since `age` is the only variable in the model, the value $94,158.40 is the average salary for those under 33.75 years of\n",
    "age, and the other coefficients are the average\n",
    "salary for those in the other age groups.  We can produce\n",
    "predictions and plots just as we did in the case of the polynomial\n",
    "fit."
   ]
  },
  {
   "cell_type": "markdown",
   "id": "4e157a87",
   "metadata": {},
   "source": [
    "## Splines\n",
    "In order to fit regression splines, we use transforms\n",
    "from the `ISLP` package. The actual spline\n",
    "evaluation functions are in the `scipy.interpolate` package;\n",
    "we have simply wrapped them as transforms\n",
    "similar to `Poly()` and `PCA()`.\n",
    "\n",
    "In Section 7.4, we saw\n",
    "that regression splines can be fit by constructing an appropriate\n",
    "matrix of basis functions.  The `BSpline()`  function generates the\n",
    "entire matrix of basis functions for splines with the specified set of\n",
    "knots. By default, the B-splines produced are cubic. To change the degree, use\n",
    "the argument `degree`."
   ]
  },
  {
   "cell_type": "code",
   "execution_count": null,
   "id": "d3817102",
   "metadata": {
    "execution": {
     "iopub.execute_input": "2023-07-26T05:17:31.345711Z",
     "iopub.status.busy": "2023-07-26T05:17:31.343152Z",
     "iopub.status.idle": "2023-07-26T05:17:31.444719Z",
     "shell.execute_reply": "2023-07-26T05:17:31.422743Z"
    }
   },
   "outputs": [],
   "source": [
    "bs_ = BSpline(internal_knots=[25,40,60], intercept=True).fit(age)\n",
    "bs_age = bs_.transform(age)\n",
    "bs_age.shape"
   ]
  },
  {
   "cell_type": "markdown",
   "id": "711c9413",
   "metadata": {},
   "source": [
    "This results in a seven-column matrix, which is what is expected for a cubic-spline basis with 3 interior knots. \n",
    "We can form this same matrix using the `bs()` object,\n",
    "which facilitates adding this to a model-matrix builder (as in `poly()` versus its workhorse `Poly()`) described in Section 7.8.1.\n",
    "\n",
    "We now fit a cubic spline model to the `Wage`  data."
   ]
  },
  {
   "cell_type": "code",
   "execution_count": null,
   "id": "c06c0f27",
   "metadata": {
    "execution": {
     "iopub.execute_input": "2023-07-26T05:17:31.504387Z",
     "iopub.status.busy": "2023-07-26T05:17:31.502827Z",
     "iopub.status.idle": "2023-07-26T05:17:31.545517Z",
     "shell.execute_reply": "2023-07-26T05:17:31.543597Z"
    }
   },
   "outputs": [],
   "source": [
    "bs_age = MS([bs('age', internal_knots=[25,40,60])])\n",
    "Xbs = bs_age.fit_transform(Wage)\n",
    "M = sm.OLS(y, Xbs).fit()\n",
    "summarize(M)"
   ]
  },
  {
   "cell_type": "markdown",
   "id": "a5698ae9",
   "metadata": {},
   "source": [
    "The column names are a little cumbersome, and have caused us to truncate the printed summary. They can be set on construction using the `name` argument as follows."
   ]
  },
  {
   "cell_type": "code",
   "execution_count": null,
   "id": "8cb32db0",
   "metadata": {
    "execution": {
     "iopub.execute_input": "2023-07-26T05:17:31.554111Z",
     "iopub.status.busy": "2023-07-26T05:17:31.553059Z",
     "iopub.status.idle": "2023-07-26T05:17:31.605969Z",
     "shell.execute_reply": "2023-07-26T05:17:31.601942Z"
    }
   },
   "outputs": [],
   "source": [
    "bs_age = MS([bs('age',\n",
    "                internal_knots=[25,40,60],\n",
    "                name='bs(age)')])\n",
    "Xbs = bs_age.fit_transform(Wage)\n",
    "M = sm.OLS(y, Xbs).fit()\n",
    "summarize(M)"
   ]
  },
  {
   "cell_type": "markdown",
   "id": "4d709fec",
   "metadata": {},
   "source": [
    "Notice that there are 6 spline coefficients rather than 7. This is because, by default,\n",
    "`bs()` assumes `intercept=False`, since we typically have an overall intercept in the model.\n",
    "So it generates the spline basis with the given knots,  and then discards one of the basis functions to account for the intercept. \n",
    "\n",
    "We could also use the `df` (degrees of freedom) option to\n",
    "specify the complexity of the spline.  We see above that with 3 knots,\n",
    "the spline basis has 6 columns or degrees of freedom.  When we specify\n",
    "`df=6` rather than the actual knots, `bs()` will produce a\n",
    "spline with 3 knots chosen at uniform quantiles of the training data.\n",
    "We can see these chosen knots most easily using `Bspline()` directly:"
   ]
  },
  {
   "cell_type": "code",
   "execution_count": null,
   "id": "f26b715f",
   "metadata": {
    "execution": {
     "iopub.execute_input": "2023-07-26T05:17:31.613882Z",
     "iopub.status.busy": "2023-07-26T05:17:31.613189Z",
     "iopub.status.idle": "2023-07-26T05:17:31.632577Z",
     "shell.execute_reply": "2023-07-26T05:17:31.631063Z"
    }
   },
   "outputs": [],
   "source": [
    "BSpline(df=6).fit(age).internal_knots_"
   ]
  },
  {
   "cell_type": "markdown",
   "id": "e606523e",
   "metadata": {},
   "source": [
    " When asking for six degrees of freedom,\n",
    "the transform chooses knots at ages 33.75, 42.0, and 51.0,\n",
    "which correspond to the 25th, 50th, and 75th percentiles of\n",
    "`age`.\n",
    "\n",
    "When using B-splines we need not limit ourselves to cubic polynomials\n",
    "(i.e. `degree=3`). For instance, using `degree=0` results\n",
    "in piecewise constant functions, as in our example with\n",
    "`pd.qcut()` above."
   ]
  },
  {
   "cell_type": "code",
   "execution_count": null,
   "id": "d6109816",
   "metadata": {
    "execution": {
     "iopub.execute_input": "2023-07-26T05:17:31.640827Z",
     "iopub.status.busy": "2023-07-26T05:17:31.640229Z",
     "iopub.status.idle": "2023-07-26T05:17:31.697215Z",
     "shell.execute_reply": "2023-07-26T05:17:31.695639Z"
    }
   },
   "outputs": [],
   "source": [
    "bs_age0 = MS([bs('age',\n",
    "                 df=3, \n",
    "                 degree=0)]).fit(Wage)\n",
    "Xbs0 = bs_age0.transform(Wage)\n",
    "summarize(sm.OLS(y, Xbs0).fit())"
   ]
  },
  {
   "cell_type": "markdown",
   "id": "53ce3ef2",
   "metadata": {},
   "source": [
    "This fit should be compared with cell [15] where we use `qcut()`\n",
    "to create four bins by cutting at the 25%, 50% and 75% quantiles of\n",
    "`age`.  Since we specified `df=3` for degree-zero splines here, there will also be\n",
    "knots at the same three quantiles. Although the coefficients appear different, we\n",
    "see that this is a result of the different coding. For example, the\n",
    "first coefficient is identical in both cases, and is the mean response\n",
    "in the first bin. For the second coefficient, we have\n",
    "$94.158 + 22.349 = 116.507 \\approx 116.611$, the latter being the mean\n",
    "in the second bin in cell [15]. Here the intercept is coded by a column\n",
    "of ones, so the second, third and fourth coefficients are increments\n",
    "for those bins. Why is the sum not exactly the same? It turns out that\n",
    "the `qcut()` uses $\\leq$, while `bs()` uses $<$ when\n",
    "deciding bin membership."
   ]
  },
  {
   "cell_type": "markdown",
   "id": "59807efd",
   "metadata": {},
   "source": [
    "In order to fit a natural spline, we use the `NaturalSpline()` \n",
    "transform with the corresponding helper `ns()`.  Here we fit a natural spline with five\n",
    "degrees of freedom (excluding the intercept) and plot the results."
   ]
  },
  {
   "cell_type": "code",
   "execution_count": null,
   "id": "7c73a3da",
   "metadata": {
    "execution": {
     "iopub.execute_input": "2023-07-26T05:17:31.706944Z",
     "iopub.status.busy": "2023-07-26T05:17:31.705664Z",
     "iopub.status.idle": "2023-07-26T05:17:31.757111Z",
     "shell.execute_reply": "2023-07-26T05:17:31.754514Z"
    }
   },
   "outputs": [],
   "source": [
    "ns_age = MS([ns('age', df=5)]).fit(Wage)\n",
    "M_ns = sm.OLS(y, ns_age.transform(Wage)).fit()\n",
    "summarize(M_ns)"
   ]
  },
  {
   "cell_type": "markdown",
   "id": "d819f968",
   "metadata": {},
   "source": [
    "We now plot the natural spline using our plotting function."
   ]
  },
  {
   "cell_type": "code",
   "execution_count": null,
   "id": "d73789b4",
   "metadata": {
    "execution": {
     "iopub.execute_input": "2023-07-26T05:17:31.766336Z",
     "iopub.status.busy": "2023-07-26T05:17:31.764642Z",
     "iopub.status.idle": "2023-07-26T05:17:31.949222Z",
     "shell.execute_reply": "2023-07-26T05:17:31.947680Z"
    }
   },
   "outputs": [],
   "source": [
    "plot_wage_fit(age_df,\n",
    "              ns_age,\n",
    "              'Natural spline, df=5');"
   ]
  },
  {
   "cell_type": "markdown",
   "id": "09616af2",
   "metadata": {},
   "source": [
    "## Smoothing Splines and GAMs\n",
    "A smoothing spline is a special case of a GAM with squared-error loss\n",
    "and a single feature. To fit GAMs in `Python` we will use the\n",
    "`pygam` package which can be installed via `pip install pygam`. The\n",
    "estimator `LinearGAM()` uses squared-error loss.\n",
    "The GAM is specified by associating each column\n",
    "of a model matrix with a particular smoothing operation:\n",
    "`s` for smoothing spline; `l` for linear, and `f` for factor or categorical variables.\n",
    "The argument `0` passed to `s` below indicates that this smoother will\n",
    "apply to the first column of a feature matrix. Below, we pass it a\n",
    "matrix with a single column: `X_age`. The argument `lam` is the penalty parameter $\\lambda$ as discussed in Section 7.5.2."
   ]
  },
  {
   "cell_type": "code",
   "execution_count": null,
   "id": "3e70b87d",
   "metadata": {
    "execution": {
     "iopub.execute_input": "2023-07-26T05:17:31.962335Z",
     "iopub.status.busy": "2023-07-26T05:17:31.958770Z",
     "iopub.status.idle": "2023-07-26T05:17:32.190885Z",
     "shell.execute_reply": "2023-07-26T05:17:32.188959Z"
    }
   },
   "outputs": [],
   "source": [
    "X_age = np.asarray(age).reshape((-1,1))\n",
    "gam = LinearGAM(s_gam(0, lam=0.6))\n",
    "gam.fit(X_age, y)"
   ]
  },
  {
   "cell_type": "markdown",
   "id": "f95cf22c",
   "metadata": {},
   "source": [
    "The `pygam` library generally expects a matrix of features so we reshape `age` to be a matrix (a two-dimensional array) instead\n",
    "of a vector (i.e. a one-dimensional array). The `-1` in the call to the `reshape()` method tells `numpy` to impute the\n",
    "size of that dimension based on the remaining entries of the shape tuple.\n",
    " \n",
    "Let’s investigate how the fit changes with the smoothing parameter `lam`.\n",
    "The function `np.logspace()` is similar to `np.linspace()` but spaces points\n",
    "evenly on the log-scale. Below we vary `lam` from $10^{-2}$ to $10^6$."
   ]
  },
  {
   "cell_type": "code",
   "execution_count": null,
   "id": "efe03b12",
   "metadata": {
    "execution": {
     "iopub.execute_input": "2023-07-26T05:17:32.212724Z",
     "iopub.status.busy": "2023-07-26T05:17:32.212362Z",
     "iopub.status.idle": "2023-07-26T05:17:33.141120Z",
     "shell.execute_reply": "2023-07-26T05:17:33.140497Z"
    }
   },
   "outputs": [],
   "source": [
    "fig, ax = subplots(figsize=(8,8))\n",
    "ax.scatter(age, y, facecolor='gray', alpha=0.5)\n",
    "for lam in np.logspace(-2, 6, 5):\n",
    "    gam = LinearGAM(s_gam(0, lam=lam)).fit(X_age, y)\n",
    "    ax.plot(age_grid,\n",
    "            gam.predict(age_grid),\n",
    "            label='{:.1e}'.format(lam),\n",
    "            linewidth=3)\n",
    "ax.set_xlabel('Age', fontsize=20)\n",
    "ax.set_ylabel('Wage', fontsize=20);\n",
    "ax.legend(title='$\\lambda$');"
   ]
  },
  {
   "cell_type": "markdown",
   "id": "6590a835",
   "metadata": {},
   "source": [
    "The `pygam` package can perform a search for an optimal smoothing parameter."
   ]
  },
  {
   "cell_type": "code",
   "execution_count": null,
   "id": "acff2af2",
   "metadata": {
    "execution": {
     "iopub.execute_input": "2023-07-26T05:17:33.143621Z",
     "iopub.status.busy": "2023-07-26T05:17:33.143494Z",
     "iopub.status.idle": "2023-07-26T05:17:34.781067Z",
     "shell.execute_reply": "2023-07-26T05:17:34.758430Z"
    }
   },
   "outputs": [],
   "source": [
    "gam_opt = gam.gridsearch(X_age, y)\n",
    "ax.plot(age_grid,\n",
    "        gam_opt.predict(age_grid),\n",
    "        label='Grid search',\n",
    "        linewidth=4)\n",
    "ax.legend()\n",
    "fig"
   ]
  },
  {
   "cell_type": "markdown",
   "id": "c979dbf1",
   "metadata": {},
   "source": [
    "Alternatively, we can fix the degrees of freedom of the smoothing\n",
    "spline using a function included in the `ISLP.pygam` package. Below we\n",
    "find a value of $\\lambda$ that gives us roughly four degrees of\n",
    "freedom. We note here that these degrees of freedom include the\n",
    "unpenalized intercept and linear term of the smoothing spline, hence there are at least two\n",
    "degrees of freedom."
   ]
  },
  {
   "cell_type": "code",
   "execution_count": null,
   "id": "a2d25550",
   "metadata": {
    "execution": {
     "iopub.execute_input": "2023-07-26T05:17:34.825629Z",
     "iopub.status.busy": "2023-07-26T05:17:34.825425Z",
     "iopub.status.idle": "2023-07-26T05:17:35.011756Z",
     "shell.execute_reply": "2023-07-26T05:17:35.006694Z"
    }
   },
   "outputs": [],
   "source": [
    "age_term = gam.terms[0]\n",
    "lam_4 = approx_lam(X_age, age_term, 4)\n",
    "age_term.lam = lam_4\n",
    "degrees_of_freedom(X_age, age_term)"
   ]
  },
  {
   "cell_type": "markdown",
   "id": "ce629653",
   "metadata": {},
   "source": [
    "Let’s vary the degrees of freedom in a similar plot to above. We choose the degrees of freedom\n",
    "as the desired degrees of freedom plus one to account for the fact that these smoothing\n",
    "splines always have an intercept term. Hence, a value of one for `df` is just a linear fit."
   ]
  },
  {
   "cell_type": "code",
   "execution_count": null,
   "id": "bc6322de",
   "metadata": {
    "execution": {
     "iopub.execute_input": "2023-07-26T05:17:35.024537Z",
     "iopub.status.busy": "2023-07-26T05:17:35.022461Z",
     "iopub.status.idle": "2023-07-26T05:17:35.863008Z",
     "shell.execute_reply": "2023-07-26T05:17:35.862422Z"
    }
   },
   "outputs": [],
   "source": [
    "fig, ax = subplots(figsize=(8,8))\n",
    "ax.scatter(X_age,\n",
    "           y,\n",
    "           facecolor='gray',\n",
    "           alpha=0.3)\n",
    "for df in [1,3,4,8,15]:\n",
    "    lam = approx_lam(X_age, age_term, df+1)\n",
    "    age_term.lam = lam\n",
    "    gam.fit(X_age, y)\n",
    "    ax.plot(age_grid,\n",
    "            gam.predict(age_grid),\n",
    "            label='{:d}'.format(df),\n",
    "            linewidth=4)\n",
    "ax.set_xlabel('Age', fontsize=20)\n",
    "ax.set_ylabel('Wage', fontsize=20);\n",
    "ax.legend(title='Degrees of freedom');"
   ]
  },
  {
   "cell_type": "markdown",
   "id": "2cb73ff7",
   "metadata": {},
   "source": [
    "### Additive Models with Several Terms\n",
    "The strength of generalized additive models lies in their ability to fit multivariate regression models with more flexibility than linear models. We demonstrate two approaches: the first in a more manual fashion using natural splines and piecewise constant functions, and the second  using the `pygam` package and smoothing splines.\n",
    "\n",
    "We now fit a GAM by hand to predict\n",
    "`wage` using natural spline functions of `year` and `age`,\n",
    "treating `education` as a qualitative predictor, as in (7.16).\n",
    "Since this is just a big linear regression model\n",
    "using an appropriate choice of basis functions, we can simply do this\n",
    "using the `sm.OLS()`  function.\n",
    "\n",
    "We will build the model matrix in a more manual fashion here, since we wish\n",
    "to access the pieces separately when constructing partial dependence plots."
   ]
  },
  {
   "cell_type": "code",
   "execution_count": null,
   "id": "703d2570",
   "metadata": {
    "execution": {
     "iopub.execute_input": "2023-07-26T05:17:35.865454Z",
     "iopub.status.busy": "2023-07-26T05:17:35.865140Z",
     "iopub.status.idle": "2023-07-26T05:17:35.892627Z",
     "shell.execute_reply": "2023-07-26T05:17:35.889738Z"
    }
   },
   "outputs": [],
   "source": [
    "ns_age = NaturalSpline(df=4).fit(age)\n",
    "ns_year = NaturalSpline(df=5).fit(Wage['year'])\n",
    "Xs = [ns_age.transform(age),\n",
    "      ns_year.transform(Wage['year']),\n",
    "      pd.get_dummies(Wage['education']).values]\n",
    "X_bh = np.hstack(Xs)\n",
    "gam_bh = sm.OLS(y, X_bh).fit()"
   ]
  },
  {
   "cell_type": "markdown",
   "id": "34cae11a",
   "metadata": {},
   "source": [
    "Here the function `NaturalSpline()` is the workhorse supporting\n",
    "the `ns()` helper function.  We chose to use all columns of the\n",
    "indicator matrix for the categorical variable `education`, making an intercept redundant.\n",
    "Finally, we stacked the three component matrices horizontally to form the model matrix `X_bh`. \n",
    "\n",
    "We now show how to construct partial dependence plots for each of the terms in our rudimentary GAM. We can do this by hand,\n",
    "given grids for `age` and `year`.\n",
    " We simply predict with new $X$ matrices, fixing all but one of the features at a time."
   ]
  },
  {
   "cell_type": "code",
   "execution_count": null,
   "id": "766a7b1f",
   "metadata": {
    "execution": {
     "iopub.execute_input": "2023-07-26T05:17:35.908556Z",
     "iopub.status.busy": "2023-07-26T05:17:35.902581Z",
     "iopub.status.idle": "2023-07-26T05:17:36.057026Z",
     "shell.execute_reply": "2023-07-26T05:17:36.055296Z"
    }
   },
   "outputs": [],
   "source": [
    "age_grid = np.linspace(age.min(),\n",
    "                       age.max(),\n",
    "                       100)\n",
    "X_age_bh = X_bh.copy()[:100]\n",
    "X_age_bh[:] = X_bh[:].mean(0)[None,:]\n",
    "X_age_bh[:,:4] = ns_age.transform(age_grid)\n",
    "preds = gam_bh.get_prediction(X_age_bh)\n",
    "bounds_age = preds.conf_int(alpha=0.05)\n",
    "partial_age = preds.predicted_mean\n",
    "center = partial_age.mean()\n",
    "partial_age -= center\n",
    "bounds_age -= center\n",
    "fig, ax = subplots(figsize=(8,8))\n",
    "ax.plot(age_grid, partial_age, 'b', linewidth=3)\n",
    "ax.plot(age_grid, bounds_age[:,0], 'r--', linewidth=3)\n",
    "ax.plot(age_grid, bounds_age[:,1], 'r--', linewidth=3)\n",
    "ax.set_xlabel('Age')\n",
    "ax.set_ylabel('Effect on wage')\n",
    "ax.set_title('Partial dependence of age on wage', fontsize=20);"
   ]
  },
  {
   "cell_type": "markdown",
   "id": "83e636f3",
   "metadata": {},
   "source": [
    "Let's explain in some detail what we did above. The idea is to create a new prediction matrix, where all but the columns belonging to `age` are constant (and set to  their training-data means). The four columns for `age` are filled in with the natural spline basis evaluated at the 100 values in `age_grid`.\n",
    "\n",
    "* We made a grid of length 100 in `age`, and created a matrix `X_age_bh` with 100 rows and the same number of columns as `X_bh`.\n",
    "* We replaced every row of this matrix with the column means of the original.\n",
    "* We then replace just the first four columns representing `age` with the natural spline basis computed at the values in `age_grid`. \n",
    "\n",
    "The remaining steps should by now be familiar.\n",
    "\n",
    "We also look at the effect of `year` on `wage`; the process is the same."
   ]
  },
  {
   "cell_type": "code",
   "execution_count": null,
   "id": "2a9ed841",
   "metadata": {
    "execution": {
     "iopub.execute_input": "2023-07-26T05:17:36.068318Z",
     "iopub.status.busy": "2023-07-26T05:17:36.067032Z",
     "iopub.status.idle": "2023-07-26T05:17:36.214624Z",
     "shell.execute_reply": "2023-07-26T05:17:36.214052Z"
    }
   },
   "outputs": [],
   "source": [
    "year_grid = np.linspace(2003, 2009, 100)\n",
    "year_grid = np.linspace(Wage['year'].min(),\n",
    "                        Wage['year'].max(),\n",
    "                        100)\n",
    "X_year_bh = X_bh.copy()[:100]\n",
    "X_year_bh[:] = X_bh[:].mean(0)[None,:]\n",
    "X_year_bh[:,4:9] = ns_year.transform(year_grid)\n",
    "preds = gam_bh.get_prediction(X_year_bh)\n",
    "bounds_year = preds.conf_int(alpha=0.05)\n",
    "partial_year = preds.predicted_mean\n",
    "center = partial_year.mean()\n",
    "partial_year -= center\n",
    "bounds_year -= center\n",
    "fig, ax = subplots(figsize=(8,8))\n",
    "ax.plot(year_grid, partial_year, 'b', linewidth=3)\n",
    "ax.plot(year_grid, bounds_year[:,0], 'r--', linewidth=3)\n",
    "ax.plot(year_grid, bounds_year[:,1], 'r--', linewidth=3)\n",
    "ax.set_xlabel('Year')\n",
    "ax.set_ylabel('Effect on wage')\n",
    "ax.set_title('Partial dependence of year on wage', fontsize=20);"
   ]
  },
  {
   "cell_type": "markdown",
   "id": "4aca2254",
   "metadata": {},
   "source": [
    "We now fit the model (7.16)  using smoothing splines rather\n",
    "than natural splines.  All of the\n",
    "terms in  (7.16)  are fit simultaneously, taking each other\n",
    "into account to explain the response. The `pygam` package only works with matrices, so we must convert\n",
    "the categorical series `education` to its array representation, which can be found\n",
    "with the `cat.codes` attribute of `education`. As `year` only has 7 unique values, we\n",
    "use only seven basis functions for it."
   ]
  },
  {
   "cell_type": "code",
   "execution_count": null,
   "id": "ccf068b1",
   "metadata": {
    "execution": {
     "iopub.execute_input": "2023-07-26T05:17:36.216725Z",
     "iopub.status.busy": "2023-07-26T05:17:36.216587Z",
     "iopub.status.idle": "2023-07-26T05:17:36.383722Z",
     "shell.execute_reply": "2023-07-26T05:17:36.379206Z"
    }
   },
   "outputs": [],
   "source": [
    "gam_full = LinearGAM(s_gam(0) +\n",
    "                     s_gam(1, n_splines=7) +\n",
    "                     f_gam(2, lam=0))\n",
    "Xgam = np.column_stack([age,\n",
    "                        Wage['year'],\n",
    "                        Wage['education'].cat.codes])\n",
    "gam_full = gam_full.fit(Xgam, y)"
   ]
  },
  {
   "cell_type": "markdown",
   "id": "a7e035d3",
   "metadata": {},
   "source": [
    "The two `s_gam()` terms result in smoothing spline fits, and use a default value for $\\lambda$  (`lam=0.6`), which is somewhat arbitrary. For the categorical term `education`, specified using a `f_gam()` term,  we specify `lam=0` to avoid any shrinkage.\n",
    "We produce the partial dependence plot in `age` to see the effect of these choices.\n",
    "\n",
    "The values for the plot\n",
    "are generated by the `pygam` package. We provide a `plot_gam()`\n",
    "function for partial-dependence plots in `ISLP.pygam`, which makes this job easier than in our last example with natural splines."
   ]
  },
  {
   "cell_type": "code",
   "execution_count": null,
   "id": "38b719f1",
   "metadata": {
    "execution": {
     "iopub.execute_input": "2023-07-26T05:17:36.404487Z",
     "iopub.status.busy": "2023-07-26T05:17:36.401365Z",
     "iopub.status.idle": "2023-07-26T05:17:36.620141Z",
     "shell.execute_reply": "2023-07-26T05:17:36.619756Z"
    }
   },
   "outputs": [],
   "source": [
    "fig, ax = subplots(figsize=(8,8))\n",
    "plot_gam(gam_full, 0, ax=ax)\n",
    "ax.set_xlabel('Age')\n",
    "ax.set_ylabel('Effect on wage')\n",
    "ax.set_title('Partial dependence of age on wage - default lam=0.6', fontsize=20);"
   ]
  },
  {
   "cell_type": "markdown",
   "id": "c7be9454",
   "metadata": {},
   "source": [
    "We see that the function is somewhat wiggly. It is more natural to specify the `df` than a value for `lam`. \n",
    "We refit a GAM using four degrees of freedom each for\n",
    "`age` and  `year`. Recall that the addition of one below takes into account the intercept\n",
    "of the smoothing spline."
   ]
  },
  {
   "cell_type": "code",
   "execution_count": null,
   "id": "02142f6e",
   "metadata": {
    "execution": {
     "iopub.execute_input": "2023-07-26T05:17:36.622262Z",
     "iopub.status.busy": "2023-07-26T05:17:36.622071Z",
     "iopub.status.idle": "2023-07-26T05:17:36.728386Z",
     "shell.execute_reply": "2023-07-26T05:17:36.725088Z"
    }
   },
   "outputs": [],
   "source": [
    "age_term = gam_full.terms[0]\n",
    "age_term.lam = approx_lam(Xgam, age_term, df=4+1)\n",
    "year_term = gam_full.terms[1]\n",
    "year_term.lam = approx_lam(Xgam, year_term, df=4+1)\n",
    "gam_full = gam_full.fit(Xgam, y)"
   ]
  },
  {
   "cell_type": "markdown",
   "id": "08085085",
   "metadata": {},
   "source": [
    "Note that updating `age_term.lam` above updates it in `gam_full.terms[0]` as well! Likewise for `year_term.lam`.\n",
    "\n",
    "Repeating the plot for `age`, we see that it is much smoother.\n",
    "We also produce the plot for `year`."
   ]
  },
  {
   "cell_type": "code",
   "execution_count": null,
   "id": "94587b05",
   "metadata": {
    "execution": {
     "iopub.execute_input": "2023-07-26T05:17:36.738456Z",
     "iopub.status.busy": "2023-07-26T05:17:36.737408Z",
     "iopub.status.idle": "2023-07-26T05:17:36.927722Z",
     "shell.execute_reply": "2023-07-26T05:17:36.917522Z"
    }
   },
   "outputs": [],
   "source": [
    "fig, ax = subplots(figsize=(8,8))\n",
    "plot_gam(gam_full,\n",
    "         1,\n",
    "         ax=ax)\n",
    "ax.set_xlabel('Year')\n",
    "ax.set_ylabel('Effect on wage')\n",
    "ax.set_title('Partial dependence of year on wage', fontsize=20)"
   ]
  },
  {
   "cell_type": "markdown",
   "id": "5b373d5c",
   "metadata": {},
   "source": [
    "Finally we plot `education`, which is categorical. The partial dependence plot is different, and more suitable for the set of fitted constants for each level of this variable."
   ]
  },
  {
   "cell_type": "code",
   "execution_count": null,
   "id": "bba4c757",
   "metadata": {
    "execution": {
     "iopub.execute_input": "2023-07-26T05:17:36.975410Z",
     "iopub.status.busy": "2023-07-26T05:17:36.975007Z",
     "iopub.status.idle": "2023-07-26T05:17:37.089224Z",
     "shell.execute_reply": "2023-07-26T05:17:37.088696Z"
    }
   },
   "outputs": [],
   "source": [
    "fig, ax = subplots(figsize=(8, 8))\n",
    "ax = plot_gam(gam_full, 2)\n",
    "ax.set_xlabel('Education')\n",
    "ax.set_ylabel('Effect on wage')\n",
    "ax.set_title('Partial dependence of wage on education',\n",
    "             fontsize=20);\n",
    "ax.set_xticklabels(Wage['education'].cat.categories, fontsize=8);"
   ]
  },
  {
   "cell_type": "markdown",
   "id": "38ff8ddb",
   "metadata": {},
   "source": [
    "### ANOVA Tests for Additive Models\n",
    "In all of our models, the function of `year` looks rather linear. We can\n",
    "perform a series of ANOVA tests in order to determine which of these\n",
    "three models is best: a GAM that excludes `year` ($\\mathcal{M}_1$),\n",
    "a GAM that uses a linear function of `year` ($\\mathcal{M}_2$), or a\n",
    "GAM that uses a spline function of `year` ($\\mathcal{M}_3$)."
   ]
  },
  {
   "cell_type": "code",
   "execution_count": null,
   "id": "32368085",
   "metadata": {
    "execution": {
     "iopub.execute_input": "2023-07-26T05:17:37.091963Z",
     "iopub.status.busy": "2023-07-26T05:17:37.091763Z",
     "iopub.status.idle": "2023-07-26T05:17:37.181347Z",
     "shell.execute_reply": "2023-07-26T05:17:37.177854Z"
    }
   },
   "outputs": [],
   "source": [
    "gam_0 = LinearGAM(age_term + f_gam(2, lam=0))\n",
    "gam_0.fit(Xgam, y)\n",
    "gam_linear = LinearGAM(age_term +\n",
    "                       l_gam(1, lam=0) +\n",
    "                       f_gam(2, lam=0))\n",
    "gam_linear.fit(Xgam, y)"
   ]
  },
  {
   "cell_type": "markdown",
   "id": "c95b177b",
   "metadata": {},
   "source": [
    "Notice our use of `age_term` in the expressions above. We do this because\n",
    "earlier we set the value for `lam` in this term to achieve four degrees of freedom.\n",
    "\n",
    "To directly assess the effect of `year` we run an ANOVA on the\n",
    "three models fit above."
   ]
  },
  {
   "cell_type": "code",
   "execution_count": null,
   "id": "e7ba9957",
   "metadata": {
    "execution": {
     "iopub.execute_input": "2023-07-26T05:17:37.190026Z",
     "iopub.status.busy": "2023-07-26T05:17:37.188398Z",
     "iopub.status.idle": "2023-07-26T05:17:37.218825Z",
     "shell.execute_reply": "2023-07-26T05:17:37.206670Z"
    }
   },
   "outputs": [],
   "source": [
    "anova_gam(gam_0, gam_linear, gam_full)"
   ]
  },
  {
   "cell_type": "markdown",
   "id": "825ea833",
   "metadata": {},
   "source": [
    " We find that there is compelling evidence that a GAM with a linear\n",
    "function in `year` is better than a GAM that does not include\n",
    "`year` at all ($p$-value= 0.002). However, there is no\n",
    "evidence that a non-linear function of `year` is needed\n",
    "($p$-value=0.435).  In other words, based on the results of this\n",
    "ANOVA, $\\mathcal{M}_2$ is preferred.\n",
    "\n",
    "We can repeat the same process for `age` as well. We see there is very clear evidence that\n",
    "a non-linear term is required for `age`.\n",
    "\\newpage"
   ]
  },
  {
   "cell_type": "code",
   "execution_count": null,
   "id": "ffc0099a",
   "metadata": {
    "execution": {
     "iopub.execute_input": "2023-07-26T05:17:37.237108Z",
     "iopub.status.busy": "2023-07-26T05:17:37.233509Z",
     "iopub.status.idle": "2023-07-26T05:17:37.451340Z",
     "shell.execute_reply": "2023-07-26T05:17:37.449175Z"
    }
   },
   "outputs": [],
   "source": [
    "gam_0 = LinearGAM(year_term +\n",
    "                  f_gam(2, lam=0))\n",
    "gam_linear = LinearGAM(l_gam(0, lam=0) +\n",
    "                       year_term +\n",
    "                       f_gam(2, lam=0))\n",
    "gam_0.fit(Xgam, y)\n",
    "gam_linear.fit(Xgam, y)\n",
    "anova_gam(gam_0, gam_linear, gam_full)"
   ]
  },
  {
   "cell_type": "markdown",
   "id": "3a243d63",
   "metadata": {},
   "source": [
    "There is a (verbose) `summary()` method for the GAM fit."
   ]
  },
  {
   "cell_type": "code",
   "execution_count": null,
   "id": "08026a6b",
   "metadata": {
    "execution": {
     "iopub.execute_input": "2023-07-26T05:17:37.465361Z",
     "iopub.status.busy": "2023-07-26T05:17:37.464408Z",
     "iopub.status.idle": "2023-07-26T05:17:37.476379Z",
     "shell.execute_reply": "2023-07-26T05:17:37.473563Z"
    }
   },
   "outputs": [],
   "source": [
    "gam_full.summary()"
   ]
  },
  {
   "cell_type": "markdown",
   "id": "839acb14",
   "metadata": {},
   "source": [
    "We can make predictions from `gam` objects, just like from\n",
    "`lm` objects, using the `predict()`  method for the class\n",
    "`gam`.  Here we make predictions on the training set."
   ]
  },
  {
   "cell_type": "code",
   "execution_count": null,
   "id": "9191d615",
   "metadata": {
    "execution": {
     "iopub.execute_input": "2023-07-26T05:17:37.488339Z",
     "iopub.status.busy": "2023-07-26T05:17:37.487573Z",
     "iopub.status.idle": "2023-07-26T05:17:37.520050Z",
     "shell.execute_reply": "2023-07-26T05:17:37.516172Z"
    }
   },
   "outputs": [],
   "source": [
    "Yhat = gam_full.predict(Xgam)"
   ]
  },
  {
   "cell_type": "markdown",
   "id": "a98a10a7",
   "metadata": {},
   "source": [
    "In order to fit a logistic regression GAM, we use `LogisticGAM()` \n",
    "from `pygam`."
   ]
  },
  {
   "cell_type": "code",
   "execution_count": null,
   "id": "92007a5f",
   "metadata": {
    "execution": {
     "iopub.execute_input": "2023-07-26T05:17:37.533259Z",
     "iopub.status.busy": "2023-07-26T05:17:37.531878Z",
     "iopub.status.idle": "2023-07-26T05:17:38.910096Z",
     "shell.execute_reply": "2023-07-26T05:17:38.906703Z"
    }
   },
   "outputs": [],
   "source": [
    "gam_logit = LogisticGAM(age_term + \n",
    "                        l_gam(1, lam=0) +\n",
    "                        f_gam(2, lam=0))\n",
    "gam_logit.fit(Xgam, high_earn)"
   ]
  },
  {
   "cell_type": "code",
   "execution_count": null,
   "id": "4dd6aa2f",
   "metadata": {
    "execution": {
     "iopub.execute_input": "2023-07-26T05:17:38.924790Z",
     "iopub.status.busy": "2023-07-26T05:17:38.922174Z",
     "iopub.status.idle": "2023-07-26T05:17:39.053438Z",
     "shell.execute_reply": "2023-07-26T05:17:39.047514Z"
    }
   },
   "outputs": [],
   "source": [
    "fig, ax = subplots(figsize=(8, 8))\n",
    "ax = plot_gam(gam_logit, 2)\n",
    "ax.set_xlabel('Education')\n",
    "ax.set_ylabel('Effect on wage')\n",
    "ax.set_title('Partial dependence of wage on education',\n",
    "             fontsize=20);\n",
    "ax.set_xticklabels(Wage['education'].cat.categories, fontsize=8);"
   ]
  },
  {
   "cell_type": "markdown",
   "id": "e4e9e093",
   "metadata": {},
   "source": [
    "The model seems to be very flat, with especially high error bars for the first category.\n",
    "Let's look at the data a bit more closely."
   ]
  },
  {
   "cell_type": "code",
   "execution_count": null,
   "id": "5a6e8754",
   "metadata": {
    "execution": {
     "iopub.execute_input": "2023-07-26T05:17:39.066631Z",
     "iopub.status.busy": "2023-07-26T05:17:39.064606Z",
     "iopub.status.idle": "2023-07-26T05:17:39.115103Z",
     "shell.execute_reply": "2023-07-26T05:17:39.111772Z"
    }
   },
   "outputs": [],
   "source": [
    "pd.crosstab(Wage['high_earn'], Wage['education'])"
   ]
  },
  {
   "cell_type": "markdown",
   "id": "06d2d2fd",
   "metadata": {},
   "source": [
    "We see that there are no high earners in the first category of\n",
    "education, meaning that the model will have a hard time fitting.  We\n",
    "will fit a logistic regression GAM excluding all observations falling into this\n",
    "category. This provides more sensible results.\n",
    "\n",
    "To do so,\n",
    "we could subset the model matrix, though this will not remove the\n",
    "column from `Xgam`. While we can deduce which column corresponds\n",
    "to this feature, for reproducibility’s sake we reform the model matrix\n",
    "on this smaller subset."
   ]
  },
  {
   "cell_type": "code",
   "execution_count": null,
   "id": "c92b60be",
   "metadata": {
    "execution": {
     "iopub.execute_input": "2023-07-26T05:17:39.164808Z",
     "iopub.status.busy": "2023-07-26T05:17:39.164544Z",
     "iopub.status.idle": "2023-07-26T05:17:39.168909Z",
     "shell.execute_reply": "2023-07-26T05:17:39.168184Z"
    }
   },
   "outputs": [],
   "source": [
    "only_hs = Wage['education'] == '1. < HS Grad'\n",
    "Wage_ = Wage.loc[~only_hs]\n",
    "Xgam_ = np.column_stack([Wage_['age'],\n",
    "                         Wage_['year'],\n",
    "                         Wage_['education'].cat.codes-1])\n",
    "high_earn_ = Wage_['high_earn']"
   ]
  },
  {
   "cell_type": "markdown",
   "id": "02dc4908",
   "metadata": {},
   "source": [
    "In the second-to-last line above, we subtract one  from the codes of the category, due to a bug in `pygam`. It just relabels\n",
    "the education values and hence has no effect on the fit.\n",
    " \n",
    "We now fit the model."
   ]
  },
  {
   "cell_type": "code",
   "execution_count": null,
   "id": "e525e8d0",
   "metadata": {
    "execution": {
     "iopub.execute_input": "2023-07-26T05:17:39.173520Z",
     "iopub.status.busy": "2023-07-26T05:17:39.173179Z",
     "iopub.status.idle": "2023-07-26T05:17:39.334235Z",
     "shell.execute_reply": "2023-07-26T05:17:39.329778Z"
    }
   },
   "outputs": [],
   "source": [
    "gam_logit_ = LogisticGAM(age_term +\n",
    "                         year_term +\n",
    "                         f_gam(2, lam=0))\n",
    "gam_logit_.fit(Xgam_, high_earn_)"
   ]
  },
  {
   "cell_type": "markdown",
   "id": "9601ab00",
   "metadata": {},
   "source": [
    "Let’s look at the effect of `education`, `year` and `age` on high earner status now that we’ve\n",
    "removed those observations."
   ]
  },
  {
   "cell_type": "code",
   "execution_count": null,
   "id": "c3e66cf9",
   "metadata": {
    "execution": {
     "iopub.execute_input": "2023-07-26T05:17:39.345416Z",
     "iopub.status.busy": "2023-07-26T05:17:39.344660Z",
     "iopub.status.idle": "2023-07-26T05:17:39.468357Z",
     "shell.execute_reply": "2023-07-26T05:17:39.465567Z"
    }
   },
   "outputs": [],
   "source": [
    "fig, ax = subplots(figsize=(8, 8))\n",
    "ax = plot_gam(gam_logit_, 2)\n",
    "ax.set_xlabel('Education')\n",
    "ax.set_ylabel('Effect on wage')\n",
    "ax.set_title('Partial dependence of high earner status on education', fontsize=20);\n",
    "ax.set_xticklabels(Wage['education'].cat.categories[1:],\n",
    "                   fontsize=8);"
   ]
  },
  {
   "cell_type": "code",
   "execution_count": null,
   "id": "fd924348",
   "metadata": {
    "execution": {
     "iopub.execute_input": "2023-07-26T05:17:39.479166Z",
     "iopub.status.busy": "2023-07-26T05:17:39.477744Z",
     "iopub.status.idle": "2023-07-26T05:17:39.605116Z",
     "shell.execute_reply": "2023-07-26T05:17:39.604574Z"
    }
   },
   "outputs": [],
   "source": [
    "fig, ax = subplots(figsize=(8, 8))\n",
    "ax = plot_gam(gam_logit_, 1)\n",
    "ax.set_xlabel('Year')\n",
    "ax.set_ylabel('Effect on wage')\n",
    "ax.set_title('Partial dependence of high earner status on year',\n",
    "             fontsize=20);"
   ]
  },
  {
   "cell_type": "code",
   "execution_count": null,
   "id": "2d3ec90a",
   "metadata": {
    "execution": {
     "iopub.execute_input": "2023-07-26T05:17:39.607454Z",
     "iopub.status.busy": "2023-07-26T05:17:39.607274Z",
     "iopub.status.idle": "2023-07-26T05:17:39.737422Z",
     "shell.execute_reply": "2023-07-26T05:17:39.736830Z"
    }
   },
   "outputs": [],
   "source": [
    "fig, ax = subplots(figsize=(8, 8))\n",
    "ax = plot_gam(gam_logit_, 0)\n",
    "ax.set_xlabel('Age')\n",
    "ax.set_ylabel('Effect on wage')\n",
    "ax.set_title('Partial dependence of high earner status on age', fontsize=20);"
   ]
  },
  {
   "cell_type": "markdown",
   "id": "ea4a7d79",
   "metadata": {},
   "source": [
    "## Local Regression\n",
    "We illustrate the use of local regression using  the `lowess()` \n",
    "function from `sm.nonparametric`. Some implementations of\n",
    "GAMs allow terms to be local regression operators; this is not the case in `pygam`.\n",
    "\n",
    "Here we fit local linear regression models using spans of 0.2\n",
    "and 0.5; that is, each neighborhood consists of 20% or 50% of\n",
    "the observations. As expected, using a span of 0.5 is smoother than 0.2."
   ]
  },
  {
   "cell_type": "code",
   "execution_count": null,
   "id": "4f2bc0eb",
   "metadata": {
    "execution": {
     "iopub.execute_input": "2023-07-26T05:17:39.740507Z",
     "iopub.status.busy": "2023-07-26T05:17:39.740171Z",
     "iopub.status.idle": "2023-07-26T05:17:39.902495Z",
     "shell.execute_reply": "2023-07-26T05:17:39.902127Z"
    }
   },
   "outputs": [],
   "source": [
    "lowess = sm.nonparametric.lowess\n",
    "fig, ax = subplots(figsize=(8,8))\n",
    "ax.scatter(age, y, facecolor='gray', alpha=0.5)\n",
    "for span in [0.2, 0.5]:\n",
    "    fitted = lowess(y,\n",
    "                    age,\n",
    "                    frac=span,\n",
    "                    xvals=age_grid)\n",
    "    ax.plot(age_grid,\n",
    "            fitted,\n",
    "            label='{:.1f}'.format(span),\n",
    "            linewidth=4)\n",
    "ax.set_xlabel('Age', fontsize=20)\n",
    "ax.set_ylabel('Wage', fontsize=20);\n",
    "ax.legend(title='span', fontsize=15);"
   ]
  }
 ],
 "metadata": {
  "jupytext": {
   "cell_metadata_filter": "-all",
   "formats": "ipynb,md:myst",
   "main_language": "python"
  },
  "language_info": {
   "codemirror_mode": {
    "name": "ipython",
    "version": 3
   },
   "file_extension": ".py",
   "mimetype": "text/x-python",
   "name": "python",
   "nbconvert_exporter": "python",
   "pygments_lexer": "ipython3",
   "version": "3.9.17"
  }
 },
 "nbformat": 4,
 "nbformat_minor": 5
}

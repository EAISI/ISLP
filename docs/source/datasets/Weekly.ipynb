{
 "cells": [
  {
   "cell_type": "markdown",
   "id": "0d36ebd4",
   "metadata": {},
   "source": [
    "Weekly S&P Stock Market Data\n",
    "\n",
    "Description:\n",
    "\n",
    "     Weekly percentage returns for the S&P 500 stock index between 1990\n",
    "     and 2010.\n",
    "\n",
    "Usage:\n",
    "\n",
    "     Weekly\n",
    "     \n",
    "Format:\n",
    "\n",
    "     A data frame with 1089 observations on the following 9 variables.\n",
    "\n",
    "     ‘Year’ The year that the observation was recorded\n",
    "\n",
    "     ‘Lag1’ Percentage return for previous week\n",
    "\n",
    "     ‘Lag2’ Percentage return for 2 weeks previous\n",
    "\n",
    "     ‘Lag3’ Percentage return for 3 weeks previous\n",
    "\n",
    "     ‘Lag4’ Percentage return for 4 weeks previous\n",
    "\n",
    "     ‘Lag5’ Percentage return for 5 weeks previous\n",
    "\n",
    "     ‘Volume’ Volume of shares traded (average number of daily shares\n",
    "          traded in billions)\n",
    "\n",
    "     ‘Today’ Percentage return for this week\n",
    "\n",
    "     ‘Direction’ A factor with levels ‘Down’ and ‘Up’ indicating\n",
    "          whether the market had a positive or negative return on a\n",
    "          given week\n",
    "\n",
    "Source:\n",
    "\n",
    "     Raw values of the S&P 500 were obtained from Yahoo Finance and\n",
    "     then converted to percentages and lagged."
   ]
  }
 ],
 "metadata": {
  "jupytext": {
   "cell_metadata_filter": "-all",
   "formats": "ipynb,md:myst",
   "main_language": "python"
  }
 },
 "nbformat": 4,
 "nbformat_minor": 5
}

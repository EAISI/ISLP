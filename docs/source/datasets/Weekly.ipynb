{
 "cells": [
  {
   "cell_type": "markdown",
   "id": "0d36ebd4",
   "metadata": {},
   "source": [
    "# Weekly S&P Stock Market Data\n",
    "\n",
    "Weekly percentage returns for the S&P 500 stock index between 1990\n",
    "and 2010.\n",
    "\n",
    "- `Year`: The year that the observation was recorded\n",
    "\n",
    "- `Lag1`: Percentage return for previous week\n",
    "\n",
    "- `Lag2`: Percentage return for 2 weeks previous\n",
    "\n",
    "- `Lag3`: Percentage return for 3 weeks previous\n",
    "\n",
    "- `Lag4`: Percentage return for 4 weeks previous\n",
    "\n",
    "- `Lag5`: Percentage return for 5 weeks previous\n",
    "\n",
    "- `Volume`: Volume of shares traded (average number of daily shares\n",
    " traded in billions)\n",
    "\n",
    "- `Today`: Percentage return for this week\n",
    "\n",
    "- `Direction`: A factor with levels 'Down' and 'Up' indicating\n",
    " whether the market had a positive or negative return on a\n",
    " given week.\n",
    "\n",
    "## Source\n",
    "\n",
    "Raw values of the S&P 500 were obtained from Yahoo Finance and\n",
    "then converted to percentages and lagged."
   ]
  },
  {
   "cell_type": "code",
   "execution_count": 1,
   "id": "87c01cb5",
   "metadata": {},
   "outputs": [
    {
     "data": {
      "text/plain": [
       "Index(['Year', 'Lag1', 'Lag2', 'Lag3', 'Lag4', 'Lag5', 'Volume', 'Today',\n",
       "       'Direction'],\n",
       "      dtype='object')"
      ]
     },
     "execution_count": 1,
     "metadata": {},
     "output_type": "execute_result"
    }
   ],
   "source": [
    "from ISLP import load_data\n",
    "Weekly = load_data('Weekly')\n",
    "Weekly.columns"
   ]
  },
  {
   "cell_type": "code",
   "execution_count": 2,
   "id": "fb7bb8e5",
   "metadata": {},
   "outputs": [
    {
     "data": {
      "text/plain": [
       "(1089, 9)"
      ]
     },
     "execution_count": 2,
     "metadata": {},
     "output_type": "execute_result"
    }
   ],
   "source": [
    "Weekly.shape"
   ]
  },
  {
   "cell_type": "code",
   "execution_count": 3,
   "id": "6ba74f5a",
   "metadata": {},
   "outputs": [
    {
     "data": {
      "text/plain": [
       "Index(['Year', 'Lag1', 'Lag2', 'Lag3', 'Lag4', 'Lag5', 'Volume', 'Today',\n",
       "       'Direction'],\n",
       "      dtype='object')"
      ]
     },
     "execution_count": 3,
     "metadata": {},
     "output_type": "execute_result"
    }
   ],
   "source": [
    "Weekly.columns"
   ]
  },
  {
   "cell_type": "code",
   "execution_count": 5,
   "id": "b7f86d63",
   "metadata": {},
   "outputs": [
    {
     "data": {
      "text/html": [
       "<div>\n",
       "<style scoped>\n",
       "    .dataframe tbody tr th:only-of-type {\n",
       "        vertical-align: middle;\n",
       "    }\n",
       "\n",
       "    .dataframe tbody tr th {\n",
       "        vertical-align: top;\n",
       "    }\n",
       "\n",
       "    .dataframe thead th {\n",
       "        text-align: right;\n",
       "    }\n",
       "</style>\n",
       "<table border=\"1\" class=\"dataframe\">\n",
       "  <thead>\n",
       "    <tr style=\"text-align: right;\">\n",
       "      <th></th>\n",
       "      <th>Year</th>\n",
       "      <th>Lag1</th>\n",
       "      <th>Lag2</th>\n",
       "      <th>Lag3</th>\n",
       "    </tr>\n",
       "  </thead>\n",
       "  <tbody>\n",
       "    <tr>\n",
       "      <th>count</th>\n",
       "      <td>1089.000000</td>\n",
       "      <td>1089.000000</td>\n",
       "      <td>1089.000000</td>\n",
       "      <td>1089.000000</td>\n",
       "    </tr>\n",
       "    <tr>\n",
       "      <th>mean</th>\n",
       "      <td>2000.048669</td>\n",
       "      <td>0.150585</td>\n",
       "      <td>0.151079</td>\n",
       "      <td>0.147205</td>\n",
       "    </tr>\n",
       "    <tr>\n",
       "      <th>std</th>\n",
       "      <td>6.033182</td>\n",
       "      <td>2.357013</td>\n",
       "      <td>2.357254</td>\n",
       "      <td>2.360502</td>\n",
       "    </tr>\n",
       "    <tr>\n",
       "      <th>min</th>\n",
       "      <td>1990.000000</td>\n",
       "      <td>-18.195000</td>\n",
       "      <td>-18.195000</td>\n",
       "      <td>-18.195000</td>\n",
       "    </tr>\n",
       "    <tr>\n",
       "      <th>25%</th>\n",
       "      <td>1995.000000</td>\n",
       "      <td>-1.154000</td>\n",
       "      <td>-1.154000</td>\n",
       "      <td>-1.158000</td>\n",
       "    </tr>\n",
       "    <tr>\n",
       "      <th>50%</th>\n",
       "      <td>2000.000000</td>\n",
       "      <td>0.241000</td>\n",
       "      <td>0.241000</td>\n",
       "      <td>0.241000</td>\n",
       "    </tr>\n",
       "    <tr>\n",
       "      <th>75%</th>\n",
       "      <td>2005.000000</td>\n",
       "      <td>1.405000</td>\n",
       "      <td>1.409000</td>\n",
       "      <td>1.409000</td>\n",
       "    </tr>\n",
       "    <tr>\n",
       "      <th>max</th>\n",
       "      <td>2010.000000</td>\n",
       "      <td>12.026000</td>\n",
       "      <td>12.026000</td>\n",
       "      <td>12.026000</td>\n",
       "    </tr>\n",
       "  </tbody>\n",
       "</table>\n",
       "</div>"
      ],
      "text/plain": [
       "              Year         Lag1         Lag2         Lag3\n",
       "count  1089.000000  1089.000000  1089.000000  1089.000000\n",
       "mean   2000.048669     0.150585     0.151079     0.147205\n",
       "std       6.033182     2.357013     2.357254     2.360502\n",
       "min    1990.000000   -18.195000   -18.195000   -18.195000\n",
       "25%    1995.000000    -1.154000    -1.154000    -1.158000\n",
       "50%    2000.000000     0.241000     0.241000     0.241000\n",
       "75%    2005.000000     1.405000     1.409000     1.409000\n",
       "max    2010.000000    12.026000    12.026000    12.026000"
      ]
     },
     "execution_count": 5,
     "metadata": {},
     "output_type": "execute_result"
    }
   ],
   "source": [
    "Weekly.describe().iloc[:,:4]"
   ]
  },
  {
   "cell_type": "code",
   "execution_count": null,
   "id": "c2f26c87-9c82-401a-8502-02a85c65512b",
   "metadata": {},
   "outputs": [],
   "source": []
  }
 ],
 "metadata": {
  "jupytext": {
   "cell_metadata_filter": "-all",
   "formats": "ipynb,md:myst",
   "main_language": "python"
  },
  "kernelspec": {
   "display_name": "islp_test",
   "language": "python",
   "name": "islp_test"
  },
  "language_info": {
   "codemirror_mode": {
    "name": "ipython",
    "version": 3
   },
   "file_extension": ".py",
   "mimetype": "text/x-python",
   "name": "python",
   "nbconvert_exporter": "python",
   "pygments_lexer": "ipython3",
   "version": "3.9.13"
  }
 },
 "nbformat": 4,
 "nbformat_minor": 5
}

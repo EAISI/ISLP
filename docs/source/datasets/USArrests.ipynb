{
 "cells": [
  {
   "cell_type": "markdown",
   "id": "cf2c7042",
   "metadata": {},
   "source": [
    "# Violent Crime Rates by US State\n",
    "\n",
    "This data set contains statistics, in arrests per 100,000\n",
    "residents for assault, murder, and rape in each of the 50 US\n",
    "states in 1973.  Also given is the percent of the population\n",
    "living in urban areas.\n",
    "\n",
    "\n",
    "- `Murder`: Murder arrests (per 100,000)  \n",
    "\n",
    "- `Assault`: Assault arrests (per 100,000) \n",
    "\n",
    "- `UrbanPop`: Percent urban population      \n",
    "\n",
    "- `Rape`: Rape arrests (per 100,000)    \n",
    "\n",
    "## Notes\n",
    "\n",
    "From the `R` base package. See help with command `?USArrests` (in `R`)"
   ]
  }
 ],
 "metadata": {
  "jupytext": {
   "cell_metadata_filter": "-all",
   "formats": "ipynb,md:myst",
   "main_language": "python"
  }
 },
 "nbformat": 4,
 "nbformat_minor": 5
}

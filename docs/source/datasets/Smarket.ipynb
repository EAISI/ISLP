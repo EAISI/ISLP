{
 "cells": [
  {
   "cell_type": "markdown",
   "id": "fd083036",
   "metadata": {},
   "source": [
    "S&P Stock Market Data\n",
    "\n",
    "Description:\n",
    "\n",
    "     Daily percentage returns for the S&P 500 stock index between 2001\n",
    "     and 2005.\n",
    "\n",
    "Usage:\n",
    "\n",
    "     Smarket\n",
    "     \n",
    "Format:\n",
    "\n",
    "     A data frame with 1250 observations on the following 9 variables.\n",
    "\n",
    "     ‘Year’ The year that the observation was recorded\n",
    "\n",
    "     ‘Lag1’ Percentage return for previous day\n",
    "\n",
    "     ‘Lag2’ Percentage return for 2 days previous\n",
    "\n",
    "     ‘Lag3’ Percentage return for 3 days previous\n",
    "\n",
    "     ‘Lag4’ Percentage return for 4 days previous\n",
    "\n",
    "     ‘Lag5’ Percentage return for 5 days previous\n",
    "\n",
    "     ‘Volume’ Volume of shares traded (number of daily shares traded in\n",
    "          billions)\n",
    "\n",
    "     ‘Today’ Percentage return for today\n",
    "\n",
    "     ‘Direction’ A factor with levels ‘Down’ and ‘Up’ indicating\n",
    "          whether the market had a positive or negative return on a\n",
    "          given day\n",
    "\n",
    "Source:\n",
    "\n",
    "     Raw values of the S&P 500 were obtained from Yahoo Finance and\n",
    "     then converted to percentages and lagged."
   ]
  }
 ],
 "metadata": {
  "jupytext": {
   "cell_metadata_filter": "-all",
   "formats": "ipynb,md:myst",
   "main_language": "python"
  }
 },
 "nbformat": 4,
 "nbformat_minor": 5
}

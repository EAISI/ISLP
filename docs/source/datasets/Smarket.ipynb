{
 "cells": [
  {
   "cell_type": "markdown",
   "id": "fd083036",
   "metadata": {},
   "source": [
    "# S&P Stock Market Data\n",
    "\n",
    "Daily percentage returns for the S&P 500 stock index between 2001\n",
    "and 2005.\n",
    "\n",
    "- `Year`: The year that the observation was recorded\n",
    "\n",
    "- `Lag1`: Percentage return for previous day\n",
    "\n",
    "- `Lag2`: Percentage return for 2 days previous\n",
    "\n",
    "- `Lag3`: Percentage return for 3 days previous\n",
    "\n",
    "- `Lag4`: Percentage return for 4 days previous\n",
    "\n",
    "- `Lag5`: Percentage return for 5 days previous\n",
    "\n",
    "- `Volume`: Volume of shares traded (number of daily shares traded in\n",
    "          billions)\n",
    "\n",
    "- `Today`: Percentage return for today\n",
    "\n",
    "- `Direction`: A factor with levels 'Down' and 'Up' indicating\n",
    " whether the market had a positive or negative return on a\n",
    " given day\n",
    "\n",
    "## Source\n",
    "\n",
    "Raw values of the S&P 500 were obtained from Yahoo Finance and\n",
    "then converted to percentages and lagged."
   ]
  },
  {
   "cell_type": "code",
   "execution_count": 1,
   "id": "dd943ec9",
   "metadata": {},
   "outputs": [
    {
     "data": {
      "text/plain": [
       "Index(['Year', 'Lag1', 'Lag2', 'Lag3', 'Lag4', 'Lag5', 'Volume', 'Today',\n",
       "       'Direction'],\n",
       "      dtype='object')"
      ]
     },
     "execution_count": 1,
     "metadata": {},
     "output_type": "execute_result"
    }
   ],
   "source": [
    "from ISLP import load_data\n",
    "Smarket = load_data('Smarket')\n",
    "Smarket.columns"
   ]
  },
  {
   "cell_type": "code",
   "execution_count": 2,
   "id": "2b81748e",
   "metadata": {},
   "outputs": [
    {
     "data": {
      "text/plain": [
       "(1250, 9)"
      ]
     },
     "execution_count": 2,
     "metadata": {},
     "output_type": "execute_result"
    }
   ],
   "source": [
    "Smarket.shape"
   ]
  },
  {
   "cell_type": "code",
   "execution_count": 3,
   "id": "e92369e0",
   "metadata": {},
   "outputs": [
    {
     "data": {
      "text/plain": [
       "Index(['Year', 'Lag1', 'Lag2', 'Lag3', 'Lag4', 'Lag5', 'Volume', 'Today',\n",
       "       'Direction'],\n",
       "      dtype='object')"
      ]
     },
     "execution_count": 3,
     "metadata": {},
     "output_type": "execute_result"
    }
   ],
   "source": [
    "Smarket.columns"
   ]
  },
  {
   "cell_type": "code",
   "execution_count": 5,
   "id": "e58459ec",
   "metadata": {},
   "outputs": [
    {
     "data": {
      "text/html": [
       "<div>\n",
       "<style scoped>\n",
       "    .dataframe tbody tr th:only-of-type {\n",
       "        vertical-align: middle;\n",
       "    }\n",
       "\n",
       "    .dataframe tbody tr th {\n",
       "        vertical-align: top;\n",
       "    }\n",
       "\n",
       "    .dataframe thead th {\n",
       "        text-align: right;\n",
       "    }\n",
       "</style>\n",
       "<table border=\"1\" class=\"dataframe\">\n",
       "  <thead>\n",
       "    <tr style=\"text-align: right;\">\n",
       "      <th></th>\n",
       "      <th>Lag4</th>\n",
       "      <th>Lag5</th>\n",
       "      <th>Volume</th>\n",
       "      <th>Today</th>\n",
       "    </tr>\n",
       "  </thead>\n",
       "  <tbody>\n",
       "    <tr>\n",
       "      <th>count</th>\n",
       "      <td>1250.000000</td>\n",
       "      <td>1250.00000</td>\n",
       "      <td>1250.000000</td>\n",
       "      <td>1250.000000</td>\n",
       "    </tr>\n",
       "    <tr>\n",
       "      <th>mean</th>\n",
       "      <td>0.001636</td>\n",
       "      <td>0.00561</td>\n",
       "      <td>1.478305</td>\n",
       "      <td>0.003138</td>\n",
       "    </tr>\n",
       "    <tr>\n",
       "      <th>std</th>\n",
       "      <td>1.138774</td>\n",
       "      <td>1.14755</td>\n",
       "      <td>0.360357</td>\n",
       "      <td>1.136334</td>\n",
       "    </tr>\n",
       "    <tr>\n",
       "      <th>min</th>\n",
       "      <td>-4.922000</td>\n",
       "      <td>-4.92200</td>\n",
       "      <td>0.356070</td>\n",
       "      <td>-4.922000</td>\n",
       "    </tr>\n",
       "    <tr>\n",
       "      <th>25%</th>\n",
       "      <td>-0.640000</td>\n",
       "      <td>-0.64000</td>\n",
       "      <td>1.257400</td>\n",
       "      <td>-0.639500</td>\n",
       "    </tr>\n",
       "    <tr>\n",
       "      <th>50%</th>\n",
       "      <td>0.038500</td>\n",
       "      <td>0.03850</td>\n",
       "      <td>1.422950</td>\n",
       "      <td>0.038500</td>\n",
       "    </tr>\n",
       "    <tr>\n",
       "      <th>75%</th>\n",
       "      <td>0.596750</td>\n",
       "      <td>0.59700</td>\n",
       "      <td>1.641675</td>\n",
       "      <td>0.596750</td>\n",
       "    </tr>\n",
       "    <tr>\n",
       "      <th>max</th>\n",
       "      <td>5.733000</td>\n",
       "      <td>5.73300</td>\n",
       "      <td>3.152470</td>\n",
       "      <td>5.733000</td>\n",
       "    </tr>\n",
       "  </tbody>\n",
       "</table>\n",
       "</div>"
      ],
      "text/plain": [
       "              Lag4        Lag5       Volume        Today\n",
       "count  1250.000000  1250.00000  1250.000000  1250.000000\n",
       "mean      0.001636     0.00561     1.478305     0.003138\n",
       "std       1.138774     1.14755     0.360357     1.136334\n",
       "min      -4.922000    -4.92200     0.356070    -4.922000\n",
       "25%      -0.640000    -0.64000     1.257400    -0.639500\n",
       "50%       0.038500     0.03850     1.422950     0.038500\n",
       "75%       0.596750     0.59700     1.641675     0.596750\n",
       "max       5.733000     5.73300     3.152470     5.733000"
      ]
     },
     "execution_count": 5,
     "metadata": {},
     "output_type": "execute_result"
    }
   ],
   "source": [
    "Smarket.describe().iloc[:,-4:]"
   ]
  }
 ],
 "metadata": {
  "jupytext": {
   "cell_metadata_filter": "-all",
   "formats": "ipynb,md:myst",
   "main_language": "python"
  },
  "kernelspec": {
   "display_name": "",
   "name": ""
  },
  "language_info": {
   "name": ""
  }
 },
 "nbformat": 4,
 "nbformat_minor": 5
}

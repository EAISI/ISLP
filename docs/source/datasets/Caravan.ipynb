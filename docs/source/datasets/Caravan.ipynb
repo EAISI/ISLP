{
 "cells": [
  {
   "cell_type": "markdown",
   "id": "79422820",
   "metadata": {},
   "source": [
    "\\name{Caravan}\n",
    "\\alias{Caravan}\n",
    "\\docType{data}\n",
    "\\title{The Insurance Company (TIC) Benchmark\n",
    "%%   ~~ data name/kind ... ~~\n",
    "}\n",
    "\\description{The data contains 5822 real customer records. Each record\n",
    "  consists of 86 variables, containing sociodemographic data (variables\n",
    "  1-43) and product ownership (variables 44-86). The sociodemographic\n",
    "  data is derived from zip codes. All customers living in areas with the\n",
    "  same zip code have the same sociodemographic attributes. Variable 86\n",
    "  (\\code{Purchase}) indicates whether the customer purchased a caravan\n",
    "  insurance policy. Further information on the individual variables can\n",
    "  be obtained at  http://www.liacs.nl/~putten/library/cc2000/data.html\n",
    "%%  ~~ A concise (1-5 lines) description of the dataset. ~~\n",
    "}\n",
    "\\usage{Caravan}\n",
    "\\format{\n",
    "  A data frame with 5822 observations on 86 variables.\n",
    "  }\n",
    "\\source{The data was originally supplied by Sentient Machine Research\n",
    "  and was used in the CoIL Challenge 2000.\n",
    "}\n",
    "\\references{P. van der Putten and M. van Someren (eds) . CoIL Challenge\n",
    "  2000: The Insurance Company Case.  Published by Sentient Machine\n",
    "  Research, Amsterdam. Also a Leiden Institute of Advanced Computer\n",
    "  Science Technical Report 2000-09. June 22, 2000. See\n",
    "  http://www.liacs.nl/~putten/library/cc2000/\\cr\n",
    "  P. van der Putten and M. van Someren. A Bias-Variance Analysis of a Real World Learning Problem: The CoIL Challenge 2000. Machine Learning, October 2004, vol. 57, iss. 1-2, pp. 177-195, Kluwer Academic Publishers\\cr\n",
    "  James, G., Witten, D., Hastie, T., and Tibshirani, R. (2013)\n",
    "  \\emph{An Introduction to Statistical Learning with applications in R},\n",
    "  \\url{https://www.statlearning.com},\n",
    "  Springer-Verlag, New York\n",
    "}\n",
    "\\examples{\n",
    "summary(Caravan)\n",
    "plot(Caravan$Purchase)\n",
    "}\n",
    "\\keyword{datasets}"
   ]
  }
 ],
 "metadata": {
  "jupytext": {
   "cell_metadata_filter": "-all",
   "formats": "ipynb,md:myst",
   "main_language": "python"
  }
 },
 "nbformat": 4,
 "nbformat_minor": 5
}

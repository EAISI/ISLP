{
 "cells": [
  {
   "cell_type": "markdown",
   "id": "5cec66cf",
   "metadata": {},
   "source": [
    "# New York Stock Exchange Data\n",
    "\n",
    "Data consisting of the Dow Jones returns, log trading volume, and\n",
    "log volatility for the New York Stock Exchange over a 20 year\n",
    "period\n",
    "\n",
    "- `date`: Date\n",
    "\n",
    "- `day_of_week`: Day of the week\n",
    "\n",
    "- `DJ_return`: Return for Dow Jones Industrial Average\n",
    "\n",
    "- `log_volume`: Log of trading volume\n",
    "\n",
    "- `log_volatility`: Log of volatility\n",
    "\n",
    "- `train`: For the first 4,281 observations, this is set to `True`\n",
    "\n",
    "## Source\n",
    "\n",
    "- B. LeBaron and A. Weigend (1998), IEEE Transactions on Neural\n",
    "Networks 9(1): 213-220."
   ]
  },
  {
   "cell_type": "code",
   "execution_count": 1,
   "id": "7d177920",
   "metadata": {},
   "outputs": [
    {
     "data": {
      "text/plain": [
       "Index(['day_of_week', 'DJ_return', 'log_volume', 'log_volatility', 'train'], dtype='object')"
      ]
     },
     "execution_count": 1,
     "metadata": {},
     "output_type": "execute_result"
    }
   ],
   "source": [
    "from ISLP import load_data\n",
    "NYSE = load_data('NYSE')\n",
    "NYSE.columns"
   ]
  },
  {
   "cell_type": "code",
   "execution_count": 2,
   "id": "90527f44",
   "metadata": {},
   "outputs": [
    {
     "data": {
      "text/plain": [
       "(6051, 5)"
      ]
     },
     "execution_count": 2,
     "metadata": {},
     "output_type": "execute_result"
    }
   ],
   "source": [
    "NYSE.shape"
   ]
  },
  {
   "cell_type": "code",
   "execution_count": 3,
   "id": "cb80dd07",
   "metadata": {},
   "outputs": [
    {
     "data": {
      "text/plain": [
       "Index(['day_of_week', 'DJ_return', 'log_volume', 'log_volatility', 'train'], dtype='object')"
      ]
     },
     "execution_count": 3,
     "metadata": {},
     "output_type": "execute_result"
    }
   ],
   "source": [
    "NYSE.columns"
   ]
  },
  {
   "cell_type": "code",
   "execution_count": 4,
   "id": "c1b48aea",
   "metadata": {},
   "outputs": [
    {
     "data": {
      "text/html": [
       "<div>\n",
       "<style scoped>\n",
       "    .dataframe tbody tr th:only-of-type {\n",
       "        vertical-align: middle;\n",
       "    }\n",
       "\n",
       "    .dataframe tbody tr th {\n",
       "        vertical-align: top;\n",
       "    }\n",
       "\n",
       "    .dataframe thead th {\n",
       "        text-align: right;\n",
       "    }\n",
       "</style>\n",
       "<table border=\"1\" class=\"dataframe\">\n",
       "  <thead>\n",
       "    <tr style=\"text-align: right;\">\n",
       "      <th></th>\n",
       "      <th>DJ_return</th>\n",
       "      <th>log_volume</th>\n",
       "      <th>log_volatility</th>\n",
       "    </tr>\n",
       "  </thead>\n",
       "  <tbody>\n",
       "    <tr>\n",
       "      <th>count</th>\n",
       "      <td>6051.000000</td>\n",
       "      <td>6051.000000</td>\n",
       "      <td>6051.000000</td>\n",
       "    </tr>\n",
       "    <tr>\n",
       "      <th>mean</th>\n",
       "      <td>0.000177</td>\n",
       "      <td>-0.008336</td>\n",
       "      <td>-9.842713</td>\n",
       "    </tr>\n",
       "    <tr>\n",
       "      <th>std</th>\n",
       "      <td>0.008436</td>\n",
       "      <td>0.233684</td>\n",
       "      <td>0.753937</td>\n",
       "    </tr>\n",
       "    <tr>\n",
       "      <th>min</th>\n",
       "      <td>-0.047177</td>\n",
       "      <td>-1.322425</td>\n",
       "      <td>-13.127403</td>\n",
       "    </tr>\n",
       "    <tr>\n",
       "      <th>25%</th>\n",
       "      <td>-0.004640</td>\n",
       "      <td>-0.159956</td>\n",
       "      <td>-10.334196</td>\n",
       "    </tr>\n",
       "    <tr>\n",
       "      <th>50%</th>\n",
       "      <td>0.000125</td>\n",
       "      <td>-0.013249</td>\n",
       "      <td>-9.843592</td>\n",
       "    </tr>\n",
       "    <tr>\n",
       "      <th>75%</th>\n",
       "      <td>0.004792</td>\n",
       "      <td>0.131632</td>\n",
       "      <td>-9.379632</td>\n",
       "    </tr>\n",
       "    <tr>\n",
       "      <th>max</th>\n",
       "      <td>0.049517</td>\n",
       "      <td>1.039370</td>\n",
       "      <td>-7.477833</td>\n",
       "    </tr>\n",
       "  </tbody>\n",
       "</table>\n",
       "</div>"
      ],
      "text/plain": [
       "         DJ_return   log_volume  log_volatility\n",
       "count  6051.000000  6051.000000     6051.000000\n",
       "mean      0.000177    -0.008336       -9.842713\n",
       "std       0.008436     0.233684        0.753937\n",
       "min      -0.047177    -1.322425      -13.127403\n",
       "25%      -0.004640    -0.159956      -10.334196\n",
       "50%       0.000125    -0.013249       -9.843592\n",
       "75%       0.004792     0.131632       -9.379632\n",
       "max       0.049517     1.039370       -7.477833"
      ]
     },
     "execution_count": 4,
     "metadata": {},
     "output_type": "execute_result"
    }
   ],
   "source": [
    "NYSE.describe()"
   ]
  }
 ],
 "metadata": {
  "jupytext": {
   "cell_metadata_filter": "-all",
   "formats": "ipynb,md:myst",
   "main_language": "python"
  },
  "kernelspec": {
   "display_name": "",
   "name": ""
  },
  "language_info": {
   "name": ""
  }
 },
 "nbformat": 4,
 "nbformat_minor": 5
}

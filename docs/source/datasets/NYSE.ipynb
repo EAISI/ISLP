{
 "cells": [
  {
   "cell_type": "markdown",
   "id": "5cec66cf",
   "metadata": {},
   "source": [
    "New York Stock Exchange Data\n",
    "\n",
    "Description:\n",
    "\n",
    "     Data consisting of the Dow Jones returns, log trading volume, and\n",
    "     log volatility for the New York Stock Exchange over a 20 year\n",
    "     period\n",
    "\n",
    "Usage:\n",
    "\n",
    "     Portfolio\n",
    "     \n",
    "Format:\n",
    "\n",
    "     A data frame with 6,051 observations and 6 variables:\n",
    "\n",
    "     ‘date’ Date\n",
    "\n",
    "     ‘day_of_week’ Day of the week\n",
    "\n",
    "     ‘DJ_return’ Return for Dow Jones Industrial Average\n",
    "\n",
    "     ‘log_volume’ Log of trading volume\n",
    "\n",
    "     ‘log_volatility’ Log of volatility\n",
    "\n",
    "     ‘train’ For the first 4,281 observations, this is set to TRUE\n",
    "\n",
    "Source:\n",
    "\n",
    "     B. LeBaron and A. Weigend (1998), IEEE Transactions on Neural\n",
    "     Networks 9(1): 213-220."
   ]
  }
 ],
 "metadata": {
  "jupytext": {
   "cell_metadata_filter": "-all",
   "formats": "ipynb,md:myst",
   "main_language": "python"
  }
 },
 "nbformat": 4,
 "nbformat_minor": 5
}

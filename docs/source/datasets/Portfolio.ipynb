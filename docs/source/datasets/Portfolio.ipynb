{
 "cells": [
  {
   "cell_type": "markdown",
   "id": "240eae05",
   "metadata": {},
   "source": [
    "Portfolio Data\n",
    "\n",
    "Description:\n",
    "\n",
    "     A simple simulated data set containing 100 returns for each of two\n",
    "     assets, X and Y. The data is used to estimate the optimal fraction\n",
    "     to invest in each asset to minimize investment risk of the\n",
    "     combined portfolio. One can then use the Bootstrap to estimate the\n",
    "     standard error of this estimate.\n",
    "\n",
    "Usage:\n",
    "\n",
    "     Portfolio\n",
    "     \n",
    "Format:\n",
    "\n",
    "     A data frame with 100 observations on the following 2 variables.\n",
    "\n",
    "     ‘X’ Returns for Asset X\n",
    "\n",
    "     ‘Y’ Returns for Asset Y\n",
    "\n",
    "Source:\n",
    "\n",
    "     Simulated data"
   ]
  }
 ],
 "metadata": {
  "jupytext": {
   "cell_metadata_filter": "-all",
   "formats": "ipynb,md:myst",
   "main_language": "python"
  }
 },
 "nbformat": 4,
 "nbformat_minor": 5
}

{
 "cells": [
  {
   "cell_type": "markdown",
   "id": "240eae05",
   "metadata": {},
   "source": [
    "# Portfolio Data\n",
    "\n",
    "A simple simulated data set containing 100 returns for each of two\n",
    "assets, X and Y. The data is used to estimate the optimal fraction\n",
    "to invest in each asset to minimize investment risk of the\n",
    "combined portfolio. One can then use the Bootstrap to estimate the\n",
    "standard error of this estimate.\n",
    "\n",
    "- `X`: Returns for Asset X\n",
    "\n",
    "- `Y`: Returns for Asset Y"
   ]
  },
  {
   "cell_type": "code",
   "execution_count": 1,
   "id": "d9944f33",
   "metadata": {},
   "outputs": [
    {
     "data": {
      "text/plain": [
       "Index(['X', 'Y'], dtype='object')"
      ]
     },
     "execution_count": 1,
     "metadata": {},
     "output_type": "execute_result"
    }
   ],
   "source": [
    "from ISLP import load_data\n",
    "Portfolio = load_data('Portfolio')\n",
    "Portfolio.columns"
   ]
  },
  {
   "cell_type": "code",
   "execution_count": 2,
   "id": "1cef9edd",
   "metadata": {},
   "outputs": [
    {
     "data": {
      "text/plain": [
       "(100, 2)"
      ]
     },
     "execution_count": 2,
     "metadata": {},
     "output_type": "execute_result"
    }
   ],
   "source": [
    "Portfolio.shape"
   ]
  },
  {
   "cell_type": "code",
   "execution_count": 3,
   "id": "82fbe4ee",
   "metadata": {},
   "outputs": [
    {
     "data": {
      "text/plain": [
       "Index(['X', 'Y'], dtype='object')"
      ]
     },
     "execution_count": 3,
     "metadata": {},
     "output_type": "execute_result"
    }
   ],
   "source": [
    "Portfolio.columns"
   ]
  },
  {
   "cell_type": "code",
   "execution_count": 4,
   "id": "43b1fa2b",
   "metadata": {},
   "outputs": [
    {
     "data": {
      "text/html": [
       "<div>\n",
       "<style scoped>\n",
       "    .dataframe tbody tr th:only-of-type {\n",
       "        vertical-align: middle;\n",
       "    }\n",
       "\n",
       "    .dataframe tbody tr th {\n",
       "        vertical-align: top;\n",
       "    }\n",
       "\n",
       "    .dataframe thead th {\n",
       "        text-align: right;\n",
       "    }\n",
       "</style>\n",
       "<table border=\"1\" class=\"dataframe\">\n",
       "  <thead>\n",
       "    <tr style=\"text-align: right;\">\n",
       "      <th></th>\n",
       "      <th>X</th>\n",
       "      <th>Y</th>\n",
       "    </tr>\n",
       "  </thead>\n",
       "  <tbody>\n",
       "    <tr>\n",
       "      <th>count</th>\n",
       "      <td>100.000000</td>\n",
       "      <td>100.000000</td>\n",
       "    </tr>\n",
       "    <tr>\n",
       "      <th>mean</th>\n",
       "      <td>-0.077132</td>\n",
       "      <td>-0.096945</td>\n",
       "    </tr>\n",
       "    <tr>\n",
       "      <th>std</th>\n",
       "      <td>1.062376</td>\n",
       "      <td>1.143782</td>\n",
       "    </tr>\n",
       "    <tr>\n",
       "      <th>min</th>\n",
       "      <td>-2.432764</td>\n",
       "      <td>-2.725281</td>\n",
       "    </tr>\n",
       "    <tr>\n",
       "      <th>25%</th>\n",
       "      <td>-0.888474</td>\n",
       "      <td>-0.885722</td>\n",
       "    </tr>\n",
       "    <tr>\n",
       "      <th>50%</th>\n",
       "      <td>-0.268889</td>\n",
       "      <td>-0.228708</td>\n",
       "    </tr>\n",
       "    <tr>\n",
       "      <th>75%</th>\n",
       "      <td>0.558093</td>\n",
       "      <td>0.806708</td>\n",
       "    </tr>\n",
       "    <tr>\n",
       "      <th>max</th>\n",
       "      <td>2.460336</td>\n",
       "      <td>2.565985</td>\n",
       "    </tr>\n",
       "  </tbody>\n",
       "</table>\n",
       "</div>"
      ],
      "text/plain": [
       "                X           Y\n",
       "count  100.000000  100.000000\n",
       "mean    -0.077132   -0.096945\n",
       "std      1.062376    1.143782\n",
       "min     -2.432764   -2.725281\n",
       "25%     -0.888474   -0.885722\n",
       "50%     -0.268889   -0.228708\n",
       "75%      0.558093    0.806708\n",
       "max      2.460336    2.565985"
      ]
     },
     "execution_count": 4,
     "metadata": {},
     "output_type": "execute_result"
    }
   ],
   "source": [
    "Portfolio.describe()"
   ]
  }
 ],
 "metadata": {
  "jupytext": {
   "cell_metadata_filter": "-all",
   "formats": "ipynb,md:myst",
   "main_language": "python"
  },
  "kernelspec": {
   "display_name": "",
   "name": ""
  },
  "language_info": {
   "name": ""
  }
 },
 "nbformat": 4,
 "nbformat_minor": 5
}

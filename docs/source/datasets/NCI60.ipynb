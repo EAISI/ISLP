{
 "cells": [
  {
   "cell_type": "markdown",
   "id": "3d8b3837",
   "metadata": {},
   "source": [
    "NCI 60 Data\n",
    "\n",
    "Description:\n",
    "\n",
    "     NCI microarray data. The data contains expression levels on 6830\n",
    "     genes from 64 cancer cell lines. Cancer type is also recorded.\n",
    "\n",
    "Usage:\n",
    "\n",
    "     NCI60\n",
    "     \n",
    "Format:\n",
    "\n",
    "     The format is a list containing two elements: ‘data’ and ‘labs’.\n",
    "\n",
    "     ‘data’ is a 64 by 6830 matrix of the expression values while\n",
    "     ‘labs’ is a vector listing the cancer types for the 64 cell lines.\n",
    "\n",
    "Source:\n",
    "\n",
    "     The data come from Ross et al. (Nat Genet., 2000). More\n",
    "     information can be obtained at\n",
    "     http://genome-www.stanford.edu/nci60/"
   ]
  }
 ],
 "metadata": {
  "jupytext": {
   "cell_metadata_filter": "-all",
   "formats": "ipynb,md:myst",
   "main_language": "python"
  }
 },
 "nbformat": 4,
 "nbformat_minor": 5
}

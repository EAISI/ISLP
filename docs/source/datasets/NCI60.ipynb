{
 "cells": [
  {
   "cell_type": "markdown",
   "id": "3d8b3837",
   "metadata": {},
   "source": [
    "# NCI 60 Data\n",
    "\n",
    "NCI microarray data. The data contains expression levels on 6830\n",
    "genes from 64 cancer cell lines. Cancer type is also recorded.\n",
    "\n",
    "The format is a list containing two elements: ‘data’ and ‘labs’.\n",
    "\n",
    "- `data`: is a 64 by 6830 matrix of the expression values while\n",
    "\n",
    "- `labs`: is a vector listing the cancer types for the 64 cell lines.\n",
    "\n",
    "## Source\n",
    "\n",
    "The data come from Ross et al. (Nat Genet., 2000). More information can be obtained at\n",
    "[http://genome-www.stanford.edu/nci60](http://genome-www.stanford.edu/nci60)."
   ]
  },
  {
   "cell_type": "code",
   "execution_count": 2,
   "id": "94b88e36-a762-4a2a-927c-e59b2c5ef316",
   "metadata": {},
   "outputs": [
    {
     "data": {
      "text/plain": [
       "dict_keys(['data', 'labels'])"
      ]
     },
     "execution_count": 2,
     "metadata": {},
     "output_type": "execute_result"
    }
   ],
   "source": [
    "from ISLP import load_data\n",
    "NCI60 = load_data('NCI60')\n",
    "NCI60.keys()"
   ]
  },
  {
   "cell_type": "code",
   "execution_count": 3,
   "id": "293c6ad4-a9b2-4cce-8a96-dcf2b9831add",
   "metadata": {},
   "outputs": [
    {
     "data": {
      "text/plain": [
       "label      \n",
       "NSCLC          9\n",
       "RENAL          9\n",
       "MELANOMA       8\n",
       "BREAST         7\n",
       "COLON          7\n",
       "LEUKEMIA       6\n",
       "OVARIAN        6\n",
       "CNS            5\n",
       "PROSTATE       2\n",
       "K562A-repro    1\n",
       "K562B-repro    1\n",
       "MCF7A-repro    1\n",
       "MCF7D-repro    1\n",
       "UNKNOWN        1\n",
       "dtype: int64"
      ]
     },
     "execution_count": 3,
     "metadata": {},
     "output_type": "execute_result"
    }
   ],
   "source": [
    "NCI60['labels'].value_counts()"
   ]
  },
  {
   "cell_type": "code",
   "execution_count": 4,
   "id": "f3ad599f-48a3-42a2-81c4-ca329a0366ae",
   "metadata": {},
   "outputs": [
    {
     "data": {
      "text/plain": [
       "(64, 6830)"
      ]
     },
     "execution_count": 4,
     "metadata": {},
     "output_type": "execute_result"
    }
   ],
   "source": [
    "NCI60['data'].shape"
   ]
  }
 ],
 "metadata": {
  "jupytext": {
   "cell_metadata_filter": "-all",
   "formats": "ipynb,md:myst",
   "main_language": "python"
  },
  "kernelspec": {
   "display_name": "islp_test",
   "language": "python",
   "name": "islp_test"
  },
  "language_info": {
   "codemirror_mode": {
    "name": "ipython",
    "version": 3
   },
   "file_extension": ".py",
   "mimetype": "text/x-python",
   "name": "python",
   "nbconvert_exporter": "python",
   "pygments_lexer": "ipython3",
   "version": "3.9.13"
  }
 },
 "nbformat": 4,
 "nbformat_minor": 5
}

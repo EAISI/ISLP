{
 "cells": [
  {
   "cell_type": "markdown",
   "id": "8fb2a7f1",
   "metadata": {},
   "source": [
    "# Bike sharing data\n",
    "\n",
    "\n",
    "This data set contains the hourly and daily count of rental bikes\n",
    "between years 2011 and 2012 in Capital bikeshare system, along\n",
    "with weather and seasonal information.\n",
    "     \n",
    "- `season`: Season of the year, coded as Winter=1, Spring=2,\n",
    "          Summer=3, Fall=4.\n",
    "\n",
    "- `mnth`: Month of the year, coded as a factor.\n",
    "\n",
    "- `day`: Day of the year, from 1 to 365\n",
    "\n",
    "- `hr`: Hour of the day, coded as a factor from 0 to 23.\n",
    "\n",
    "- `holiday`: Is it a holiday? Yes=1, No=0.\n",
    "\n",
    "- `weekday`: Day of the week, coded from 0 to 6, where Sunday=0,\n",
    "          Monday=1, Tuesday=2, etc.\n",
    "\n",
    "- `workingday`: Is it a work day? Yes=1, No=0.\n",
    "\n",
    "- `weathersit`: Weather, coded as a factor.\n",
    "\n",
    "- `temp`: Normalized temperature in Celsius. The values are derived\n",
    "          via `(t-t_min)/(t_max-t_min)`, `t_min`=-8, `t_max`=+39.\n",
    "\n",
    "- `atemp`: Normalized feeling temperature in Celsius. The values are\n",
    "          derived via `(t-t_min)/(t_max-t_min)`, `t_min`=-16, `t_max`=+50.\n",
    "\n",
    "- `hum`: Normalized humidity. The values are divided to 100 (max).\n",
    "\n",
    "- `windspeed`: Normalized wind speed. The values are divided by 67\n",
    "          (max).\n",
    "\n",
    "- `casual`: Number of casual bikers.\n",
    "\n",
    "- `registered`: Number of registered bikers.\n",
    "\n",
    "- `bikers`: Total number of bikers.\n",
    "\n",
    "## Source\n",
    "\n",
    "The [UCI Machine Learning Repository](https://archive.ics.uci.edu/ml/datasets/bike+sharing+dataset)."
   ]
  },
  {
   "cell_type": "code",
   "execution_count": 1,
   "id": "d43300af",
   "metadata": {},
   "outputs": [
    {
     "data": {
      "text/plain": [
       "Index(['season', 'mnth', 'day', 'hr', 'holiday', 'weekday', 'workingday',\n",
       "       'weathersit', 'temp', 'atemp', 'hum', 'windspeed', 'casual',\n",
       "       'registered', 'bikers'],\n",
       "      dtype='object')"
      ]
     },
     "execution_count": 1,
     "metadata": {},
     "output_type": "execute_result"
    }
   ],
   "source": [
    "from ISLP import load_data\n",
    "Bikeshare = load_data('Bikeshare')\n",
    "Bikeshare.columns"
   ]
  },
  {
   "cell_type": "code",
   "execution_count": 2,
   "id": "a805746c",
   "metadata": {},
   "outputs": [
    {
     "data": {
      "text/plain": [
       "(8645, 15)"
      ]
     },
     "execution_count": 2,
     "metadata": {},
     "output_type": "execute_result"
    }
   ],
   "source": [
    "Bikeshare.shape"
   ]
  },
  {
   "cell_type": "code",
   "execution_count": 3,
   "id": "5c2ab17e",
   "metadata": {},
   "outputs": [
    {
     "data": {
      "text/plain": [
       "Index(['season', 'mnth', 'day', 'hr', 'holiday', 'weekday', 'workingday',\n",
       "       'weathersit', 'temp', 'atemp', 'hum', 'windspeed', 'casual',\n",
       "       'registered', 'bikers'],\n",
       "      dtype='object')"
      ]
     },
     "execution_count": 3,
     "metadata": {},
     "output_type": "execute_result"
    }
   ],
   "source": [
    "Bikeshare.columns"
   ]
  },
  {
   "cell_type": "code",
   "execution_count": 5,
   "id": "e9590a83",
   "metadata": {},
   "outputs": [
    {
     "data": {
      "text/html": [
       "<div>\n",
       "<style scoped>\n",
       "    .dataframe tbody tr th:only-of-type {\n",
       "        vertical-align: middle;\n",
       "    }\n",
       "\n",
       "    .dataframe tbody tr th {\n",
       "        vertical-align: top;\n",
       "    }\n",
       "\n",
       "    .dataframe thead th {\n",
       "        text-align: right;\n",
       "    }\n",
       "</style>\n",
       "<table border=\"1\" class=\"dataframe\">\n",
       "  <thead>\n",
       "    <tr style=\"text-align: right;\">\n",
       "      <th></th>\n",
       "      <th>season</th>\n",
       "      <th>day</th>\n",
       "      <th>holiday</th>\n",
       "      <th>weekday</th>\n",
       "    </tr>\n",
       "  </thead>\n",
       "  <tbody>\n",
       "    <tr>\n",
       "      <th>count</th>\n",
       "      <td>8645.000000</td>\n",
       "      <td>8645.00000</td>\n",
       "      <td>8645.000000</td>\n",
       "      <td>8645.000000</td>\n",
       "    </tr>\n",
       "    <tr>\n",
       "      <th>mean</th>\n",
       "      <td>2.513592</td>\n",
       "      <td>184.39572</td>\n",
       "      <td>0.027646</td>\n",
       "      <td>3.012724</td>\n",
       "    </tr>\n",
       "    <tr>\n",
       "      <th>std</th>\n",
       "      <td>1.105477</td>\n",
       "      <td>104.82334</td>\n",
       "      <td>0.163966</td>\n",
       "      <td>2.006370</td>\n",
       "    </tr>\n",
       "    <tr>\n",
       "      <th>min</th>\n",
       "      <td>1.000000</td>\n",
       "      <td>1.00000</td>\n",
       "      <td>0.000000</td>\n",
       "      <td>0.000000</td>\n",
       "    </tr>\n",
       "    <tr>\n",
       "      <th>25%</th>\n",
       "      <td>2.000000</td>\n",
       "      <td>94.00000</td>\n",
       "      <td>0.000000</td>\n",
       "      <td>1.000000</td>\n",
       "    </tr>\n",
       "    <tr>\n",
       "      <th>50%</th>\n",
       "      <td>3.000000</td>\n",
       "      <td>185.00000</td>\n",
       "      <td>0.000000</td>\n",
       "      <td>3.000000</td>\n",
       "    </tr>\n",
       "    <tr>\n",
       "      <th>75%</th>\n",
       "      <td>3.000000</td>\n",
       "      <td>275.00000</td>\n",
       "      <td>0.000000</td>\n",
       "      <td>5.000000</td>\n",
       "    </tr>\n",
       "    <tr>\n",
       "      <th>max</th>\n",
       "      <td>4.000000</td>\n",
       "      <td>365.00000</td>\n",
       "      <td>1.000000</td>\n",
       "      <td>6.000000</td>\n",
       "    </tr>\n",
       "  </tbody>\n",
       "</table>\n",
       "</div>"
      ],
      "text/plain": [
       "            season         day      holiday      weekday\n",
       "count  8645.000000  8645.00000  8645.000000  8645.000000\n",
       "mean      2.513592   184.39572     0.027646     3.012724\n",
       "std       1.105477   104.82334     0.163966     2.006370\n",
       "min       1.000000     1.00000     0.000000     0.000000\n",
       "25%       2.000000    94.00000     0.000000     1.000000\n",
       "50%       3.000000   185.00000     0.000000     3.000000\n",
       "75%       3.000000   275.00000     0.000000     5.000000\n",
       "max       4.000000   365.00000     1.000000     6.000000"
      ]
     },
     "execution_count": 5,
     "metadata": {},
     "output_type": "execute_result"
    }
   ],
   "source": [
    "Bikeshare.describe().iloc[:,:4]"
   ]
  }
 ],
 "metadata": {
  "jupytext": {
   "cell_metadata_filter": "-all",
   "formats": "ipynb,md:myst",
   "main_language": "python"
  },
  "kernelspec": {
   "display_name": "islp_test",
   "language": "python",
   "name": "islp_test"
  },
  "language_info": {
   "codemirror_mode": {
    "name": "ipython",
    "version": 3
   },
   "file_extension": ".py",
   "mimetype": "text/x-python",
   "name": "python",
   "nbconvert_exporter": "python",
   "pygments_lexer": "ipython3",
   "version": "3.9.13"
  }
 },
 "nbformat": 4,
 "nbformat_minor": 5
}

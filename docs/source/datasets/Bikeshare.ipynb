{
 "cells": [
  {
   "cell_type": "markdown",
   "id": "8fb2a7f1",
   "metadata": {},
   "source": [
    "Bike sharing data\n",
    "=================\n",
    "\n",
    "This data set contains the hourly and daily count of rental bikes\n",
    "between years 2011 and 2012 in Capital bikeshare system, along\n",
    "with weather and seasonal information.\n",
    "     \n",
    "     ‘season’ Season of the year, coded as Winter=1, Spring=2,\n",
    "          Summer=3, Fall=4.\n",
    "\n",
    "     ‘mnth’ Month of the year, coded as a factor.\n",
    "\n",
    "     ‘day’ Day of the year, from 1 to 365\n",
    "\n",
    "     ‘hr’ Hour of the day, coded as a factor from 0 to 23.\n",
    "\n",
    "     ‘holiday’ Is it a holiday? Yes=1, No=0.\n",
    "\n",
    "     ‘weekday’ Day of the week, coded from 0 to 6, where Sunday=0,\n",
    "          Monday=1, Tuesday=2, etc.\n",
    "\n",
    "     ‘workingday’ Is it a work day? Yes=1, No=0.\n",
    "\n",
    "     ‘weathersit’ Weather, coded as a factor.\n",
    "\n",
    "     ‘temp’ Normalized temperature in Celsius. The values are derived\n",
    "          via (t-t_min)/(t_max-t_min), t_min=-8, t_max=+39.\n",
    "\n",
    "     ‘atemp’ Normalized feeling temperature in Celsius. The values are\n",
    "          derived via (t-t_min)/(t_max-t_min), t_min=-16, t_max=+50.\n",
    "\n",
    "     ‘hum’ Normalized humidity. The values are divided to 100 (max).\n",
    "\n",
    "     ‘windspeed’ Normalized wind speed. The values are divided by 67\n",
    "          (max).\n",
    "     ‘casual’ Number of casual bikers.\n",
    "\n",
    "     ‘registered’ Number of registered bikers.\n",
    "\n",
    "     ‘bikers’ Total number of bikers.\n",
    "\n",
    "Source\n",
    "------\n",
    "\n",
    "The UCI Machine Learning Repository:\n",
    "`<https://archive.ics.uci.edu/ml/datasets/bike+sharing+dataset>`_."
   ]
  }
 ],
 "metadata": {
  "jupytext": {
   "cell_metadata_filter": "-all",
   "formats": "ipynb,md:myst",
   "main_language": "python"
  }
 },
 "nbformat": 4,
 "nbformat_minor": 5
}

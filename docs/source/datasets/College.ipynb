{
 "cells": [
  {
   "cell_type": "markdown",
   "id": "fc40747e",
   "metadata": {},
   "source": [
    "# U.S. News and World Report's College Data\n",
    "\n",
    "Statistics for a large number of US Colleges from the 1995 issue\n",
    "of US News and World Report.\n",
    "\n",
    "- `Private`: A factor with levels No and Yes indicating private or public university\n",
    "\n",
    "- `Apps`: Number of applications received\n",
    "\n",
    "- `Accept`: Number of applications accepted\n",
    "\n",
    "- `Enroll`: Number of new students enrolled\n",
    "\n",
    "- `Top10perc`: Pct. new students from top 10% of H.S. class\n",
    "\n",
    "- `Top25perc`: Pct. new students from top 25% of H.S. class\n",
    "\n",
    "- `F.Undergrad`: Number of fulltime undergraduates\n",
    "\n",
    "- `P.Undergrad`: Number of parttime undergraduates\n",
    "\n",
    "- `Outstate`: Out-of-state tuition\n",
    "\n",
    "- `Room.Board`: Room and board costs\n",
    "\n",
    "- `Books`: Estimated book costs\n",
    "\n",
    "- `Personal`: Estimated personal spending\n",
    "\n",
    "- `PhD`: Pct. of faculty with Ph.D.’s\n",
    "\n",
    "- `Terminal`: Pct. of faculty with terminal degree\n",
    "\n",
    "- `S.F.Ratio`: Student/faculty ratio\n",
    "\n",
    "- `perc.alumni`: Pct. alumni who donate\n",
    "\n",
    "- `Expend`: Instructional expenditure per student\n",
    "\n",
    "- `Grad.Rate`: Graduation rate\n",
    "\n",
    "## Source\n",
    "\n",
    "This dataset was taken from the StatLib library which is\n",
    "maintained at Carnegie Mellon University. The dataset was used in\n",
    "the ASA Statistical Graphics Section's 1995 Data Analysis\n",
    "Exposition."
   ]
  },
  {
   "cell_type": "code",
   "execution_count": 1,
   "id": "a9ed9107",
   "metadata": {},
   "outputs": [
    {
     "data": {
      "text/plain": [
       "Index(['Private', 'Apps', 'Accept', 'Enroll', 'Top10perc', 'Top25perc',\n",
       "       'F.Undergrad', 'P.Undergrad', 'Outstate', 'Room.Board', 'Books',\n",
       "       'Personal', 'PhD', 'Terminal', 'S.F.Ratio', 'perc.alumni', 'Expend',\n",
       "       'Grad.Rate'],\n",
       "      dtype='object')"
      ]
     },
     "execution_count": 1,
     "metadata": {},
     "output_type": "execute_result"
    }
   ],
   "source": [
    "from ISLP import load_data\n",
    "College = load_data('College')\n",
    "College.columns"
   ]
  },
  {
   "cell_type": "code",
   "execution_count": 2,
   "id": "6d725862",
   "metadata": {},
   "outputs": [
    {
     "data": {
      "text/plain": [
       "(777, 18)"
      ]
     },
     "execution_count": 2,
     "metadata": {},
     "output_type": "execute_result"
    }
   ],
   "source": [
    "College.shape"
   ]
  },
  {
   "cell_type": "code",
   "execution_count": 3,
   "id": "ada03e60",
   "metadata": {},
   "outputs": [
    {
     "data": {
      "text/plain": [
       "Index(['Private', 'Apps', 'Accept', 'Enroll', 'Top10perc', 'Top25perc',\n",
       "       'F.Undergrad', 'P.Undergrad', 'Outstate', 'Room.Board', 'Books',\n",
       "       'Personal', 'PhD', 'Terminal', 'S.F.Ratio', 'perc.alumni', 'Expend',\n",
       "       'Grad.Rate'],\n",
       "      dtype='object')"
      ]
     },
     "execution_count": 3,
     "metadata": {},
     "output_type": "execute_result"
    }
   ],
   "source": [
    "College.columns"
   ]
  },
  {
   "cell_type": "code",
   "execution_count": 5,
   "id": "6d030998",
   "metadata": {},
   "outputs": [
    {
     "data": {
      "text/html": [
       "<div>\n",
       "<style scoped>\n",
       "    .dataframe tbody tr th:only-of-type {\n",
       "        vertical-align: middle;\n",
       "    }\n",
       "\n",
       "    .dataframe tbody tr th {\n",
       "        vertical-align: top;\n",
       "    }\n",
       "\n",
       "    .dataframe thead th {\n",
       "        text-align: right;\n",
       "    }\n",
       "</style>\n",
       "<table border=\"1\" class=\"dataframe\">\n",
       "  <thead>\n",
       "    <tr style=\"text-align: right;\">\n",
       "      <th></th>\n",
       "      <th>Apps</th>\n",
       "      <th>Accept</th>\n",
       "      <th>Enroll</th>\n",
       "      <th>Top10perc</th>\n",
       "    </tr>\n",
       "  </thead>\n",
       "  <tbody>\n",
       "    <tr>\n",
       "      <th>count</th>\n",
       "      <td>777.000000</td>\n",
       "      <td>777.000000</td>\n",
       "      <td>777.000000</td>\n",
       "      <td>777.000000</td>\n",
       "    </tr>\n",
       "    <tr>\n",
       "      <th>mean</th>\n",
       "      <td>3001.638353</td>\n",
       "      <td>2018.804376</td>\n",
       "      <td>779.972973</td>\n",
       "      <td>27.558559</td>\n",
       "    </tr>\n",
       "    <tr>\n",
       "      <th>std</th>\n",
       "      <td>3870.201484</td>\n",
       "      <td>2451.113971</td>\n",
       "      <td>929.176190</td>\n",
       "      <td>17.640364</td>\n",
       "    </tr>\n",
       "    <tr>\n",
       "      <th>min</th>\n",
       "      <td>81.000000</td>\n",
       "      <td>72.000000</td>\n",
       "      <td>35.000000</td>\n",
       "      <td>1.000000</td>\n",
       "    </tr>\n",
       "    <tr>\n",
       "      <th>25%</th>\n",
       "      <td>776.000000</td>\n",
       "      <td>604.000000</td>\n",
       "      <td>242.000000</td>\n",
       "      <td>15.000000</td>\n",
       "    </tr>\n",
       "    <tr>\n",
       "      <th>50%</th>\n",
       "      <td>1558.000000</td>\n",
       "      <td>1110.000000</td>\n",
       "      <td>434.000000</td>\n",
       "      <td>23.000000</td>\n",
       "    </tr>\n",
       "    <tr>\n",
       "      <th>75%</th>\n",
       "      <td>3624.000000</td>\n",
       "      <td>2424.000000</td>\n",
       "      <td>902.000000</td>\n",
       "      <td>35.000000</td>\n",
       "    </tr>\n",
       "    <tr>\n",
       "      <th>max</th>\n",
       "      <td>48094.000000</td>\n",
       "      <td>26330.000000</td>\n",
       "      <td>6392.000000</td>\n",
       "      <td>96.000000</td>\n",
       "    </tr>\n",
       "  </tbody>\n",
       "</table>\n",
       "</div>"
      ],
      "text/plain": [
       "               Apps        Accept       Enroll   Top10perc\n",
       "count    777.000000    777.000000   777.000000  777.000000\n",
       "mean    3001.638353   2018.804376   779.972973   27.558559\n",
       "std     3870.201484   2451.113971   929.176190   17.640364\n",
       "min       81.000000     72.000000    35.000000    1.000000\n",
       "25%      776.000000    604.000000   242.000000   15.000000\n",
       "50%     1558.000000   1110.000000   434.000000   23.000000\n",
       "75%     3624.000000   2424.000000   902.000000   35.000000\n",
       "max    48094.000000  26330.000000  6392.000000   96.000000"
      ]
     },
     "execution_count": 5,
     "metadata": {},
     "output_type": "execute_result"
    }
   ],
   "source": [
    "College.describe().iloc[:,:4]"
   ]
  }
 ],
 "metadata": {
  "jupytext": {
   "cell_metadata_filter": "-all",
   "formats": "ipynb,md:myst",
   "main_language": "python"
  },
  "kernelspec": {
   "display_name": "islp_test",
   "language": "python",
   "name": "islp_test"
  },
  "language_info": {
   "codemirror_mode": {
    "name": "ipython",
    "version": 3
   },
   "file_extension": ".py",
   "mimetype": "text/x-python",
   "name": "python",
   "nbconvert_exporter": "python",
   "pygments_lexer": "ipython3",
   "version": "3.9.13"
  }
 },
 "nbformat": 4,
 "nbformat_minor": 5
}

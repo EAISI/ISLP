{
 "cells": [
  {
   "cell_type": "markdown",
   "id": "cf2c7042",
   "metadata": {},
   "source": [
    "# Fund Manager Data\n",
    "\n",
    "A simulated data set containing the returns for 2,000 hedge fund\n",
    "managers."
   ]
  },
  {
   "cell_type": "code",
   "execution_count": 1,
   "id": "dcf5fe5d",
   "metadata": {},
   "outputs": [
    {
     "data": {
      "text/plain": [
       "Index(['Manager1', 'Manager2', 'Manager3', 'Manager4', 'Manager5', 'Manager6',\n",
       "       'Manager7', 'Manager8', 'Manager9', 'Manager10',\n",
       "       ...\n",
       "       'Manager1991', 'Manager1992', 'Manager1993', 'Manager1994',\n",
       "       'Manager1995', 'Manager1996', 'Manager1997', 'Manager1998',\n",
       "       'Manager1999', 'Manager2000'],\n",
       "      dtype='object', length=2000)"
      ]
     },
     "execution_count": 1,
     "metadata": {},
     "output_type": "execute_result"
    }
   ],
   "source": [
    "from ISLP import load_data\n",
    "Fund = load_data('Fund')\n",
    "Fund.columns"
   ]
  },
  {
   "cell_type": "code",
   "execution_count": 2,
   "id": "71e59632",
   "metadata": {},
   "outputs": [
    {
     "data": {
      "text/plain": [
       "(50, 2000)"
      ]
     },
     "execution_count": 2,
     "metadata": {},
     "output_type": "execute_result"
    }
   ],
   "source": [
    "Fund.shape"
   ]
  },
  {
   "cell_type": "code",
   "execution_count": 3,
   "id": "f6089648",
   "metadata": {},
   "outputs": [
    {
     "data": {
      "text/plain": [
       "Index(['Manager1', 'Manager2', 'Manager3', 'Manager4', 'Manager5', 'Manager6',\n",
       "       'Manager7', 'Manager8', 'Manager9', 'Manager10',\n",
       "       ...\n",
       "       'Manager1991', 'Manager1992', 'Manager1993', 'Manager1994',\n",
       "       'Manager1995', 'Manager1996', 'Manager1997', 'Manager1998',\n",
       "       'Manager1999', 'Manager2000'],\n",
       "      dtype='object', length=2000)"
      ]
     },
     "execution_count": 3,
     "metadata": {},
     "output_type": "execute_result"
    }
   ],
   "source": [
    "Fund.columns"
   ]
  }
 ],
 "metadata": {
  "jupytext": {
   "cell_metadata_filter": "-all",
   "formats": "ipynb,md:myst",
   "main_language": "python"
  },
  "kernelspec": {
   "display_name": "islp_test",
   "language": "python",
   "name": "islp_test"
  },
  "language_info": {
   "codemirror_mode": {
    "name": "ipython",
    "version": 3
   },
   "file_extension": ".py",
   "mimetype": "text/x-python",
   "name": "python",
   "nbconvert_exporter": "python",
   "pygments_lexer": "ipython3",
   "version": "3.9.13"
  }
 },
 "nbformat": 4,
 "nbformat_minor": 5
}

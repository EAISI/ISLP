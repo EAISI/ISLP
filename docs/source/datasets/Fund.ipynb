{
 "cells": [
  {
   "cell_type": "markdown",
   "id": "cf2c7042",
   "metadata": {},
   "source": [
    "Fund Manager Data\n",
    "\n",
    "Description:\n",
    "\n",
    "     A simulated data set containing the returns for 2,000 hedge fund\n",
    "     managers.\n",
    "\n",
    "Usage:\n",
    "\n",
    "     Fund\n",
    "     \n",
    "Format:\n",
    "\n",
    "     A data frame containing the returns of 2,000 hedge fund managers\n",
    "     over 50 months.\n",
    "\n",
    "Source:\n",
    "\n",
    "     Simulated data."
   ]
  }
 ],
 "metadata": {
  "jupytext": {
   "cell_metadata_filter": "-all",
   "formats": "ipynb,md:myst",
   "main_language": "python"
  }
 },
 "nbformat": 4,
 "nbformat_minor": 5
}

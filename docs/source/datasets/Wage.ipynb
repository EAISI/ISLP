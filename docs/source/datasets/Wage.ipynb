{
 "cells": [
  {
   "cell_type": "markdown",
   "id": "67c7428a",
   "metadata": {},
   "source": [
    "ealth’ A factor with levels ‘1. <=Good’ and ‘2. >=Very Good’\n",
    "          indicating health level of worker\n",
    "\n",
    "     ‘health_ins’ A factor with levels ‘1. Yes’ and ‘2. No’ indicating\n",
    "               whether worker has health insurance\n",
    "\n",
    "     ‘logwage’ Log of workers wage\n",
    "\n",
    "     ‘wage’ Workers raw wage~\n",
    "\n",
    "Source:\n",
    "\n",
    "     Data was manually assembled by Steve Miller, of Inquidia\n",
    "     Consulting (formerly Open BI). From the March 2011 Supplement to\n",
    "     Current Population Survey data.\n",
    "\n",
    "     <https://www.re3data.org/repository/r3d100011860>"
   ]
  }
 ],
 "metadata": {
  "jupytext": {
   "cell_metadata_filter": "-all",
   "formats": "ipynb,md:myst",
   "main_language": "python"
  }
 },
 "nbformat": 4,
 "nbformat_minor": 5
}

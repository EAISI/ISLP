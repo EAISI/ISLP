{
 "cells": [
  {
   "cell_type": "markdown",
   "id": "67c7428a",
   "metadata": {},
   "source": [
    "# Mid-Atlantic Wage Data\n",
    "\n",
    "Wage and other data for a group of 3000 male workers in the\n",
    "Mid-Atlantic region.\n",
    "\n",
    "- `year’ Year that wage information was recorded\n",
    "\n",
    "- `age`: Age of worker\n",
    "\n",
    "- `maritl`: A factor with levels '1. Never Married', '2. Married', '3.\n",
    " '3. Widowed', '4. Divorced' and '5. Separated' indicating marital\n",
    " status\n",
    "\n",
    "- `race`: A factor with levels '1. White', '2. Black', '3. Asian' and\n",
    " '4. Other' indicating race\n",
    "\n",
    "- `education`: A factor with levels '1. < HS Grad', '2. HS Grad', \n",
    " '3. Some College', '4. College Grad' and '5. Advanced Degree'\n",
    " indicating education level\n",
    "\n",
    "- `region`: Region of the country (mid-atlantic only)\n",
    "\n",
    "- `jobclass`: A factor with levels '1. Industrial' and '2.\n",
    " Information' indicating type of job\n",
    "\n",
    "- `health`: A factor with levels '1. <=Good' and '2. >=Very Good'\n",
    " indicating health level of worker\n",
    "\n",
    "- `health_ins`: A factor with levels '1. Yes' and '2. No' indicating\n",
    " whether worker has health insurance\n",
    "\n",
    "- `logwage`: Log of workers wage\n",
    "\n",
    "- `wage`: Workers raw wage\n",
    "\n",
    "## Source\n",
    "\n",
    "Data was manually assembled by Steve Miller, of Inquidia\n",
    "Consulting (formerly Open BI). From the March 2011 Supplement to\n",
    "Current Population Survey data.\n",
    "\n",
    "See also: [re3data.org/repository/r3d100011860](https://www.re3data.org/repository/r3d100011860)"
   ]
  },
  {
   "cell_type": "code",
   "execution_count": 1,
   "id": "9f564d6f",
   "metadata": {},
   "outputs": [
    {
     "data": {
      "text/plain": [
       "Index(['year', 'age', 'maritl', 'race', 'education', 'region', 'jobclass',\n",
       "       'health', 'health_ins', 'logwage', 'wage'],\n",
       "      dtype='object')"
      ]
     },
     "execution_count": 1,
     "metadata": {},
     "output_type": "execute_result"
    }
   ],
   "source": [
    "from ISLP import load_data\n",
    "Wage = load_data('Wage')\n",
    "Wage.columns"
   ]
  },
  {
   "cell_type": "code",
   "execution_count": 2,
   "id": "db1d2a2c",
   "metadata": {},
   "outputs": [
    {
     "data": {
      "text/plain": [
       "(3000, 11)"
      ]
     },
     "execution_count": 2,
     "metadata": {},
     "output_type": "execute_result"
    }
   ],
   "source": [
    "Wage.shape"
   ]
  },
  {
   "cell_type": "code",
   "execution_count": 3,
   "id": "7ec8e0d7",
   "metadata": {},
   "outputs": [
    {
     "data": {
      "text/plain": [
       "Index(['year', 'age', 'maritl', 'race', 'education', 'region', 'jobclass',\n",
       "       'health', 'health_ins', 'logwage', 'wage'],\n",
       "      dtype='object')"
      ]
     },
     "execution_count": 3,
     "metadata": {},
     "output_type": "execute_result"
    }
   ],
   "source": [
    "Wage.columns"
   ]
  },
  {
   "cell_type": "code",
   "execution_count": 4,
   "id": "29fc1ebb",
   "metadata": {},
   "outputs": [
    {
     "data": {
      "text/html": [
       "<div>\n",
       "<style scoped>\n",
       "    .dataframe tbody tr th:only-of-type {\n",
       "        vertical-align: middle;\n",
       "    }\n",
       "\n",
       "    .dataframe tbody tr th {\n",
       "        vertical-align: top;\n",
       "    }\n",
       "\n",
       "    .dataframe thead th {\n",
       "        text-align: right;\n",
       "    }\n",
       "</style>\n",
       "<table border=\"1\" class=\"dataframe\">\n",
       "  <thead>\n",
       "    <tr style=\"text-align: right;\">\n",
       "      <th></th>\n",
       "      <th>year</th>\n",
       "      <th>age</th>\n",
       "      <th>logwage</th>\n",
       "      <th>wage</th>\n",
       "    </tr>\n",
       "  </thead>\n",
       "  <tbody>\n",
       "    <tr>\n",
       "      <th>count</th>\n",
       "      <td>3000.000000</td>\n",
       "      <td>3000.000000</td>\n",
       "      <td>3000.000000</td>\n",
       "      <td>3000.000000</td>\n",
       "    </tr>\n",
       "    <tr>\n",
       "      <th>mean</th>\n",
       "      <td>2005.791000</td>\n",
       "      <td>42.414667</td>\n",
       "      <td>4.653905</td>\n",
       "      <td>111.703608</td>\n",
       "    </tr>\n",
       "    <tr>\n",
       "      <th>std</th>\n",
       "      <td>2.026167</td>\n",
       "      <td>11.542406</td>\n",
       "      <td>0.351753</td>\n",
       "      <td>41.728595</td>\n",
       "    </tr>\n",
       "    <tr>\n",
       "      <th>min</th>\n",
       "      <td>2003.000000</td>\n",
       "      <td>18.000000</td>\n",
       "      <td>3.000000</td>\n",
       "      <td>20.085537</td>\n",
       "    </tr>\n",
       "    <tr>\n",
       "      <th>25%</th>\n",
       "      <td>2004.000000</td>\n",
       "      <td>33.750000</td>\n",
       "      <td>4.447158</td>\n",
       "      <td>85.383940</td>\n",
       "    </tr>\n",
       "    <tr>\n",
       "      <th>50%</th>\n",
       "      <td>2006.000000</td>\n",
       "      <td>42.000000</td>\n",
       "      <td>4.653213</td>\n",
       "      <td>104.921507</td>\n",
       "    </tr>\n",
       "    <tr>\n",
       "      <th>75%</th>\n",
       "      <td>2008.000000</td>\n",
       "      <td>51.000000</td>\n",
       "      <td>4.857332</td>\n",
       "      <td>128.680488</td>\n",
       "    </tr>\n",
       "    <tr>\n",
       "      <th>max</th>\n",
       "      <td>2009.000000</td>\n",
       "      <td>80.000000</td>\n",
       "      <td>5.763128</td>\n",
       "      <td>318.342430</td>\n",
       "    </tr>\n",
       "  </tbody>\n",
       "</table>\n",
       "</div>"
      ],
      "text/plain": [
       "              year          age      logwage         wage\n",
       "count  3000.000000  3000.000000  3000.000000  3000.000000\n",
       "mean   2005.791000    42.414667     4.653905   111.703608\n",
       "std       2.026167    11.542406     0.351753    41.728595\n",
       "min    2003.000000    18.000000     3.000000    20.085537\n",
       "25%    2004.000000    33.750000     4.447158    85.383940\n",
       "50%    2006.000000    42.000000     4.653213   104.921507\n",
       "75%    2008.000000    51.000000     4.857332   128.680488\n",
       "max    2009.000000    80.000000     5.763128   318.342430"
      ]
     },
     "execution_count": 4,
     "metadata": {},
     "output_type": "execute_result"
    }
   ],
   "source": [
    "Wage.describe()"
   ]
  }
 ],
 "metadata": {
  "jupytext": {
   "cell_metadata_filter": "-all",
   "formats": "ipynb,md:myst",
   "main_language": "python"
  },
  "kernelspec": {
   "display_name": "islp_test",
   "language": "python",
   "name": "islp_test"
  },
  "language_info": {
   "codemirror_mode": {
    "name": "ipython",
    "version": 3
   },
   "file_extension": ".py",
   "mimetype": "text/x-python",
   "name": "python",
   "nbconvert_exporter": "python",
   "pygments_lexer": "ipython3",
   "version": "3.9.13"
  }
 },
 "nbformat": 4,
 "nbformat_minor": 5
}

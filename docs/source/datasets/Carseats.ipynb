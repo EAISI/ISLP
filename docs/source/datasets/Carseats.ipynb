{
 "cells": [
  {
   "cell_type": "markdown",
   "id": "c747c481",
   "metadata": {},
   "source": [
    "Sales of Child Car Seats\n",
    "\n",
    "Description:\n",
    "\n",
    "     A simulated data set containing sales of child car seats at 400\n",
    "     different stores.\n",
    "\n",
    "Usage:\n",
    "\n",
    "     Carseats\n",
    "     \n",
    "Format:\n",
    "\n",
    "     A data frame with 400 observations on the following 11 variables.\n",
    "\n",
    "     ‘Sales’ Unit sales (in thousands) at each location\n",
    "\n",
    "     ‘CompPrice’ Price charged by competitor at each location\n",
    "\n",
    "     ‘Income’ Community income level (in thousands of dollars)\n",
    "\n",
    "     ‘Advertising’ Local advertising budget for company at each\n",
    "          location (in thousands of dollars)\n",
    "\n",
    "     ‘Population’ Population size in region (in thousands)\n",
    "\n",
    "     ‘Price’ Price company charges for car seats at each site\n",
    "\n",
    "     ‘ShelveLoc’ A factor with levels ‘Bad’, ‘Good’ and ‘Medium’\n",
    "          indicating the quality of the shelving location for the car\n",
    "          seats at each site\n",
    "\n",
    "     ‘Age’ Average age of the local population\n",
    "\n",
    "     ‘Education’ Education level at each location\n",
    "\n",
    "     ‘Urban’ A factor with levels ‘No’ and ‘Yes’ to indicate whether\n",
    "          the store is in an urban or rural location\n",
    "\n",
    "     ‘US’ A factor with levels ‘No’ and ‘Yes’ to indicate whether the\n",
    "          store is in the US or not\n",
    "\n",
    "Source:\n",
    "\n",
    "     Simulated data"
   ]
  }
 ],
 "metadata": {
  "jupytext": {
   "cell_metadata_filter": "-all",
   "formats": "ipynb,md:myst",
   "main_language": "python"
  }
 },
 "nbformat": 4,
 "nbformat_minor": 5
}

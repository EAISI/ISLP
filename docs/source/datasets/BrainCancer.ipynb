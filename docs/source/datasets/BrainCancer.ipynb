{
 "cells": [
  {
   "cell_type": "markdown",
   "id": "82b0b540",
   "metadata": {},
   "source": [
    "Brain Cancer Data\n",
    "\n",
    "Description:\n",
    "\n",
    "     A data set consisting of survival times for patients diagnosed\n",
    "     with brain cancer.\n",
    "\n",
    "Usage:\n",
    "\n",
    "     BrainCancer\n",
    "     \n",
    "Format:\n",
    "\n",
    "     A data frame with 88 observations and 8 variables:\n",
    "\n",
    "     ‘sex’ Factor with levels \"Female\" and \"Male\"\n",
    "\n",
    "     ‘diagnosis’ Factor with levels \"Meningioma\", \"LG glioma\", \"HG\n",
    "          glioma\", and \"Other\".\n",
    "\n",
    "     ‘loc’ Location factor with levels \"Infratentorial\" and\n",
    "          \"Supratentorial\".\n",
    "\n",
    "     ‘ki’ Karnofsky index.\n",
    "\n",
    "     ‘gtv’ Gross tumor volume, in cubic centimeters.\n",
    "\n",
    "     ‘stereo’ Stereotactic method factor with levels \"SRS\" and \"SRT\".\n",
    "\n",
    "     ‘status’ Whether the patient is still alive at the end of the\n",
    "          study: 0=Yes, 1=No.\n",
    "\n",
    "     ‘time’ Age, in years.\n",
    "\n",
    "Source:\n",
    "\n",
    "     I. Selingerova, H. Dolezelova, I. Horova, S. Katina, and J.\n",
    "     Zelinka. Survival of patients with primary brain tumors:\n",
    "     Comparison of two statistical approaches. PLoS One,\n",
    "     11(2):e0148733, 2016.\n",
    "     <https://www.ncbi.nlm.nih.gov/pmc/articles/PMC4749663/>"
   ]
  }
 ],
 "metadata": {
  "jupytext": {
   "cell_metadata_filter": "-all",
   "formats": "ipynb,md:myst",
   "main_language": "python"
  }
 },
 "nbformat": 4,
 "nbformat_minor": 5
}

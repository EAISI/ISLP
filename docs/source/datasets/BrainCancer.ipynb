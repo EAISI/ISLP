{
 "cells": [
  {
   "cell_type": "markdown",
   "id": "82b0b540",
   "metadata": {},
   "source": [
    "# Brain Cancer Data\n",
    "\n",
    "A data set consisting of survival times for patients diagnosed\n",
    "with brain cancer.\n",
    "     \n",
    "- `sex`: Factor with levels \"Female\" and \"Male\"\n",
    "\n",
    "- `diagnosis`: Factor with levels \"Meningioma\", \"LG glioma\", \"HG glioma\", and \"Other\".\n",
    "\n",
    "- `loc`: Location factor with levels \"Infratentorial\" and \"Supratentorial\".\n",
    "\n",
    "- `ki`: Karnofsky index.\n",
    "\n",
    "- `gtv`: Gross tumor volume, in cubic centimeters.\n",
    "\n",
    "- `stereo`: Stereotactic method factor with levels \"SRS\" and \"SRT\".\n",
    "\n",
    "- `status`: Whether the patient is still alive at the end of the study: 0=Yes, 1=No.\n",
    "\n",
    "- `time`: Survival time, in months\n",
    "\n",
    "## Source\n",
    "\n",
    "- I. Selingerova, H. Dolezelova, I. Horova, S. Katina, and J.\n",
    "     Zelinka. Survival of patients with primary brain tumors:\n",
    "     Comparison of two statistical approaches. PLoS One,\n",
    "     11(2):e0148733, 2016.\n",
    "     [https://www.ncbi.nlm.nih.gov/pmc/articles/PMC4749663/](https://www.ncbi.nlm.nih.gov/pmc/articles/PMC4749663/)"
   ]
  },
  {
   "cell_type": "code",
   "execution_count": 1,
   "id": "b4ef11b1",
   "metadata": {},
   "outputs": [
    {
     "data": {
      "text/plain": [
       "Index(['sex', 'diagnosis', 'loc', 'ki', 'gtv', 'stereo', 'status', 'time'], dtype='object')"
      ]
     },
     "execution_count": 1,
     "metadata": {},
     "output_type": "execute_result"
    }
   ],
   "source": [
    "from ISLP import load_data\n",
    "BrainCancer = load_data('BrainCancer')\n",
    "BrainCancer.columns"
   ]
  },
  {
   "cell_type": "code",
   "execution_count": 2,
   "id": "2c13d0c5",
   "metadata": {},
   "outputs": [
    {
     "data": {
      "text/plain": [
       "(88, 8)"
      ]
     },
     "execution_count": 2,
     "metadata": {},
     "output_type": "execute_result"
    }
   ],
   "source": [
    "BrainCancer.shape"
   ]
  },
  {
   "cell_type": "code",
   "execution_count": 3,
   "id": "0877f6e1",
   "metadata": {},
   "outputs": [
    {
     "data": {
      "text/plain": [
       "Index(['sex', 'diagnosis', 'loc', 'ki', 'gtv', 'stereo', 'status', 'time'], dtype='object')"
      ]
     },
     "execution_count": 3,
     "metadata": {},
     "output_type": "execute_result"
    }
   ],
   "source": [
    "BrainCancer.columns"
   ]
  },
  {
   "cell_type": "code",
   "execution_count": 4,
   "id": "087a0258",
   "metadata": {},
   "outputs": [
    {
     "data": {
      "text/html": [
       "<div>\n",
       "<style scoped>\n",
       "    .dataframe tbody tr th:only-of-type {\n",
       "        vertical-align: middle;\n",
       "    }\n",
       "\n",
       "    .dataframe tbody tr th {\n",
       "        vertical-align: top;\n",
       "    }\n",
       "\n",
       "    .dataframe thead th {\n",
       "        text-align: right;\n",
       "    }\n",
       "</style>\n",
       "<table border=\"1\" class=\"dataframe\">\n",
       "  <thead>\n",
       "    <tr style=\"text-align: right;\">\n",
       "      <th></th>\n",
       "      <th>ki</th>\n",
       "      <th>gtv</th>\n",
       "      <th>status</th>\n",
       "      <th>time</th>\n",
       "    </tr>\n",
       "  </thead>\n",
       "  <tbody>\n",
       "    <tr>\n",
       "      <th>count</th>\n",
       "      <td>88.000000</td>\n",
       "      <td>88.000000</td>\n",
       "      <td>88.000000</td>\n",
       "      <td>88.000000</td>\n",
       "    </tr>\n",
       "    <tr>\n",
       "      <th>mean</th>\n",
       "      <td>81.022727</td>\n",
       "      <td>8.660795</td>\n",
       "      <td>0.397727</td>\n",
       "      <td>27.457500</td>\n",
       "    </tr>\n",
       "    <tr>\n",
       "      <th>std</th>\n",
       "      <td>10.508866</td>\n",
       "      <td>8.657576</td>\n",
       "      <td>0.492233</td>\n",
       "      <td>20.124412</td>\n",
       "    </tr>\n",
       "    <tr>\n",
       "      <th>min</th>\n",
       "      <td>40.000000</td>\n",
       "      <td>0.010000</td>\n",
       "      <td>0.000000</td>\n",
       "      <td>0.070000</td>\n",
       "    </tr>\n",
       "    <tr>\n",
       "      <th>25%</th>\n",
       "      <td>80.000000</td>\n",
       "      <td>2.500000</td>\n",
       "      <td>0.000000</td>\n",
       "      <td>10.392500</td>\n",
       "    </tr>\n",
       "    <tr>\n",
       "      <th>50%</th>\n",
       "      <td>80.000000</td>\n",
       "      <td>6.510000</td>\n",
       "      <td>0.000000</td>\n",
       "      <td>24.030000</td>\n",
       "    </tr>\n",
       "    <tr>\n",
       "      <th>75%</th>\n",
       "      <td>90.000000</td>\n",
       "      <td>12.100000</td>\n",
       "      <td>1.000000</td>\n",
       "      <td>41.597500</td>\n",
       "    </tr>\n",
       "    <tr>\n",
       "      <th>max</th>\n",
       "      <td>100.000000</td>\n",
       "      <td>34.640000</td>\n",
       "      <td>1.000000</td>\n",
       "      <td>82.560000</td>\n",
       "    </tr>\n",
       "  </tbody>\n",
       "</table>\n",
       "</div>"
      ],
      "text/plain": [
       "               ki        gtv     status       time\n",
       "count   88.000000  88.000000  88.000000  88.000000\n",
       "mean    81.022727   8.660795   0.397727  27.457500\n",
       "std     10.508866   8.657576   0.492233  20.124412\n",
       "min     40.000000   0.010000   0.000000   0.070000\n",
       "25%     80.000000   2.500000   0.000000  10.392500\n",
       "50%     80.000000   6.510000   0.000000  24.030000\n",
       "75%     90.000000  12.100000   1.000000  41.597500\n",
       "max    100.000000  34.640000   1.000000  82.560000"
      ]
     },
     "execution_count": 4,
     "metadata": {},
     "output_type": "execute_result"
    }
   ],
   "source": [
    "BrainCancer.describe()"
   ]
  },
  {
   "cell_type": "code",
   "execution_count": 5,
   "id": "1ffd7b0d-a6b9-4a26-8653-0029b4929c4c",
   "metadata": {},
   "outputs": [
    {
     "data": {
      "text/plain": [
       "Meningioma    42\n",
       "HG glioma     22\n",
       "Other         14\n",
       "LG glioma      9\n",
       "Name: diagnosis, dtype: int64"
      ]
     },
     "execution_count": 5,
     "metadata": {},
     "output_type": "execute_result"
    }
   ],
   "source": [
    "BrainCancer['diagnosis'].value_counts()"
   ]
  }
 ],
 "metadata": {
  "jupytext": {
   "cell_metadata_filter": "-all",
   "formats": "ipynb,md:myst",
   "main_language": "python"
  },
  "kernelspec": {
   "display_name": "islp_test",
   "language": "python",
   "name": "islp_test"
  },
  "language_info": {
   "codemirror_mode": {
    "name": "ipython",
    "version": 3
   },
   "file_extension": ".py",
   "mimetype": "text/x-python",
   "name": "python",
   "nbconvert_exporter": "python",
   "pygments_lexer": "ipython3",
   "version": "3.9.13"
  }
 },
 "nbformat": 4,
 "nbformat_minor": 5
}

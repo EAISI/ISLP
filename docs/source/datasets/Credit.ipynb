{
 "cells": [
  {
   "cell_type": "markdown",
   "id": "7d742c83",
   "metadata": {},
   "source": [
    "Credit Card Balance Data\n",
    "\n",
    "Description:\n",
    "\n",
    "     A simulated data set containing information on 400 customers.\n",
    "\n",
    "Usage:\n",
    "\n",
    "     Credit\n",
    "     \n",
    "Format:\n",
    "\n",
    "     A data frame with 400 observations on a number of variables.\n",
    "\n",
    "     ‘Income’ Income in $1,000's\n",
    "\n",
    "     ‘Limit’ Credit limit\n",
    "\n",
    "     ‘Rating’ Credit rating\n",
    "\n",
    "     ‘Cards’ Number of credit cards\n",
    "\n",
    "     ‘Age’ Age in years\n",
    "\n",
    "     ‘Education’ Education in years\n",
    "\n",
    "     ‘Own’ A factor with levels ‘No’ and ‘Yes’ indicating whether the\n",
    "          individual owns a home\n",
    "\n",
    "     ‘Student’ A factor with levels ‘No’ and ‘Yes’ indicating whether\n",
    "          the individual is a student\n",
    "\n",
    "     ‘Married’ A factor with levels ‘No’ and ‘Yes’ indicating whether\n",
    "          the individual is married\n",
    "\n",
    "     ‘Region’ A factor with levels ‘East’, ‘South’, and ‘West’\n",
    "          indicating the individual's geographical location\n",
    "\n",
    "     ‘Balance’ Average credit card balance in $.\n",
    "\n",
    "Source:\n",
    "\n",
    "     Simulated data. Many thanks to Albert Kim for helpful suggestions,\n",
    "     and for supplying a draft of the man documentation page on Oct 19,\n",
    "     2017."
   ]
  }
 ],
 "metadata": {
  "jupytext": {
   "cell_metadata_filter": "-all",
   "formats": "ipynb,md:myst",
   "main_language": "python"
  }
 },
 "nbformat": 4,
 "nbformat_minor": 5
}

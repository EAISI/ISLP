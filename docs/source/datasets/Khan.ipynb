{
 "cells": [
  {
   "cell_type": "markdown",
   "id": "bd1031db",
   "metadata": {},
   "source": [
    "Khan Gene Data\n",
    "\n",
    "Description:\n",
    "\n",
    "     The data consists of a number of tissue samples corresponding to\n",
    "     four distinct types of small round blue cell tumors. For each\n",
    "     tissue sample, 2308 gene expression measurements are available.\n",
    "\n",
    "Usage:\n",
    "\n",
    "     Khan\n",
    "     \n",
    "Format:\n",
    "\n",
    "     The format is a list containing four components: ‘xtrain’,\n",
    "     ‘xtest’, ‘ytrain’, and ‘ytest’. ‘xtrain’ contains the 2308 gene\n",
    "     expression values for 63 subjects and ‘ytrain’ records the\n",
    "     corresponding tumor type. ‘ytrain’ and ‘ytest’ contain the\n",
    "     corresponding testing sample information for a further 20\n",
    "     subjects.\n",
    "\n",
    "Source:\n",
    "\n",
    "     This data were originally reported in:\n",
    "\n",
    "     Khan J, Wei J, Ringner M, Saal L, Ladanyi M, Westermann F,\n",
    "     Berthold F, Schwab M, Antonescu C, Peterson C, and Meltzer P.\n",
    "     Classification and diagnostic prediction of cancers using gene\n",
    "     expression profiling and artificial neural networks. Nature\n",
    "     Medicine, v.7, pp.673-679, 2001.\n",
    "\n",
    "     The data were also used in:\n",
    "\n",
    "     Tibshirani RJ, Hastie T, Narasimhan B, and G. Chu. Diagnosis of\n",
    "     Multiple Cancer Types by Shrunken Centroids of Gene Expression.\n",
    "     Proceedings of the National Academy of Sciences of the United\n",
    "     States of America, v.99(10), pp.6567-6572, May 14, 2002."
   ]
  }
 ],
 "metadata": {
  "jupytext": {
   "cell_metadata_filter": "-all",
   "formats": "ipynb,md:myst",
   "main_language": "python"
  }
 },
 "nbformat": 4,
 "nbformat_minor": 5
}

{
 "cells": [
  {
   "cell_type": "markdown",
   "id": "bd1031db",
   "metadata": {},
   "source": [
    "# Khan Gene Data\n",
    "\n",
    "The data consists of a number of tissue samples corresponding to\n",
    "four distinct types of small round blue cell tumors. For each\n",
    "tissue sample, 2308 gene expression measurements are available.\n",
    "\n",
    "     \n",
    "## Format\n",
    "\n",
    "The format is a dict containing four components: `xtrain`,\n",
    "`xtest`, `ytrain`, and `ytest`. `xtrain` contains the 2308 gene\n",
    "expression values for 63 subjects and `ytrain` records the\n",
    "corresponding tumor type. `ytrain` and `ytest` contain the\n",
    "corresponding testing sample information for a further 20\n",
    "subjects.\n",
    "\n",
    "## Notes\n",
    "\n",
    "This data were originally reported in:\n",
    "\n",
    "- Khan J, Wei J, Ringner M, Saal L, Ladanyi M, Westermann F,\n",
    "Berthold F, Schwab M, Antonescu C, Peterson C, and Meltzer P.\n",
    "Classification and diagnostic prediction of cancers using gene\n",
    "expression profiling and artificial neural networks. Nature\n",
    "Medicine, v.7, pp.673-679, 2001.\n",
    "\n",
    "The data were also used in:\n",
    "\n",
    "-     Tibshirani RJ, Hastie T, Narasimhan B, and G. Chu. Diagnosis of\n",
    "Multiple Cancer Types by Shrunken Centroids of Gene Expression.\n",
    "Proceedings of the National Academy of Sciences of the United\n",
    "States of America, v.99(10), pp.6567-6572, May 14, 2002."
   ]
  },
  {
   "cell_type": "code",
   "execution_count": 3,
   "id": "6103ebf3-e0f8-4178-8986-2fd7e2ed7815",
   "metadata": {},
   "outputs": [
    {
     "data": {
      "text/plain": [
       "dict_keys(['xtest', 'xtrain', 'ytest', 'ytrain'])"
      ]
     },
     "execution_count": 3,
     "metadata": {},
     "output_type": "execute_result"
    }
   ],
   "source": [
    "from ISLP import load_data\n",
    "Khan = load_data('Khan')\n",
    "Khan.keys()"
   ]
  },
  {
   "cell_type": "code",
   "execution_count": 2,
   "id": "fdfa8be1-e46c-4b65-be4f-455c5b009bf0",
   "metadata": {},
   "outputs": [
    {
     "name": "stdout",
     "output_type": "stream",
     "text": [
      "(20, 2308)\n",
      "(63, 2308)\n"
     ]
    }
   ],
   "source": [
    "for X in ['xtest', 'xtrain']:\n",
    "    print(Khan[X].shape)"
   ]
  },
  {
   "cell_type": "code",
   "execution_count": 5,
   "id": "c90393c6-2353-48ef-b035-e14018d9bfc7",
   "metadata": {},
   "outputs": [
    {
     "name": "stdout",
     "output_type": "stream",
     "text": [
      "3    6\n",
      "2    6\n",
      "4    5\n",
      "1    3\n",
      "Name: Y, dtype: int64\n",
      "2    23\n",
      "4    20\n",
      "3    12\n",
      "1     8\n",
      "Name: Y, dtype: int64\n"
     ]
    }
   ],
   "source": [
    "for Y in ['ytest', 'ytrain']:\n",
    "    print(Khan[Y].value_counts())"
   ]
  }
 ],
 "metadata": {
  "jupytext": {
   "cell_metadata_filter": "-all",
   "formats": "ipynb,md:myst",
   "main_language": "python"
  },
  "kernelspec": {
   "display_name": "islp_test",
   "language": "python",
   "name": "islp_test"
  },
  "language_info": {
   "codemirror_mode": {
    "name": "ipython",
    "version": 3
   },
   "file_extension": ".py",
   "mimetype": "text/x-python",
   "name": "python",
   "nbconvert_exporter": "python",
   "pygments_lexer": "ipython3",
   "version": "3.9.13"
  }
 },
 "nbformat": 4,
 "nbformat_minor": 5
}

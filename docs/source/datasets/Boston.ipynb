{
 "cells": [
  {
   "cell_type": "markdown",
   "id": "4979024e",
   "metadata": {},
   "source": [
    "# Boston Data\n",
    "\n",
    "A data set containing housing values in 506 suburbs of Boston.\n",
    "     \n",
    "- `crim`: per capita crime rate by town.\n",
    "\n",
    "- `zn`: proportion of residential land zoned for lots over 25,000\n",
    "          sq.ft.\n",
    "\n",
    "- `indus`: proportion of non-retail business acres per town.\n",
    "\n",
    "- `chas`: Charles River dummy variable (= 1 if tract bounds river; 0\n",
    "          otherwise).\n",
    "\n",
    "- `nox`: nitrogen oxides concentration (parts per 10 million).\n",
    "\n",
    "- `rm`: average number of rooms per dwelling.\n",
    "\n",
    "- `age`: proportion of owner-occupied units built prior to 1940.\n",
    "\n",
    "- `dis`: weighted mean of distances to five Boston employment\n",
    "          centres.\n",
    "\n",
    "- `rad`: index of accessibility to radial highways.\n",
    "\n",
    "- `tax`: full-value property-tax rate per $10,000.\n",
    "\n",
    "- `ptratio`: pupil-teacher ratio by town.\n",
    "\n",
    "- `lstat`: lower status of the population (percent).\n",
    "\n",
    "- `medv`: median value of owner-occupied homes in $1000s.\n",
    "\n",
    "## Notes \n",
    "\n",
    "This dataset was obtained from, and is slightly modified from, the\n",
    "Boston dataset that is part of the `R` library `MASS`.  References are\n",
    "available in the MASS library."
   ]
  },
  {
   "cell_type": "code",
   "execution_count": null,
   "id": "9d8c2e4c",
   "metadata": {},
   "outputs": [],
   "source": [
    "from ISLP import load_data\n",
    "Boston = load_data('Boston')\n",
    "Boston.columns"
   ]
  },
  {
   "cell_type": "code",
   "execution_count": null,
   "id": "7c36f515",
   "metadata": {},
   "outputs": [],
   "source": [
    "Boston.shape"
   ]
  },
  {
   "cell_type": "code",
   "execution_count": null,
   "id": "bafcc3d5",
   "metadata": {},
   "outputs": [],
   "source": [
    "Boston.columns"
   ]
  },
  {
   "cell_type": "code",
   "execution_count": null,
   "id": "25dca252",
   "metadata": {},
   "outputs": [],
   "source": [
    "Boston.describe()"
   ]
  }
 ],
 "metadata": {
  "jupytext": {
   "cell_metadata_filter": "-all",
   "formats": "ipynb,md:myst",
   "main_language": "python"
  }
 },
 "nbformat": 4,
 "nbformat_minor": 5
}

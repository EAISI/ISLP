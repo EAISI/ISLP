{
 "cells": [
  {
   "cell_type": "markdown",
   "id": "a6301a55",
   "metadata": {},
   "source": [
    "# Orange Juice Data\n",
    "\n",
    "The data contains 1070 purchases where the customer either\n",
    "purchased Citrus Hill or Minute Maid Orange Juice. A number of\n",
    "characteristics of the customer and product are recorded.\n",
    "\n",
    "     \n",
    "- `Purchase`: A factor with levels 'CH' and 'MM' indicating whether\n",
    "the customer purchased Citrus Hill or Minute Maid Orange\n",
    "Juice\n",
    "\n",
    "- `WeekofPurchase`: Week of purchase\n",
    "\n",
    "- `StoreID`: Store ID\n",
    "\n",
    "- `PriceCH`: Price charged for CH\n",
    "\n",
    "- `PriceMM`: Price charged for MM\n",
    "\n",
    "- `DiscCH`: Discount offered for CH\n",
    "\n",
    "- `DiscMM`: Discount offered for MM\n",
    "\n",
    "- `SpecialCH`: Indicator of special on CH\n",
    "\n",
    "- `SpecialMM`: Indicator of special on MM\n",
    "\n",
    "- `LoyalCH`: Customer brand loyalty for CH\n",
    "\n",
    "- `SalePriceMM`: Sale price for MM\n",
    "\n",
    "- `SalePriceCH`: Sale price for CH\n",
    "\n",
    "- `PriceDiff`: Sale price of MM less sale price of CH\n",
    "\n",
    "- `Store7`: A factor with levels 'No' and 'Yes' indicating whether\n",
    "the sale is at Store 7\n",
    "\n",
    "- `PctDiscMM`: Percentage discount for MM\n",
    "\n",
    "- `PctDiscCH`: Percentage discount for CH\n",
    "\n",
    "- `ListPriceDiff`: List price of MM less list price of CH\n",
    "\n",
    "- `STORE`: Which of 5 possible stores the sale occured at\n",
    "\n",
    "## Source\n",
    "\n",
    "Stine, Robert A., Foster, Dean P., Waterman, Richard P. Business\n",
    "Analysis Using Regression (1998). Published by Springer."
   ]
  },
  {
   "cell_type": "code",
   "execution_count": 1,
   "id": "2d61bc9b",
   "metadata": {},
   "outputs": [
    {
     "data": {
      "text/plain": [
       "Index(['Purchase', 'WeekofPurchase', 'StoreID', 'PriceCH', 'PriceMM', 'DiscCH',\n",
       "       'DiscMM', 'SpecialCH', 'SpecialMM', 'LoyalCH', 'SalePriceMM',\n",
       "       'SalePriceCH', 'PriceDiff', 'Store7', 'PctDiscMM', 'PctDiscCH',\n",
       "       'ListPriceDiff', 'STORE'],\n",
       "      dtype='object')"
      ]
     },
     "execution_count": 1,
     "metadata": {},
     "output_type": "execute_result"
    }
   ],
   "source": [
    "from ISLP import load_data\n",
    "OJ = load_data('OJ')\n",
    "OJ.columns"
   ]
  },
  {
   "cell_type": "code",
   "execution_count": 2,
   "id": "d3488991",
   "metadata": {},
   "outputs": [
    {
     "data": {
      "text/plain": [
       "(1070, 18)"
      ]
     },
     "execution_count": 2,
     "metadata": {},
     "output_type": "execute_result"
    }
   ],
   "source": [
    "OJ.shape"
   ]
  },
  {
   "cell_type": "code",
   "execution_count": 3,
   "id": "084f079d",
   "metadata": {},
   "outputs": [
    {
     "data": {
      "text/plain": [
       "Index(['Purchase', 'WeekofPurchase', 'StoreID', 'PriceCH', 'PriceMM', 'DiscCH',\n",
       "       'DiscMM', 'SpecialCH', 'SpecialMM', 'LoyalCH', 'SalePriceMM',\n",
       "       'SalePriceCH', 'PriceDiff', 'Store7', 'PctDiscMM', 'PctDiscCH',\n",
       "       'ListPriceDiff', 'STORE'],\n",
       "      dtype='object')"
      ]
     },
     "execution_count": 3,
     "metadata": {},
     "output_type": "execute_result"
    }
   ],
   "source": [
    "OJ.columns"
   ]
  },
  {
   "cell_type": "code",
   "execution_count": 5,
   "id": "af05fbbd",
   "metadata": {},
   "outputs": [
    {
     "data": {
      "text/html": [
       "<div>\n",
       "<style scoped>\n",
       "    .dataframe tbody tr th:only-of-type {\n",
       "        vertical-align: middle;\n",
       "    }\n",
       "\n",
       "    .dataframe tbody tr th {\n",
       "        vertical-align: top;\n",
       "    }\n",
       "\n",
       "    .dataframe thead th {\n",
       "        text-align: right;\n",
       "    }\n",
       "</style>\n",
       "<table border=\"1\" class=\"dataframe\">\n",
       "  <thead>\n",
       "    <tr style=\"text-align: right;\">\n",
       "      <th></th>\n",
       "      <th>WeekofPurchase</th>\n",
       "      <th>StoreID</th>\n",
       "      <th>PriceCH</th>\n",
       "      <th>PriceMM</th>\n",
       "    </tr>\n",
       "  </thead>\n",
       "  <tbody>\n",
       "    <tr>\n",
       "      <th>count</th>\n",
       "      <td>1070.000000</td>\n",
       "      <td>1070.000000</td>\n",
       "      <td>1070.000000</td>\n",
       "      <td>1070.000000</td>\n",
       "    </tr>\n",
       "    <tr>\n",
       "      <th>mean</th>\n",
       "      <td>254.381308</td>\n",
       "      <td>3.959813</td>\n",
       "      <td>1.867421</td>\n",
       "      <td>2.085411</td>\n",
       "    </tr>\n",
       "    <tr>\n",
       "      <th>std</th>\n",
       "      <td>15.558286</td>\n",
       "      <td>2.308984</td>\n",
       "      <td>0.101970</td>\n",
       "      <td>0.134386</td>\n",
       "    </tr>\n",
       "    <tr>\n",
       "      <th>min</th>\n",
       "      <td>227.000000</td>\n",
       "      <td>1.000000</td>\n",
       "      <td>1.690000</td>\n",
       "      <td>1.690000</td>\n",
       "    </tr>\n",
       "    <tr>\n",
       "      <th>25%</th>\n",
       "      <td>240.000000</td>\n",
       "      <td>2.000000</td>\n",
       "      <td>1.790000</td>\n",
       "      <td>1.990000</td>\n",
       "    </tr>\n",
       "    <tr>\n",
       "      <th>50%</th>\n",
       "      <td>257.000000</td>\n",
       "      <td>3.000000</td>\n",
       "      <td>1.860000</td>\n",
       "      <td>2.090000</td>\n",
       "    </tr>\n",
       "    <tr>\n",
       "      <th>75%</th>\n",
       "      <td>268.000000</td>\n",
       "      <td>7.000000</td>\n",
       "      <td>1.990000</td>\n",
       "      <td>2.180000</td>\n",
       "    </tr>\n",
       "    <tr>\n",
       "      <th>max</th>\n",
       "      <td>278.000000</td>\n",
       "      <td>7.000000</td>\n",
       "      <td>2.090000</td>\n",
       "      <td>2.290000</td>\n",
       "    </tr>\n",
       "  </tbody>\n",
       "</table>\n",
       "</div>"
      ],
      "text/plain": [
       "       WeekofPurchase      StoreID      PriceCH      PriceMM\n",
       "count     1070.000000  1070.000000  1070.000000  1070.000000\n",
       "mean       254.381308     3.959813     1.867421     2.085411\n",
       "std         15.558286     2.308984     0.101970     0.134386\n",
       "min        227.000000     1.000000     1.690000     1.690000\n",
       "25%        240.000000     2.000000     1.790000     1.990000\n",
       "50%        257.000000     3.000000     1.860000     2.090000\n",
       "75%        268.000000     7.000000     1.990000     2.180000\n",
       "max        278.000000     7.000000     2.090000     2.290000"
      ]
     },
     "execution_count": 5,
     "metadata": {},
     "output_type": "execute_result"
    }
   ],
   "source": [
    "OJ.describe().iloc[:,:4]"
   ]
  }
 ],
 "metadata": {
  "jupytext": {
   "cell_metadata_filter": "-all",
   "formats": "ipynb,md:myst",
   "main_language": "python"
  },
  "kernelspec": {
   "display_name": "",
   "name": ""
  },
  "language_info": {
   "name": ""
  }
 },
 "nbformat": 4,
 "nbformat_minor": 5
}

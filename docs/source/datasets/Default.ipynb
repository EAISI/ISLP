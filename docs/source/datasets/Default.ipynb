{
 "cells": [
  {
   "cell_type": "markdown",
   "id": "e43dc418",
   "metadata": {},
   "source": [
    "Credit Card Default Data\n",
    "\n",
    "Description:\n",
    "\n",
    "     A simulated data set containing information on ten thousand\n",
    "     customers. The aim here is to predict which customers will default\n",
    "     on their credit card debt.\n",
    "\n",
    "Usage:\n",
    "\n",
    "     Default\n",
    "     \n",
    "Format:\n",
    "\n",
    "     A data frame with 10000 observations on the following 4 variables.\n",
    "\n",
    "     ‘default’ A factor with levels ‘No’ and ‘Yes’ indicating whether\n",
    "          the customer defaulted on their debt\n",
    "\n",
    "     ‘student’ A factor with levels ‘No’ and ‘Yes’ indicating whether\n",
    "          the customer is a student\n",
    "\n",
    "     ‘balance’ The average balance that the customer has remaining on\n",
    "          their credit card after making their monthly payment\n",
    "\n",
    "     ‘income’ Income of customer\n",
    "\n",
    "Source:\n",
    "\n",
    "     Simulated data"
   ]
  }
 ],
 "metadata": {
  "jupytext": {
   "cell_metadata_filter": "-all",
   "formats": "ipynb,md:myst",
   "main_language": "python"
  }
 },
 "nbformat": 4,
 "nbformat_minor": 5
}

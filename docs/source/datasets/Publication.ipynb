{
 "cells": [
  {
   "cell_type": "markdown",
   "id": "72a5a306",
   "metadata": {},
   "source": [
    "Time-to-Publication Data\n",
    "\n",
    "Description:\n",
    "\n",
    "     Publication times for 244 clinical trials funded by the National\n",
    "     Heart, Lung, and Blood Institute.\n",
    "\n",
    "Usage:\n",
    "\n",
    "     Publication\n",
    "     \n",
    "Format:\n",
    "\n",
    "     A data frame with 244 observations, each representing a clinical\n",
    "     trial, and 9 variables:\n",
    "\n",
    "     ‘posres’ Did the trial produce a positive (significant) result?\n",
    "          1=Yes, 0=No.\n",
    "\n",
    "     ‘multi’ Did the trial involve multiple centers? 1=Yes, 0=No.\n",
    "\n",
    "     ‘clinend’ Did the trial focus on a clinical endpoint? 1=Yes, 0=No.\n",
    "\n",
    "     ‘mech’ Funding mechanism within National Institute of Health: a\n",
    "          qualitative variable.\n",
    "\n",
    "     ‘sampsize’ Sample size for the trial.\n",
    "\n",
    "     ‘budget’ Budget of the trial, in millions of dollars.\n",
    "\n",
    "     ‘impact’ Impact of the trial; this is related to the number of\n",
    "          publications.\n",
    "\n",
    "     ‘time’ Time to publication, in months.\n",
    "\n",
    "     ‘status’ Whether or not the trial was published at ‘time’:\n",
    "          1=Published, 0=Not yet published.\n",
    "\n",
    "Source:\n",
    "\n",
    "     Gordon, Taddei-Peters, Mascette, Antman, Kaufmann, and Lauer.\n",
    "     Publication of trials funded by the National Heart, Lung, and\n",
    "     Blood Institute.  New England Journal of Medicine,\n",
    "     369(20):1926-1934, 2013.\n",
    ":"
   ]
  }
 ],
 "metadata": {
  "jupytext": {
   "cell_metadata_filter": "-all",
   "formats": "ipynb,md:myst",
   "main_language": "python"
  }
 },
 "nbformat": 4,
 "nbformat_minor": 5
}

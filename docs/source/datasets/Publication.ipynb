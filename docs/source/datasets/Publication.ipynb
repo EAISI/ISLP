{
 "cells": [
  {
   "cell_type": "markdown",
   "id": "72a5a306",
   "metadata": {},
   "source": [
    "# Time-to-Publication Data\n",
    "\n",
    "Publication times for 244 clinical trials funded by the National\n",
    "Heart, Lung, and Blood Institute.\n",
    "     \n",
    "\n",
    "- `posres`: Did the trial produce a positive (significant) result?\n",
    "  1=Yes, 0=No.\n",
    "\n",
    "- `multi`: Did the trial involve multiple centers? 1=Yes, 0=No.\n",
    "\n",
    "- `clinend`: Did the trial focus on a clinical endpoint? 1=Yes, 0=No.\n",
    "\n",
    "- `mech`: Funding mechanism within National Institute of Health: a\n",
    "  qualitative variable.\n",
    "\n",
    "- `sampsize`: Sample size for the trial.\n",
    "\n",
    "- `budget`: Budget of the trial, in millions of dollars.\n",
    "\n",
    "- `impact`: Impact of the trial; this is related to the number of\n",
    "  publications.\n",
    "\n",
    "- `time`: Time to publication, in months.\n",
    "\n",
    "- `status`: Whether or not the trial was published at `time`:\n",
    "  1=Published, 0=Not yet published.\n",
    "\n",
    "## Source\n",
    "\n",
    "- Gordon, Taddei-Peters, Mascette, Antman, Kaufmann, and Lauer.\n",
    "Publication of trials funded by the National Heart, Lung, and\n",
    "Blood Institute.  New England Journal of Medicine,\n",
    "369(20):1926-1934, 2013."
   ]
  },
  {
   "cell_type": "code",
   "execution_count": 1,
   "id": "03786618",
   "metadata": {},
   "outputs": [
    {
     "data": {
      "text/plain": [
       "Index(['posres', 'multi', 'clinend', 'mech', 'sampsize', 'budget', 'impact',\n",
       "       'time', 'status'],\n",
       "      dtype='object')"
      ]
     },
     "execution_count": 1,
     "metadata": {},
     "output_type": "execute_result"
    }
   ],
   "source": [
    "from ISLP import load_data\n",
    "Publication = load_data('Publication')\n",
    "Publication.columns"
   ]
  },
  {
   "cell_type": "code",
   "execution_count": 2,
   "id": "ad298f79",
   "metadata": {},
   "outputs": [
    {
     "data": {
      "text/plain": [
       "(244, 9)"
      ]
     },
     "execution_count": 2,
     "metadata": {},
     "output_type": "execute_result"
    }
   ],
   "source": [
    "Publication.shape"
   ]
  },
  {
   "cell_type": "code",
   "execution_count": 3,
   "id": "8a0ce51d",
   "metadata": {},
   "outputs": [
    {
     "data": {
      "text/plain": [
       "Index(['posres', 'multi', 'clinend', 'mech', 'sampsize', 'budget', 'impact',\n",
       "       'time', 'status'],\n",
       "      dtype='object')"
      ]
     },
     "execution_count": 3,
     "metadata": {},
     "output_type": "execute_result"
    }
   ],
   "source": [
    "Publication.columns"
   ]
  },
  {
   "cell_type": "code",
   "execution_count": 4,
   "id": "fc65dabf",
   "metadata": {},
   "outputs": [
    {
     "data": {
      "text/html": [
       "<div>\n",
       "<style scoped>\n",
       "    .dataframe tbody tr th:only-of-type {\n",
       "        vertical-align: middle;\n",
       "    }\n",
       "\n",
       "    .dataframe tbody tr th {\n",
       "        vertical-align: top;\n",
       "    }\n",
       "\n",
       "    .dataframe thead th {\n",
       "        text-align: right;\n",
       "    }\n",
       "</style>\n",
       "<table border=\"1\" class=\"dataframe\">\n",
       "  <thead>\n",
       "    <tr style=\"text-align: right;\">\n",
       "      <th></th>\n",
       "      <th>posres</th>\n",
       "      <th>multi</th>\n",
       "      <th>clinend</th>\n",
       "      <th>sampsize</th>\n",
       "    </tr>\n",
       "  </thead>\n",
       "  <tbody>\n",
       "    <tr>\n",
       "      <th>count</th>\n",
       "      <td>244.000000</td>\n",
       "      <td>244.000000</td>\n",
       "      <td>244.000000</td>\n",
       "      <td>244.000000</td>\n",
       "    </tr>\n",
       "    <tr>\n",
       "      <th>mean</th>\n",
       "      <td>0.401639</td>\n",
       "      <td>0.151639</td>\n",
       "      <td>0.184426</td>\n",
       "      <td>2000.573770</td>\n",
       "    </tr>\n",
       "    <tr>\n",
       "      <th>std</th>\n",
       "      <td>0.491237</td>\n",
       "      <td>0.359408</td>\n",
       "      <td>0.388629</td>\n",
       "      <td>6206.057536</td>\n",
       "    </tr>\n",
       "    <tr>\n",
       "      <th>min</th>\n",
       "      <td>0.000000</td>\n",
       "      <td>0.000000</td>\n",
       "      <td>0.000000</td>\n",
       "      <td>18.000000</td>\n",
       "    </tr>\n",
       "    <tr>\n",
       "      <th>25%</th>\n",
       "      <td>0.000000</td>\n",
       "      <td>0.000000</td>\n",
       "      <td>0.000000</td>\n",
       "      <td>150.000000</td>\n",
       "    </tr>\n",
       "    <tr>\n",
       "      <th>50%</th>\n",
       "      <td>0.000000</td>\n",
       "      <td>0.000000</td>\n",
       "      <td>0.000000</td>\n",
       "      <td>300.000000</td>\n",
       "    </tr>\n",
       "    <tr>\n",
       "      <th>75%</th>\n",
       "      <td>1.000000</td>\n",
       "      <td>0.000000</td>\n",
       "      <td>0.000000</td>\n",
       "      <td>810.250000</td>\n",
       "    </tr>\n",
       "    <tr>\n",
       "      <th>max</th>\n",
       "      <td>1.000000</td>\n",
       "      <td>1.000000</td>\n",
       "      <td>1.000000</td>\n",
       "      <td>48835.000000</td>\n",
       "    </tr>\n",
       "  </tbody>\n",
       "</table>\n",
       "</div>"
      ],
      "text/plain": [
       "           posres       multi     clinend      sampsize\n",
       "count  244.000000  244.000000  244.000000    244.000000\n",
       "mean     0.401639    0.151639    0.184426   2000.573770\n",
       "std      0.491237    0.359408    0.388629   6206.057536\n",
       "min      0.000000    0.000000    0.000000     18.000000\n",
       "25%      0.000000    0.000000    0.000000    150.000000\n",
       "50%      0.000000    0.000000    0.000000    300.000000\n",
       "75%      1.000000    0.000000    0.000000    810.250000\n",
       "max      1.000000    1.000000    1.000000  48835.000000"
      ]
     },
     "execution_count": 4,
     "metadata": {},
     "output_type": "execute_result"
    }
   ],
   "source": [
    "Publication.describe().iloc[:,:4]"
   ]
  }
 ],
 "metadata": {
  "jupytext": {
   "cell_metadata_filter": "-all",
   "formats": "ipynb,md:myst",
   "main_language": "python"
  },
  "kernelspec": {
   "display_name": "islp_test",
   "language": "python",
   "name": "islp_test"
  },
  "language_info": {
   "codemirror_mode": {
    "name": "ipython",
    "version": 3
   },
   "file_extension": ".py",
   "mimetype": "text/x-python",
   "name": "python",
   "nbconvert_exporter": "python",
   "pygments_lexer": "ipython3",
   "version": "3.9.13"
  }
 },
 "nbformat": 4,
 "nbformat_minor": 5
}

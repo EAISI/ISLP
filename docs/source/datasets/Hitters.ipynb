{
 "cells": [
  {
   "cell_type": "markdown",
   "id": "40a2827d",
   "metadata": {},
   "source": [
    "# Baseball Data\n",
    "\n",
    "Major League Baseball Data from the 1986 and 1987 seasons.\n",
    "\n",
    "- `AtBat`: Number of times at bat in 1986\n",
    "\n",
    "- `Hits`: Number of hits in 1986\n",
    "\n",
    "- `HmRun`: Number of home runs in 1986\n",
    "\n",
    "- `Runs`: Number of runs in 1986\n",
    "\n",
    "- `RBI`: Number of runs batted in in 1986\n",
    "\n",
    "- `Walks`: Number of walks in 1986\n",
    "\n",
    "- `Years`: Number of years in the major leagues\n",
    "\n",
    "- `CAtBat`: Number of times at bat during his career\n",
    "\n",
    "- `CHits`: Number of hits during his career\n",
    "\n",
    "- `CHmRun`: Number of home runs during his career\n",
    "\n",
    "- `CRuns`: Number of runs during his career\n",
    "\n",
    "- `CRBI`: Number of runs batted in during his career\n",
    "\n",
    "- `CWalks`: Number of walks during his career\n",
    "\n",
    "- `League`: A factor with levels A and N indicating player’s league at the end of 1986\n",
    "\n",
    "- `Division`: A factor with levels E and W indicating player’s division at the end of 1986\n",
    "\n",
    "- `PutOuts`: Number of put outs in 1986\n",
    "\n",
    "- `Assists`: Number of assists in 1986\n",
    "\n",
    "- `Errors`: Number of errors in 1986\n",
    "\n",
    "- `Salary`: 1987 annual salary on opening day in thousands of dollars\n",
    "\n",
    "- `NewLeague`: A factor with levels A and N indicating player’s league at the beginning of 1987\n",
    "\n",
    "## Notes\n",
    "\n",
    "This dataset was taken from the StatLib library which is maintained at\n",
    "Carnegie Mellon University. This is part of the data that was\n",
    "used in the 1988 ASA Graphics Section Poster Session. The salary\n",
    "data were originally from Sports Illustrated, April 20, 1987. The\n",
    "1986 and career statistics were obtained from The 1987 Baseball\n",
    "Encyclopedia Update published by Collier Books, Macmillan\n",
    "Publishing Company, New York."
   ]
  },
  {
   "cell_type": "code",
   "execution_count": 1,
   "id": "b20bb154",
   "metadata": {},
   "outputs": [
    {
     "data": {
      "text/plain": [
       "Index(['AtBat', 'Hits', 'HmRun', 'Runs', 'RBI', 'Walks', 'Years', 'CAtBat',\n",
       "       'CHits', 'CHmRun', 'CRuns', 'CRBI', 'CWalks', 'League', 'Division',\n",
       "       'PutOuts', 'Assists', 'Errors', 'Salary', 'NewLeague'],\n",
       "      dtype='object')"
      ]
     },
     "execution_count": 1,
     "metadata": {},
     "output_type": "execute_result"
    }
   ],
   "source": [
    "from ISLP import load_data\n",
    "Hitters = load_data('Hitters')\n",
    "Hitters.columns"
   ]
  },
  {
   "cell_type": "code",
   "execution_count": 2,
   "id": "d2046e2d",
   "metadata": {},
   "outputs": [
    {
     "data": {
      "text/plain": [
       "(322, 20)"
      ]
     },
     "execution_count": 2,
     "metadata": {},
     "output_type": "execute_result"
    }
   ],
   "source": [
    "Hitters.shape"
   ]
  },
  {
   "cell_type": "code",
   "execution_count": 3,
   "id": "4f62bdd0",
   "metadata": {},
   "outputs": [
    {
     "data": {
      "text/plain": [
       "Index(['AtBat', 'Hits', 'HmRun', 'Runs', 'RBI', 'Walks', 'Years', 'CAtBat',\n",
       "       'CHits', 'CHmRun', 'CRuns', 'CRBI', 'CWalks', 'League', 'Division',\n",
       "       'PutOuts', 'Assists', 'Errors', 'Salary', 'NewLeague'],\n",
       "      dtype='object')"
      ]
     },
     "execution_count": 3,
     "metadata": {},
     "output_type": "execute_result"
    }
   ],
   "source": [
    "Hitters.columns"
   ]
  },
  {
   "cell_type": "code",
   "execution_count": 5,
   "id": "140a8add",
   "metadata": {},
   "outputs": [
    {
     "data": {
      "text/html": [
       "<div>\n",
       "<style scoped>\n",
       "    .dataframe tbody tr th:only-of-type {\n",
       "        vertical-align: middle;\n",
       "    }\n",
       "\n",
       "    .dataframe tbody tr th {\n",
       "        vertical-align: top;\n",
       "    }\n",
       "\n",
       "    .dataframe thead th {\n",
       "        text-align: right;\n",
       "    }\n",
       "</style>\n",
       "<table border=\"1\" class=\"dataframe\">\n",
       "  <thead>\n",
       "    <tr style=\"text-align: right;\">\n",
       "      <th></th>\n",
       "      <th>AtBat</th>\n",
       "      <th>Hits</th>\n",
       "      <th>HmRun</th>\n",
       "      <th>Runs</th>\n",
       "    </tr>\n",
       "  </thead>\n",
       "  <tbody>\n",
       "    <tr>\n",
       "      <th>count</th>\n",
       "      <td>322.000000</td>\n",
       "      <td>322.000000</td>\n",
       "      <td>322.000000</td>\n",
       "      <td>322.000000</td>\n",
       "    </tr>\n",
       "    <tr>\n",
       "      <th>mean</th>\n",
       "      <td>380.928571</td>\n",
       "      <td>101.024845</td>\n",
       "      <td>10.770186</td>\n",
       "      <td>50.909938</td>\n",
       "    </tr>\n",
       "    <tr>\n",
       "      <th>std</th>\n",
       "      <td>153.404981</td>\n",
       "      <td>46.454741</td>\n",
       "      <td>8.709037</td>\n",
       "      <td>26.024095</td>\n",
       "    </tr>\n",
       "    <tr>\n",
       "      <th>min</th>\n",
       "      <td>16.000000</td>\n",
       "      <td>1.000000</td>\n",
       "      <td>0.000000</td>\n",
       "      <td>0.000000</td>\n",
       "    </tr>\n",
       "    <tr>\n",
       "      <th>25%</th>\n",
       "      <td>255.250000</td>\n",
       "      <td>64.000000</td>\n",
       "      <td>4.000000</td>\n",
       "      <td>30.250000</td>\n",
       "    </tr>\n",
       "    <tr>\n",
       "      <th>50%</th>\n",
       "      <td>379.500000</td>\n",
       "      <td>96.000000</td>\n",
       "      <td>8.000000</td>\n",
       "      <td>48.000000</td>\n",
       "    </tr>\n",
       "    <tr>\n",
       "      <th>75%</th>\n",
       "      <td>512.000000</td>\n",
       "      <td>137.000000</td>\n",
       "      <td>16.000000</td>\n",
       "      <td>69.000000</td>\n",
       "    </tr>\n",
       "    <tr>\n",
       "      <th>max</th>\n",
       "      <td>687.000000</td>\n",
       "      <td>238.000000</td>\n",
       "      <td>40.000000</td>\n",
       "      <td>130.000000</td>\n",
       "    </tr>\n",
       "  </tbody>\n",
       "</table>\n",
       "</div>"
      ],
      "text/plain": [
       "            AtBat        Hits       HmRun        Runs\n",
       "count  322.000000  322.000000  322.000000  322.000000\n",
       "mean   380.928571  101.024845   10.770186   50.909938\n",
       "std    153.404981   46.454741    8.709037   26.024095\n",
       "min     16.000000    1.000000    0.000000    0.000000\n",
       "25%    255.250000   64.000000    4.000000   30.250000\n",
       "50%    379.500000   96.000000    8.000000   48.000000\n",
       "75%    512.000000  137.000000   16.000000   69.000000\n",
       "max    687.000000  238.000000   40.000000  130.000000"
      ]
     },
     "execution_count": 5,
     "metadata": {},
     "output_type": "execute_result"
    }
   ],
   "source": [
    "Hitters.describe().iloc[:,:4]"
   ]
  }
 ],
 "metadata": {
  "jupytext": {
   "cell_metadata_filter": "-all",
   "formats": "ipynb,md:myst",
   "main_language": "python"
  },
  "kernelspec": {
   "display_name": "islp_test",
   "language": "python",
   "name": "islp_test"
  },
  "language_info": {
   "codemirror_mode": {
    "name": "ipython",
    "version": 3
   },
   "file_extension": ".py",
   "mimetype": "text/x-python",
   "name": "python",
   "nbconvert_exporter": "python",
   "pygments_lexer": "ipython3",
   "version": "3.9.13"
  }
 },
 "nbformat": 4,
 "nbformat_minor": 5
}
